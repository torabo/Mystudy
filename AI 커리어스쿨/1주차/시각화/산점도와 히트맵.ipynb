{
 "cells": [
  {
   "cell_type": "markdown",
   "metadata": {},
   "source": [
    "# [실습] 산점도와 히트맵"
   ]
  },
  {
   "cell_type": "markdown",
   "metadata": {},
   "source": [
    "산점도와 히트맵은 데이터의 상관관계를 볼 때 유용한 그래프입니다."
   ]
  },
  {
   "cell_type": "markdown",
   "metadata": {},
   "source": [
    "## 1. 데이터 불러오기\n",
    "\n",
    "먼저 실습 진행을 위해 `seaborn`과 `matplotlib`를 import 하겠습니다."
   ]
  },
  {
   "cell_type": "code",
   "execution_count": 1,
   "metadata": {},
   "outputs": [],
   "source": [
    "import seaborn as sns\n",
    "import matplotlib.pyplot as plt\n",
    "\n",
    "plt.rcParams[\"axes.unicode_minus\"] = False\n",
    "plt.rc(\"font\", family=\"AppleGothic\")"
   ]
  },
  {
   "cell_type": "markdown",
   "metadata": {},
   "source": [
    "데이터 분석에서 널리 사용되는 파이썬 패키지 중 하나인 pandas는 데이터를 처리하고 조작하는 데 필수적인 도구를 제공합니다. \n",
    "\n",
    "아래 코드에서는 `pandas`를 `pd`라는 이름으로 import 합니다."
   ]
  },
  {
   "cell_type": "code",
   "execution_count": 2,
   "metadata": {},
   "outputs": [],
   "source": [
    "import pandas as pd"
   ]
  },
  {
   "cell_type": "markdown",
   "metadata": {},
   "source": [
    "실습에 사용할 데이터는 2016년 1월 1일부터 2019년 3월 31일까지의 서울대공원 입장객 데이터입니다. 데이터에는 날짜, 공휴일 여부, 입장객 연령 등 다양한 정보가 저장되어 있습니다.\n",
    "\n",
    "이제 data 폴더에 저장되어 있는 데이터인 seoul_park.csv 파일을 불러와 데이터 프레임 `df`에 저장합니다."
   ]
  },
  {
   "cell_type": "code",
   "execution_count": 3,
   "metadata": {},
   "outputs": [],
   "source": [
    "df = pd.read_csv(\"./data/seoul_park.csv\")"
   ]
  },
  {
   "cell_type": "markdown",
   "metadata": {},
   "source": [
    "이제 데이터 프레임 `df`에 서울대공원 입장객 데이터가 저장되어 있습니다.\n",
    "\n",
    "`head(n)` 함수를 사용하면 데이터 프레임의 앞에서부터 `n`개의 데이터를 확인해볼 수 있습니다.\n",
    "\n",
    "만약 `n`을 전달하지 않으면 5개의 데이터를 볼 수 있습니다."
   ]
  },
  {
   "cell_type": "code",
   "execution_count": 4,
   "metadata": {},
   "outputs": [
    {
     "data": {
      "text/html": [
       "<div>\n",
       "<style scoped>\n",
       "    .dataframe tbody tr th:only-of-type {\n",
       "        vertical-align: middle;\n",
       "    }\n",
       "\n",
       "    .dataframe tbody tr th {\n",
       "        vertical-align: top;\n",
       "    }\n",
       "\n",
       "    .dataframe thead th {\n",
       "        text-align: right;\n",
       "    }\n",
       "</style>\n",
       "<table border=\"1\" class=\"dataframe\">\n",
       "  <thead>\n",
       "    <tr style=\"text-align: right;\">\n",
       "      <th></th>\n",
       "      <th>Unnamed: 0</th>\n",
       "      <th>날짜</th>\n",
       "      <th>요일</th>\n",
       "      <th>공휴일</th>\n",
       "      <th>날씨</th>\n",
       "      <th>어른</th>\n",
       "      <th>청소년</th>\n",
       "      <th>어린이</th>\n",
       "      <th>외국인</th>\n",
       "      <th>단체</th>\n",
       "      <th>총입장객수</th>\n",
       "      <th>연</th>\n",
       "      <th>월</th>\n",
       "      <th>일</th>\n",
       "      <th>매출액</th>\n",
       "    </tr>\n",
       "  </thead>\n",
       "  <tbody>\n",
       "    <tr>\n",
       "      <th>0</th>\n",
       "      <td>0</td>\n",
       "      <td>2016-01-01</td>\n",
       "      <td>금</td>\n",
       "      <td>O</td>\n",
       "      <td>구름 조금</td>\n",
       "      <td>2799</td>\n",
       "      <td>141.0</td>\n",
       "      <td>419</td>\n",
       "      <td>47</td>\n",
       "      <td>0</td>\n",
       "      <td>4382</td>\n",
       "      <td>2016</td>\n",
       "      <td>1</td>\n",
       "      <td>1</td>\n",
       "      <td>33590000</td>\n",
       "    </tr>\n",
       "    <tr>\n",
       "      <th>1</th>\n",
       "      <td>1</td>\n",
       "      <td>2016-01-02</td>\n",
       "      <td>토</td>\n",
       "      <td>O</td>\n",
       "      <td>구름 많음</td>\n",
       "      <td>4370</td>\n",
       "      <td>203.0</td>\n",
       "      <td>600</td>\n",
       "      <td>100</td>\n",
       "      <td>111</td>\n",
       "      <td>7265</td>\n",
       "      <td>2016</td>\n",
       "      <td>1</td>\n",
       "      <td>2</td>\n",
       "      <td>51730000</td>\n",
       "    </tr>\n",
       "    <tr>\n",
       "      <th>2</th>\n",
       "      <td>2</td>\n",
       "      <td>2016-01-03</td>\n",
       "      <td>일</td>\n",
       "      <td>O</td>\n",
       "      <td>구름 많음</td>\n",
       "      <td>2571</td>\n",
       "      <td>128.0</td>\n",
       "      <td>309</td>\n",
       "      <td>91</td>\n",
       "      <td>0</td>\n",
       "      <td>4557</td>\n",
       "      <td>2016</td>\n",
       "      <td>1</td>\n",
       "      <td>3</td>\n",
       "      <td>30080000</td>\n",
       "    </tr>\n",
       "    <tr>\n",
       "      <th>3</th>\n",
       "      <td>3</td>\n",
       "      <td>2016-01-04</td>\n",
       "      <td>월</td>\n",
       "      <td>X</td>\n",
       "      <td>구름 많음</td>\n",
       "      <td>602</td>\n",
       "      <td>463.0</td>\n",
       "      <td>235</td>\n",
       "      <td>51</td>\n",
       "      <td>223</td>\n",
       "      <td>1690</td>\n",
       "      <td>2016</td>\n",
       "      <td>1</td>\n",
       "      <td>4</td>\n",
       "      <td>8900000</td>\n",
       "    </tr>\n",
       "    <tr>\n",
       "      <th>4</th>\n",
       "      <td>4</td>\n",
       "      <td>2016-01-05</td>\n",
       "      <td>화</td>\n",
       "      <td>X</td>\n",
       "      <td>구름 많음</td>\n",
       "      <td>319</td>\n",
       "      <td>35.0</td>\n",
       "      <td>62</td>\n",
       "      <td>43</td>\n",
       "      <td>47</td>\n",
       "      <td>1256</td>\n",
       "      <td>2016</td>\n",
       "      <td>1</td>\n",
       "      <td>5</td>\n",
       "      <td>4160000</td>\n",
       "    </tr>\n",
       "  </tbody>\n",
       "</table>\n",
       "</div>"
      ],
      "text/plain": [
       "   Unnamed: 0          날짜 요일 공휴일     날씨    어른    청소년  어린이  외국인   단체  총입장객수  \\\n",
       "0           0  2016-01-01  금   O  구름 조금  2799  141.0  419   47    0   4382   \n",
       "1           1  2016-01-02  토   O  구름 많음  4370  203.0  600  100  111   7265   \n",
       "2           2  2016-01-03  일   O  구름 많음  2571  128.0  309   91    0   4557   \n",
       "3           3  2016-01-04  월   X  구름 많음   602  463.0  235   51  223   1690   \n",
       "4           4  2016-01-05  화   X  구름 많음   319   35.0   62   43   47   1256   \n",
       "\n",
       "      연  월  일       매출액  \n",
       "0  2016  1  1  33590000  \n",
       "1  2016  1  2  51730000  \n",
       "2  2016  1  3  30080000  \n",
       "3  2016  1  4   8900000  \n",
       "4  2016  1  5   4160000  "
      ]
     },
     "execution_count": 4,
     "metadata": {},
     "output_type": "execute_result"
    }
   ],
   "source": [
    "df.head()"
   ]
  },
  {
   "cell_type": "markdown",
   "metadata": {},
   "source": [
    "반대로 뒤에서부터 데이터를 확인하려면 `tail(n)` 함수를 사용합니다."
   ]
  },
  {
   "cell_type": "code",
   "execution_count": 5,
   "metadata": {},
   "outputs": [
    {
     "data": {
      "text/html": [
       "<div>\n",
       "<style scoped>\n",
       "    .dataframe tbody tr th:only-of-type {\n",
       "        vertical-align: middle;\n",
       "    }\n",
       "\n",
       "    .dataframe tbody tr th {\n",
       "        vertical-align: top;\n",
       "    }\n",
       "\n",
       "    .dataframe thead th {\n",
       "        text-align: right;\n",
       "    }\n",
       "</style>\n",
       "<table border=\"1\" class=\"dataframe\">\n",
       "  <thead>\n",
       "    <tr style=\"text-align: right;\">\n",
       "      <th></th>\n",
       "      <th>Unnamed: 0</th>\n",
       "      <th>날짜</th>\n",
       "      <th>요일</th>\n",
       "      <th>공휴일</th>\n",
       "      <th>날씨</th>\n",
       "      <th>어른</th>\n",
       "      <th>청소년</th>\n",
       "      <th>어린이</th>\n",
       "      <th>외국인</th>\n",
       "      <th>단체</th>\n",
       "      <th>총입장객수</th>\n",
       "      <th>연</th>\n",
       "      <th>월</th>\n",
       "      <th>일</th>\n",
       "      <th>매출액</th>\n",
       "    </tr>\n",
       "  </thead>\n",
       "  <tbody>\n",
       "    <tr>\n",
       "      <th>1081</th>\n",
       "      <td>1081</td>\n",
       "      <td>2019-03-27</td>\n",
       "      <td>수</td>\n",
       "      <td>X</td>\n",
       "      <td>구름 많음</td>\n",
       "      <td>464</td>\n",
       "      <td>10.0</td>\n",
       "      <td>30</td>\n",
       "      <td>21</td>\n",
       "      <td>0</td>\n",
       "      <td>1117</td>\n",
       "      <td>2019</td>\n",
       "      <td>3</td>\n",
       "      <td>27</td>\n",
       "      <td>5040000</td>\n",
       "    </tr>\n",
       "    <tr>\n",
       "      <th>1082</th>\n",
       "      <td>1082</td>\n",
       "      <td>2019-03-28</td>\n",
       "      <td>목</td>\n",
       "      <td>X</td>\n",
       "      <td>구름 많음</td>\n",
       "      <td>687</td>\n",
       "      <td>46.0</td>\n",
       "      <td>28</td>\n",
       "      <td>35</td>\n",
       "      <td>108</td>\n",
       "      <td>1665</td>\n",
       "      <td>2019</td>\n",
       "      <td>3</td>\n",
       "      <td>28</td>\n",
       "      <td>7610000</td>\n",
       "    </tr>\n",
       "    <tr>\n",
       "      <th>1083</th>\n",
       "      <td>1083</td>\n",
       "      <td>2019-03-29</td>\n",
       "      <td>금</td>\n",
       "      <td>X</td>\n",
       "      <td>구름 조금</td>\n",
       "      <td>1447</td>\n",
       "      <td>120.0</td>\n",
       "      <td>77</td>\n",
       "      <td>14</td>\n",
       "      <td>188</td>\n",
       "      <td>2870</td>\n",
       "      <td>2019</td>\n",
       "      <td>3</td>\n",
       "      <td>29</td>\n",
       "      <td>16440000</td>\n",
       "    </tr>\n",
       "    <tr>\n",
       "      <th>1084</th>\n",
       "      <td>1084</td>\n",
       "      <td>2019-03-30</td>\n",
       "      <td>토</td>\n",
       "      <td>O</td>\n",
       "      <td>흐림</td>\n",
       "      <td>1326</td>\n",
       "      <td>44.0</td>\n",
       "      <td>169</td>\n",
       "      <td>29</td>\n",
       "      <td>115</td>\n",
       "      <td>2452</td>\n",
       "      <td>2019</td>\n",
       "      <td>3</td>\n",
       "      <td>30</td>\n",
       "      <td>15390000</td>\n",
       "    </tr>\n",
       "    <tr>\n",
       "      <th>1085</th>\n",
       "      <td>1085</td>\n",
       "      <td>2019-03-31</td>\n",
       "      <td>일</td>\n",
       "      <td>O</td>\n",
       "      <td>구름 조금</td>\n",
       "      <td>2563</td>\n",
       "      <td>111.0</td>\n",
       "      <td>387</td>\n",
       "      <td>53</td>\n",
       "      <td>0</td>\n",
       "      <td>4418</td>\n",
       "      <td>2019</td>\n",
       "      <td>3</td>\n",
       "      <td>31</td>\n",
       "      <td>30610000</td>\n",
       "    </tr>\n",
       "  </tbody>\n",
       "</table>\n",
       "</div>"
      ],
      "text/plain": [
       "      Unnamed: 0          날짜 요일 공휴일     날씨    어른    청소년  어린이  외국인   단체  총입장객수  \\\n",
       "1081        1081  2019-03-27  수   X  구름 많음   464   10.0   30   21    0   1117   \n",
       "1082        1082  2019-03-28  목   X  구름 많음   687   46.0   28   35  108   1665   \n",
       "1083        1083  2019-03-29  금   X  구름 조금  1447  120.0   77   14  188   2870   \n",
       "1084        1084  2019-03-30  토   O     흐림  1326   44.0  169   29  115   2452   \n",
       "1085        1085  2019-03-31  일   O  구름 조금  2563  111.0  387   53    0   4418   \n",
       "\n",
       "         연  월   일       매출액  \n",
       "1081  2019  3  27   5040000  \n",
       "1082  2019  3  28   7610000  \n",
       "1083  2019  3  29  16440000  \n",
       "1084  2019  3  30  15390000  \n",
       "1085  2019  3  31  30610000  "
      ]
     },
     "execution_count": 5,
     "metadata": {},
     "output_type": "execute_result"
    }
   ],
   "source": [
    "df.tail()"
   ]
  },
  {
   "cell_type": "markdown",
   "metadata": {},
   "source": [
    "이렇게 데이터를 불러왔다면 먼저 `head()`함수나 `tail()`함수를 이용해 데이터의 모양을 살펴보는 것이 좋습니다.\n",
    "\n",
    "다음에는 `info()`함수를 이용해 데이터의 칼럼의 정보를 살펴보겠습니다."
   ]
  },
  {
   "cell_type": "code",
   "execution_count": 6,
   "metadata": {},
   "outputs": [
    {
     "name": "stdout",
     "output_type": "stream",
     "text": [
      "<class 'pandas.core.frame.DataFrame'>\n",
      "RangeIndex: 1086 entries, 0 to 1085\n",
      "Data columns (total 15 columns):\n",
      " #   Column      Non-Null Count  Dtype  \n",
      "---  ------      --------------  -----  \n",
      " 0   Unnamed: 0  1086 non-null   int64  \n",
      " 1   날짜          1086 non-null   object \n",
      " 2   요일          1086 non-null   object \n",
      " 3   공휴일         1086 non-null   object \n",
      " 4   날씨          939 non-null    object \n",
      " 5   어른          1086 non-null   int64  \n",
      " 6   청소년         1086 non-null   float64\n",
      " 7   어린이         1086 non-null   int64  \n",
      " 8   외국인         1086 non-null   int64  \n",
      " 9   단체          1086 non-null   int64  \n",
      " 10  총입장객수       1086 non-null   int64  \n",
      " 11  연           1086 non-null   int64  \n",
      " 12  월           1086 non-null   int64  \n",
      " 13  일           1086 non-null   int64  \n",
      " 14  매출액         1086 non-null   int64  \n",
      "dtypes: float64(1), int64(10), object(4)\n",
      "memory usage: 127.4+ KB\n"
     ]
    }
   ],
   "source": [
    "df.info()"
   ]
  },
  {
   "cell_type": "markdown",
   "metadata": {},
   "source": [
    "## 2. 산점도"
   ]
  },
  {
   "cell_type": "markdown",
   "metadata": {},
   "source": [
    "산점도 그래프는 데이터의 두 변수 간의 관계를 시각화하는 데 사용되는 통계적 그래프입니다. \n",
    "\n",
    "일반적으로 산점도 그래프는 비교적 쉽게 생성할 수 있으며, 주로 데이터 시각화나 탐색적 데이터 분석(EDA)에 사용됩니다. \n",
    "\n",
    "예를 들어, 두 변수 간의 선형적인 관계를 확인하거나, 이상치나 군집을 찾을 수 있습니다."
   ]
  },
  {
   "cell_type": "markdown",
   "metadata": {},
   "source": [
    "먼저 어른 입장객 수와 청소년 입장객 수의 산점도 그래프를 그려보겠습니다.\n",
    "\n",
    "산점도 그래프는 `plt.scatter()` 함수를 사용합니다.\n",
    "\n",
    "산점도를 보고 싶은 두 데이터를 순서대로 전달하면 산점도 그래프가 그려집니다."
   ]
  },
  {
   "cell_type": "code",
   "execution_count": 7,
   "metadata": {},
   "outputs": [
    {
     "data": {
      "image/png": "[encoded data removed]",
      "text/plain": [
       "<Figure size 640x480 with 1 Axes>"
      ]
     },
     "metadata": {},
     "output_type": "display_data"
    }
   ],
   "source": [
    "# 산점도 그래프\n",
    "plt.scatter(df['어른'], df['청소년'])\n",
    "plt.show()"
   ]
  },
  {
   "cell_type": "markdown",
   "metadata": {},
   "source": [
    "위 그래프를 보면 어른 입장객 수와 청소년 입장객 수의 상관관계는 분명히 존재하지만, 크지 않을 것을 직관적으로 확인할 수 있습니다.\n",
    "\n",
    "물론 이것은 그래프를 보고 내린 직관이며, 정밀하게 상관관계가 있는지 파악하려면 상관계수를 구하는 작업이 필요합니다.\n",
    "\n",
    "이어서 어른과 어린이 입장객 수의 산점도 그래프를 그려보겠습니다."
   ]
  },
  {
   "cell_type": "code",
   "execution_count": 8,
   "metadata": {},
   "outputs": [
    {
     "data": {
      "text/plain": [
       "<Axes: xlabel='어른', ylabel='어린이'>"
      ]
     },
     "execution_count": 8,
     "metadata": {},
     "output_type": "execute_result"
    },
    {
     "data": {
      "image/png": "[encoded data removed]",
      "text/plain": [
       "<Figure size 640x480 with 1 Axes>"
      ]
     },
     "metadata": {},
     "output_type": "display_data"
    }
   ],
   "source": [
    "# 어른과 어린이 입장객수의 상관관계 산점도\n",
    "sns.scatterplot(data=df, x='어른', y='어린이')"
   ]
  },
  {
   "cell_type": "markdown",
   "metadata": {},
   "source": [
    "청소년과 어른의 관계보다 큰 상관관계를 보이는 것을 직관적으로 확인할 수 있습니다.\n",
    "\n",
    "이 그래프는 seaborn을 이용하면 아래와 같이 그릴 수 있습니다."
   ]
  },
  {
   "cell_type": "code",
   "execution_count": 9,
   "metadata": {},
   "outputs": [
    {
     "data": {
      "text/plain": [
       "<Axes: xlabel='어른', ylabel='어린이'>"
      ]
     },
     "execution_count": 9,
     "metadata": {},
     "output_type": "execute_result"
    },
    {
     "data": {
      "image/png": "[encoded data removed]",
      "text/plain": [
       "<Figure size 640x480 with 1 Axes>"
      ]
     },
     "metadata": {},
     "output_type": "display_data"
    }
   ],
   "source": [
    "# 어른과 어린이 입장객수의 상관관계 산점도\n",
    "sns.scatterplot(data=df, x='어른', y='어린이')"
   ]
  },
  {
   "cell_type": "markdown",
   "metadata": {},
   "source": [
    "`sns.scatterplot()`함수를 통해 그릴 수 있으며, `data`에 데이터 프레임을, x와 y에 각각 칼럼의 이름을 전달하면 그릴 수 있습니다.\n",
    "\n",
    "위 그래프를 보시면 y축 6000이상으로는 점이 하나밖에 없습니다.\n",
    "\n",
    "또한, x축도 35000이상에는 점이 하나밖에 없습니다.\n",
    "\n",
    "우리가 더 유의미한, 점들이 많이 몰려있는 구간에 집중하기 위해서 범위를 제한할 수 있습니다.\n",
    "\n",
    "`ylim()`, `xlim()` 함수를 통해 각각 y축과 x축의 범위를 조절할 수 있습니다."
   ]
  },
  {
   "cell_type": "code",
   "execution_count": 10,
   "metadata": {},
   "outputs": [
    {
     "data": {
      "text/plain": [
       "(0.0, 35000.0)"
      ]
     },
     "execution_count": 10,
     "metadata": {},
     "output_type": "execute_result"
    },
    {
     "data": {
      "image/png": "[encoded data removed]",
      "text/plain": [
       "<Figure size 640x480 with 1 Axes>"
      ]
     },
     "metadata": {},
     "output_type": "display_data"
    }
   ],
   "source": [
    "sns.scatterplot(data=df, x=\"어른\", y=\"어린이\")\n",
    "\n",
    "plt.ylim(0, 6000)  # y축 범위를 0에서 6000으로 제한\n",
    "plt.xlim(0, 35000)  # x축 범위를 0에서 35000으로 제한"
   ]
  },
  {
   "cell_type": "markdown",
   "metadata": {},
   "source": [
    "## 3. 히트맵"
   ]
  },
  {
   "cell_type": "markdown",
   "metadata": {},
   "source": [
    "히트맵(Heatmap)은 데이터 값의 상대적인 크기를 색상으로 표시하여 시각화하는 그래프입니다. \n",
    "\n",
    "데이터의 밀도, 패턴, 상관 관계 등을 시각적으로 파악할 수 있습니다."
   ]
  },
  {
   "cell_type": "markdown",
   "metadata": {},
   "source": [
    "위 산점도 그래프를 보면서 우리는 입장객의 유형간의 어느정도 상관관계가 존재할 것으로 예상할 수 있었습니다.\n",
    "\n",
    "두 칼럼의 상관관계를 구하기 위해서 피어슨 상관계수라는 것을 계산합니다."
   ]
  },
  {
   "cell_type": "code",
   "execution_count": 11,
   "metadata": {},
   "outputs": [
    {
     "data": {
      "text/html": [
       "<div>\n",
       "<style scoped>\n",
       "    .dataframe tbody tr th:only-of-type {\n",
       "        vertical-align: middle;\n",
       "    }\n",
       "\n",
       "    .dataframe tbody tr th {\n",
       "        vertical-align: top;\n",
       "    }\n",
       "\n",
       "    .dataframe thead th {\n",
       "        text-align: right;\n",
       "    }\n",
       "</style>\n",
       "<table border=\"1\" class=\"dataframe\">\n",
       "  <thead>\n",
       "    <tr style=\"text-align: right;\">\n",
       "      <th></th>\n",
       "      <th>Unnamed: 0</th>\n",
       "      <th>어른</th>\n",
       "      <th>청소년</th>\n",
       "      <th>어린이</th>\n",
       "      <th>외국인</th>\n",
       "      <th>단체</th>\n",
       "      <th>총입장객수</th>\n",
       "      <th>연</th>\n",
       "      <th>월</th>\n",
       "      <th>일</th>\n",
       "      <th>매출액</th>\n",
       "    </tr>\n",
       "  </thead>\n",
       "  <tbody>\n",
       "    <tr>\n",
       "      <th>Unnamed: 0</th>\n",
       "      <td>1.000000</td>\n",
       "      <td>-0.129602</td>\n",
       "      <td>-0.123936</td>\n",
       "      <td>-0.112757</td>\n",
       "      <td>-0.263132</td>\n",
       "      <td>-0.110094</td>\n",
       "      <td>-0.158224</td>\n",
       "      <td>0.951891</td>\n",
       "      <td>0.101772</td>\n",
       "      <td>0.029936</td>\n",
       "      <td>-0.156220</td>\n",
       "    </tr>\n",
       "    <tr>\n",
       "      <th>어른</th>\n",
       "      <td>-0.129602</td>\n",
       "      <td>1.000000</td>\n",
       "      <td>0.079024</td>\n",
       "      <td>0.643471</td>\n",
       "      <td>0.697684</td>\n",
       "      <td>0.094074</td>\n",
       "      <td>0.964853</td>\n",
       "      <td>-0.124890</td>\n",
       "      <td>0.020178</td>\n",
       "      <td>-0.060220</td>\n",
       "      <td>0.964623</td>\n",
       "    </tr>\n",
       "    <tr>\n",
       "      <th>청소년</th>\n",
       "      <td>-0.123936</td>\n",
       "      <td>0.079024</td>\n",
       "      <td>1.000000</td>\n",
       "      <td>0.130108</td>\n",
       "      <td>0.073324</td>\n",
       "      <td>0.774788</td>\n",
       "      <td>0.276590</td>\n",
       "      <td>-0.120612</td>\n",
       "      <td>-0.000923</td>\n",
       "      <td>0.022924</td>\n",
       "      <td>0.307690</td>\n",
       "    </tr>\n",
       "    <tr>\n",
       "      <th>어린이</th>\n",
       "      <td>-0.112757</td>\n",
       "      <td>0.643471</td>\n",
       "      <td>0.130108</td>\n",
       "      <td>1.000000</td>\n",
       "      <td>0.408734</td>\n",
       "      <td>0.245117</td>\n",
       "      <td>0.701560</td>\n",
       "      <td>-0.122339</td>\n",
       "      <td>0.050375</td>\n",
       "      <td>0.002829</td>\n",
       "      <td>0.731451</td>\n",
       "    </tr>\n",
       "    <tr>\n",
       "      <th>외국인</th>\n",
       "      <td>-0.263132</td>\n",
       "      <td>0.697684</td>\n",
       "      <td>0.073324</td>\n",
       "      <td>0.408734</td>\n",
       "      <td>1.000000</td>\n",
       "      <td>0.014294</td>\n",
       "      <td>0.667474</td>\n",
       "      <td>-0.258235</td>\n",
       "      <td>0.023805</td>\n",
       "      <td>-0.067818</td>\n",
       "      <td>0.670458</td>\n",
       "    </tr>\n",
       "    <tr>\n",
       "      <th>단체</th>\n",
       "      <td>-0.110094</td>\n",
       "      <td>0.094074</td>\n",
       "      <td>0.774788</td>\n",
       "      <td>0.245117</td>\n",
       "      <td>0.014294</td>\n",
       "      <td>1.000000</td>\n",
       "      <td>0.272871</td>\n",
       "      <td>-0.117731</td>\n",
       "      <td>0.038911</td>\n",
       "      <td>0.085037</td>\n",
       "      <td>0.292723</td>\n",
       "    </tr>\n",
       "    <tr>\n",
       "      <th>총입장객수</th>\n",
       "      <td>-0.158224</td>\n",
       "      <td>0.964853</td>\n",
       "      <td>0.276590</td>\n",
       "      <td>0.701560</td>\n",
       "      <td>0.667474</td>\n",
       "      <td>0.272871</td>\n",
       "      <td>1.000000</td>\n",
       "      <td>-0.153188</td>\n",
       "      <td>0.021460</td>\n",
       "      <td>-0.041487</td>\n",
       "      <td>0.988557</td>\n",
       "    </tr>\n",
       "    <tr>\n",
       "      <th>연</th>\n",
       "      <td>0.951891</td>\n",
       "      <td>-0.124890</td>\n",
       "      <td>-0.120612</td>\n",
       "      <td>-0.122339</td>\n",
       "      <td>-0.258235</td>\n",
       "      <td>-0.117731</td>\n",
       "      <td>-0.153188</td>\n",
       "      <td>1.000000</td>\n",
       "      <td>-0.197236</td>\n",
       "      <td>0.009130</td>\n",
       "      <td>-0.152929</td>\n",
       "    </tr>\n",
       "    <tr>\n",
       "      <th>월</th>\n",
       "      <td>0.101772</td>\n",
       "      <td>0.020178</td>\n",
       "      <td>-0.000923</td>\n",
       "      <td>0.050375</td>\n",
       "      <td>0.023805</td>\n",
       "      <td>0.038911</td>\n",
       "      <td>0.021460</td>\n",
       "      <td>-0.197236</td>\n",
       "      <td>1.000000</td>\n",
       "      <td>-0.016435</td>\n",
       "      <td>0.024640</td>\n",
       "    </tr>\n",
       "    <tr>\n",
       "      <th>일</th>\n",
       "      <td>0.029936</td>\n",
       "      <td>-0.060220</td>\n",
       "      <td>0.022924</td>\n",
       "      <td>0.002829</td>\n",
       "      <td>-0.067818</td>\n",
       "      <td>0.085037</td>\n",
       "      <td>-0.041487</td>\n",
       "      <td>0.009130</td>\n",
       "      <td>-0.016435</td>\n",
       "      <td>1.000000</td>\n",
       "      <td>-0.044896</td>\n",
       "    </tr>\n",
       "    <tr>\n",
       "      <th>매출액</th>\n",
       "      <td>-0.156220</td>\n",
       "      <td>0.964623</td>\n",
       "      <td>0.307690</td>\n",
       "      <td>0.731451</td>\n",
       "      <td>0.670458</td>\n",
       "      <td>0.292723</td>\n",
       "      <td>0.988557</td>\n",
       "      <td>-0.152929</td>\n",
       "      <td>0.024640</td>\n",
       "      <td>-0.044896</td>\n",
       "      <td>1.000000</td>\n",
       "    </tr>\n",
       "  </tbody>\n",
       "</table>\n",
       "</div>"
      ],
      "text/plain": [
       "            Unnamed: 0        어른       청소년       어린이       외국인        단체  \\\n",
       "Unnamed: 0    1.000000 -0.129602 -0.123936 -0.112757 -0.263132 -0.110094   \n",
       "어른           -0.129602  1.000000  0.079024  0.643471  0.697684  0.094074   \n",
       "청소년          -0.123936  0.079024  1.000000  0.130108  0.073324  0.774788   \n",
       "어린이          -0.112757  0.643471  0.130108  1.000000  0.408734  0.245117   \n",
       "외국인          -0.263132  0.697684  0.073324  0.408734  1.000000  0.014294   \n",
       "단체           -0.110094  0.094074  0.774788  0.245117  0.014294  1.000000   \n",
       "총입장객수        -0.158224  0.964853  0.276590  0.701560  0.667474  0.272871   \n",
       "연             0.951891 -0.124890 -0.120612 -0.122339 -0.258235 -0.117731   \n",
       "월             0.101772  0.020178 -0.000923  0.050375  0.023805  0.038911   \n",
       "일             0.029936 -0.060220  0.022924  0.002829 -0.067818  0.085037   \n",
       "매출액          -0.156220  0.964623  0.307690  0.731451  0.670458  0.292723   \n",
       "\n",
       "               총입장객수         연         월         일       매출액  \n",
       "Unnamed: 0 -0.158224  0.951891  0.101772  0.029936 -0.156220  \n",
       "어른          0.964853 -0.124890  0.020178 -0.060220  0.964623  \n",
       "청소년         0.276590 -0.120612 -0.000923  0.022924  0.307690  \n",
       "어린이         0.701560 -0.122339  0.050375  0.002829  0.731451  \n",
       "외국인         0.667474 -0.258235  0.023805 -0.067818  0.670458  \n",
       "단체          0.272871 -0.117731  0.038911  0.085037  0.292723  \n",
       "총입장객수       1.000000 -0.153188  0.021460 -0.041487  0.988557  \n",
       "연          -0.153188  1.000000 -0.197236  0.009130 -0.152929  \n",
       "월           0.021460 -0.197236  1.000000 -0.016435  0.024640  \n",
       "일          -0.041487  0.009130 -0.016435  1.000000 -0.044896  \n",
       "매출액         0.988557 -0.152929  0.024640 -0.044896  1.000000  "
      ]
     },
     "execution_count": 11,
     "metadata": {},
     "output_type": "execute_result"
    }
   ],
   "source": [
    "# 피어슨 상관계수\n",
    "df_corr = df.corr(numeric_only=True)\n",
    "df_corr"
   ]
  },
  {
   "cell_type": "markdown",
   "metadata": {},
   "source": [
    "상관계수의 절대값이 1에 가까울수록 두 칼럼은 유의미한 상관관계가 있다는 것을 의미합니다.\n",
    "\n",
    "지금은 11개의 수치형 칼럼이 있기에 11x11개의 상관관계가 그려졌습니다.\n",
    "\n",
    "이렇게 칼럼이 많이 존재하면 하나하나 상관관계를 확인하기 어려우므로 히트맵이라는 시각화 그래프를 이용합니다."
   ]
  },
  {
   "cell_type": "code",
   "execution_count": 12,
   "metadata": {},
   "outputs": [
    {
     "data": {
      "text/plain": [
       "<Axes: >"
      ]
     },
     "execution_count": 12,
     "metadata": {},
     "output_type": "execute_result"
    },
    {
     "data": {
      "image/png": "[encoded data removed]",
      "text/plain": [
       "<Figure size 640x480 with 2 Axes>"
      ]
     },
     "metadata": {},
     "output_type": "display_data"
    }
   ],
   "source": [
    "# 히트맵\n",
    "sns.heatmap(df_corr)"
   ]
  },
  {
   "cell_type": "markdown",
   "metadata": {},
   "source": [
    "이렇게 히트맵을 그려보면 하얀색에 가까울수록 상관관계가 높은 것을 볼 수 있습니다.\n",
    "\n",
    "우리가 산점도 그래프를 그리며 예측한 것 처럼 어른과 어린이 입장객 사이에는 높은 상관관계가 있는 것을 파악할 수 있습니다."
   ]
  },
  {
   "cell_type": "markdown",
   "metadata": {},
   "source": [
    "## [TODO] 매출액의 상관관계\n",
    " \n",
    "위에서 그려본 히트맵과 피어슨 상관계수를 참고하여 `\"어른\"`, `\"청소년\"`, `\"어린이\"`를 `\"매출액\"`과 상관관계가 강한 순서대로 나열하세요.\n",
    "\n",
    "만약 어른과 매출액의 상관관계가 가장 강하고 그 다음 청소년, 어린이 순으로 매출액과 상관관계가 강하다면 아래와 같은 코드로 칼럼의 이름을 전달합니다.\n",
    "\n",
    "```py\n",
    "todo = [\"어른\", \"청소년\", \"어린이\"]\n",
    "```"
   ]
  },
  {
   "cell_type": "code",
   "execution_count": 16,
   "metadata": {},
   "outputs": [
    {
     "data": {
      "text/plain": [
       "매출액           1.000000\n",
       "총입장객수         0.988557\n",
       "어른            0.964623\n",
       "어린이           0.731451\n",
       "외국인           0.670458\n",
       "청소년           0.307690\n",
       "단체            0.292723\n",
       "월             0.024640\n",
       "일            -0.044896\n",
       "연            -0.152929\n",
       "Unnamed: 0   -0.156220\n",
       "Name: 매출액, dtype: float64"
      ]
     },
     "execution_count": 16,
     "metadata": {},
     "output_type": "execute_result"
    }
   ],
   "source": [
    "df_corr['매출액'].sort_values(ascending=False)"
   ]
  },
  {
   "cell_type": "code",
   "execution_count": 17,
   "metadata": {},
   "outputs": [],
   "source": [
    "todo = ['어른', '어린이', '청소년']  # None을 지우고 위 문제의 정답을 전달하세요"
   ]
  }
 ],
 "metadata": {
  "colab": {
   "provenance": []
  },
  "kernelspec": {
   "display_name": "tora",
   "language": "python",
   "name": "tora"
  },
  "language_info": {
   "codemirror_mode": {
    "name": "ipython",
    "version": 3
   },
   "file_extension": ".py",
   "mimetype": "text/x-python",
   "name": "python",
   "nbconvert_exporter": "python",
   "pygments_lexer": "ipython3",
   "version": "3.12.7"
  }
 },
 "nbformat": 4,
 "nbformat_minor": 1
}

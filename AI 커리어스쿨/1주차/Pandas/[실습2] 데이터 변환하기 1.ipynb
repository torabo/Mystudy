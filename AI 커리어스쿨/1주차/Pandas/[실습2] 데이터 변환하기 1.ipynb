{
 "cells": [
  {
   "attachments": {},
   "cell_type": "markdown",
   "id": "6c63f963",
   "metadata": {},
   "source": [
    "# [실습2] 데이터 변환하기 1\n",
    "\n",
    "## 데이터 불러오기\n",
    "\n",
    "실습에 사용할 데이터를 불러오겠습니다."
   ]
  },
  {
   "cell_type": "code",
   "execution_count": 1,
   "id": "JbP7t257_Jl5",
   "metadata": {
    "id": "JbP7t257_Jl5"
   },
   "outputs": [
    {
     "data": {
      "text/html": [
       "<div>\n",
       "<style scoped>\n",
       "    .dataframe tbody tr th:only-of-type {\n",
       "        vertical-align: middle;\n",
       "    }\n",
       "\n",
       "    .dataframe tbody tr th {\n",
       "        vertical-align: top;\n",
       "    }\n",
       "\n",
       "    .dataframe thead th {\n",
       "        text-align: right;\n",
       "    }\n",
       "</style>\n",
       "<table border=\"1\" class=\"dataframe\">\n",
       "  <thead>\n",
       "    <tr style=\"text-align: right;\">\n",
       "      <th></th>\n",
       "      <th>날짜</th>\n",
       "      <th>공휴일</th>\n",
       "      <th>날씨</th>\n",
       "      <th>유료합계</th>\n",
       "      <th>어른</th>\n",
       "      <th>청소년</th>\n",
       "      <th>어린이</th>\n",
       "      <th>외국인</th>\n",
       "      <th>단체</th>\n",
       "      <th>무료합계</th>\n",
       "      <th>총계</th>\n",
       "    </tr>\n",
       "  </thead>\n",
       "  <tbody>\n",
       "    <tr>\n",
       "      <th>0</th>\n",
       "      <td>2016-01-01</td>\n",
       "      <td>O</td>\n",
       "      <td>구름 조금</td>\n",
       "      <td>3,359</td>\n",
       "      <td>2,799</td>\n",
       "      <td>141</td>\n",
       "      <td>419</td>\n",
       "      <td>47</td>\n",
       "      <td>0</td>\n",
       "      <td>1,023</td>\n",
       "      <td>4,382</td>\n",
       "    </tr>\n",
       "    <tr>\n",
       "      <th>1</th>\n",
       "      <td>2016-01-02</td>\n",
       "      <td>O</td>\n",
       "      <td>구름 많음</td>\n",
       "      <td>5,173</td>\n",
       "      <td>4,370</td>\n",
       "      <td>203</td>\n",
       "      <td>600</td>\n",
       "      <td>100</td>\n",
       "      <td>111</td>\n",
       "      <td>2,092</td>\n",
       "      <td>7,265</td>\n",
       "    </tr>\n",
       "    <tr>\n",
       "      <th>2</th>\n",
       "      <td>2016-01-03</td>\n",
       "      <td>O</td>\n",
       "      <td>구름 많음</td>\n",
       "      <td>3,008</td>\n",
       "      <td>2,571</td>\n",
       "      <td>128</td>\n",
       "      <td>309</td>\n",
       "      <td>91</td>\n",
       "      <td>0</td>\n",
       "      <td>1,549</td>\n",
       "      <td>4,557</td>\n",
       "    </tr>\n",
       "    <tr>\n",
       "      <th>3</th>\n",
       "      <td>2016-01-04</td>\n",
       "      <td>X</td>\n",
       "      <td>구름 많음</td>\n",
       "      <td>890</td>\n",
       "      <td>602</td>\n",
       "      <td>NaN</td>\n",
       "      <td>235</td>\n",
       "      <td>51</td>\n",
       "      <td>223</td>\n",
       "      <td>800</td>\n",
       "      <td>1,690</td>\n",
       "    </tr>\n",
       "    <tr>\n",
       "      <th>4</th>\n",
       "      <td>2016-01-05</td>\n",
       "      <td>X</td>\n",
       "      <td>구름 많음</td>\n",
       "      <td>416</td>\n",
       "      <td>319</td>\n",
       "      <td>35</td>\n",
       "      <td>62</td>\n",
       "      <td>43</td>\n",
       "      <td>47</td>\n",
       "      <td>840</td>\n",
       "      <td>1,256</td>\n",
       "    </tr>\n",
       "  </tbody>\n",
       "</table>\n",
       "</div>"
      ],
      "text/plain": [
       "           날짜 공휴일     날씨   유료합계     어른  청소년  어린이  외국인   단체   무료합계     총계\n",
       "0  2016-01-01   O  구름 조금  3,359  2,799  141  419   47    0  1,023  4,382\n",
       "1  2016-01-02   O  구름 많음  5,173  4,370  203  600  100  111  2,092  7,265\n",
       "2  2016-01-03   O  구름 많음  3,008  2,571  128  309   91    0  1,549  4,557\n",
       "3  2016-01-04   X  구름 많음    890    602  NaN  235   51  223    800  1,690\n",
       "4  2016-01-05   X  구름 많음    416    319   35   62   43   47    840  1,256"
      ]
     },
     "execution_count": 1,
     "metadata": {},
     "output_type": "execute_result"
    }
   ],
   "source": [
    "import pandas as pd\n",
    "import numpy as np\n",
    "\n",
    "#파일불러오기\n",
    "df=pd.read_csv('./data/seoul_park.csv')\n",
    "df.head()"
   ]
  },
  {
   "attachments": {},
   "cell_type": "markdown",
   "id": "19888f47",
   "metadata": {},
   "source": [
    "데이터를 다시 살펴보겠습니다."
   ]
  },
  {
   "cell_type": "code",
   "execution_count": 2,
   "id": "e2ba0b58",
   "metadata": {},
   "outputs": [
    {
     "data": {
      "text/html": [
       "<div>\n",
       "<style scoped>\n",
       "    .dataframe tbody tr th:only-of-type {\n",
       "        vertical-align: middle;\n",
       "    }\n",
       "\n",
       "    .dataframe tbody tr th {\n",
       "        vertical-align: top;\n",
       "    }\n",
       "\n",
       "    .dataframe thead th {\n",
       "        text-align: right;\n",
       "    }\n",
       "</style>\n",
       "<table border=\"1\" class=\"dataframe\">\n",
       "  <thead>\n",
       "    <tr style=\"text-align: right;\">\n",
       "      <th></th>\n",
       "      <th>날짜</th>\n",
       "      <th>공휴일</th>\n",
       "      <th>날씨</th>\n",
       "      <th>유료합계</th>\n",
       "      <th>어른</th>\n",
       "      <th>청소년</th>\n",
       "      <th>어린이</th>\n",
       "      <th>외국인</th>\n",
       "      <th>단체</th>\n",
       "      <th>무료합계</th>\n",
       "      <th>총계</th>\n",
       "    </tr>\n",
       "  </thead>\n",
       "  <tbody>\n",
       "    <tr>\n",
       "      <th>0</th>\n",
       "      <td>2016-01-01</td>\n",
       "      <td>O</td>\n",
       "      <td>구름 조금</td>\n",
       "      <td>3,359</td>\n",
       "      <td>2,799</td>\n",
       "      <td>141</td>\n",
       "      <td>419</td>\n",
       "      <td>47</td>\n",
       "      <td>0</td>\n",
       "      <td>1,023</td>\n",
       "      <td>4,382</td>\n",
       "    </tr>\n",
       "    <tr>\n",
       "      <th>1</th>\n",
       "      <td>2016-01-02</td>\n",
       "      <td>O</td>\n",
       "      <td>구름 많음</td>\n",
       "      <td>5,173</td>\n",
       "      <td>4,370</td>\n",
       "      <td>203</td>\n",
       "      <td>600</td>\n",
       "      <td>100</td>\n",
       "      <td>111</td>\n",
       "      <td>2,092</td>\n",
       "      <td>7,265</td>\n",
       "    </tr>\n",
       "    <tr>\n",
       "      <th>2</th>\n",
       "      <td>2016-01-03</td>\n",
       "      <td>O</td>\n",
       "      <td>구름 많음</td>\n",
       "      <td>3,008</td>\n",
       "      <td>2,571</td>\n",
       "      <td>128</td>\n",
       "      <td>309</td>\n",
       "      <td>91</td>\n",
       "      <td>0</td>\n",
       "      <td>1,549</td>\n",
       "      <td>4,557</td>\n",
       "    </tr>\n",
       "    <tr>\n",
       "      <th>3</th>\n",
       "      <td>2016-01-04</td>\n",
       "      <td>X</td>\n",
       "      <td>구름 많음</td>\n",
       "      <td>890</td>\n",
       "      <td>602</td>\n",
       "      <td>NaN</td>\n",
       "      <td>235</td>\n",
       "      <td>51</td>\n",
       "      <td>223</td>\n",
       "      <td>800</td>\n",
       "      <td>1,690</td>\n",
       "    </tr>\n",
       "    <tr>\n",
       "      <th>4</th>\n",
       "      <td>2016-01-05</td>\n",
       "      <td>X</td>\n",
       "      <td>구름 많음</td>\n",
       "      <td>416</td>\n",
       "      <td>319</td>\n",
       "      <td>35</td>\n",
       "      <td>62</td>\n",
       "      <td>43</td>\n",
       "      <td>47</td>\n",
       "      <td>840</td>\n",
       "      <td>1,256</td>\n",
       "    </tr>\n",
       "    <tr>\n",
       "      <th>...</th>\n",
       "      <td>...</td>\n",
       "      <td>...</td>\n",
       "      <td>...</td>\n",
       "      <td>...</td>\n",
       "      <td>...</td>\n",
       "      <td>...</td>\n",
       "      <td>...</td>\n",
       "      <td>...</td>\n",
       "      <td>...</td>\n",
       "      <td>...</td>\n",
       "      <td>...</td>\n",
       "    </tr>\n",
       "    <tr>\n",
       "      <th>1081</th>\n",
       "      <td>2019-03-27</td>\n",
       "      <td>X</td>\n",
       "      <td>구름 많음</td>\n",
       "      <td>504</td>\n",
       "      <td>464</td>\n",
       "      <td>10</td>\n",
       "      <td>30</td>\n",
       "      <td>21</td>\n",
       "      <td>-</td>\n",
       "      <td>613</td>\n",
       "      <td>1,117</td>\n",
       "    </tr>\n",
       "    <tr>\n",
       "      <th>1082</th>\n",
       "      <td>2019-03-28</td>\n",
       "      <td>X</td>\n",
       "      <td>구름 많음</td>\n",
       "      <td>761</td>\n",
       "      <td>687</td>\n",
       "      <td>46</td>\n",
       "      <td>28</td>\n",
       "      <td>35</td>\n",
       "      <td>108</td>\n",
       "      <td>904</td>\n",
       "      <td>1,665</td>\n",
       "    </tr>\n",
       "    <tr>\n",
       "      <th>1083</th>\n",
       "      <td>2019-03-29</td>\n",
       "      <td>X</td>\n",
       "      <td>구름 조금</td>\n",
       "      <td>1,644</td>\n",
       "      <td>1,447</td>\n",
       "      <td>120</td>\n",
       "      <td>77</td>\n",
       "      <td>14</td>\n",
       "      <td>188</td>\n",
       "      <td>1,226</td>\n",
       "      <td>2,870</td>\n",
       "    </tr>\n",
       "    <tr>\n",
       "      <th>1084</th>\n",
       "      <td>2019-03-30</td>\n",
       "      <td>O</td>\n",
       "      <td>흐림</td>\n",
       "      <td>1,539</td>\n",
       "      <td>1,326</td>\n",
       "      <td>44</td>\n",
       "      <td>169</td>\n",
       "      <td>29</td>\n",
       "      <td>115</td>\n",
       "      <td>913</td>\n",
       "      <td>2,452</td>\n",
       "    </tr>\n",
       "    <tr>\n",
       "      <th>1085</th>\n",
       "      <td>2019-03-31</td>\n",
       "      <td>O</td>\n",
       "      <td>구름 조금</td>\n",
       "      <td>3,061</td>\n",
       "      <td>2,563</td>\n",
       "      <td>111</td>\n",
       "      <td>387</td>\n",
       "      <td>53</td>\n",
       "      <td>-</td>\n",
       "      <td>1,357</td>\n",
       "      <td>4,418</td>\n",
       "    </tr>\n",
       "  </tbody>\n",
       "</table>\n",
       "<p>1086 rows × 11 columns</p>\n",
       "</div>"
      ],
      "text/plain": [
       "              날짜 공휴일     날씨   유료합계     어른  청소년  어린이  외국인   단체   무료합계     총계\n",
       "0     2016-01-01   O  구름 조금  3,359  2,799  141  419   47    0  1,023  4,382\n",
       "1     2016-01-02   O  구름 많음  5,173  4,370  203  600  100  111  2,092  7,265\n",
       "2     2016-01-03   O  구름 많음  3,008  2,571  128  309   91    0  1,549  4,557\n",
       "3     2016-01-04   X  구름 많음    890    602  NaN  235   51  223    800  1,690\n",
       "4     2016-01-05   X  구름 많음    416    319   35   62   43   47    840  1,256\n",
       "...          ...  ..    ...    ...    ...  ...  ...  ...  ...    ...    ...\n",
       "1081  2019-03-27   X  구름 많음    504    464   10   30   21    -    613  1,117\n",
       "1082  2019-03-28   X  구름 많음    761    687   46   28   35  108    904  1,665\n",
       "1083  2019-03-29   X  구름 조금  1,644  1,447  120   77   14  188  1,226  2,870\n",
       "1084  2019-03-30   O     흐림  1,539  1,326   44  169   29  115    913  2,452\n",
       "1085  2019-03-31   O  구름 조금  3,061  2,563  111  387   53    -  1,357  4,418\n",
       "\n",
       "[1086 rows x 11 columns]"
      ]
     },
     "execution_count": 2,
     "metadata": {},
     "output_type": "execute_result"
    }
   ],
   "source": [
    "df"
   ]
  },
  {
   "attachments": {},
   "cell_type": "markdown",
   "id": "75d5b02f",
   "metadata": {},
   "source": [
    "데이터의 숫자들에는 천 단위로 콤마(,)가 찍혀있습니다. 또한 데이터의 \"단체\" 컬럼의 윗부분과 아래부분을 보면 윗쪽의 데이터에는 0명이 **0** 으로 적혀있지만, 아래쪽에는 **-** 으로 표기되어있습니다. 이는 년도가 지나면서 기록 방식이 바뀌면서 생긴 문제입니다."
   ]
  },
  {
   "cell_type": "code",
   "execution_count": 3,
   "id": "1c1fe42b",
   "metadata": {
    "scrolled": true
   },
   "outputs": [
    {
     "name": "stdout",
     "output_type": "stream",
     "text": [
      "<class 'pandas.core.frame.DataFrame'>\n",
      "RangeIndex: 1086 entries, 0 to 1085\n",
      "Data columns (total 11 columns):\n",
      " #   Column  Non-Null Count  Dtype \n",
      "---  ------  --------------  ----- \n",
      " 0   날짜      1086 non-null   object\n",
      " 1   공휴일     1086 non-null   object\n",
      " 2   날씨      946 non-null    object\n",
      " 3   유료합계    1086 non-null   object\n",
      " 4   어른      1086 non-null   object\n",
      " 5   청소년     1081 non-null   object\n",
      " 6   어린이     1086 non-null   object\n",
      " 7   외국인     1086 non-null   object\n",
      " 8   단체      1086 non-null   object\n",
      " 9   무료합계    1086 non-null   object\n",
      " 10  총계      1086 non-null   object\n",
      "dtypes: object(11)\n",
      "memory usage: 93.5+ KB\n"
     ]
    }
   ],
   "source": [
    "df.info()"
   ]
  },
  {
   "attachments": {},
   "cell_type": "markdown",
   "id": "13fa50f3",
   "metadata": {},
   "source": [
    "`info()`를 사용해 데이터의 타입을 확인해보면 모든 데이터가 수가 아닌 텍스트(Object) 타입으로 저장되어 있습니다. 이는 즉 데이터에 있는 3,359는 숫자 3359가 아닌 텍스트 \"3,359\"가 저장되어있는 상태입니다. 이 상태로는 숫자의 연산, 나아가 평균값과 같은 통계량을 측정할 수 없습니다. 따라서 우리는 이 텍스트(Object)들을 모두 **정수형(int)** 으로 바꾸어야 합니다.\n",
    "\n",
    "정수형으로 바꾸기 위해선 텍스트에서 숫자만을 남기고 모두 제거해야 합니다. 이를 위해 숫자로 바꾸어야 하는 컬럼들에서 `str.replace()`를 활용하여 -를 0으로 바꾸고 콤마를 제거합니다."
   ]
  },
  {
   "cell_type": "code",
   "execution_count": 4,
   "id": "780b0765",
   "metadata": {},
   "outputs": [],
   "source": [
    "# 쉽게 데이터 바꾸기\n",
    "columns=['유료합계', '어른', '청소년', '어린이', '외국인', '단체', '무료합계', '총계']\n",
    "for i in columns:\n",
    "    df[i]=df[i].str.replace('-','0')\n",
    "    df[i]=df[i].str.replace(',','')"
   ]
  },
  {
   "cell_type": "code",
   "execution_count": 5,
   "id": "edc34417",
   "metadata": {},
   "outputs": [
    {
     "data": {
      "text/html": [
       "<div>\n",
       "<style scoped>\n",
       "    .dataframe tbody tr th:only-of-type {\n",
       "        vertical-align: middle;\n",
       "    }\n",
       "\n",
       "    .dataframe tbody tr th {\n",
       "        vertical-align: top;\n",
       "    }\n",
       "\n",
       "    .dataframe thead th {\n",
       "        text-align: right;\n",
       "    }\n",
       "</style>\n",
       "<table border=\"1\" class=\"dataframe\">\n",
       "  <thead>\n",
       "    <tr style=\"text-align: right;\">\n",
       "      <th></th>\n",
       "      <th>날짜</th>\n",
       "      <th>공휴일</th>\n",
       "      <th>날씨</th>\n",
       "      <th>유료합계</th>\n",
       "      <th>어른</th>\n",
       "      <th>청소년</th>\n",
       "      <th>어린이</th>\n",
       "      <th>외국인</th>\n",
       "      <th>단체</th>\n",
       "      <th>무료합계</th>\n",
       "      <th>총계</th>\n",
       "    </tr>\n",
       "  </thead>\n",
       "  <tbody>\n",
       "    <tr>\n",
       "      <th>0</th>\n",
       "      <td>2016-01-01</td>\n",
       "      <td>O</td>\n",
       "      <td>구름 조금</td>\n",
       "      <td>3359</td>\n",
       "      <td>2799</td>\n",
       "      <td>141</td>\n",
       "      <td>419</td>\n",
       "      <td>47</td>\n",
       "      <td>0</td>\n",
       "      <td>1023</td>\n",
       "      <td>4382</td>\n",
       "    </tr>\n",
       "    <tr>\n",
       "      <th>1</th>\n",
       "      <td>2016-01-02</td>\n",
       "      <td>O</td>\n",
       "      <td>구름 많음</td>\n",
       "      <td>5173</td>\n",
       "      <td>4370</td>\n",
       "      <td>203</td>\n",
       "      <td>600</td>\n",
       "      <td>100</td>\n",
       "      <td>111</td>\n",
       "      <td>2092</td>\n",
       "      <td>7265</td>\n",
       "    </tr>\n",
       "    <tr>\n",
       "      <th>2</th>\n",
       "      <td>2016-01-03</td>\n",
       "      <td>O</td>\n",
       "      <td>구름 많음</td>\n",
       "      <td>3008</td>\n",
       "      <td>2571</td>\n",
       "      <td>128</td>\n",
       "      <td>309</td>\n",
       "      <td>91</td>\n",
       "      <td>0</td>\n",
       "      <td>1549</td>\n",
       "      <td>4557</td>\n",
       "    </tr>\n",
       "    <tr>\n",
       "      <th>3</th>\n",
       "      <td>2016-01-04</td>\n",
       "      <td>X</td>\n",
       "      <td>구름 많음</td>\n",
       "      <td>890</td>\n",
       "      <td>602</td>\n",
       "      <td>NaN</td>\n",
       "      <td>235</td>\n",
       "      <td>51</td>\n",
       "      <td>223</td>\n",
       "      <td>800</td>\n",
       "      <td>1690</td>\n",
       "    </tr>\n",
       "    <tr>\n",
       "      <th>4</th>\n",
       "      <td>2016-01-05</td>\n",
       "      <td>X</td>\n",
       "      <td>구름 많음</td>\n",
       "      <td>416</td>\n",
       "      <td>319</td>\n",
       "      <td>35</td>\n",
       "      <td>62</td>\n",
       "      <td>43</td>\n",
       "      <td>47</td>\n",
       "      <td>840</td>\n",
       "      <td>1256</td>\n",
       "    </tr>\n",
       "  </tbody>\n",
       "</table>\n",
       "</div>"
      ],
      "text/plain": [
       "           날짜 공휴일     날씨  유료합계    어른  청소년  어린이  외국인   단체  무료합계    총계\n",
       "0  2016-01-01   O  구름 조금  3359  2799  141  419   47    0  1023  4382\n",
       "1  2016-01-02   O  구름 많음  5173  4370  203  600  100  111  2092  7265\n",
       "2  2016-01-03   O  구름 많음  3008  2571  128  309   91    0  1549  4557\n",
       "3  2016-01-04   X  구름 많음   890   602  NaN  235   51  223   800  1690\n",
       "4  2016-01-05   X  구름 많음   416   319   35   62   43   47   840  1256"
      ]
     },
     "execution_count": 5,
     "metadata": {},
     "output_type": "execute_result"
    }
   ],
   "source": [
    "df.head()"
   ]
  },
  {
   "attachments": {},
   "cell_type": "markdown",
   "id": "68a3fda0",
   "metadata": {},
   "source": [
    "데이터의 숫자들이 깔끔하게 정리된 것을 확인할 수 있습니다."
   ]
  },
  {
   "attachments": {},
   "cell_type": "markdown",
   "id": "340f0f90",
   "metadata": {},
   "source": [
    "## 데이터 타입 변환: astype()"
   ]
  },
  {
   "cell_type": "code",
   "execution_count": 6,
   "id": "62604cbc",
   "metadata": {},
   "outputs": [
    {
     "name": "stdout",
     "output_type": "stream",
     "text": [
      "<class 'pandas.core.frame.DataFrame'>\n",
      "RangeIndex: 1086 entries, 0 to 1085\n",
      "Data columns (total 11 columns):\n",
      " #   Column  Non-Null Count  Dtype \n",
      "---  ------  --------------  ----- \n",
      " 0   날짜      1086 non-null   object\n",
      " 1   공휴일     1086 non-null   object\n",
      " 2   날씨      946 non-null    object\n",
      " 3   유료합계    1086 non-null   object\n",
      " 4   어른      1086 non-null   object\n",
      " 5   청소년     1081 non-null   object\n",
      " 6   어린이     1086 non-null   object\n",
      " 7   외국인     1086 non-null   object\n",
      " 8   단체      1086 non-null   object\n",
      " 9   무료합계    1086 non-null   object\n",
      " 10  총계      1086 non-null   object\n",
      "dtypes: object(11)\n",
      "memory usage: 93.5+ KB\n"
     ]
    }
   ],
   "source": [
    "df.info()"
   ]
  },
  {
   "attachments": {},
   "cell_type": "markdown",
   "id": "256bee3c",
   "metadata": {},
   "source": [
    "데이터의 숫자들이 깔끔하게 정리되기는 했지만, `info`를 활용하여 살펴보면 여전히 데이터 타입은 텍스트(Object)인 것을 알 수 있습니다. 통계적인 분석을 위해 해당 데이터들을 정수(int)형태로 바꿔주어야 합니다.\n",
    "\n",
    "`astype()`을 사용하면 원하는 타입으로 변환할 수 있습니다. `astype`메서드를 활용해 \"어른\" 컬럼의 데이터를 정수 형태로 변환하는 코드는 다음과 같습니다."
   ]
  },
  {
   "cell_type": "code",
   "execution_count": 7,
   "id": "zt76Fv9J_4cs",
   "metadata": {
    "id": "zt76Fv9J_4cs"
   },
   "outputs": [
    {
     "data": {
      "text/plain": [
       "0       2799\n",
       "1       4370\n",
       "2       2571\n",
       "3        602\n",
       "4        319\n",
       "        ... \n",
       "1081     464\n",
       "1082     687\n",
       "1083    1447\n",
       "1084    1326\n",
       "1085    2563\n",
       "Name: 어른, Length: 1086, dtype: int64"
      ]
     },
     "execution_count": 7,
     "metadata": {},
     "output_type": "execute_result"
    }
   ],
   "source": [
    "df[\"어른\"].astype(int)"
   ]
  },
  {
   "attachments": {},
   "cell_type": "markdown",
   "id": "99f65dfe",
   "metadata": {},
   "source": [
    "이제 \"어른\" 컬럼의 형태가 제대로 변환되었는지 확인해보겠습니다."
   ]
  },
  {
   "cell_type": "code",
   "execution_count": 8,
   "id": "OAzVwNK2_6v4",
   "metadata": {
    "id": "OAzVwNK2_6v4"
   },
   "outputs": [
    {
     "name": "stdout",
     "output_type": "stream",
     "text": [
      "<class 'pandas.core.frame.DataFrame'>\n",
      "RangeIndex: 1086 entries, 0 to 1085\n",
      "Data columns (total 11 columns):\n",
      " #   Column  Non-Null Count  Dtype \n",
      "---  ------  --------------  ----- \n",
      " 0   날짜      1086 non-null   object\n",
      " 1   공휴일     1086 non-null   object\n",
      " 2   날씨      946 non-null    object\n",
      " 3   유료합계    1086 non-null   object\n",
      " 4   어른      1086 non-null   object\n",
      " 5   청소년     1081 non-null   object\n",
      " 6   어린이     1086 non-null   object\n",
      " 7   외국인     1086 non-null   object\n",
      " 8   단체      1086 non-null   object\n",
      " 9   무료합계    1086 non-null   object\n",
      " 10  총계      1086 non-null   object\n",
      "dtypes: object(11)\n",
      "memory usage: 93.5+ KB\n"
     ]
    }
   ],
   "source": [
    "df.info()"
   ]
  },
  {
   "attachments": {},
   "cell_type": "markdown",
   "id": "bc7c0e33",
   "metadata": {},
   "source": [
    "`df`의 어른 컬럼의 데이터타입은 object로, `astype()`을 사용했지만 바뀌지 않은 것을 확인할 수 있습니다. 어떻게 된 일일까요.\n",
    "\n",
    "`astype()`을 비롯해 데이터프레임에 뭔가 변형을 가하거나 작업을 하는 메서드들은 데이터프레임 자체를 변환하지 않고, 변환된 새로운 데이터프레임을 반환합니다. \n",
    "\n",
    "따라서 `df[\"어른\"].astype(int)`이라는 코드는 `df`의 \"어른\" 컬럼을 정수형으로 변환하기는 하지만, 그냥 정수형으로 바뀐 \"어른\" 컬럼을 시리즈 형태로 나타낼 뿐 **`df`의 \"어른\" 컬럼 그 자체가 바뀌는 것이 아닙니다**. \n",
    "\n",
    "`df`의 \"어른\" 컬럼을 바꾸고 싶다면 `astype()`을 활용해 변환하여 생성한 \"어른\" 컬럼 시리즈를 `df`의 \"어른\" 컬럼에 덮어씌워주는 작업이 필요합니다. 이는 다음과 같이 수행할 수 있습니다."
   ]
  },
  {
   "cell_type": "code",
   "execution_count": 9,
   "id": "ebc49d16",
   "metadata": {},
   "outputs": [
    {
     "name": "stdout",
     "output_type": "stream",
     "text": [
      "<class 'pandas.core.frame.DataFrame'>\n",
      "RangeIndex: 1086 entries, 0 to 1085\n",
      "Data columns (total 11 columns):\n",
      " #   Column  Non-Null Count  Dtype \n",
      "---  ------  --------------  ----- \n",
      " 0   날짜      1086 non-null   object\n",
      " 1   공휴일     1086 non-null   object\n",
      " 2   날씨      946 non-null    object\n",
      " 3   유료합계    1086 non-null   object\n",
      " 4   어른      1086 non-null   int64 \n",
      " 5   청소년     1081 non-null   object\n",
      " 6   어린이     1086 non-null   object\n",
      " 7   외국인     1086 non-null   object\n",
      " 8   단체      1086 non-null   object\n",
      " 9   무료합계    1086 non-null   object\n",
      " 10  총계      1086 non-null   object\n",
      "dtypes: int64(1), object(10)\n",
      "memory usage: 93.5+ KB\n"
     ]
    }
   ],
   "source": [
    "df[\"어른\"]=df[\"어른\"].astype(int)\n",
    "\n",
    "df.info()"
   ]
  },
  {
   "attachments": {},
   "cell_type": "markdown",
   "id": "0a8828c4",
   "metadata": {},
   "source": [
    "덮어씌워주는 과정을 통해 어른 컬럼의 데이터타입이 정수형(int)으로 바뀐 것을 확인할 수 있습니다. 이런 식으로 원본의 데이터프레임을 가공하기 위해선 덮어씌워주는 작업이 필요하다는 사실과 해당 코드를 익혀두시면 앞으로 강의의 코드를 이해하시기 한결 수월할 것입니다.\n",
    "\n",
    "## 데이터 타입 변환: to_numeric()\n",
    "\n",
    "`to_numeric()`은 `astype()`과 같이 데이터의 형태를 변환하지만 원하는 타입을 지정할 수 있는 `astype()`과 달리 숫자로만 변환한다는 차이점이 존재합니다. 특히나 데이터분석에서는 데이터를 숫자로 변환할 일이 많기 때문에 유용하게 사용할 수 있습니다."
   ]
  },
  {
   "cell_type": "code",
   "execution_count": 10,
   "id": "4NJ2-xVZClSO",
   "metadata": {
    "id": "4NJ2-xVZClSO"
   },
   "outputs": [
    {
     "name": "stdout",
     "output_type": "stream",
     "text": [
      "<class 'pandas.core.frame.DataFrame'>\n",
      "RangeIndex: 1086 entries, 0 to 1085\n",
      "Data columns (total 11 columns):\n",
      " #   Column  Non-Null Count  Dtype \n",
      "---  ------  --------------  ----- \n",
      " 0   날짜      1086 non-null   object\n",
      " 1   공휴일     1086 non-null   object\n",
      " 2   날씨      946 non-null    object\n",
      " 3   유료합계    1086 non-null   int64 \n",
      " 4   어른      1086 non-null   int64 \n",
      " 5   청소년     1081 non-null   object\n",
      " 6   어린이     1086 non-null   object\n",
      " 7   외국인     1086 non-null   object\n",
      " 8   단체      1086 non-null   object\n",
      " 9   무료합계    1086 non-null   object\n",
      " 10  총계      1086 non-null   object\n",
      "dtypes: int64(2), object(9)\n",
      "memory usage: 93.5+ KB\n"
     ]
    }
   ],
   "source": [
    "df[\"유료합계\"] = pd.to_numeric(df[\"유료합계\"])\n",
    "\n",
    "df.info()"
   ]
  },
  {
   "attachments": {},
   "cell_type": "markdown",
   "id": "79bef0e1",
   "metadata": {},
   "source": [
    "유료합계 컬럼이 정수형(int)으로 바뀐 것을 확인할 수 있습니다.\n",
    "\n",
    "\n",
    "### [TODO] `df`의 \"외국인\" 컬럼의 자료형을 숫자형으로 변환해 변수 `foreigner`에 저장하세요.\n",
    "* `astype()` 또는 `to_numeric()`을 활용하세요."
   ]
  },
  {
   "cell_type": "code",
   "execution_count": 11,
   "id": "4782c8e3",
   "metadata": {},
   "outputs": [
    {
     "name": "stdout",
     "output_type": "stream",
     "text": [
      "<class 'pandas.core.series.Series'>\n",
      "RangeIndex: 1086 entries, 0 to 1085\n",
      "Series name: 외국인\n",
      "Non-Null Count  Dtype\n",
      "--------------  -----\n",
      "1086 non-null   int64\n",
      "dtypes: int64(1)\n",
      "memory usage: 8.6 KB\n",
      "None\n"
     ]
    }
   ],
   "source": [
    "foreigner=df['외국인'].astype(int)\n",
    "\n",
    "print(foreigner.info()) # 주석을 해제하고 실행해 올바르게 형변환이 되어 저장됐는지 확인하세요."
   ]
  },
  {
   "attachments": {},
   "cell_type": "markdown",
   "id": "388ee453",
   "metadata": {},
   "source": [
    "이제 for문을 사용해 입장객 수에 관련된 컬럼들을 모두 숫자형으로 바꿔보도록 하겠습니다."
   ]
  },
  {
   "cell_type": "code",
   "execution_count": 12,
   "id": "c9d7fb39",
   "metadata": {},
   "outputs": [
    {
     "name": "stdout",
     "output_type": "stream",
     "text": [
      "<class 'pandas.core.frame.DataFrame'>\n",
      "RangeIndex: 1086 entries, 0 to 1085\n",
      "Data columns (total 11 columns):\n",
      " #   Column  Non-Null Count  Dtype  \n",
      "---  ------  --------------  -----  \n",
      " 0   날짜      1086 non-null   object \n",
      " 1   공휴일     1086 non-null   object \n",
      " 2   날씨      946 non-null    object \n",
      " 3   유료합계    1086 non-null   int64  \n",
      " 4   어른      1086 non-null   int64  \n",
      " 5   청소년     1081 non-null   float64\n",
      " 6   어린이     1086 non-null   int64  \n",
      " 7   외국인     1086 non-null   object \n",
      " 8   단체      1086 non-null   int64  \n",
      " 9   무료합계    1086 non-null   int64  \n",
      " 10  총계      1086 non-null   int64  \n",
      "dtypes: float64(1), int64(6), object(4)\n",
      "memory usage: 93.5+ KB\n"
     ]
    }
   ],
   "source": [
    "columns=[\"유료합계\", \"어른\", \"청소년\", \"어린이\", \"단체\", \"무료합계\", \"총계\"]\n",
    "for i in columns:\n",
    "    df[i]=pd.to_numeric(df[i])\n",
    "    \n",
    "df.info()"
   ]
  },
  {
   "attachments": {},
   "cell_type": "markdown",
   "id": "564fcef5",
   "metadata": {},
   "source": [
    "입장객 수에 관련된 데이터가 모두 숫자형태로 바뀐 것을 확인할 수 있습니다. 이제 이 입장객 수를 활용해 평균, 최대값 등을 계산할 수 있습니다.\n",
    "\n",
    "## 데이터 타입 변환: to_datetime()\n",
    "\n",
    "날짜 컬럼에는 데이터가 수집된 날짜가 기록되어있습니다. 하지만 위의 정보를 보면 알 수 있다시피 날짜는 텍스트로 저장되어있습니다. 다시 말해 날짜 컬럼의 \"2016-01-01\"는 텍스트일 뿐 컴퓨터가 이것을 날짜로 인식할 수 없습니다. 이 날짜를 보다 효과적으로 활용하기 위해 `to_datetime()`을 활용해 날짜컬럼 전체를 `datetime`형식으로 변환해줍니다."
   ]
  },
  {
   "cell_type": "code",
   "execution_count": 13,
   "id": "7762d3e8",
   "metadata": {
    "id": "7762d3e8"
   },
   "outputs": [
    {
     "name": "stdout",
     "output_type": "stream",
     "text": [
      "<class 'pandas.core.frame.DataFrame'>\n",
      "RangeIndex: 1086 entries, 0 to 1085\n",
      "Data columns (total 11 columns):\n",
      " #   Column  Non-Null Count  Dtype         \n",
      "---  ------  --------------  -----         \n",
      " 0   날짜      1086 non-null   datetime64[ns]\n",
      " 1   공휴일     1086 non-null   object        \n",
      " 2   날씨      946 non-null    object        \n",
      " 3   유료합계    1086 non-null   int64         \n",
      " 4   어른      1086 non-null   int64         \n",
      " 5   청소년     1081 non-null   float64       \n",
      " 6   어린이     1086 non-null   int64         \n",
      " 7   외국인     1086 non-null   object        \n",
      " 8   단체      1086 non-null   int64         \n",
      " 9   무료합계    1086 non-null   int64         \n",
      " 10  총계      1086 non-null   int64         \n",
      "dtypes: datetime64[ns](1), float64(1), int64(6), object(3)\n",
      "memory usage: 93.5+ KB\n"
     ]
    }
   ],
   "source": [
    "df[\"날짜\"]= pd.to_datetime(df[\"날짜\"])\n",
    "df.info()"
   ]
  },
  {
   "attachments": {},
   "cell_type": "markdown",
   "id": "1299e56f",
   "metadata": {},
   "source": [
    "이번엔 날짜 데이터를 사용해보겠습니다. 데이터프레임에서 `datetime` 형태의 데이터에는 연, 월, 일 정보가 담겨있어 이를 활용하면 날짜정보를 비롯해 요일과 같은 새로운 정보를 생성할 수 있습니다. \n",
    "\n",
    "이를 위해 `dt` 속성을 사용하여 `datetime` 형태의 데이터에서 특정 정보들을 추출하고 연, 월, 일, 요일 컬럼을 새롭게 생성해보겠습니다."
   ]
  },
  {
   "cell_type": "code",
   "execution_count": 14,
   "id": "c4f5ec84",
   "metadata": {
    "id": "c4f5ec84"
   },
   "outputs": [],
   "source": [
    "df['연']=df['날짜'].dt.year\n",
    "df['월']=df['날짜'].dt.month\n",
    "df['일']=df['날짜'].dt.day\n",
    "df['요일']=df['날짜'].dt.dayofweek"
   ]
  },
  {
   "cell_type": "code",
   "execution_count": 15,
   "id": "2ca9c825",
   "metadata": {
    "colab": {
     "base_uri": "https://localhost:8080/",
     "height": 206
    },
    "id": "2ca9c825",
    "outputId": "010f8371-3e5f-4536-c3cb-ecf672ed52f5",
    "scrolled": false
   },
   "outputs": [
    {
     "data": {
      "text/html": [
       "<div>\n",
       "<style scoped>\n",
       "    .dataframe tbody tr th:only-of-type {\n",
       "        vertical-align: middle;\n",
       "    }\n",
       "\n",
       "    .dataframe tbody tr th {\n",
       "        vertical-align: top;\n",
       "    }\n",
       "\n",
       "    .dataframe thead th {\n",
       "        text-align: right;\n",
       "    }\n",
       "</style>\n",
       "<table border=\"1\" class=\"dataframe\">\n",
       "  <thead>\n",
       "    <tr style=\"text-align: right;\">\n",
       "      <th></th>\n",
       "      <th>날짜</th>\n",
       "      <th>공휴일</th>\n",
       "      <th>날씨</th>\n",
       "      <th>유료합계</th>\n",
       "      <th>어른</th>\n",
       "      <th>청소년</th>\n",
       "      <th>어린이</th>\n",
       "      <th>외국인</th>\n",
       "      <th>단체</th>\n",
       "      <th>무료합계</th>\n",
       "      <th>총계</th>\n",
       "      <th>연</th>\n",
       "      <th>월</th>\n",
       "      <th>일</th>\n",
       "      <th>요일</th>\n",
       "    </tr>\n",
       "  </thead>\n",
       "  <tbody>\n",
       "    <tr>\n",
       "      <th>0</th>\n",
       "      <td>2016-01-01</td>\n",
       "      <td>O</td>\n",
       "      <td>구름 조금</td>\n",
       "      <td>3359</td>\n",
       "      <td>2799</td>\n",
       "      <td>141.0</td>\n",
       "      <td>419</td>\n",
       "      <td>47</td>\n",
       "      <td>0</td>\n",
       "      <td>1023</td>\n",
       "      <td>4382</td>\n",
       "      <td>2016</td>\n",
       "      <td>1</td>\n",
       "      <td>1</td>\n",
       "      <td>4</td>\n",
       "    </tr>\n",
       "    <tr>\n",
       "      <th>1</th>\n",
       "      <td>2016-01-02</td>\n",
       "      <td>O</td>\n",
       "      <td>구름 많음</td>\n",
       "      <td>5173</td>\n",
       "      <td>4370</td>\n",
       "      <td>203.0</td>\n",
       "      <td>600</td>\n",
       "      <td>100</td>\n",
       "      <td>111</td>\n",
       "      <td>2092</td>\n",
       "      <td>7265</td>\n",
       "      <td>2016</td>\n",
       "      <td>1</td>\n",
       "      <td>2</td>\n",
       "      <td>5</td>\n",
       "    </tr>\n",
       "    <tr>\n",
       "      <th>2</th>\n",
       "      <td>2016-01-03</td>\n",
       "      <td>O</td>\n",
       "      <td>구름 많음</td>\n",
       "      <td>3008</td>\n",
       "      <td>2571</td>\n",
       "      <td>128.0</td>\n",
       "      <td>309</td>\n",
       "      <td>91</td>\n",
       "      <td>0</td>\n",
       "      <td>1549</td>\n",
       "      <td>4557</td>\n",
       "      <td>2016</td>\n",
       "      <td>1</td>\n",
       "      <td>3</td>\n",
       "      <td>6</td>\n",
       "    </tr>\n",
       "    <tr>\n",
       "      <th>3</th>\n",
       "      <td>2016-01-04</td>\n",
       "      <td>X</td>\n",
       "      <td>구름 많음</td>\n",
       "      <td>890</td>\n",
       "      <td>602</td>\n",
       "      <td>NaN</td>\n",
       "      <td>235</td>\n",
       "      <td>51</td>\n",
       "      <td>223</td>\n",
       "      <td>800</td>\n",
       "      <td>1690</td>\n",
       "      <td>2016</td>\n",
       "      <td>1</td>\n",
       "      <td>4</td>\n",
       "      <td>0</td>\n",
       "    </tr>\n",
       "    <tr>\n",
       "      <th>4</th>\n",
       "      <td>2016-01-05</td>\n",
       "      <td>X</td>\n",
       "      <td>구름 많음</td>\n",
       "      <td>416</td>\n",
       "      <td>319</td>\n",
       "      <td>35.0</td>\n",
       "      <td>62</td>\n",
       "      <td>43</td>\n",
       "      <td>47</td>\n",
       "      <td>840</td>\n",
       "      <td>1256</td>\n",
       "      <td>2016</td>\n",
       "      <td>1</td>\n",
       "      <td>5</td>\n",
       "      <td>1</td>\n",
       "    </tr>\n",
       "  </tbody>\n",
       "</table>\n",
       "</div>"
      ],
      "text/plain": [
       "          날짜 공휴일     날씨  유료합계    어른    청소년  어린이  외국인   단체  무료합계    총계     연  \\\n",
       "0 2016-01-01   O  구름 조금  3359  2799  141.0  419   47    0  1023  4382  2016   \n",
       "1 2016-01-02   O  구름 많음  5173  4370  203.0  600  100  111  2092  7265  2016   \n",
       "2 2016-01-03   O  구름 많음  3008  2571  128.0  309   91    0  1549  4557  2016   \n",
       "3 2016-01-04   X  구름 많음   890   602    NaN  235   51  223   800  1690  2016   \n",
       "4 2016-01-05   X  구름 많음   416   319   35.0   62   43   47   840  1256  2016   \n",
       "\n",
       "   월  일  요일  \n",
       "0  1  1   4  \n",
       "1  1  2   5  \n",
       "2  1  3   6  \n",
       "3  1  4   0  \n",
       "4  1  5   1  "
      ]
     },
     "execution_count": 15,
     "metadata": {},
     "output_type": "execute_result"
    }
   ],
   "source": [
    "df.head()"
   ]
  },
  {
   "attachments": {},
   "cell_type": "markdown",
   "id": "d46f1788",
   "metadata": {},
   "source": [
    "연, 월, 일, 요일 컬럼이 생성되고 해당하는 정보가 저장된 것을 확인할 수 있습니다. 그런데 요일이 글자가 아닌 **숫자**로 기록되어 있는 것을 확인할 수 있습니다. \n",
    "\n",
    "이대로도 데이터 분석을 진행할 수는 있지만, 조금 알아보기 번거롭습니다. 만약 요일에 있는 숫자들을 한글로 바꾸는 것 처럼 데이터에 일괄적으로 변형을 주고 싶다면 어떻게 해야할까요? 이에 대해서는 다음 실습에서 알아보도록 하겠습니다."
   ]
  }
 ],
 "metadata": {
  "colab": {
   "provenance": [],
   "toc_visible": true
  },
  "kernelspec": {
   "display_name": "tora",
   "language": "python",
   "name": "tora"
  },
  "language_info": {
   "codemirror_mode": {
    "name": "ipython",
    "version": 3
   },
   "file_extension": ".py",
   "mimetype": "text/x-python",
   "name": "python",
   "nbconvert_exporter": "python",
   "pygments_lexer": "ipython3",
   "version": "3.12.7"
  }
 },
 "nbformat": 4,
 "nbformat_minor": 5
}

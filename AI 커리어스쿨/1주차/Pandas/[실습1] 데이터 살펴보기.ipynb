{
 "cells": [
  {
   "cell_type": "markdown",
   "id": "16315806",
   "metadata": {},
   "source": [
    "# [실습1] 데이터 살펴보기\n",
    "\n",
    "이번 실습에서는 데이터를 불러오고 확인하는 과정을 수행합니다.\n",
    "\n",
    "## 라이브러리 불러오기\n",
    "데이터 분석에서 널리 사용되는 파이썬 패키지 중 하나인 pandas는 데이터를 처리하고 조작하는 데 필수적인 도구를 제공합니다. pandas는 NumPy를 기반으로 구현되었으므로 NumPy도 함께 import 해주어야 합니다.\n",
    "\n",
    "아래 코드에서는 pandas를 **pd** 라는 이름으로 import하고, NumPy를 **np** 라는 이름으로 import합니다. 이렇게 하면 pandas나 NumPy의 함수나 클래스를 호출할 때 매번 긴 이름을 쓰지 않고 간결하게 사용할 수 있습니다."
   ]
  },
  {
   "cell_type": "code",
   "execution_count": 3,
   "id": "JbP7t257_Jl5",
   "metadata": {
    "id": "JbP7t257_Jl5"
   },
   "outputs": [],
   "source": [
    "import pandas as pd\n",
    "import numpy as np"
   ]
  },
  {
   "cell_type": "markdown",
   "id": "8f2089fd",
   "metadata": {},
   "source": [
    "실습에 사용할 데이터는 **2016년 1월 1일부터 2019년 3월 31일까지의 서울대공원 입장객 데이터**입니다. 데이터에는 날짜, 공휴일 여부, 입장객 연령 등 다양한 정보가 저장되어 있습니다.\n",
    "\n",
    "## 데이터 불러오기: read_csv()\n",
    "\n",
    "이제 data폴더에 저장되어있는 데이터인 **seoul_park.csv** 파일을 불러와 데이터프레임 `df`에 저장합니다. csv 파일 형태를 가지므로 `read_csv()`를 활용하여 불러옵니다. `read_csv()`에는 데이터가 저장되어있는 파일의 경로를 입력받습니다."
   ]
  },
  {
   "cell_type": "code",
   "execution_count": 4,
   "id": "9453fa7b",
   "metadata": {
    "colab": {
     "base_uri": "https://localhost:8080/",
     "height": 329
    },
    "id": "9453fa7b",
    "outputId": "2ad7e9a9-0d05-416c-efda-9db29a15de4d"
   },
   "outputs": [],
   "source": [
    "# 파일 불러오기\n",
    "df=pd.read_csv(\"./data/seoul_park.csv\")"
   ]
  },
  {
   "cell_type": "markdown",
   "id": "fa381eb9",
   "metadata": {},
   "source": [
    "이제 데이터프레임 `df`에 서울대공원 입장객 데이터가 저장되어있습니다.\n",
    "\n",
    "### [TODO] data 폴더에 저장되어있는 미세먼지 데이터를 불러와 변수 `mm`에 저장하세요.\n",
    "\n",
    "* 미세먼지 데이터의 파일의 경로는 `./data/misemunji.csv` 입니다."
   ]
  },
  {
   "cell_type": "code",
   "execution_count": 5,
   "id": "dadc9425",
   "metadata": {},
   "outputs": [],
   "source": [
    "# None을 지우고 알맞은 코드를 입력하세요.\n",
    "mm=pd.read_csv(\"./data/misemunji.csv\")"
   ]
  },
  {
   "cell_type": "markdown",
   "id": "7f8cf801",
   "metadata": {},
   "source": [
    "## 데이터 살펴보기: head(), tail()\n",
    "데이터의 갯수는 총 1085개로 데이터가 너무 커 한눈에 들어오지 않습니다. pandas 라이브러리에는 데이터를 살펴보기에 유용한 기능들이 있습니다.\n",
    "`head()`, `tail()`을 사용하면 데이터의 처음과 끝의 일부를 확인할 수 있습니다."
   ]
  },
  {
   "cell_type": "code",
   "execution_count": 6,
   "id": "402a092a",
   "metadata": {
    "id": "402a092a",
    "scrolled": false
   },
   "outputs": [
    {
     "data": {
      "text/html": [
       "<div>\n",
       "<style scoped>\n",
       "    .dataframe tbody tr th:only-of-type {\n",
       "        vertical-align: middle;\n",
       "    }\n",
       "\n",
       "    .dataframe tbody tr th {\n",
       "        vertical-align: top;\n",
       "    }\n",
       "\n",
       "    .dataframe thead th {\n",
       "        text-align: right;\n",
       "    }\n",
       "</style>\n",
       "<table border=\"1\" class=\"dataframe\">\n",
       "  <thead>\n",
       "    <tr style=\"text-align: right;\">\n",
       "      <th></th>\n",
       "      <th>날짜</th>\n",
       "      <th>공휴일</th>\n",
       "      <th>날씨</th>\n",
       "      <th>유료합계</th>\n",
       "      <th>어른</th>\n",
       "      <th>청소년</th>\n",
       "      <th>어린이</th>\n",
       "      <th>외국인</th>\n",
       "      <th>단체</th>\n",
       "      <th>무료합계</th>\n",
       "      <th>총계</th>\n",
       "    </tr>\n",
       "  </thead>\n",
       "  <tbody>\n",
       "    <tr>\n",
       "      <th>0</th>\n",
       "      <td>2016-01-01</td>\n",
       "      <td>O</td>\n",
       "      <td>구름 조금</td>\n",
       "      <td>3,359</td>\n",
       "      <td>2,799</td>\n",
       "      <td>141</td>\n",
       "      <td>419</td>\n",
       "      <td>47</td>\n",
       "      <td>0</td>\n",
       "      <td>1,023</td>\n",
       "      <td>4,382</td>\n",
       "    </tr>\n",
       "    <tr>\n",
       "      <th>1</th>\n",
       "      <td>2016-01-02</td>\n",
       "      <td>O</td>\n",
       "      <td>구름 많음</td>\n",
       "      <td>5,173</td>\n",
       "      <td>4,370</td>\n",
       "      <td>203</td>\n",
       "      <td>600</td>\n",
       "      <td>100</td>\n",
       "      <td>111</td>\n",
       "      <td>2,092</td>\n",
       "      <td>7,265</td>\n",
       "    </tr>\n",
       "    <tr>\n",
       "      <th>2</th>\n",
       "      <td>2016-01-03</td>\n",
       "      <td>O</td>\n",
       "      <td>구름 많음</td>\n",
       "      <td>3,008</td>\n",
       "      <td>2,571</td>\n",
       "      <td>128</td>\n",
       "      <td>309</td>\n",
       "      <td>91</td>\n",
       "      <td>0</td>\n",
       "      <td>1,549</td>\n",
       "      <td>4,557</td>\n",
       "    </tr>\n",
       "    <tr>\n",
       "      <th>3</th>\n",
       "      <td>2016-01-04</td>\n",
       "      <td>X</td>\n",
       "      <td>구름 많음</td>\n",
       "      <td>890</td>\n",
       "      <td>602</td>\n",
       "      <td>NaN</td>\n",
       "      <td>235</td>\n",
       "      <td>51</td>\n",
       "      <td>223</td>\n",
       "      <td>800</td>\n",
       "      <td>1,690</td>\n",
       "    </tr>\n",
       "    <tr>\n",
       "      <th>4</th>\n",
       "      <td>2016-01-05</td>\n",
       "      <td>X</td>\n",
       "      <td>구름 많음</td>\n",
       "      <td>416</td>\n",
       "      <td>319</td>\n",
       "      <td>35</td>\n",
       "      <td>62</td>\n",
       "      <td>43</td>\n",
       "      <td>47</td>\n",
       "      <td>840</td>\n",
       "      <td>1,256</td>\n",
       "    </tr>\n",
       "  </tbody>\n",
       "</table>\n",
       "</div>"
      ],
      "text/plain": [
       "           날짜 공휴일     날씨   유료합계     어른  청소년  어린이  외국인   단체   무료합계     총계\n",
       "0  2016-01-01   O  구름 조금  3,359  2,799  141  419   47    0  1,023  4,382\n",
       "1  2016-01-02   O  구름 많음  5,173  4,370  203  600  100  111  2,092  7,265\n",
       "2  2016-01-03   O  구름 많음  3,008  2,571  128  309   91    0  1,549  4,557\n",
       "3  2016-01-04   X  구름 많음    890    602  NaN  235   51  223    800  1,690\n",
       "4  2016-01-05   X  구름 많음    416    319   35   62   43   47    840  1,256"
      ]
     },
     "execution_count": 6,
     "metadata": {},
     "output_type": "execute_result"
    }
   ],
   "source": [
    "df.head()"
   ]
  },
  {
   "cell_type": "code",
   "execution_count": 7,
   "id": "66125e3a",
   "metadata": {},
   "outputs": [
    {
     "data": {
      "text/html": [
       "<div>\n",
       "<style scoped>\n",
       "    .dataframe tbody tr th:only-of-type {\n",
       "        vertical-align: middle;\n",
       "    }\n",
       "\n",
       "    .dataframe tbody tr th {\n",
       "        vertical-align: top;\n",
       "    }\n",
       "\n",
       "    .dataframe thead th {\n",
       "        text-align: right;\n",
       "    }\n",
       "</style>\n",
       "<table border=\"1\" class=\"dataframe\">\n",
       "  <thead>\n",
       "    <tr style=\"text-align: right;\">\n",
       "      <th></th>\n",
       "      <th>날짜</th>\n",
       "      <th>공휴일</th>\n",
       "      <th>날씨</th>\n",
       "      <th>유료합계</th>\n",
       "      <th>어른</th>\n",
       "      <th>청소년</th>\n",
       "      <th>어린이</th>\n",
       "      <th>외국인</th>\n",
       "      <th>단체</th>\n",
       "      <th>무료합계</th>\n",
       "      <th>총계</th>\n",
       "    </tr>\n",
       "  </thead>\n",
       "  <tbody>\n",
       "    <tr>\n",
       "      <th>1081</th>\n",
       "      <td>2019-03-27</td>\n",
       "      <td>X</td>\n",
       "      <td>구름 많음</td>\n",
       "      <td>504</td>\n",
       "      <td>464</td>\n",
       "      <td>10</td>\n",
       "      <td>30</td>\n",
       "      <td>21</td>\n",
       "      <td>-</td>\n",
       "      <td>613</td>\n",
       "      <td>1,117</td>\n",
       "    </tr>\n",
       "    <tr>\n",
       "      <th>1082</th>\n",
       "      <td>2019-03-28</td>\n",
       "      <td>X</td>\n",
       "      <td>구름 많음</td>\n",
       "      <td>761</td>\n",
       "      <td>687</td>\n",
       "      <td>46</td>\n",
       "      <td>28</td>\n",
       "      <td>35</td>\n",
       "      <td>108</td>\n",
       "      <td>904</td>\n",
       "      <td>1,665</td>\n",
       "    </tr>\n",
       "    <tr>\n",
       "      <th>1083</th>\n",
       "      <td>2019-03-29</td>\n",
       "      <td>X</td>\n",
       "      <td>구름 조금</td>\n",
       "      <td>1,644</td>\n",
       "      <td>1,447</td>\n",
       "      <td>120</td>\n",
       "      <td>77</td>\n",
       "      <td>14</td>\n",
       "      <td>188</td>\n",
       "      <td>1,226</td>\n",
       "      <td>2,870</td>\n",
       "    </tr>\n",
       "    <tr>\n",
       "      <th>1084</th>\n",
       "      <td>2019-03-30</td>\n",
       "      <td>O</td>\n",
       "      <td>흐림</td>\n",
       "      <td>1,539</td>\n",
       "      <td>1,326</td>\n",
       "      <td>44</td>\n",
       "      <td>169</td>\n",
       "      <td>29</td>\n",
       "      <td>115</td>\n",
       "      <td>913</td>\n",
       "      <td>2,452</td>\n",
       "    </tr>\n",
       "    <tr>\n",
       "      <th>1085</th>\n",
       "      <td>2019-03-31</td>\n",
       "      <td>O</td>\n",
       "      <td>구름 조금</td>\n",
       "      <td>3,061</td>\n",
       "      <td>2,563</td>\n",
       "      <td>111</td>\n",
       "      <td>387</td>\n",
       "      <td>53</td>\n",
       "      <td>-</td>\n",
       "      <td>1,357</td>\n",
       "      <td>4,418</td>\n",
       "    </tr>\n",
       "  </tbody>\n",
       "</table>\n",
       "</div>"
      ],
      "text/plain": [
       "              날짜 공휴일     날씨   유료합계     어른  청소년  어린이 외국인   단체   무료합계     총계\n",
       "1081  2019-03-27   X  구름 많음    504    464   10   30  21    -    613  1,117\n",
       "1082  2019-03-28   X  구름 많음    761    687   46   28  35  108    904  1,665\n",
       "1083  2019-03-29   X  구름 조금  1,644  1,447  120   77  14  188  1,226  2,870\n",
       "1084  2019-03-30   O     흐림  1,539  1,326   44  169  29  115    913  2,452\n",
       "1085  2019-03-31   O  구름 조금  3,061  2,563  111  387  53    -  1,357  4,418"
      ]
     },
     "execution_count": 7,
     "metadata": {},
     "output_type": "execute_result"
    }
   ],
   "source": [
    "df.tail()"
   ]
  },
  {
   "cell_type": "markdown",
   "id": "d3a6bb82",
   "metadata": {},
   "source": [
    "`head()`나 `tail()`메서드 안에 숫자를 입력하여 출력하는 데이터의 갯수를 지정할 수도 있습니다."
   ]
  },
  {
   "cell_type": "code",
   "execution_count": 8,
   "id": "751842cc",
   "metadata": {},
   "outputs": [
    {
     "data": {
      "text/html": [
       "<div>\n",
       "<style scoped>\n",
       "    .dataframe tbody tr th:only-of-type {\n",
       "        vertical-align: middle;\n",
       "    }\n",
       "\n",
       "    .dataframe tbody tr th {\n",
       "        vertical-align: top;\n",
       "    }\n",
       "\n",
       "    .dataframe thead th {\n",
       "        text-align: right;\n",
       "    }\n",
       "</style>\n",
       "<table border=\"1\" class=\"dataframe\">\n",
       "  <thead>\n",
       "    <tr style=\"text-align: right;\">\n",
       "      <th></th>\n",
       "      <th>날짜</th>\n",
       "      <th>공휴일</th>\n",
       "      <th>날씨</th>\n",
       "      <th>유료합계</th>\n",
       "      <th>어른</th>\n",
       "      <th>청소년</th>\n",
       "      <th>어린이</th>\n",
       "      <th>외국인</th>\n",
       "      <th>단체</th>\n",
       "      <th>무료합계</th>\n",
       "      <th>총계</th>\n",
       "    </tr>\n",
       "  </thead>\n",
       "  <tbody>\n",
       "    <tr>\n",
       "      <th>0</th>\n",
       "      <td>2016-01-01</td>\n",
       "      <td>O</td>\n",
       "      <td>구름 조금</td>\n",
       "      <td>3,359</td>\n",
       "      <td>2,799</td>\n",
       "      <td>141</td>\n",
       "      <td>419</td>\n",
       "      <td>47</td>\n",
       "      <td>0</td>\n",
       "      <td>1,023</td>\n",
       "      <td>4,382</td>\n",
       "    </tr>\n",
       "    <tr>\n",
       "      <th>1</th>\n",
       "      <td>2016-01-02</td>\n",
       "      <td>O</td>\n",
       "      <td>구름 많음</td>\n",
       "      <td>5,173</td>\n",
       "      <td>4,370</td>\n",
       "      <td>203</td>\n",
       "      <td>600</td>\n",
       "      <td>100</td>\n",
       "      <td>111</td>\n",
       "      <td>2,092</td>\n",
       "      <td>7,265</td>\n",
       "    </tr>\n",
       "    <tr>\n",
       "      <th>2</th>\n",
       "      <td>2016-01-03</td>\n",
       "      <td>O</td>\n",
       "      <td>구름 많음</td>\n",
       "      <td>3,008</td>\n",
       "      <td>2,571</td>\n",
       "      <td>128</td>\n",
       "      <td>309</td>\n",
       "      <td>91</td>\n",
       "      <td>0</td>\n",
       "      <td>1,549</td>\n",
       "      <td>4,557</td>\n",
       "    </tr>\n",
       "    <tr>\n",
       "      <th>3</th>\n",
       "      <td>2016-01-04</td>\n",
       "      <td>X</td>\n",
       "      <td>구름 많음</td>\n",
       "      <td>890</td>\n",
       "      <td>602</td>\n",
       "      <td>NaN</td>\n",
       "      <td>235</td>\n",
       "      <td>51</td>\n",
       "      <td>223</td>\n",
       "      <td>800</td>\n",
       "      <td>1,690</td>\n",
       "    </tr>\n",
       "    <tr>\n",
       "      <th>4</th>\n",
       "      <td>2016-01-05</td>\n",
       "      <td>X</td>\n",
       "      <td>구름 많음</td>\n",
       "      <td>416</td>\n",
       "      <td>319</td>\n",
       "      <td>35</td>\n",
       "      <td>62</td>\n",
       "      <td>43</td>\n",
       "      <td>47</td>\n",
       "      <td>840</td>\n",
       "      <td>1,256</td>\n",
       "    </tr>\n",
       "    <tr>\n",
       "      <th>5</th>\n",
       "      <td>2016-01-06</td>\n",
       "      <td>X</td>\n",
       "      <td>구름 조금</td>\n",
       "      <td>367</td>\n",
       "      <td>277</td>\n",
       "      <td>41</td>\n",
       "      <td>49</td>\n",
       "      <td>34</td>\n",
       "      <td>0</td>\n",
       "      <td>807</td>\n",
       "      <td>1,174</td>\n",
       "    </tr>\n",
       "    <tr>\n",
       "      <th>6</th>\n",
       "      <td>2016-01-07</td>\n",
       "      <td>X</td>\n",
       "      <td>맑음</td>\n",
       "      <td>309</td>\n",
       "      <td>250</td>\n",
       "      <td>23</td>\n",
       "      <td>36</td>\n",
       "      <td>13</td>\n",
       "      <td>0</td>\n",
       "      <td>735</td>\n",
       "      <td>1,044</td>\n",
       "    </tr>\n",
       "    <tr>\n",
       "      <th>7</th>\n",
       "      <td>2016-01-08</td>\n",
       "      <td>X</td>\n",
       "      <td>구름 조금</td>\n",
       "      <td>315</td>\n",
       "      <td>251</td>\n",
       "      <td>28</td>\n",
       "      <td>36</td>\n",
       "      <td>30</td>\n",
       "      <td>0</td>\n",
       "      <td>611</td>\n",
       "      <td>926</td>\n",
       "    </tr>\n",
       "    <tr>\n",
       "      <th>8</th>\n",
       "      <td>2016-01-09</td>\n",
       "      <td>O</td>\n",
       "      <td>구름 많음</td>\n",
       "      <td>1,418</td>\n",
       "      <td>1,227</td>\n",
       "      <td>78</td>\n",
       "      <td>113</td>\n",
       "      <td>47</td>\n",
       "      <td>80</td>\n",
       "      <td>1,222</td>\n",
       "      <td>2,640</td>\n",
       "    </tr>\n",
       "    <tr>\n",
       "      <th>9</th>\n",
       "      <td>2016-01-10</td>\n",
       "      <td>O</td>\n",
       "      <td>구름 많음</td>\n",
       "      <td>2,211</td>\n",
       "      <td>1,839</td>\n",
       "      <td>96</td>\n",
       "      <td>276</td>\n",
       "      <td>34</td>\n",
       "      <td>61</td>\n",
       "      <td>1,393</td>\n",
       "      <td>3,604</td>\n",
       "    </tr>\n",
       "  </tbody>\n",
       "</table>\n",
       "</div>"
      ],
      "text/plain": [
       "           날짜 공휴일     날씨   유료합계     어른  청소년  어린이  외국인   단체   무료합계     총계\n",
       "0  2016-01-01   O  구름 조금  3,359  2,799  141  419   47    0  1,023  4,382\n",
       "1  2016-01-02   O  구름 많음  5,173  4,370  203  600  100  111  2,092  7,265\n",
       "2  2016-01-03   O  구름 많음  3,008  2,571  128  309   91    0  1,549  4,557\n",
       "3  2016-01-04   X  구름 많음    890    602  NaN  235   51  223    800  1,690\n",
       "4  2016-01-05   X  구름 많음    416    319   35   62   43   47    840  1,256\n",
       "5  2016-01-06   X  구름 조금    367    277   41   49   34    0    807  1,174\n",
       "6  2016-01-07   X     맑음    309    250   23   36   13    0    735  1,044\n",
       "7  2016-01-08   X  구름 조금    315    251   28   36   30    0    611    926\n",
       "8  2016-01-09   O  구름 많음  1,418  1,227   78  113   47   80  1,222  2,640\n",
       "9  2016-01-10   O  구름 많음  2,211  1,839   96  276   34   61  1,393  3,604"
      ]
     },
     "execution_count": 8,
     "metadata": {},
     "output_type": "execute_result"
    }
   ],
   "source": [
    "df.head(10)"
   ]
  },
  {
   "cell_type": "markdown",
   "id": "af4f70fb",
   "metadata": {},
   "source": [
    "## 데이터 정보 확인: info()\n",
    "\n",
    "데이터가 몇 개의 값을 가지는지, 어떤 자료형으로 저장되어있는지를 확인하는데에는 `info()`를 활용할 수 있습니다."
   ]
  },
  {
   "cell_type": "code",
   "execution_count": 9,
   "id": "77fc1380",
   "metadata": {
    "id": "77fc1380",
    "scrolled": true
   },
   "outputs": [
    {
     "name": "stdout",
     "output_type": "stream",
     "text": [
      "<class 'pandas.core.frame.DataFrame'>\n",
      "RangeIndex: 1086 entries, 0 to 1085\n",
      "Data columns (total 11 columns):\n",
      " #   Column  Non-Null Count  Dtype \n",
      "---  ------  --------------  ----- \n",
      " 0   날짜      1086 non-null   object\n",
      " 1   공휴일     1086 non-null   object\n",
      " 2   날씨      946 non-null    object\n",
      " 3   유료합계    1086 non-null   object\n",
      " 4   어른      1086 non-null   object\n",
      " 5   청소년     1081 non-null   object\n",
      " 6   어린이     1086 non-null   object\n",
      " 7   외국인     1086 non-null   object\n",
      " 8   단체      1086 non-null   object\n",
      " 9   무료합계    1086 non-null   object\n",
      " 10  총계      1086 non-null   object\n",
      "dtypes: object(11)\n",
      "memory usage: 93.5+ KB\n"
     ]
    }
   ],
   "source": [
    "df.info()"
   ]
  },
  {
   "cell_type": "markdown",
   "id": "a03de565",
   "metadata": {},
   "source": [
    "## 컬럼 이름을 활용한 특정 컬럼 추출\n",
    "데이터프레임은 여러개의 시리즈가 열을 이루고 있는 자료형입니다. 대괄호를 사용하면 데이터프레임에서 **특정 시리즈(열)를 추출**할 수 있습니다. 예를 들어 데이터프레임 `df`에서 \"청소년\" 열을 추출하는 코드는 다음과 같습니다."
   ]
  },
  {
   "cell_type": "code",
   "execution_count": 10,
   "id": "0ba0e260",
   "metadata": {},
   "outputs": [
    {
     "data": {
      "text/plain": [
       "0       141\n",
       "1       203\n",
       "2       128\n",
       "3       NaN\n",
       "4        35\n",
       "       ... \n",
       "1081     10\n",
       "1082     46\n",
       "1083    120\n",
       "1084     44\n",
       "1085    111\n",
       "Name: 청소년, Length: 1086, dtype: object"
      ]
     },
     "execution_count": 10,
     "metadata": {},
     "output_type": "execute_result"
    }
   ],
   "source": [
    "df[\"청소년\"]"
   ]
  },
  {
   "cell_type": "markdown",
   "id": "2cb0d2d6",
   "metadata": {},
   "source": [
    "### [TODO] 미세먼지 데이터 `mm`에서 \"초미세먼지\" 컬럼을 추출하여 변수 `cho`에 저장하세요."
   ]
  },
  {
   "cell_type": "code",
   "execution_count": 11,
   "id": "06296d8e",
   "metadata": {},
   "outputs": [],
   "source": [
    "# None을 지우고 알맞은 코드를 입력하세요.\n",
    "cho=mm[\"초미세먼지\"]"
   ]
  },
  {
   "cell_type": "markdown",
   "id": "f19c8115",
   "metadata": {},
   "source": [
    "앞으로 특정 메서드에 위의 코드처럼 데이터프레임[\"컬럼이름\"] 형태의 문법이 사용됐다면 **해당 열에만 메서드를 적용**한다고 이해하시면 됩니다. 예를 들어 \"날씨\" 컬럼의 정보만을 알기 위해 `info()`메서드를 \"날씨\" 열에만 적용하려면 다음과 같이 활용할 수 있습니다."
   ]
  },
  {
   "cell_type": "code",
   "execution_count": 12,
   "id": "4597bacb",
   "metadata": {},
   "outputs": [
    {
     "name": "stdout",
     "output_type": "stream",
     "text": [
      "<class 'pandas.core.series.Series'>\n",
      "RangeIndex: 1086 entries, 0 to 1085\n",
      "Series name: 날씨\n",
      "Non-Null Count  Dtype \n",
      "--------------  ----- \n",
      "946 non-null    object\n",
      "dtypes: object(1)\n",
      "memory usage: 8.6+ KB\n"
     ]
    }
   ],
   "source": [
    "df[\"날씨\"].info()"
   ]
  },
  {
   "cell_type": "markdown",
   "id": "061207e9",
   "metadata": {},
   "source": [
    "## 데이터 숫자 세기: value_counts()\n",
    "`value_counts()`를 활용하면 컬럼에 어떤 값들이 몇 개씩 존재하는지 확인할 수 있습니다.\n",
    "\n",
    "예를 들어 `df`의 날씨 컬럼에는 날씨가 저장되어 있는데 해당 컬럼에 `value_counts()`를 활용하면 어떤 종류의 날씨들이 있는지, 각 날씨별로 몇 개의 데이터가 있는지 확인할 수 있습니다."
   ]
  },
  {
   "cell_type": "code",
   "execution_count": 13,
   "id": "ff02152f",
   "metadata": {},
   "outputs": [
    {
     "data": {
      "text/plain": [
       "날씨\n",
       "구름 많음    277\n",
       "구름 조금    236\n",
       "맑음       222\n",
       "비        101\n",
       "흐림       100\n",
       "눈          6\n",
       "눈/비        4\n",
       "Name: count, dtype: int64"
      ]
     },
     "execution_count": 13,
     "metadata": {},
     "output_type": "execute_result"
    }
   ],
   "source": [
    "df[\"날씨\"].value_counts()"
   ]
  },
  {
   "cell_type": "code",
   "execution_count": null,
   "id": "2789f8c9",
   "metadata": {},
   "outputs": [],
   "source": []
  }
 ],
 "metadata": {
  "colab": {
   "provenance": [],
   "toc_visible": true
  },
  "kernelspec": {
   "display_name": "tora",
   "language": "python",
   "name": "tora"
  },
  "language_info": {
   "codemirror_mode": {
    "name": "ipython",
    "version": 3
   },
   "file_extension": ".py",
   "mimetype": "text/x-python",
   "name": "python",
   "nbconvert_exporter": "python",
   "pygments_lexer": "ipython3",
   "version": "3.12.7"
  }
 },
 "nbformat": 4,
 "nbformat_minor": 5
}

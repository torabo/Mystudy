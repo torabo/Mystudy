{
 "cells": [
  {
   "cell_type": "markdown",
   "id": "691e95bd",
   "metadata": {},
   "source": [
    "# [실습4] 데이터 요약하기\n",
    "\n",
    "## 데이터 불러오기\n",
    "\n",
    "지난 실습에서 데이터 변환을 통해 \"요일\", \"날씨\" 컬럼을 알아보기 쉽게 변환하였습니다. 지난 실습을 통해 정제된 데이터를 불러옵니다."
   ]
  },
  {
   "cell_type": "code",
   "execution_count": 1,
   "id": "2327fca0",
   "metadata": {},
   "outputs": [
    {
     "data": {
      "text/html": [
       "<div>\n",
       "<style scoped>\n",
       "    .dataframe tbody tr th:only-of-type {\n",
       "        vertical-align: middle;\n",
       "    }\n",
       "\n",
       "    .dataframe tbody tr th {\n",
       "        vertical-align: top;\n",
       "    }\n",
       "\n",
       "    .dataframe thead th {\n",
       "        text-align: right;\n",
       "    }\n",
       "</style>\n",
       "<table border=\"1\" class=\"dataframe\">\n",
       "  <thead>\n",
       "    <tr style=\"text-align: right;\">\n",
       "      <th></th>\n",
       "      <th>날짜</th>\n",
       "      <th>공휴일</th>\n",
       "      <th>날씨</th>\n",
       "      <th>유료합계</th>\n",
       "      <th>어른</th>\n",
       "      <th>청소년</th>\n",
       "      <th>어린이</th>\n",
       "      <th>외국인</th>\n",
       "      <th>단체</th>\n",
       "      <th>무료합계</th>\n",
       "      <th>총계</th>\n",
       "      <th>연</th>\n",
       "      <th>월</th>\n",
       "      <th>일</th>\n",
       "      <th>요일</th>\n",
       "    </tr>\n",
       "  </thead>\n",
       "  <tbody>\n",
       "    <tr>\n",
       "      <th>0</th>\n",
       "      <td>2016-01-01</td>\n",
       "      <td>O</td>\n",
       "      <td>구름 조금</td>\n",
       "      <td>3359</td>\n",
       "      <td>2799</td>\n",
       "      <td>141.0</td>\n",
       "      <td>419</td>\n",
       "      <td>47</td>\n",
       "      <td>0</td>\n",
       "      <td>1023</td>\n",
       "      <td>4382</td>\n",
       "      <td>2016</td>\n",
       "      <td>1</td>\n",
       "      <td>1</td>\n",
       "      <td>금</td>\n",
       "    </tr>\n",
       "    <tr>\n",
       "      <th>1</th>\n",
       "      <td>2016-01-02</td>\n",
       "      <td>O</td>\n",
       "      <td>구름 많음</td>\n",
       "      <td>5173</td>\n",
       "      <td>4370</td>\n",
       "      <td>203.0</td>\n",
       "      <td>600</td>\n",
       "      <td>100</td>\n",
       "      <td>111</td>\n",
       "      <td>2092</td>\n",
       "      <td>7265</td>\n",
       "      <td>2016</td>\n",
       "      <td>1</td>\n",
       "      <td>2</td>\n",
       "      <td>토</td>\n",
       "    </tr>\n",
       "    <tr>\n",
       "      <th>2</th>\n",
       "      <td>2016-01-03</td>\n",
       "      <td>O</td>\n",
       "      <td>구름 많음</td>\n",
       "      <td>3008</td>\n",
       "      <td>2571</td>\n",
       "      <td>128.0</td>\n",
       "      <td>309</td>\n",
       "      <td>91</td>\n",
       "      <td>0</td>\n",
       "      <td>1549</td>\n",
       "      <td>4557</td>\n",
       "      <td>2016</td>\n",
       "      <td>1</td>\n",
       "      <td>3</td>\n",
       "      <td>일</td>\n",
       "    </tr>\n",
       "    <tr>\n",
       "      <th>3</th>\n",
       "      <td>2016-01-04</td>\n",
       "      <td>X</td>\n",
       "      <td>구름 많음</td>\n",
       "      <td>890</td>\n",
       "      <td>602</td>\n",
       "      <td>NaN</td>\n",
       "      <td>235</td>\n",
       "      <td>51</td>\n",
       "      <td>223</td>\n",
       "      <td>800</td>\n",
       "      <td>1690</td>\n",
       "      <td>2016</td>\n",
       "      <td>1</td>\n",
       "      <td>4</td>\n",
       "      <td>월</td>\n",
       "    </tr>\n",
       "    <tr>\n",
       "      <th>4</th>\n",
       "      <td>2016-01-05</td>\n",
       "      <td>X</td>\n",
       "      <td>구름 많음</td>\n",
       "      <td>416</td>\n",
       "      <td>319</td>\n",
       "      <td>35.0</td>\n",
       "      <td>62</td>\n",
       "      <td>43</td>\n",
       "      <td>47</td>\n",
       "      <td>840</td>\n",
       "      <td>1256</td>\n",
       "      <td>2016</td>\n",
       "      <td>1</td>\n",
       "      <td>5</td>\n",
       "      <td>화</td>\n",
       "    </tr>\n",
       "  </tbody>\n",
       "</table>\n",
       "</div>"
      ],
      "text/plain": [
       "           날짜 공휴일     날씨  유료합계    어른    청소년  어린이  외국인   단체  무료합계    총계     연  \\\n",
       "0  2016-01-01   O  구름 조금  3359  2799  141.0  419   47    0  1023  4382  2016   \n",
       "1  2016-01-02   O  구름 많음  5173  4370  203.0  600  100  111  2092  7265  2016   \n",
       "2  2016-01-03   O  구름 많음  3008  2571  128.0  309   91    0  1549  4557  2016   \n",
       "3  2016-01-04   X  구름 많음   890   602    NaN  235   51  223   800  1690  2016   \n",
       "4  2016-01-05   X  구름 많음   416   319   35.0   62   43   47   840  1256  2016   \n",
       "\n",
       "   월  일 요일  \n",
       "0  1  1  금  \n",
       "1  1  2  토  \n",
       "2  1  3  일  \n",
       "3  1  4  월  \n",
       "4  1  5  화  "
      ]
     },
     "execution_count": 1,
     "metadata": {},
     "output_type": "execute_result"
    }
   ],
   "source": [
    "import numpy as np\n",
    "import pandas as pd\n",
    "\n",
    "df=pd.read_csv(\"./data/seoul_park03.csv\")\n",
    "mm=pd.read_csv(\"./data/misemunji.csv\")\n",
    "\n",
    "df.head()"
   ]
  },
  {
   "cell_type": "markdown",
   "id": "f10ccd2e",
   "metadata": {},
   "source": [
    "## 데이터 통계값 확인: mean(), min(), max(), median()\n",
    "\n",
    "데이터의 통계값을 확인하기 위해 각종 집계함수(`mean()`, `min()`, `max()`, `median()` 등)를 사용할 수 있습니다. 예를들어 `mean()`을 활용해 \"어른\" 컬럼의 평균값을 구하려면 다음과 같이 사용할 수 있습니다."
   ]
  },
  {
   "cell_type": "code",
   "execution_count": 2,
   "id": "HwwjuuBgenf5",
   "metadata": {
    "colab": {
     "base_uri": "https://localhost:8080/"
    },
    "id": "HwwjuuBgenf5",
    "outputId": "63d77978-5d84-43cd-a31a-0b83fff8443f"
   },
   "outputs": [
    {
     "data": {
      "text/plain": [
       "np.float64(3568.5073664825045)"
      ]
     },
     "execution_count": 2,
     "metadata": {},
     "output_type": "execute_result"
    }
   ],
   "source": [
    "df[\"어른\"].mean()"
   ]
  },
  {
   "cell_type": "markdown",
   "id": "8acff4c1",
   "metadata": {},
   "source": [
    "전체 일차의 어른 입장객 수의 평균을 구할 수 있습니다. 이번엔 총 입장객 수(\"총계\")가 가장 적은 날의 입장객 수를 알아보도록 하겠습니다."
   ]
  },
  {
   "cell_type": "code",
   "execution_count": 3,
   "id": "9ba514d4",
   "metadata": {},
   "outputs": [
    {
     "data": {
      "text/plain": [
       "np.int64(2)"
      ]
     },
     "execution_count": 3,
     "metadata": {},
     "output_type": "execute_result"
    }
   ],
   "source": [
    "df[\"총계\"].min()"
   ]
  },
  {
   "cell_type": "markdown",
   "id": "74e43e2f",
   "metadata": {},
   "source": [
    "총 인원이 2명만 입장한 날이 있다는 사실을 알 수 있습니다. 여담이지만 해당 날짜인 2017년 3월 28일은 조류독감으로 인해 폐쇄되었던 서울대공원의 재개장을 알리는 언론보도가 나온 날짜로 재개장을 위한 입장 및 집계 시스템의 내부 테스트 정도로 유추해볼 수 있습니다.\n",
    "\n",
    "### [TODO] 집계함수를 사용해 미세먼지가 가장 높은 날의 수치를 변수 `badair`에 저장합니다.\n",
    "* \"미세먼지\" 컬럼 값이 가장 높은 날의 수치를 저장합니다.\n",
    "* 최대값을 구하는 집계함수는 `max()` 입니다."
   ]
  },
  {
   "cell_type": "code",
   "execution_count": 4,
   "id": "018a3768",
   "metadata": {},
   "outputs": [
    {
     "data": {
      "text/html": [
       "<div>\n",
       "<style scoped>\n",
       "    .dataframe tbody tr th:only-of-type {\n",
       "        vertical-align: middle;\n",
       "    }\n",
       "\n",
       "    .dataframe tbody tr th {\n",
       "        vertical-align: top;\n",
       "    }\n",
       "\n",
       "    .dataframe thead th {\n",
       "        text-align: right;\n",
       "    }\n",
       "</style>\n",
       "<table border=\"1\" class=\"dataframe\">\n",
       "  <thead>\n",
       "    <tr style=\"text-align: right;\">\n",
       "      <th></th>\n",
       "      <th>날짜</th>\n",
       "      <th>미세먼지</th>\n",
       "      <th>초미세먼지</th>\n",
       "      <th>오존</th>\n",
       "      <th>이산화질소</th>\n",
       "      <th>일산화탄소</th>\n",
       "      <th>아황산가스</th>\n",
       "    </tr>\n",
       "  </thead>\n",
       "  <tbody>\n",
       "    <tr>\n",
       "      <th>0</th>\n",
       "      <td>20160101</td>\n",
       "      <td>68</td>\n",
       "      <td>45</td>\n",
       "      <td>0.006</td>\n",
       "      <td>0.047</td>\n",
       "      <td>1.0</td>\n",
       "      <td>0.006</td>\n",
       "    </tr>\n",
       "    <tr>\n",
       "      <th>1</th>\n",
       "      <td>20160102</td>\n",
       "      <td>51</td>\n",
       "      <td>31</td>\n",
       "      <td>0.009</td>\n",
       "      <td>0.044</td>\n",
       "      <td>0.7</td>\n",
       "      <td>0.006</td>\n",
       "    </tr>\n",
       "    <tr>\n",
       "      <th>2</th>\n",
       "      <td>20160103</td>\n",
       "      <td>96</td>\n",
       "      <td>58</td>\n",
       "      <td>0.013</td>\n",
       "      <td>0.049</td>\n",
       "      <td>0.9</td>\n",
       "      <td>0.007</td>\n",
       "    </tr>\n",
       "    <tr>\n",
       "      <th>3</th>\n",
       "      <td>20160104</td>\n",
       "      <td>74</td>\n",
       "      <td>47</td>\n",
       "      <td>0.025</td>\n",
       "      <td>0.025</td>\n",
       "      <td>0.6</td>\n",
       "      <td>0.006</td>\n",
       "    </tr>\n",
       "    <tr>\n",
       "      <th>4</th>\n",
       "      <td>20160105</td>\n",
       "      <td>32</td>\n",
       "      <td>16</td>\n",
       "      <td>0.016</td>\n",
       "      <td>0.025</td>\n",
       "      <td>0.4</td>\n",
       "      <td>0.006</td>\n",
       "    </tr>\n",
       "  </tbody>\n",
       "</table>\n",
       "</div>"
      ],
      "text/plain": [
       "         날짜  미세먼지  초미세먼지     오존  이산화질소  일산화탄소  아황산가스\n",
       "0  20160101    68     45  0.006  0.047    1.0  0.006\n",
       "1  20160102    51     31  0.009  0.044    0.7  0.006\n",
       "2  20160103    96     58  0.013  0.049    0.9  0.007\n",
       "3  20160104    74     47  0.025  0.025    0.6  0.006\n",
       "4  20160105    32     16  0.016  0.025    0.4  0.006"
      ]
     },
     "execution_count": 4,
     "metadata": {},
     "output_type": "execute_result"
    }
   ],
   "source": [
    "# 변수 mm에는 미세먼지 데이터가 저장되어 있습니다.\n",
    "mm.head()"
   ]
  },
  {
   "cell_type": "code",
   "execution_count": 6,
   "id": "17a1c26d",
   "metadata": {},
   "outputs": [
    {
     "data": {
      "text/plain": [
       "np.int64(198)"
      ]
     },
     "execution_count": 6,
     "metadata": {},
     "output_type": "execute_result"
    }
   ],
   "source": [
    "# None을 지우고 알맞은 코드를 입력하세요.\n",
    "badair= mm[\"미세먼지\"].max()"
   ]
  },
  {
   "cell_type": "markdown",
   "id": "1c22b642",
   "metadata": {},
   "source": [
    "## 데이터 전체 통계: describe()\n",
    "\n",
    "위에서 배운 집계함수를 활용하면 내가 원하는 통계값을 확인할 수 있지만, 때로는 전체 통계값을 보고 이를 통해 데이터의 분석 방향을 결정하기도 합니다. 이를 위해 데이터프레임의 다양한 통계값을 정리해서 보여주는 `describe()`를 사용합니다.\n",
    "\n",
    "`describe()`는 숫자형 데이터들로 이루어진 컬럼들의 데이터의 갯수(count), 평균(mean), 표준편차(std), 최소값(min), 사분위수(25/50/75%), 최대값(max)를 보여줍니다."
   ]
  },
  {
   "cell_type": "code",
   "execution_count": 7,
   "id": "0f42b7db",
   "metadata": {},
   "outputs": [
    {
     "data": {
      "text/html": [
       "<div>\n",
       "<style scoped>\n",
       "    .dataframe tbody tr th:only-of-type {\n",
       "        vertical-align: middle;\n",
       "    }\n",
       "\n",
       "    .dataframe tbody tr th {\n",
       "        vertical-align: top;\n",
       "    }\n",
       "\n",
       "    .dataframe thead th {\n",
       "        text-align: right;\n",
       "    }\n",
       "</style>\n",
       "<table border=\"1\" class=\"dataframe\">\n",
       "  <thead>\n",
       "    <tr style=\"text-align: right;\">\n",
       "      <th></th>\n",
       "      <th>유료합계</th>\n",
       "      <th>어른</th>\n",
       "      <th>청소년</th>\n",
       "      <th>어린이</th>\n",
       "      <th>외국인</th>\n",
       "      <th>단체</th>\n",
       "      <th>무료합계</th>\n",
       "      <th>총계</th>\n",
       "      <th>연</th>\n",
       "      <th>월</th>\n",
       "      <th>일</th>\n",
       "    </tr>\n",
       "  </thead>\n",
       "  <tbody>\n",
       "    <tr>\n",
       "      <th>count</th>\n",
       "      <td>1086.000000</td>\n",
       "      <td>1086.000000</td>\n",
       "      <td>1081.000000</td>\n",
       "      <td>1086.000000</td>\n",
       "      <td>1086.000000</td>\n",
       "      <td>1086.000000</td>\n",
       "      <td>1086.000000</td>\n",
       "      <td>1086.000000</td>\n",
       "      <td>1086.000000</td>\n",
       "      <td>1086.000000</td>\n",
       "      <td>1086.000000</td>\n",
       "    </tr>\n",
       "    <tr>\n",
       "      <th>mean</th>\n",
       "      <td>4595.651934</td>\n",
       "      <td>3568.507366</td>\n",
       "      <td>463.038853</td>\n",
       "      <td>550.260589</td>\n",
       "      <td>75.399632</td>\n",
       "      <td>892.831492</td>\n",
       "      <td>2090.390424</td>\n",
       "      <td>6686.042357</td>\n",
       "      <td>2017.177716</td>\n",
       "      <td>6.438306</td>\n",
       "      <td>15.670350</td>\n",
       "    </tr>\n",
       "    <tr>\n",
       "      <th>std</th>\n",
       "      <td>6461.199603</td>\n",
       "      <td>5456.322438</td>\n",
       "      <td>1424.486882</td>\n",
       "      <td>1013.065306</td>\n",
       "      <td>103.030042</td>\n",
       "      <td>2155.583046</td>\n",
       "      <td>2299.475934</td>\n",
       "      <td>8469.956231</td>\n",
       "      <td>0.980313</td>\n",
       "      <td>3.415790</td>\n",
       "      <td>8.817452</td>\n",
       "    </tr>\n",
       "    <tr>\n",
       "      <th>min</th>\n",
       "      <td>0.000000</td>\n",
       "      <td>0.000000</td>\n",
       "      <td>0.000000</td>\n",
       "      <td>0.000000</td>\n",
       "      <td>0.000000</td>\n",
       "      <td>0.000000</td>\n",
       "      <td>2.000000</td>\n",
       "      <td>2.000000</td>\n",
       "      <td>2016.000000</td>\n",
       "      <td>1.000000</td>\n",
       "      <td>1.000000</td>\n",
       "    </tr>\n",
       "    <tr>\n",
       "      <th>25%</th>\n",
       "      <td>606.750000</td>\n",
       "      <td>462.500000</td>\n",
       "      <td>24.000000</td>\n",
       "      <td>43.000000</td>\n",
       "      <td>19.000000</td>\n",
       "      <td>0.000000</td>\n",
       "      <td>667.500000</td>\n",
       "      <td>1322.250000</td>\n",
       "      <td>2016.000000</td>\n",
       "      <td>3.000000</td>\n",
       "      <td>8.000000</td>\n",
       "    </tr>\n",
       "    <tr>\n",
       "      <th>50%</th>\n",
       "      <td>1697.000000</td>\n",
       "      <td>1282.000000</td>\n",
       "      <td>80.000000</td>\n",
       "      <td>150.000000</td>\n",
       "      <td>43.000000</td>\n",
       "      <td>73.000000</td>\n",
       "      <td>1182.000000</td>\n",
       "      <td>3030.000000</td>\n",
       "      <td>2017.000000</td>\n",
       "      <td>6.000000</td>\n",
       "      <td>16.000000</td>\n",
       "    </tr>\n",
       "    <tr>\n",
       "      <th>75%</th>\n",
       "      <td>5130.500000</td>\n",
       "      <td>3390.750000</td>\n",
       "      <td>298.000000</td>\n",
       "      <td>604.000000</td>\n",
       "      <td>87.000000</td>\n",
       "      <td>691.500000</td>\n",
       "      <td>2867.750000</td>\n",
       "      <td>8146.500000</td>\n",
       "      <td>2018.000000</td>\n",
       "      <td>9.000000</td>\n",
       "      <td>23.000000</td>\n",
       "    </tr>\n",
       "    <tr>\n",
       "      <th>max</th>\n",
       "      <td>40219.000000</td>\n",
       "      <td>38511.000000</td>\n",
       "      <td>17345.000000</td>\n",
       "      <td>20277.000000</td>\n",
       "      <td>1174.000000</td>\n",
       "      <td>18420.000000</td>\n",
       "      <td>22789.000000</td>\n",
       "      <td>58688.000000</td>\n",
       "      <td>2019.000000</td>\n",
       "      <td>12.000000</td>\n",
       "      <td>31.000000</td>\n",
       "    </tr>\n",
       "  </tbody>\n",
       "</table>\n",
       "</div>"
      ],
      "text/plain": [
       "               유료합계            어른           청소년           어린이          외국인  \\\n",
       "count   1086.000000   1086.000000   1081.000000   1086.000000  1086.000000   \n",
       "mean    4595.651934   3568.507366    463.038853    550.260589    75.399632   \n",
       "std     6461.199603   5456.322438   1424.486882   1013.065306   103.030042   \n",
       "min        0.000000      0.000000      0.000000      0.000000     0.000000   \n",
       "25%      606.750000    462.500000     24.000000     43.000000    19.000000   \n",
       "50%     1697.000000   1282.000000     80.000000    150.000000    43.000000   \n",
       "75%     5130.500000   3390.750000    298.000000    604.000000    87.000000   \n",
       "max    40219.000000  38511.000000  17345.000000  20277.000000  1174.000000   \n",
       "\n",
       "                 단체          무료합계            총계            연            월  \\\n",
       "count   1086.000000   1086.000000   1086.000000  1086.000000  1086.000000   \n",
       "mean     892.831492   2090.390424   6686.042357  2017.177716     6.438306   \n",
       "std     2155.583046   2299.475934   8469.956231     0.980313     3.415790   \n",
       "min        0.000000      2.000000      2.000000  2016.000000     1.000000   \n",
       "25%        0.000000    667.500000   1322.250000  2016.000000     3.000000   \n",
       "50%       73.000000   1182.000000   3030.000000  2017.000000     6.000000   \n",
       "75%      691.500000   2867.750000   8146.500000  2018.000000     9.000000   \n",
       "max    18420.000000  22789.000000  58688.000000  2019.000000    12.000000   \n",
       "\n",
       "                 일  \n",
       "count  1086.000000  \n",
       "mean     15.670350  \n",
       "std       8.817452  \n",
       "min       1.000000  \n",
       "25%       8.000000  \n",
       "50%      16.000000  \n",
       "75%      23.000000  \n",
       "max      31.000000  "
      ]
     },
     "execution_count": 7,
     "metadata": {},
     "output_type": "execute_result"
    }
   ],
   "source": [
    "df.describe()"
   ]
  },
  {
   "cell_type": "markdown",
   "id": "babe383b",
   "metadata": {},
   "source": [
    "`describe()`를 사용해 우리는 입장객의 수가 가장 많았던 날은 58,688명이었다는 것(\"총계\" 컬럼의 max값), 평균적으로 어른, 청소년, 어린이, 외국인 순으로 입장객의 수가 많았다는 것(각 컬럼의 mean값 비교) 등 다양한 정보를 얻을 수 있습니다.\n",
    "\n",
    "## 데이터 그룹화: groupby()\n",
    "\n",
    "다음은 데이터를 그룹으로 묶어서 확인할 수 있는 `groupby()`입니다. `groupby()`를 사용하면 특정 기준에 따라 데이터를 정리해서 분석할 수 있습니다. \n",
    "예를 들어 서울대공원 데이터를 통해서 날씨에 따른 입장객의 수가 궁금할 때, 우리는 `groupby()`를 사용해서 \"날씨\"를 기준으로 \"총계\"값의 평균을 구할 수 있습니다. "
   ]
  },
  {
   "cell_type": "code",
   "execution_count": 8,
   "id": "_Ykvp8SpNEcW",
   "metadata": {
    "colab": {
     "base_uri": "https://localhost:8080/"
    },
    "id": "_Ykvp8SpNEcW",
    "outputId": "02c5a712-10db-4687-cbb7-9423767c5272"
   },
   "outputs": [
    {
     "data": {
      "text/plain": [
       "날씨\n",
       "구름 많음    6234.844765\n",
       "구름 조금    7409.122881\n",
       "눈/비      3038.603604\n",
       "맑음       7756.225225\n",
       "흐림       6056.450000\n",
       "Name: 총계, dtype: float64"
      ]
     },
     "execution_count": 8,
     "metadata": {},
     "output_type": "execute_result"
    }
   ],
   "source": [
    "df.groupby(\"날씨\")[\"총계\"].mean()"
   ]
  },
  {
   "cell_type": "markdown",
   "id": "b7e349ae",
   "metadata": {},
   "source": [
    "예상대로 **날씨가 맑음일 때 가장 평균 입장객 수가 많고, 눈/비일 때 가장 적은 것**을 확인할 수 있습니다. 더 나아가 **날씨가 맑을때와 눈/비가 올 때의 입장객 수가 수치적으로 2배가 넘게 차이가 난다는 것**은 물론 **구름의 많고적음은 입장객의 수에 큰 영향을 끼치지 않는다는 사실**까지 알 수 있습니다. \n",
    "\n",
    "이렇게 `groupby()`를 사용하면 데이터를 그룹별로 분할하고 각 그룹에 대한 통계량을 확인하여 특정 기준에 따른 데이터의 추세를 확인할 수 있습니다.\n",
    "\n",
    "이 데이터를 분할하는 기준은 한 개 이상이 될 수도 있습니다. 앞서 날씨에 따라 입장객의 총 수를 확인하였는데, 입장객의 수에 큰 영향을 미치는 또 하나의 요인은 바로 공휴일 여부입니다. `groupby()`에서 그룹화 기준이 되는 컬럼을 \"날씨\"와 \"공휴일\" 2개의 컬럼으로 설정하면 전체 데이터를 날씨에 따라서 그룹으로 한번 묶고, 각 날씨별 그룹 안에서 다시 공휴일 여부에 따라 두 분류로 데이터를 분류합니다."
   ]
  },
  {
   "cell_type": "code",
   "execution_count": 9,
   "id": "1e3b63df",
   "metadata": {
    "colab": {
     "base_uri": "https://localhost:8080/",
     "height": 449
    },
    "id": "1e3b63df",
    "outputId": "46fb2809-0cca-4891-e5ab-1b3b51b80b76"
   },
   "outputs": [
    {
     "data": {
      "text/plain": [
       "날씨     공휴일\n",
       "구름 많음  O      12994.262500\n",
       "       X       3489.903553\n",
       "구름 조금  O      14797.581081\n",
       "       X       4034.148148\n",
       "눈/비    O       4239.027778\n",
       "       X       2462.400000\n",
       "맑음     O      14658.260274\n",
       "       X       4374.691275\n",
       "흐림     O       9374.957447\n",
       "       X       3113.622642\n",
       "Name: 총계, dtype: float64"
      ]
     },
     "execution_count": 9,
     "metadata": {},
     "output_type": "execute_result"
    }
   ],
   "source": [
    "df.groupby([\"날씨\",\"공휴일\"])[\"총계\"].mean()"
   ]
  },
  {
   "cell_type": "markdown",
   "id": "101e147e",
   "metadata": {},
   "source": [
    "날씨에 따라 묶었던 데이터를 공휴일 여부에 따라서 데이터를 한번 더 분류했더니 좀 더 자세한 정보들을 알 수 있습니다. **공휴일이 아닌 날의 경우 날씨에 따라 입장객의 수 차이가 그리 크지 않다는 사실**을 알 수 있습니다. 또한 **날씨가 맑음이거나 구름일 때에는 공휴일 여부에 입장객의 수가 따라 월등히 차이가 나지만 눈/비 일때는 오히려 날씨에 따른 입장객 수의 차이가 크지 않음**을 알 수 있습니다.\n",
    "\n",
    "`groupby()`를 활용해 2개 이상의 컬럼을 확인하는 것 역시 가능합니다. 이 경우 집계 결과가 데이터프레임으로 출력됩니다.\n"
   ]
  },
  {
   "cell_type": "code",
   "execution_count": 10,
   "id": "9e54dee5",
   "metadata": {},
   "outputs": [
    {
     "data": {
      "text/html": [
       "<div>\n",
       "<style scoped>\n",
       "    .dataframe tbody tr th:only-of-type {\n",
       "        vertical-align: middle;\n",
       "    }\n",
       "\n",
       "    .dataframe tbody tr th {\n",
       "        vertical-align: top;\n",
       "    }\n",
       "\n",
       "    .dataframe thead th {\n",
       "        text-align: right;\n",
       "    }\n",
       "</style>\n",
       "<table border=\"1\" class=\"dataframe\">\n",
       "  <thead>\n",
       "    <tr style=\"text-align: right;\">\n",
       "      <th></th>\n",
       "      <th></th>\n",
       "      <th>어른</th>\n",
       "      <th>어린이</th>\n",
       "    </tr>\n",
       "    <tr>\n",
       "      <th>날씨</th>\n",
       "      <th>공휴일</th>\n",
       "      <th></th>\n",
       "      <th></th>\n",
       "    </tr>\n",
       "  </thead>\n",
       "  <tbody>\n",
       "    <tr>\n",
       "      <th rowspan=\"2\" valign=\"top\">구름 많음</th>\n",
       "      <th>O</th>\n",
       "      <td>8279.325000</td>\n",
       "      <td>1152.375000</td>\n",
       "    </tr>\n",
       "    <tr>\n",
       "      <th>X</th>\n",
       "      <td>1366.106599</td>\n",
       "      <td>244.639594</td>\n",
       "    </tr>\n",
       "    <tr>\n",
       "      <th rowspan=\"2\" valign=\"top\">구름 조금</th>\n",
       "      <th>O</th>\n",
       "      <td>9388.608108</td>\n",
       "      <td>1254.202703</td>\n",
       "    </tr>\n",
       "    <tr>\n",
       "      <th>X</th>\n",
       "      <td>1556.111111</td>\n",
       "      <td>283.037037</td>\n",
       "    </tr>\n",
       "    <tr>\n",
       "      <th rowspan=\"2\" valign=\"top\">눈/비</th>\n",
       "      <th>O</th>\n",
       "      <td>2472.111111</td>\n",
       "      <td>358.277778</td>\n",
       "    </tr>\n",
       "    <tr>\n",
       "      <th>X</th>\n",
       "      <td>903.000000</td>\n",
       "      <td>451.253333</td>\n",
       "    </tr>\n",
       "    <tr>\n",
       "      <th rowspan=\"2\" valign=\"top\">맑음</th>\n",
       "      <th>O</th>\n",
       "      <td>9243.287671</td>\n",
       "      <td>1141.273973</td>\n",
       "    </tr>\n",
       "    <tr>\n",
       "      <th>X</th>\n",
       "      <td>1507.610738</td>\n",
       "      <td>298.335570</td>\n",
       "    </tr>\n",
       "    <tr>\n",
       "      <th rowspan=\"2\" valign=\"top\">흐림</th>\n",
       "      <th>O</th>\n",
       "      <td>5857.063830</td>\n",
       "      <td>779.212766</td>\n",
       "    </tr>\n",
       "    <tr>\n",
       "      <th>X</th>\n",
       "      <td>1320.698113</td>\n",
       "      <td>331.981132</td>\n",
       "    </tr>\n",
       "  </tbody>\n",
       "</table>\n",
       "</div>"
      ],
      "text/plain": [
       "                    어른          어린이\n",
       "날씨    공휴일                          \n",
       "구름 많음 O    8279.325000  1152.375000\n",
       "      X    1366.106599   244.639594\n",
       "구름 조금 O    9388.608108  1254.202703\n",
       "      X    1556.111111   283.037037\n",
       "눈/비   O    2472.111111   358.277778\n",
       "      X     903.000000   451.253333\n",
       "맑음    O    9243.287671  1141.273973\n",
       "      X    1507.610738   298.335570\n",
       "흐림    O    5857.063830   779.212766\n",
       "      X    1320.698113   331.981132"
      ]
     },
     "execution_count": 10,
     "metadata": {},
     "output_type": "execute_result"
    }
   ],
   "source": [
    "df.groupby([\"날씨\",\"공휴일\"])[[\"어른\", \"어린이\"]].mean()"
   ]
  },
  {
   "cell_type": "markdown",
   "id": "9f083bad",
   "metadata": {},
   "source": [
    "### [TODO] 목요일이면서 공휴일인 날짜의 어른 입장객 수 최대값을 변수 `thursday`에 저장하세요.\n",
    "* `groupby()`를 사용해 \"요일\" 컬럼과 \"공휴일\" 컬럼으로 데이터를 묶을 수 있습니다.\n",
    "* 최대값을 구하기 위한 집계함수는 `max()` 입니다."
   ]
  },
  {
   "cell_type": "code",
   "execution_count": 11,
   "id": "8999c1e4",
   "metadata": {
    "scrolled": true
   },
   "outputs": [
    {
     "data": {
      "text/plain": [
       "요일  공휴일\n",
       "금   O      25824\n",
       "    X      10467\n",
       "목   O      38511\n",
       "    X      12233\n",
       "수   O      19887\n",
       "    X      10322\n",
       "월   O      26358\n",
       "    X      14566\n",
       "일   O      28943\n",
       "토   O      28592\n",
       "화   O      19727\n",
       "    X      13436\n",
       "Name: 어른, dtype: int64"
      ]
     },
     "execution_count": 11,
     "metadata": {},
     "output_type": "execute_result"
    }
   ],
   "source": [
    "# groupby를 활용하여 \"요일\", \"공휴일\" 컬럼으로 데이터를 묶고 \"어른\"입장객 수 최대값을 확인합니다.\n",
    "df.groupby(['요일','공휴일'])[\"어른\"].max()"
   ]
  },
  {
   "cell_type": "code",
   "execution_count": null,
   "id": "8eb9e130",
   "metadata": {},
   "outputs": [
    {
     "ename": "KeyError",
     "evalue": "'O'",
     "output_type": "error",
     "traceback": [
      "\u001b[0;31m---------------------------------------------------------------------------\u001b[0m",
      "\u001b[0;31mKeyError\u001b[0m                                  Traceback (most recent call last)",
      "File \u001b[0;32m/opt/anaconda3/envs/tora/lib/python3.12/site-packages/pandas/core/indexes/base.py:3805\u001b[0m, in \u001b[0;36mIndex.get_loc\u001b[0;34m(self, key)\u001b[0m\n\u001b[1;32m   3804\u001b[0m \u001b[38;5;28;01mtry\u001b[39;00m:\n\u001b[0;32m-> 3805\u001b[0m     \u001b[38;5;28;01mreturn\u001b[39;00m \u001b[38;5;28;43mself\u001b[39;49m\u001b[38;5;241;43m.\u001b[39;49m\u001b[43m_engine\u001b[49m\u001b[38;5;241;43m.\u001b[39;49m\u001b[43mget_loc\u001b[49m\u001b[43m(\u001b[49m\u001b[43mcasted_key\u001b[49m\u001b[43m)\u001b[49m\n\u001b[1;32m   3806\u001b[0m \u001b[38;5;28;01mexcept\u001b[39;00m \u001b[38;5;167;01mKeyError\u001b[39;00m \u001b[38;5;28;01mas\u001b[39;00m err:\n",
      "File \u001b[0;32mindex.pyx:167\u001b[0m, in \u001b[0;36mpandas._libs.index.IndexEngine.get_loc\u001b[0;34m()\u001b[0m\n",
      "File \u001b[0;32mindex.pyx:196\u001b[0m, in \u001b[0;36mpandas._libs.index.IndexEngine.get_loc\u001b[0;34m()\u001b[0m\n",
      "File \u001b[0;32mpandas/_libs/hashtable_class_helper.pxi:7081\u001b[0m, in \u001b[0;36mpandas._libs.hashtable.PyObjectHashTable.get_item\u001b[0;34m()\u001b[0m\n",
      "File \u001b[0;32mpandas/_libs/hashtable_class_helper.pxi:7089\u001b[0m, in \u001b[0;36mpandas._libs.hashtable.PyObjectHashTable.get_item\u001b[0;34m()\u001b[0m\n",
      "\u001b[0;31mKeyError\u001b[0m: 'O'",
      "\nThe above exception was the direct cause of the following exception:\n",
      "\u001b[0;31mKeyError\u001b[0m                                  Traceback (most recent call last)",
      "Cell \u001b[0;32mIn[21], line 2\u001b[0m\n\u001b[1;32m      1\u001b[0m \u001b[38;5;66;03m# None을 지우고 공휴일인 목요일의 최대 어른 입장객 수를 저장하세요. \u001b[39;00m\n\u001b[0;32m----> 2\u001b[0m thursday\u001b[38;5;241m=\u001b[39m\u001b[43mdf\u001b[49m\u001b[38;5;241;43m.\u001b[39;49m\u001b[43mgroupby\u001b[49m\u001b[43m(\u001b[49m\u001b[43m[\u001b[49m\u001b[38;5;124;43m'\u001b[39;49m\u001b[38;5;124;43m요일\u001b[39;49m\u001b[38;5;124;43m'\u001b[39;49m\u001b[43m,\u001b[49m\u001b[38;5;124;43m'\u001b[39;49m\u001b[38;5;124;43m공휴일\u001b[39;49m\u001b[38;5;124;43m'\u001b[39;49m\u001b[43m]\u001b[49m\u001b[43m)\u001b[49m\u001b[43m[\u001b[49m\u001b[38;5;124;43m'\u001b[39;49m\u001b[38;5;124;43m어른\u001b[39;49m\u001b[38;5;124;43m'\u001b[39;49m\u001b[43m]\u001b[49m\u001b[38;5;241;43m.\u001b[39;49m\u001b[43mmax\u001b[49m\u001b[43m(\u001b[49m\u001b[43m)\u001b[49m\u001b[43m[\u001b[49m\u001b[38;5;124;43m'\u001b[39;49m\u001b[38;5;124;43mO\u001b[39;49m\u001b[38;5;124;43m'\u001b[39;49m\u001b[43m]\u001b[49m\n\u001b[1;32m      4\u001b[0m thursday\n",
      "File \u001b[0;32m/opt/anaconda3/envs/tora/lib/python3.12/site-packages/pandas/core/series.py:1121\u001b[0m, in \u001b[0;36mSeries.__getitem__\u001b[0;34m(self, key)\u001b[0m\n\u001b[1;32m   1118\u001b[0m     \u001b[38;5;28;01mreturn\u001b[39;00m \u001b[38;5;28mself\u001b[39m\u001b[38;5;241m.\u001b[39m_values[key]\n\u001b[1;32m   1120\u001b[0m \u001b[38;5;28;01melif\u001b[39;00m key_is_scalar:\n\u001b[0;32m-> 1121\u001b[0m     \u001b[38;5;28;01mreturn\u001b[39;00m \u001b[38;5;28;43mself\u001b[39;49m\u001b[38;5;241;43m.\u001b[39;49m\u001b[43m_get_value\u001b[49m\u001b[43m(\u001b[49m\u001b[43mkey\u001b[49m\u001b[43m)\u001b[49m\n\u001b[1;32m   1123\u001b[0m \u001b[38;5;66;03m# Convert generator to list before going through hashable part\u001b[39;00m\n\u001b[1;32m   1124\u001b[0m \u001b[38;5;66;03m# (We will iterate through the generator there to check for slices)\u001b[39;00m\n\u001b[1;32m   1125\u001b[0m \u001b[38;5;28;01mif\u001b[39;00m is_iterator(key):\n",
      "File \u001b[0;32m/opt/anaconda3/envs/tora/lib/python3.12/site-packages/pandas/core/series.py:1237\u001b[0m, in \u001b[0;36mSeries._get_value\u001b[0;34m(self, label, takeable)\u001b[0m\n\u001b[1;32m   1234\u001b[0m     \u001b[38;5;28;01mreturn\u001b[39;00m \u001b[38;5;28mself\u001b[39m\u001b[38;5;241m.\u001b[39m_values[label]\n\u001b[1;32m   1236\u001b[0m \u001b[38;5;66;03m# Similar to Index.get_value, but we do not fall back to positional\u001b[39;00m\n\u001b[0;32m-> 1237\u001b[0m loc \u001b[38;5;241m=\u001b[39m \u001b[38;5;28;43mself\u001b[39;49m\u001b[38;5;241;43m.\u001b[39;49m\u001b[43mindex\u001b[49m\u001b[38;5;241;43m.\u001b[39;49m\u001b[43mget_loc\u001b[49m\u001b[43m(\u001b[49m\u001b[43mlabel\u001b[49m\u001b[43m)\u001b[49m\n\u001b[1;32m   1239\u001b[0m \u001b[38;5;28;01mif\u001b[39;00m is_integer(loc):\n\u001b[1;32m   1240\u001b[0m     \u001b[38;5;28;01mreturn\u001b[39;00m \u001b[38;5;28mself\u001b[39m\u001b[38;5;241m.\u001b[39m_values[loc]\n",
      "File \u001b[0;32m/opt/anaconda3/envs/tora/lib/python3.12/site-packages/pandas/core/indexes/multi.py:3040\u001b[0m, in \u001b[0;36mMultiIndex.get_loc\u001b[0;34m(self, key)\u001b[0m\n\u001b[1;32m   3037\u001b[0m     \u001b[38;5;28;01mreturn\u001b[39;00m mask\n\u001b[1;32m   3039\u001b[0m \u001b[38;5;28;01mif\u001b[39;00m \u001b[38;5;129;01mnot\u001b[39;00m \u001b[38;5;28misinstance\u001b[39m(key, \u001b[38;5;28mtuple\u001b[39m):\n\u001b[0;32m-> 3040\u001b[0m     loc \u001b[38;5;241m=\u001b[39m \u001b[38;5;28;43mself\u001b[39;49m\u001b[38;5;241;43m.\u001b[39;49m\u001b[43m_get_level_indexer\u001b[49m\u001b[43m(\u001b[49m\u001b[43mkey\u001b[49m\u001b[43m,\u001b[49m\u001b[43m \u001b[49m\u001b[43mlevel\u001b[49m\u001b[38;5;241;43m=\u001b[39;49m\u001b[38;5;241;43m0\u001b[39;49m\u001b[43m)\u001b[49m\n\u001b[1;32m   3041\u001b[0m     \u001b[38;5;28;01mreturn\u001b[39;00m _maybe_to_slice(loc)\n\u001b[1;32m   3043\u001b[0m keylen \u001b[38;5;241m=\u001b[39m \u001b[38;5;28mlen\u001b[39m(key)\n",
      "File \u001b[0;32m/opt/anaconda3/envs/tora/lib/python3.12/site-packages/pandas/core/indexes/multi.py:3391\u001b[0m, in \u001b[0;36mMultiIndex._get_level_indexer\u001b[0;34m(self, key, level, indexer)\u001b[0m\n\u001b[1;32m   3388\u001b[0m         \u001b[38;5;28;01mreturn\u001b[39;00m \u001b[38;5;28mslice\u001b[39m(i, j, step)\n\u001b[1;32m   3390\u001b[0m \u001b[38;5;28;01melse\u001b[39;00m:\n\u001b[0;32m-> 3391\u001b[0m     idx \u001b[38;5;241m=\u001b[39m \u001b[38;5;28;43mself\u001b[39;49m\u001b[38;5;241;43m.\u001b[39;49m\u001b[43m_get_loc_single_level_index\u001b[49m\u001b[43m(\u001b[49m\u001b[43mlevel_index\u001b[49m\u001b[43m,\u001b[49m\u001b[43m \u001b[49m\u001b[43mkey\u001b[49m\u001b[43m)\u001b[49m\n\u001b[1;32m   3393\u001b[0m     \u001b[38;5;28;01mif\u001b[39;00m level \u001b[38;5;241m>\u001b[39m \u001b[38;5;241m0\u001b[39m \u001b[38;5;129;01mor\u001b[39;00m \u001b[38;5;28mself\u001b[39m\u001b[38;5;241m.\u001b[39m_lexsort_depth \u001b[38;5;241m==\u001b[39m \u001b[38;5;241m0\u001b[39m:\n\u001b[1;32m   3394\u001b[0m         \u001b[38;5;66;03m# Desired level is not sorted\u001b[39;00m\n\u001b[1;32m   3395\u001b[0m         \u001b[38;5;28;01mif\u001b[39;00m \u001b[38;5;28misinstance\u001b[39m(idx, \u001b[38;5;28mslice\u001b[39m):\n\u001b[1;32m   3396\u001b[0m             \u001b[38;5;66;03m# test_get_loc_partial_timestamp_multiindex\u001b[39;00m\n",
      "File \u001b[0;32m/opt/anaconda3/envs/tora/lib/python3.12/site-packages/pandas/core/indexes/multi.py:2980\u001b[0m, in \u001b[0;36mMultiIndex._get_loc_single_level_index\u001b[0;34m(self, level_index, key)\u001b[0m\n\u001b[1;32m   2978\u001b[0m     \u001b[38;5;28;01mreturn\u001b[39;00m \u001b[38;5;241m-\u001b[39m\u001b[38;5;241m1\u001b[39m\n\u001b[1;32m   2979\u001b[0m \u001b[38;5;28;01melse\u001b[39;00m:\n\u001b[0;32m-> 2980\u001b[0m     \u001b[38;5;28;01mreturn\u001b[39;00m \u001b[43mlevel_index\u001b[49m\u001b[38;5;241;43m.\u001b[39;49m\u001b[43mget_loc\u001b[49m\u001b[43m(\u001b[49m\u001b[43mkey\u001b[49m\u001b[43m)\u001b[49m\n",
      "File \u001b[0;32m/opt/anaconda3/envs/tora/lib/python3.12/site-packages/pandas/core/indexes/base.py:3812\u001b[0m, in \u001b[0;36mIndex.get_loc\u001b[0;34m(self, key)\u001b[0m\n\u001b[1;32m   3807\u001b[0m     \u001b[38;5;28;01mif\u001b[39;00m \u001b[38;5;28misinstance\u001b[39m(casted_key, \u001b[38;5;28mslice\u001b[39m) \u001b[38;5;129;01mor\u001b[39;00m (\n\u001b[1;32m   3808\u001b[0m         \u001b[38;5;28misinstance\u001b[39m(casted_key, abc\u001b[38;5;241m.\u001b[39mIterable)\n\u001b[1;32m   3809\u001b[0m         \u001b[38;5;129;01mand\u001b[39;00m \u001b[38;5;28many\u001b[39m(\u001b[38;5;28misinstance\u001b[39m(x, \u001b[38;5;28mslice\u001b[39m) \u001b[38;5;28;01mfor\u001b[39;00m x \u001b[38;5;129;01min\u001b[39;00m casted_key)\n\u001b[1;32m   3810\u001b[0m     ):\n\u001b[1;32m   3811\u001b[0m         \u001b[38;5;28;01mraise\u001b[39;00m InvalidIndexError(key)\n\u001b[0;32m-> 3812\u001b[0m     \u001b[38;5;28;01mraise\u001b[39;00m \u001b[38;5;167;01mKeyError\u001b[39;00m(key) \u001b[38;5;28;01mfrom\u001b[39;00m \u001b[38;5;21;01merr\u001b[39;00m\n\u001b[1;32m   3813\u001b[0m \u001b[38;5;28;01mexcept\u001b[39;00m \u001b[38;5;167;01mTypeError\u001b[39;00m:\n\u001b[1;32m   3814\u001b[0m     \u001b[38;5;66;03m# If we have a listlike key, _check_indexing_error will raise\u001b[39;00m\n\u001b[1;32m   3815\u001b[0m     \u001b[38;5;66;03m#  InvalidIndexError. Otherwise we fall through and re-raise\u001b[39;00m\n\u001b[1;32m   3816\u001b[0m     \u001b[38;5;66;03m#  the TypeError.\u001b[39;00m\n\u001b[1;32m   3817\u001b[0m     \u001b[38;5;28mself\u001b[39m\u001b[38;5;241m.\u001b[39m_check_indexing_error(key)\n",
      "\u001b[0;31mKeyError\u001b[0m: 'O'"
     ]
    }
   ],
   "source": [
    "# None을 지우고 공휴일인 목요일의 최대 어른 입장객 수를 저장하세요. \n",
    "thursday=df.groupby(['요일','공휴일'])['어른'].max()['목']['O']\n",
    "\n",
    "\n",
    "thursday\n",
    "\n",
    "#직접 숫자입력해야지 넘어가진다\n"
   ]
  },
  {
   "cell_type": "code",
   "execution_count": null,
   "id": "4a587290",
   "metadata": {},
   "outputs": [],
   "source": []
  }
 ],
 "metadata": {
  "colab": {
   "provenance": [],
   "toc_visible": true
  },
  "kernelspec": {
   "display_name": "tora",
   "language": "python",
   "name": "tora"
  },
  "language_info": {
   "codemirror_mode": {
    "name": "ipython",
    "version": 3
   },
   "file_extension": ".py",
   "mimetype": "text/x-python",
   "name": "python",
   "nbconvert_exporter": "python",
   "pygments_lexer": "ipython3",
   "version": "3.12.7"
  }
 },
 "nbformat": 4,
 "nbformat_minor": 5
}

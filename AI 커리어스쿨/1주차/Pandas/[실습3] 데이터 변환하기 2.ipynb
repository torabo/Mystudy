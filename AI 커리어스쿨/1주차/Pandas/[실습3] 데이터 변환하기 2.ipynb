{
 "cells": [
  {
   "cell_type": "markdown",
   "id": "1aac73df",
   "metadata": {
    "id": "1aac73df"
   },
   "source": [
    "# [실습3] 데이터 변환하기 2\n",
    "\n",
    "## 데이터 불러오기\n",
    "\n",
    "이전 실습에서 우리는 데이터의 형 변환을 통해 숫자와 날짜 데이터들의 형태를 변환해주고, 날짜 데이터를 활용해 연, 월, 일, 요일 컬럼을 생성하였습니다. 지난 실습을 통해 정제된 데이터를 불러옵니다."
   ]
  },
  {
   "cell_type": "code",
   "execution_count": 1,
   "id": "7ba6344d",
   "metadata": {},
   "outputs": [
    {
     "data": {
      "text/html": [
       "<div>\n",
       "<style scoped>\n",
       "    .dataframe tbody tr th:only-of-type {\n",
       "        vertical-align: middle;\n",
       "    }\n",
       "\n",
       "    .dataframe tbody tr th {\n",
       "        vertical-align: top;\n",
       "    }\n",
       "\n",
       "    .dataframe thead th {\n",
       "        text-align: right;\n",
       "    }\n",
       "</style>\n",
       "<table border=\"1\" class=\"dataframe\">\n",
       "  <thead>\n",
       "    <tr style=\"text-align: right;\">\n",
       "      <th></th>\n",
       "      <th>날짜</th>\n",
       "      <th>공휴일</th>\n",
       "      <th>날씨</th>\n",
       "      <th>유료합계</th>\n",
       "      <th>어른</th>\n",
       "      <th>청소년</th>\n",
       "      <th>어린이</th>\n",
       "      <th>외국인</th>\n",
       "      <th>단체</th>\n",
       "      <th>무료합계</th>\n",
       "      <th>총계</th>\n",
       "      <th>연</th>\n",
       "      <th>월</th>\n",
       "      <th>일</th>\n",
       "      <th>요일</th>\n",
       "    </tr>\n",
       "  </thead>\n",
       "  <tbody>\n",
       "    <tr>\n",
       "      <th>0</th>\n",
       "      <td>2016-01-01</td>\n",
       "      <td>O</td>\n",
       "      <td>구름 조금</td>\n",
       "      <td>3359</td>\n",
       "      <td>2799</td>\n",
       "      <td>141.0</td>\n",
       "      <td>419</td>\n",
       "      <td>47</td>\n",
       "      <td>0</td>\n",
       "      <td>1023</td>\n",
       "      <td>4382</td>\n",
       "      <td>2016</td>\n",
       "      <td>1</td>\n",
       "      <td>1</td>\n",
       "      <td>4</td>\n",
       "    </tr>\n",
       "    <tr>\n",
       "      <th>1</th>\n",
       "      <td>2016-01-02</td>\n",
       "      <td>O</td>\n",
       "      <td>구름 많음</td>\n",
       "      <td>5173</td>\n",
       "      <td>4370</td>\n",
       "      <td>203.0</td>\n",
       "      <td>600</td>\n",
       "      <td>100</td>\n",
       "      <td>111</td>\n",
       "      <td>2092</td>\n",
       "      <td>7265</td>\n",
       "      <td>2016</td>\n",
       "      <td>1</td>\n",
       "      <td>2</td>\n",
       "      <td>5</td>\n",
       "    </tr>\n",
       "    <tr>\n",
       "      <th>2</th>\n",
       "      <td>2016-01-03</td>\n",
       "      <td>O</td>\n",
       "      <td>구름 많음</td>\n",
       "      <td>3008</td>\n",
       "      <td>2571</td>\n",
       "      <td>128.0</td>\n",
       "      <td>309</td>\n",
       "      <td>91</td>\n",
       "      <td>0</td>\n",
       "      <td>1549</td>\n",
       "      <td>4557</td>\n",
       "      <td>2016</td>\n",
       "      <td>1</td>\n",
       "      <td>3</td>\n",
       "      <td>6</td>\n",
       "    </tr>\n",
       "    <tr>\n",
       "      <th>3</th>\n",
       "      <td>2016-01-04</td>\n",
       "      <td>X</td>\n",
       "      <td>구름 많음</td>\n",
       "      <td>890</td>\n",
       "      <td>602</td>\n",
       "      <td>NaN</td>\n",
       "      <td>235</td>\n",
       "      <td>51</td>\n",
       "      <td>223</td>\n",
       "      <td>800</td>\n",
       "      <td>1690</td>\n",
       "      <td>2016</td>\n",
       "      <td>1</td>\n",
       "      <td>4</td>\n",
       "      <td>0</td>\n",
       "    </tr>\n",
       "    <tr>\n",
       "      <th>4</th>\n",
       "      <td>2016-01-05</td>\n",
       "      <td>X</td>\n",
       "      <td>구름 많음</td>\n",
       "      <td>416</td>\n",
       "      <td>319</td>\n",
       "      <td>35.0</td>\n",
       "      <td>62</td>\n",
       "      <td>43</td>\n",
       "      <td>47</td>\n",
       "      <td>840</td>\n",
       "      <td>1256</td>\n",
       "      <td>2016</td>\n",
       "      <td>1</td>\n",
       "      <td>5</td>\n",
       "      <td>1</td>\n",
       "    </tr>\n",
       "  </tbody>\n",
       "</table>\n",
       "</div>"
      ],
      "text/plain": [
       "           날짜 공휴일     날씨  유료합계    어른    청소년  어린이  외국인   단체  무료합계    총계     연  \\\n",
       "0  2016-01-01   O  구름 조금  3359  2799  141.0  419   47    0  1023  4382  2016   \n",
       "1  2016-01-02   O  구름 많음  5173  4370  203.0  600  100  111  2092  7265  2016   \n",
       "2  2016-01-03   O  구름 많음  3008  2571  128.0  309   91    0  1549  4557  2016   \n",
       "3  2016-01-04   X  구름 많음   890   602    NaN  235   51  223   800  1690  2016   \n",
       "4  2016-01-05   X  구름 많음   416   319   35.0   62   43   47   840  1256  2016   \n",
       "\n",
       "   월  일  요일  \n",
       "0  1  1   4  \n",
       "1  1  2   5  \n",
       "2  1  3   6  \n",
       "3  1  4   0  \n",
       "4  1  5   1  "
      ]
     },
     "execution_count": 1,
     "metadata": {},
     "output_type": "execute_result"
    }
   ],
   "source": [
    "import numpy as np\n",
    "import pandas as pd\n",
    "\n",
    "df=pd.read_csv(\"./data/seoul_park02.csv\")\n",
    "df.head()"
   ]
  },
  {
   "cell_type": "markdown",
   "id": "57f83e53",
   "metadata": {},
   "source": [
    "요일 컬럼이 글자가 아닌 숫자로 기록되어 있는 것을 확인할 수 있습니다. 이대로도 데이터 분석을 진행할 수는 있지만, 알아보기가 조금 어렵습니다. \n",
    "\n",
    "## 열 전체 변환: map()\n",
    "\n",
    "이 숫자들은 0부터 6까지, 월요일부터 일요일까지 숫자가 매칭되어있습니다. 이 정보를 활용하여 \"요일\" 컬럼 전체 데이터를 변환하고자 `map()`을 사용합니다.\n",
    "\n",
    "먼저 `map()`에 변환 정보를 입력해주기 위해 숫자를 키로, 그에 대응하는 요일 글자를 값으로 가지는 `week` 딕셔너리를 생성합니다."
   ]
  },
  {
   "cell_type": "code",
   "execution_count": 2,
   "id": "be3a92a3",
   "metadata": {
    "id": "be3a92a3"
   },
   "outputs": [],
   "source": [
    "week={0:'월', 1:'화', 2:'수', 3:'목', 4:'금', 5:'토',6:'일'}"
   ]
  },
  {
   "cell_type": "markdown",
   "id": "2272b83c",
   "metadata": {},
   "source": [
    "이제 `map()`과 요일 정보가 담긴 `week` 딕셔너리를 사용해서 `df`의 \"요일\" 컬럼을 변환합니다."
   ]
  },
  {
   "cell_type": "code",
   "execution_count": 3,
   "id": "1f941439",
   "metadata": {
    "id": "1f941439"
   },
   "outputs": [
    {
     "data": {
      "text/html": [
       "<div>\n",
       "<style scoped>\n",
       "    .dataframe tbody tr th:only-of-type {\n",
       "        vertical-align: middle;\n",
       "    }\n",
       "\n",
       "    .dataframe tbody tr th {\n",
       "        vertical-align: top;\n",
       "    }\n",
       "\n",
       "    .dataframe thead th {\n",
       "        text-align: right;\n",
       "    }\n",
       "</style>\n",
       "<table border=\"1\" class=\"dataframe\">\n",
       "  <thead>\n",
       "    <tr style=\"text-align: right;\">\n",
       "      <th></th>\n",
       "      <th>날짜</th>\n",
       "      <th>공휴일</th>\n",
       "      <th>날씨</th>\n",
       "      <th>유료합계</th>\n",
       "      <th>어른</th>\n",
       "      <th>청소년</th>\n",
       "      <th>어린이</th>\n",
       "      <th>외국인</th>\n",
       "      <th>단체</th>\n",
       "      <th>무료합계</th>\n",
       "      <th>총계</th>\n",
       "      <th>연</th>\n",
       "      <th>월</th>\n",
       "      <th>일</th>\n",
       "      <th>요일</th>\n",
       "    </tr>\n",
       "  </thead>\n",
       "  <tbody>\n",
       "    <tr>\n",
       "      <th>0</th>\n",
       "      <td>2016-01-01</td>\n",
       "      <td>O</td>\n",
       "      <td>구름 조금</td>\n",
       "      <td>3359</td>\n",
       "      <td>2799</td>\n",
       "      <td>141.0</td>\n",
       "      <td>419</td>\n",
       "      <td>47</td>\n",
       "      <td>0</td>\n",
       "      <td>1023</td>\n",
       "      <td>4382</td>\n",
       "      <td>2016</td>\n",
       "      <td>1</td>\n",
       "      <td>1</td>\n",
       "      <td>금</td>\n",
       "    </tr>\n",
       "    <tr>\n",
       "      <th>1</th>\n",
       "      <td>2016-01-02</td>\n",
       "      <td>O</td>\n",
       "      <td>구름 많음</td>\n",
       "      <td>5173</td>\n",
       "      <td>4370</td>\n",
       "      <td>203.0</td>\n",
       "      <td>600</td>\n",
       "      <td>100</td>\n",
       "      <td>111</td>\n",
       "      <td>2092</td>\n",
       "      <td>7265</td>\n",
       "      <td>2016</td>\n",
       "      <td>1</td>\n",
       "      <td>2</td>\n",
       "      <td>토</td>\n",
       "    </tr>\n",
       "    <tr>\n",
       "      <th>2</th>\n",
       "      <td>2016-01-03</td>\n",
       "      <td>O</td>\n",
       "      <td>구름 많음</td>\n",
       "      <td>3008</td>\n",
       "      <td>2571</td>\n",
       "      <td>128.0</td>\n",
       "      <td>309</td>\n",
       "      <td>91</td>\n",
       "      <td>0</td>\n",
       "      <td>1549</td>\n",
       "      <td>4557</td>\n",
       "      <td>2016</td>\n",
       "      <td>1</td>\n",
       "      <td>3</td>\n",
       "      <td>일</td>\n",
       "    </tr>\n",
       "    <tr>\n",
       "      <th>3</th>\n",
       "      <td>2016-01-04</td>\n",
       "      <td>X</td>\n",
       "      <td>구름 많음</td>\n",
       "      <td>890</td>\n",
       "      <td>602</td>\n",
       "      <td>NaN</td>\n",
       "      <td>235</td>\n",
       "      <td>51</td>\n",
       "      <td>223</td>\n",
       "      <td>800</td>\n",
       "      <td>1690</td>\n",
       "      <td>2016</td>\n",
       "      <td>1</td>\n",
       "      <td>4</td>\n",
       "      <td>월</td>\n",
       "    </tr>\n",
       "    <tr>\n",
       "      <th>4</th>\n",
       "      <td>2016-01-05</td>\n",
       "      <td>X</td>\n",
       "      <td>구름 많음</td>\n",
       "      <td>416</td>\n",
       "      <td>319</td>\n",
       "      <td>35.0</td>\n",
       "      <td>62</td>\n",
       "      <td>43</td>\n",
       "      <td>47</td>\n",
       "      <td>840</td>\n",
       "      <td>1256</td>\n",
       "      <td>2016</td>\n",
       "      <td>1</td>\n",
       "      <td>5</td>\n",
       "      <td>화</td>\n",
       "    </tr>\n",
       "  </tbody>\n",
       "</table>\n",
       "</div>"
      ],
      "text/plain": [
       "           날짜 공휴일     날씨  유료합계    어른    청소년  어린이  외국인   단체  무료합계    총계     연  \\\n",
       "0  2016-01-01   O  구름 조금  3359  2799  141.0  419   47    0  1023  4382  2016   \n",
       "1  2016-01-02   O  구름 많음  5173  4370  203.0  600  100  111  2092  7265  2016   \n",
       "2  2016-01-03   O  구름 많음  3008  2571  128.0  309   91    0  1549  4557  2016   \n",
       "3  2016-01-04   X  구름 많음   890   602    NaN  235   51  223   800  1690  2016   \n",
       "4  2016-01-05   X  구름 많음   416   319   35.0   62   43   47   840  1256  2016   \n",
       "\n",
       "   월  일 요일  \n",
       "0  1  1  금  \n",
       "1  1  2  토  \n",
       "2  1  3  일  \n",
       "3  1  4  월  \n",
       "4  1  5  화  "
      ]
     },
     "execution_count": 3,
     "metadata": {},
     "output_type": "execute_result"
    }
   ],
   "source": [
    "df['요일']=df['요일'].map(week)\n",
    "df.head()"
   ]
  },
  {
   "cell_type": "markdown",
   "id": "b13e7ce4",
   "metadata": {
    "colab": {
     "base_uri": "https://localhost:8080/",
     "height": 206
    },
    "id": "ee886f63",
    "outputId": "33d91a85-486a-4b26-881f-f022f80e8f6c",
    "scrolled": false
   },
   "source": [
    "요일 컬럼의 데이터들이 딕셔너리에 맞춰 변환된 것을 확인할 수 있습니다.\n",
    "\n",
    "## 데이터에 함수 적용: apply()\n",
    "\n",
    "이번엔 \"날씨\" 컬럼을 살펴보겠습니다."
   ]
  },
  {
   "cell_type": "code",
   "execution_count": 4,
   "id": "X17w5Ffet8wr",
   "metadata": {
    "colab": {
     "base_uri": "https://localhost:8080/"
    },
    "id": "X17w5Ffet8wr",
    "outputId": "702da8f7-94bb-49e5-9e31-c3200f0948c5"
   },
   "outputs": [
    {
     "data": {
      "text/plain": [
       "날씨\n",
       "구름 많음    277\n",
       "구름 조금    236\n",
       "맑음       222\n",
       "비        101\n",
       "흐림       100\n",
       "눈          6\n",
       "눈/비        4\n",
       "Name: count, dtype: int64"
      ]
     },
     "execution_count": 4,
     "metadata": {},
     "output_type": "execute_result"
    }
   ],
   "source": [
    "df['날씨'].value_counts()"
   ]
  },
  {
   "cell_type": "markdown",
   "id": "92f6c669",
   "metadata": {},
   "source": [
    "날씨 컬럼 데이터에는  '눈', '비', '눈/비' 가 있습니다. 날씨와 입장객수의 관계는 매우 밀접하지만, 이것은 어디까지나 날씨가 맑은지 흐린지가 중요할 뿐 비인지 눈인지는 크게 중요하지 않습니다. 그렇기 때문에 세 종류의 데이터를 모두 '눈/비'로 통일해서 합치고자 합니다.\n",
    "\n",
    "먼저 '눈', '비' 를 입력받으면 '눈/비'로 바꿔주는 함수를 선언합니다."
   ]
  },
  {
   "cell_type": "code",
   "execution_count": 5,
   "id": "677d35fa",
   "metadata": {
    "id": "677d35fa"
   },
   "outputs": [],
   "source": [
    "# 함수를 쓰는 방법\n",
    "def weather(e):\n",
    "    if e=='눈' or e=='비':\n",
    "        return '눈/비'\n",
    "    else:\n",
    "        return e"
   ]
  },
  {
   "cell_type": "markdown",
   "id": "cbe8acba",
   "metadata": {},
   "source": [
    "이제 이 함수를 컬럼 전체에 적용하기 위해 `apply()`를 사용합니다. `apply()`는 특정 컬럼 혹은 데이터프레임 전체에 특정 함수를 적용할 때 사용 가능합니다. \n",
    "\n",
    "`df`의 \"날씨\" 컬럼에 `weather` 함수를 적용하려면 아래와 같이 사용할 수 있습니다."
   ]
  },
  {
   "cell_type": "code",
   "execution_count": 6,
   "id": "7605147e",
   "metadata": {},
   "outputs": [],
   "source": [
    "df[\"날씨\"]=df[\"날씨\"].apply(weather)"
   ]
  },
  {
   "cell_type": "code",
   "execution_count": 7,
   "id": "ede00947",
   "metadata": {},
   "outputs": [
    {
     "data": {
      "text/plain": [
       "날씨\n",
       "구름 많음    277\n",
       "구름 조금    236\n",
       "맑음       222\n",
       "눈/비      111\n",
       "흐림       100\n",
       "Name: count, dtype: int64"
      ]
     },
     "execution_count": 7,
     "metadata": {},
     "output_type": "execute_result"
    }
   ],
   "source": [
    "df[\"날씨\"].value_counts()"
   ]
  },
  {
   "cell_type": "markdown",
   "id": "45f9ab4b",
   "metadata": {},
   "source": [
    "\"날짜\" 컬럼의 데이터에서 '눈', '비'가 '눈/비'로 통일되어 111개가 되었음을 확인할 수 있습니다.\n",
    "\n",
    "이렇게 원하는 함수를 정의해서 `apply()`를 활용해 적용하는 과정은 굉장히 많이 사용되게 됩니다. 하지만 다양한 변환이 필요할수록 매번 함수를 만들고 사용해야하고, 이는 코드를 지저분하게 만듭니다.\n",
    "\n",
    "파이썬에서는 이러한 문제를 해결하기 위해 일회용으로 사용할 함수를 정의하는데 유용한 **람다함수** 기능을 지원합니다. 람다함수를 사용하면 위에서 `weather()` 함수를 정의하는 과정을 생략하고 다음과 같이 사용할 수 있습니다."
   ]
  },
  {
   "cell_type": "code",
   "execution_count": 8,
   "id": "fc981c7f",
   "metadata": {
    "id": "fc981c7f"
   },
   "outputs": [],
   "source": [
    "# 람다함수 쓰는 방법\n",
    "df[\"날씨\"]=df[\"날씨\"].apply(lambda e : \"눈/비\" if e==\"눈\" or e==\"비\" else e)"
   ]
  },
  {
   "cell_type": "markdown",
   "id": "e1470412",
   "metadata": {},
   "source": [
    "### [TODO] 일차별 혼잡도 시리즈를 생성한 뒤 변수 `congestion`에 저장하세요.\n",
    "* `apply()`를 사용하세요.\n",
    "* \"총계\" 컬럼의 값이 8000 이상인 날은 \"혼잡\", 8000 미만인 날은 \"원활\" 로 합니다.\n",
    "* 평범하게 함수를 정의해도 되고, 람다함수를 활용해도 됩니다."
   ]
  },
  {
   "cell_type": "code",
   "execution_count": 9,
   "id": "42ebd4e3",
   "metadata": {},
   "outputs": [],
   "source": [
    "# None을 지우고 알맞은 코드를 입력하세요.\n",
    "congestion=df['총계'].apply(lambda x : '혼잡' if x >= 8000 else '원활')"
   ]
  }
 ],
 "metadata": {
  "colab": {
   "provenance": [],
   "toc_visible": true
  },
  "kernelspec": {
   "display_name": "tora",
   "language": "python",
   "name": "tora"
  },
  "language_info": {
   "codemirror_mode": {
    "name": "ipython",
    "version": 3
   },
   "file_extension": ".py",
   "mimetype": "text/x-python",
   "name": "python",
   "nbconvert_exporter": "python",
   "pygments_lexer": "ipython3",
   "version": "3.12.7"
  }
 },
 "nbformat": 4,
 "nbformat_minor": 5
}

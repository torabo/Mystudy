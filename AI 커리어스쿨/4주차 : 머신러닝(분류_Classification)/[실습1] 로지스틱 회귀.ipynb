{
 "cells": [
  {
   "cell_type": "code",
   "execution_count": 8,
   "metadata": {},
   "outputs": [],
   "source": [
    "#from data_plot import * Elice에서 따로 코딩해둔거라서 무시\n",
    "import warnings\n",
    "warnings.filterwarnings(action='ignore')\n",
    "\n",
    "import numpy as np\n",
    "from sklearn.linear_model import LogisticRegression\n",
    "\n",
    "from sklearn.model_selection import train_test_split\n",
    "\n",
    "# 데이터를 생성하고 반환하는 함수입니다.\n",
    "def load_data():\n",
    "    \n",
    "    np.random.seed(0)\n",
    "    \n",
    "    X = np.random.normal(size = 100)\n",
    "    y = (X > 0).astype(float)\n",
    "    X[X > 0] *= 5\n",
    "    X += .7 * np.random.normal(size = 100)\n",
    "    X = X[:, np.newaxis]\n",
    "    \n",
    "    train_X, test_X, train_y, test_y = train_test_split(X, y, test_size = 0.2, random_state = 100)\n",
    "    \n",
    "    return train_X, test_X, train_y, test_y"
   ]
  },
  {
   "cell_type": "code",
   "execution_count": 10,
   "metadata": {},
   "outputs": [
    {
     "name": "stdout",
     "output_type": "stream",
     "text": [
      "예측 결과 : [1. 0. 0. 0. 1. 0. 1. 0. 0. 1.]\n"
     ]
    }
   ],
   "source": [
    "\"\"\"\n",
    "1. 로지스틱 회귀 모델을 구현하고, \n",
    "   학습 결과를 확인할 수 있는 main() 함수를 완성합니다. \n",
    "   \n",
    "   Step01. 데이터를 불러옵니다.\n",
    "   \n",
    "   Step02. 로지스틱 회귀 모델을 정의합니다.\n",
    "   \n",
    "   Step03. 학습용 데이터로 로지스틱 회귀 모델을\n",
    "           학습시킵니다.\n",
    "   \n",
    "   Step04. 테스트용 데이터로 예측한 분류 결과를\n",
    "           확인합니다.\n",
    "\"\"\"\n",
    "def main():\n",
    "    \n",
    "    train_X, test_X, train_y, test_y = load_data()\n",
    "    \n",
    "    logistic_model = LogisticRegression()\n",
    "    \n",
    "    logistic_model.fit(train_X, train_y)\n",
    "    \n",
    "    predicted = logistic_model.predict(test_X)\n",
    "    \n",
    "    # 예측 결과 확인하기 \n",
    "    print(\"예측 결과 :\", predicted[:10])\n",
    "    \n",
    "    #plot_logistic_regression(logistic_model, train_X, train_y)\n",
    "    \n",
    "    return logistic_model\n",
    "\n",
    "if __name__ == \"__main__\":\n",
    "    main()\n"
   ]
  },
  {
   "cell_type": "code",
   "execution_count": null,
   "metadata": {},
   "outputs": [],
   "source": []
  }
 ],
 "metadata": {
  "kernelspec": {
   "display_name": "tora",
   "language": "python",
   "name": "tora"
  },
  "language_info": {
   "codemirror_mode": {
    "name": "ipython",
    "version": 3
   },
   "file_extension": ".py",
   "mimetype": "text/x-python",
   "name": "python",
   "nbconvert_exporter": "python",
   "pygments_lexer": "ipython3",
   "version": "3.12.7"
  }
 },
 "nbformat": 4,
 "nbformat_minor": 2
}

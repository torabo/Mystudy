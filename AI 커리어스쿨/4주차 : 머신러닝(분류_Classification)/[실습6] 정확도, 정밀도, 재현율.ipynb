{
 "cells": [
  {
   "cell_type": "code",
   "execution_count": 4,
   "metadata": {},
   "outputs": [
    {
     "name": "stdout",
     "output_type": "stream",
     "text": [
      "1. 혼동 행렬 :\n",
      " 예측         mafia  not mafia  All\n",
      "실제                              \n",
      "mafia          2          1    3\n",
      "not mafia      2          5    7\n",
      "All            4          6   10\n"
     ]
    }
   ],
   "source": [
    "import pandas as pd\n",
    "\n",
    "def main():\n",
    "    # 실제 값\n",
    "    y_true = pd.Series(\n",
    "        [\"not mafia\", \"not mafia\", \"mafia\", \"not mafia\", \"mafia\", \n",
    "        \"not mafia\", \"not mafia\", \"mafia\", \"not mafia\", \"not mafia\"]\n",
    "        )\n",
    "    # 예측된 값\n",
    "    y_pred = pd.Series(\n",
    "        [\"mafia\", \"mafia\", \"not mafia\", \"not mafia\", \"mafia\", \n",
    "        \"not mafia\", \"not mafia\", \"mafia\", \"not mafia\", \"not mafia\"]\n",
    "        )\n",
    "    \n",
    "    print(\"1. 혼동 행렬 :\\n\",pd.crosstab(y_true, y_pred, rownames=['실제'], colnames=['예측'], margins=True))\n",
    "    \n",
    "    \"\"\"\n",
    "    1. 실행 버튼을 클릭하여 \n",
    "       마피아(mafia)와 시민(not mafia)으로 분류된 혼동 행렬을 확인합니다.\n",
    "    \"\"\"\n",
    "main()\n",
    "    "
   ]
  },
  {
   "cell_type": "code",
   "execution_count": 10,
   "metadata": {},
   "outputs": [
    {
     "name": "stdout",
     "output_type": "stream",
     "text": [
      "1. 혼동 행렬 :\n",
      " 예측         mafia  not mafia  All\n",
      "실제                              \n",
      "mafia          2          1    3\n",
      "not mafia      2          5    7\n",
      "All            4          6   10\n",
      "\n",
      "accuracy :  0.7\n",
      "precision :  0.5\n",
      "recall :  0.6666666666666666\n"
     ]
    }
   ],
   "source": [
    "import pandas as pd\n",
    "\n",
    "def main():\n",
    "    # 실제 값\n",
    "    y_true = pd.Series(\n",
    "        [\"not mafia\", \"not mafia\", \"mafia\", \"not mafia\", \"mafia\", \n",
    "        \"not mafia\", \"not mafia\", \"mafia\", \"not mafia\", \"not mafia\"]\n",
    "        )\n",
    "    # 예측된 값\n",
    "    y_pred = pd.Series(\n",
    "        [\"mafia\", \"mafia\", \"not mafia\", \"not mafia\", \"mafia\", \n",
    "        \"not mafia\", \"not mafia\", \"mafia\", \"not mafia\", \"not mafia\"]\n",
    "        )\n",
    "    \n",
    "    print(\"1. 혼동 행렬 :\\n\",pd.crosstab(y_true, y_pred, rownames=['실제'], colnames=['예측'], margins=True))\n",
    "    \n",
    "    \n",
    "    \"\"\"\n",
    "    1. 실행 버튼을 클릭하여 \n",
    "       마피아(mafia)와 시민(not mafia)으로 분류된 혼동 행렬을 확인합니다.\n",
    "    \"\"\"\n",
    "    \n",
    "    \"\"\"\n",
    "    2. 실행 결과값을 토대로 \n",
    "       마피아를 제대로 분석했는 지에 대한 \n",
    "       accuracy, precision, recall을 구합니다.\n",
    "    \"\"\"\n",
    "    accuracy = (2+5)/10\n",
    "    \n",
    "    precision = 2/(2+2)\n",
    "    \n",
    "    recall = 2/3\n",
    "    \n",
    "    print(\"\\naccuracy : \", accuracy)\n",
    "    print(\"precision : \", precision)\n",
    "    print(\"recall : \", recall)\n",
    "    \n",
    "    return accuracy, precision, recall\n",
    "    \n",
    "if __name__ == \"__main__\":\n",
    "    main()"
   ]
  },
  {
   "cell_type": "code",
   "execution_count": null,
   "metadata": {},
   "outputs": [],
   "source": []
  }
 ],
 "metadata": {
  "kernelspec": {
   "display_name": "tora",
   "language": "python",
   "name": "tora"
  },
  "language_info": {
   "codemirror_mode": {
    "name": "ipython",
    "version": 3
   },
   "file_extension": ".py",
   "mimetype": "text/x-python",
   "name": "python",
   "nbconvert_exporter": "python",
   "pygments_lexer": "ipython3",
   "version": "3.12.7"
  }
 },
 "nbformat": 4,
 "nbformat_minor": 2
}

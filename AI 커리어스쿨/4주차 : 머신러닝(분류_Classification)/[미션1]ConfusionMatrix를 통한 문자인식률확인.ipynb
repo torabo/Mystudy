{
 "cells": [
  {
   "cell_type": "code",
   "execution_count": 1,
   "metadata": {},
   "outputs": [],
   "source": [
    "from sklearn.model_selection import train_test_split\n",
    "#from draw_image import draw_digit_images\n",
    "from sklearn.datasets import load_digits\n",
    "\n",
    "from sklearn.svm import SVC\n",
    "\n",
    "from sklearn.metrics import confusion_matrix\n",
    "from sklearn.metrics import recall_score\n",
    "from sklearn.metrics import precision_score\n",
    "from sklearn.metrics import accuracy_score\n",
    "\n",
    "import warnings\n",
    "warnings.filterwarnings(action = 'ignore')\n",
    "\n",
    "\"\"\"\n",
    "    1. digits 데이터를 불러오고,\n",
    "       학습을 위한 전처리를 진행하는 \n",
    "       load_data() 함수를 구현합니다.\n",
    "       \n",
    "       Step01. digits 데이터를 불러옵니다.\n",
    "       \n",
    "       Step02. 데이터를 학습용 데이터와 \n",
    "               테스트용 데이터로 분리합니다.\n",
    "               (train:80%, test:20%, random_state:100)\n",
    "\"\"\"\n",
    "def load_data():\n",
    "    X, y = load_digits(return_X_y= True)\n",
    "    train_X , test_X , train_y , test_y = train_test_split(X, y , test_size=0.2 , random_state= 100)\n",
    "    return train_X, test_X, train_y, test_y\n",
    "    \n",
    " "
   ]
  },
  {
   "cell_type": "code",
   "execution_count": 2,
   "metadata": {},
   "outputs": [],
   "source": [
    "   \n",
    "\"\"\"\n",
    "    2. SVM 분류기를 활용하여 \n",
    "       테스트 데이터에 대한 예측값을 반환하는 \n",
    "       SVM_clf() 함수를 구현합니다.\n",
    "\"\"\"\n",
    "def SVM_clf(train_X, test_X, train_y):\n",
    "    svm = SVC()\n",
    "    pred = svm.fit(train_X, train_y).predict(test_X)\n",
    "    return pred\n",
    "\n"
   ]
  },
  {
   "cell_type": "code",
   "execution_count": 13,
   "metadata": {},
   "outputs": [],
   "source": [
    "\n",
    "\"\"\"\n",
    "    3. 출력된 Confusion Matrix 를 통해 \n",
    "       인덱스 3의 precision과 recall, \n",
    "       그리고 전체 데이터에 대한 accuracy를 \n",
    "       계산하여 반환하는 cal_eval() 함수를 구현합니다.\n",
    "\n",
    "\"\"\"\n",
    "def cal_eval(test_y, pred):\n",
    "    index_3_precision = precision_score(test_y == 3, pred == 3 )\n",
    "    index_3_recall = recall_score(test_y == 3, pred == 3 )\n",
    "    accuracy = accuracy_score(test_y, pred)\n",
    "    \n",
    "    return index_3_precision, index_3_recall, accuracy\n"
   ]
  },
  {
   "cell_type": "code",
   "execution_count": 14,
   "metadata": {},
   "outputs": [
    {
     "name": "stdout",
     "output_type": "stream",
     "text": [
      "Confusion matrix results :\n",
      "\t- row : real(test_y) 0 ~ 9 label\n",
      "\t- column : predicted 0 ~ 9 label\n",
      "\n",
      "[[42  0  0  0  0  0  0  0  0  0]\n",
      " [ 0 32  0  0  0  0  0  0  0  0]\n",
      " [ 0  0 41  0  0  0  0  0  0  0]\n",
      " [ 0  0  0 32  0  0  0  0  0  0]\n",
      " [ 0  0  0  0 34  0  0  0  1  1]\n",
      " [ 0  0  0  0  0 35  0  0  0  0]\n",
      " [ 0  0  0  0  0  0 40  0  0  0]\n",
      " [ 0  0  0  0  0  0  0 39  0  0]\n",
      " [ 0  1  0  0  0  0  0  0 26  0]\n",
      " [ 0  0  0  0  0  0  0  0  0 36]]\n",
      "\n",
      "index 3의 recall : 1.000000\n",
      "index 3의 precision : 1.000000\n",
      "전체 accuracy : 0.991667\n"
     ]
    }
   ],
   "source": [
    "\n",
    "\"\"\"\n",
    "    4. 구현한 함수를 활용하여 다중 클래스 분류를 진행하고,\n",
    "       결과를 확인하기 위한 main() 함수를 구현합니다.\n",
    "\"\"\"\n",
    "def main():\n",
    "    \n",
    "    train_X, test_X, train_y, test_y = load_data()\n",
    "    \n",
    "    pred = SVM_clf(train_X, test_X= test_X, train_y= train_y)\n",
    "    \n",
    "    \n",
    "    # 학습된 모델로 digit data가 제대로 예측 됐는 지 \n",
    "    # 확인하기위한 confusion matrix를 호출합니다.\n",
    "    print(\"Confusion matrix results :\\n\\t- row : real(test_y) 0 ~ 9 label\\n\\t- column : predicted 0 ~ 9 label\\n\\n%s\\n\"  % confusion_matrix(test_y, pred))\n",
    "    \n",
    "    index_3_precision, index_3_recall, accuracy = cal_eval(test_y, pred)\n",
    "    \n",
    "    print(\"index 3의 recall : %f\" % index_3_recall)\n",
    "    print(\"index 3의 precision : %f\" % index_3_precision)\n",
    "    print(\"전체 accuracy : %f\" % accuracy)\n",
    "    \n",
    "\n",
    "if __name__ == \"__main__\":\n",
    "    main()"
   ]
  },
  {
   "cell_type": "code",
   "execution_count": null,
   "metadata": {},
   "outputs": [],
   "source": []
  }
 ],
 "metadata": {
  "kernelspec": {
   "display_name": "tora",
   "language": "python",
   "name": "tora"
  },
  "language_info": {
   "codemirror_mode": {
    "name": "ipython",
    "version": 3
   },
   "file_extension": ".py",
   "mimetype": "text/x-python",
   "name": "python",
   "nbconvert_exporter": "python",
   "pygments_lexer": "ipython3",
   "version": "3.12.7"
  }
 },
 "nbformat": 4,
 "nbformat_minor": 2
}

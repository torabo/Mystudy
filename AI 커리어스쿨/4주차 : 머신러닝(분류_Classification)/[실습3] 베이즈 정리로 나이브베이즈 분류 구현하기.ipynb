{
 "cells": [
  {
   "cell_type": "markdown",
   "metadata": {},
   "source": [
    "|       | 스팸 메일 | 정상 메일 | 개수 |\n",
    "|-------|-----------|-----------|------|\n",
    "| 확인  | 5         | 2         | 7    |\n",
    "| 나머지| 3         | 10        | 13   |\n",
    "| 개수  | 8         | 12        | 20   |"
   ]
  },
  {
   "cell_type": "code",
   "execution_count": 5,
   "metadata": {},
   "outputs": [
    {
     "name": "stdout",
     "output_type": "stream",
     "text": [
      "P(spam|confirm) =  0.7142857142857143 \n",
      "P(ham|confirm) =  0.2857142857142857 \n",
      "\n",
      "71.43 % 의 확률로 스팸 메일에 가깝습니다.\n"
     ]
    }
   ],
   "source": [
    "import numpy as np\n",
    "\n",
    "\"\"\"\n",
    "1. \"확인\" 이라는 키워드가 등장했을 때 \n",
    "    해당 메일이 스팸 메일인지 정상 메일인지\n",
    "    판별하기 위한 함수를 구현합니다.\n",
    "\"\"\"\n",
    "def bayes_theorem():\n",
    "    # 1. P(“스팸 메일”) 의 확률을 구하세요.\n",
    "    p_spam = 8/20\n",
    "    \n",
    "    # 2. P(“확인” | “스팸 메일”) 의 확률을 구하세요.\n",
    "    p_confirm_spam = 5/8\n",
    "    \n",
    "    # 3. P(“정상 메일”) 의 확률을 구하세요.\n",
    "    p_ham = 12/20\n",
    "    \n",
    "    # 4. P(“확인” | \"정상 메일\" ) 의 확률을 구하세요.\n",
    "    p_confirm_ham = 2/12\n",
    "    \n",
    "    # 5. P( \"스팸 메일\" | \"확인\" ) 의 확률을 구하세요.\n",
    "    #P('스팸 메일' | 확인') = P('확인'|스팸메일') * P(스팸 메일) / P('확인')\n",
    "    #p_spam_confirm = 5/7\n",
    "    p_spam_confirm = p_confirm_spam * p_spam / (7/20)\n",
    "    \n",
    "    # 6. P( \"정상 메일\" | \"확인\" ) 의 확률을 구하세요.\n",
    "    #P(정상메일 | 확인 ) = P(확인 | 정상메일) * P(정상메일) / P(확인)\n",
    "    # p_ham_confirm = 2/7\n",
    "    p_ham_confirm = p_confirm_ham * p_ham / (7/20)\n",
    "    \n",
    "    return p_spam_confirm, p_ham_confirm\n",
    "\n",
    "def main():\n",
    "    \n",
    "    p_spam_confirm, p_ham_confirm = bayes_theorem()\n",
    "    \n",
    "    print(\"P(spam|confirm) = \",p_spam_confirm, \"\\nP(ham|confirm) = \",p_ham_confirm, \"\\n\")\n",
    "        \n",
    "    # 두 값을 비교하여 확인 키워드가 스팸에 가까운지 정상 메일에 가까운지 확인합니다.\n",
    "    value = [p_spam_confirm, p_ham_confirm]\n",
    "    \n",
    "    if p_spam_confirm > p_ham_confirm:\n",
    "        print( round(value[0] * 100, 2), \"% 의 확률로 스팸 메일에 가깝습니다.\")\n",
    "    else :\n",
    "        print( round(value[1] * 100, 2), \"% 의 확률로 일반 메일에 가깝습니다.\")\n",
    "\n",
    "\n",
    "if __name__ == \"__main__\":\n",
    "    main()\n"
   ]
  },
  {
   "cell_type": "code",
   "execution_count": null,
   "metadata": {},
   "outputs": [],
   "source": []
  }
 ],
 "metadata": {
  "kernelspec": {
   "display_name": "tora",
   "language": "python",
   "name": "tora"
  },
  "language_info": {
   "codemirror_mode": {
    "name": "ipython",
    "version": 3
   },
   "file_extension": ".py",
   "mimetype": "text/x-python",
   "name": "python",
   "nbconvert_exporter": "python",
   "pygments_lexer": "ipython3",
   "version": "3.12.7"
  }
 },
 "nbformat": 4,
 "nbformat_minor": 2
}

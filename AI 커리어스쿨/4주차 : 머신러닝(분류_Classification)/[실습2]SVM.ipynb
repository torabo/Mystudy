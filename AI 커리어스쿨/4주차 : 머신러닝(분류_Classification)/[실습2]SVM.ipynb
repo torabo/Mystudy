{
 "cells": [
  {
   "cell_type": "code",
   "execution_count": 11,
   "metadata": {},
   "outputs": [],
   "source": [
    "import pandas as pd  \n",
    "import numpy as np  \n",
    "import matplotlib.pyplot as plt  \n",
    "\n",
    "import warnings\n",
    "warnings.filterwarnings(action='ignore')\n",
    "\n",
    "from sklearn.model_selection import train_test_split  \n",
    "from sklearn.svm import SVC\n",
    "from sklearn.metrics import classification_report, confusion_matrix \n",
    "\"\"\"\n",
    "1. data 폴더 내에 있는 dataset.csv파일을 불러오고, \n",
    "   학습용 데이터와 테스트용 데이터를 분리하여 \n",
    "   반환하는 함수를 구현합니다.\n",
    "   \n",
    "   Step01. pandas의 read_csv() 함수를 이용하여 \n",
    "           data 폴더 내에 있는 dataset.csv파일을\n",
    "           불러옵니다. \n",
    "   \n",
    "   Step02. 데이터 X와 y를 분리합니다.\n",
    "           데이터 폴더에 있는 dataset.csv 파일을\n",
    "           확인하고,\n",
    "           \n",
    "           X 데이터에는 'Class' 컬럼을 제외한 나머지 컬럼들을,\n",
    "           y 데이터에는 'Class' 컬럼을 분리하여 저장합니다.\n",
    "\"\"\"\n",
    "def load_data():\n",
    "    \n",
    "    data = pd.read_csv('./data/dataset.csv')\n",
    "    \n",
    "    X = data.drop(columns = 'Class' , axis = 1) # default == axis = 0\n",
    "    y = data['Class']\n",
    "    \n",
    "    train_X, test_X, train_y, test_y = train_test_split(X, y, test_size = 0.2, random_state = 0)\n",
    "    #print(X, y)\n",
    "    return train_X, test_X, train_y, test_y\n",
    "  "
   ]
  },
  {
   "cell_type": "code",
   "execution_count": 12,
   "metadata": {},
   "outputs": [
    {
     "name": "stdout",
     "output_type": "stream",
     "text": [
      "\n",
      "Confusion matrix : \n",
      " [[157   0]\n",
      " [  0 118]]\n",
      "\n",
      "Report : \n",
      "               precision    recall  f1-score   support\n",
      "\n",
      "           0       1.00      1.00      1.00       157\n",
      "           1       1.00      1.00      1.00       118\n",
      "\n",
      "    accuracy                           1.00       275\n",
      "   macro avg       1.00      1.00      1.00       275\n",
      "weighted avg       1.00      1.00      1.00       275\n",
      "\n"
     ]
    }
   ],
   "source": [
    "  \n",
    "\"\"\"\n",
    "2. SVM 모델을 불러오고,\n",
    "   학습용 데이터에 맞추어 학습시킨 후, \n",
    "   테스트 데이터에 대한 예측 결과를 반환하는 함수를\n",
    "   구현합니다.\n",
    "   \n",
    "   Step01. SVM 모델을 정의합니다.\n",
    "   \n",
    "   Step02. SVM 모델을 학습용 데이터에 맞추어\n",
    "           학습시킵니다.\n",
    "   \n",
    "   Step03. 학습된 모델을 이용하여 \n",
    "           테스트 데이터에 대한 예측을 수행합니다. \n",
    "\"\"\"\n",
    "def SVM(train_X, test_X, train_y, test_y):\n",
    "    \n",
    "    svm = SVC()\n",
    "    \n",
    "    svm.fit(train_X, train_y)\n",
    "    \n",
    "    pred_y = svm.predict(test_X)\n",
    "    \n",
    "    return pred_y\n",
    "    \n",
    "# 데이터를 불러오고, 모델 예측 결과를 확인하는 main 함수입니다.\n",
    "def main():\n",
    "    \n",
    "    train_X, test_X, train_y, test_y = load_data()\n",
    "    \n",
    "    pred_y = SVM(train_X, test_X, train_y, test_y)\n",
    "    \n",
    "    # SVM 분류 결과값을 출력합니다.\n",
    "\n",
    "    print(\"\\nConfusion matrix : \\n\",confusion_matrix(test_y,pred_y)) #혼동행렬  \n",
    "\n",
    "    print(\"\\nReport : \\n\",classification_report(test_y,pred_y)) \n",
    "\n",
    "if __name__ == \"__main__\":\n",
    "    main()\n"
   ]
  },
  {
   "cell_type": "code",
   "execution_count": null,
   "metadata": {},
   "outputs": [],
   "source": []
  }
 ],
 "metadata": {
  "kernelspec": {
   "display_name": "tora",
   "language": "python",
   "name": "tora"
  },
  "language_info": {
   "codemirror_mode": {
    "name": "ipython",
    "version": 3
   },
   "file_extension": ".py",
   "mimetype": "text/x-python",
   "name": "python",
   "nbconvert_exporter": "python",
   "pygments_lexer": "ipython3",
   "version": "3.12.7"
  }
 },
 "nbformat": 4,
 "nbformat_minor": 2
}

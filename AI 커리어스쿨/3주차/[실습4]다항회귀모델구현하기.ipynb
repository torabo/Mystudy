{
 "cells": [
  {
   "cell_type": "code",
   "execution_count": 2,
   "metadata": {},
   "outputs": [],
   "source": [
    "import numpy as np\n",
    "import matplotlib.pyplot as plt\n",
    "from sklearn.linear_model import LinearRegression\n",
    "\n",
    "# 다항 회귀의 입력값을 변환하기 위한 모듈을 불러옵니다.\n",
    "from sklearn.preprocessing import PolynomialFeatures\n",
    "\n",
    "def load_data():\n",
    "    \n",
    "    np.random.seed(0)\n",
    "    \n",
    "    X = 3*np.random.rand(50, 1) + 1\n",
    "    y = X**2 + X + 2 +5*np.random.rand(50,1)\n",
    "    \n",
    "    return X, y\n",
    "    \n",
    "\"\"\"\n",
    "1. PolynomialFeature 객체를 활용하여 \n",
    "   각 변수 값을 제곱하고, \n",
    "   데이터에 추가하는 함수를 구현합니다.\n",
    "   \n",
    "   Step01. Polynomial 객체를 \n",
    "           생성합니다.\n",
    "           \n",
    "           degree를 2로 설정하고, \n",
    "           include_bias 파라미터를 \n",
    "           True로 설정합니다.\n",
    "   \n",
    "   Step02. 변수 값을 제곱하고 \n",
    "           이를 X에 추가시킨 후 \n",
    "           poly_X에 저장합니다.\n",
    "\"\"\"\n",
    "def Polynomial_transform(X):\n",
    "    \n",
    "    poly_feat = PolynomialFeatures(degree = 2, include_bias= True)\n",
    "    \n",
    "    poly_X = poly_feat.fit_transform(X)\n",
    "    \n",
    "    print(\"변환 이후 X 데이터\\n\",poly_X[:3])\n",
    "    \n",
    "    return poly_X\n"
   ]
  },
  {
   "cell_type": "code",
   "execution_count": 7,
   "metadata": {},
   "outputs": [],
   "source": [
    "    \n",
    "\"\"\"\n",
    "2. 다중 선형회귀 모델을 불러오고, \n",
    "   불러온 모델을 학습용 데이터에 맞추어 \n",
    "   학습시킨 후 해당 모델을 반환하는 \n",
    "   함수를 구현합니다.\n",
    "\n",
    "   Step01. 사이킷런에 구현되어 있는 \n",
    "           다중 선형회귀 모델을 불러옵니다.\n",
    "\n",
    "   Step02. 불러온 모델을 제곱값이 추가된 \n",
    "           데이터에 맞춰 학습시킵니다.\n",
    "\"\"\"\n",
    "def Multi_Regression(poly_x, y):\n",
    "    \n",
    "    multilinear = LinearRegression()\n",
    "    \n",
    "    multilinear.fit(poly_x,y)\n",
    "    \n",
    "    return multilinear\n",
    "    \n",
    "    \n",
    "# 그래프를 시각화하는 함수입니다.\n",
    "def plotting_graph(x,y,predicted):\n",
    "    fig = plt.figure()\n",
    "    plt.scatter(x, y)\n",
    "    \n",
    "    plt.scatter(x, predicted,c='r')"
   ]
  },
  {
   "cell_type": "code",
   "execution_count": 9,
   "metadata": {},
   "outputs": [
    {
     "name": "stdout",
     "output_type": "stream",
     "text": [
      "변환 이후 X 데이터\n",
      " [[1.         2.64644051 7.00364738]\n",
      " [1.         3.1455681  9.89459867]\n",
      " [1.         2.80829013 7.88649344]]\n"
     ]
    },
    {
     "data": {
      "image/png": "[encoded data removed]",
      "text/plain": [
       "<Figure size 640x480 with 1 Axes>"
      ]
     },
     "metadata": {},
     "output_type": "display_data"
    }
   ],
   "source": [
    "    \n",
    "\"\"\"\n",
    "3. 모델 학습 및 예측 결과 확인을 위한 \n",
    "   main 함수를 완성합니다.\n",
    "   \n",
    "   학습이 완료된 모델을 활용하여 \n",
    "   테스트 데이터에 대한 예측을 수행합니다.\n",
    "\"\"\"\n",
    "def main():\n",
    "    \n",
    "    X,y = load_data()\n",
    "    \n",
    "    poly_x = Polynomial_transform(X)\n",
    "    \n",
    "    linear_model = Multi_Regression(poly_x,y)\n",
    "    \n",
    "    predicted = linear_model.predict(poly_x)\n",
    "    \n",
    "    plotting_graph(X,y,predicted)\n",
    "    \n",
    "    return predicted\n",
    "    \n",
    "if __name__==\"__main__\":\n",
    "    main()"
   ]
  },
  {
   "cell_type": "code",
   "execution_count": null,
   "metadata": {},
   "outputs": [],
   "source": []
  }
 ],
 "metadata": {
  "kernelspec": {
   "display_name": "tora",
   "language": "python",
   "name": "tora"
  },
  "language_info": {
   "codemirror_mode": {
    "name": "ipython",
    "version": 3
   },
   "file_extension": ".py",
   "mimetype": "text/x-python",
   "name": "python",
   "nbconvert_exporter": "python",
   "pygments_lexer": "ipython3",
   "version": "3.12.7"
  }
 },
 "nbformat": 4,
 "nbformat_minor": 2
}

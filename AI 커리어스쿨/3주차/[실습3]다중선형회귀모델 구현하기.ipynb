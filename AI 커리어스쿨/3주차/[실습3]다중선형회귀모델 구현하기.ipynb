{
 "cells": [
  {
   "cell_type": "code",
   "execution_count": 8,
   "metadata": {},
   "outputs": [],
   "source": [
    "import numpy as np\n",
    "from sklearn.model_selection import train_test_split\n",
    "from sklearn.linear_model import LinearRegression\n",
    "\n",
    "# boston 데이터를 위한 모듈을 불러옵니다. \n",
    "# from sklearn.datasets import load_boston : 삭제됐음\n",
    "from sklearn.datasets import fetch_openml\n",
    "\n",
    "\"\"\"\n",
    "1. 사이킷런에 존재하는 데이터를 불러오고, \n",
    "   불러온 데이터를 학습용 데이터와 테스트용 데이터로\n",
    "   분리하여 반환하는 함수를 구현합니다.\n",
    "   \n",
    "   Step01. 사이킷런에 존재하는 boston 데이터를 \n",
    "           (X, y)의 형태로 불러옵니다. \n",
    "   \n",
    "   Step02. 불러온 데이터를 \n",
    "           학습용 데이터와 테스트용 데이터로 분리합니다.\n",
    "           \n",
    "           학습용 데이터로 전체 데이터의 80%를 사용하고, \n",
    "           테스트용 데이터로 나머지 20%를 사용합니다.\n",
    "           \n",
    "           동일한 결과 확인을 위하여 random_state를\n",
    "           100으로 설정합니다.\n",
    "\"\"\"    \n",
    "def load_data():\n",
    "    \n",
    "    X, y  = fetch_openml(name = 'boston', version=1, return_X_y = True)\n",
    "    X = X.astype(float)\n",
    "    y = y.astype(float)\n",
    "     \n",
    "    print(\"데이터의 입력값(X)의 개수 :\", X.shape[1])\n",
    "    \n",
    "    train_X, test_X, train_y, test_y = train_test_split(X, y , test_size = 0.2, random_state = 100)\n",
    "    \n",
    "    return train_X, test_X, train_y, test_y\n",
    "    \n"
   ]
  },
  {
   "cell_type": "code",
   "execution_count": null,
   "metadata": {},
   "outputs": [],
   "source": []
  },
  {
   "cell_type": "code",
   "execution_count": 9,
   "metadata": {},
   "outputs": [],
   "source": [
    "    \n",
    "\"\"\"\n",
    "2. 다중 선형회귀 모델을 불러오고, \n",
    "   불러온 모델을 학습용 데이터에 맞추어 학습시킨 후\n",
    "   해당 모델을 반환하는 함수를 구현합니다.\n",
    "\n",
    "   Step01. 사이킷런에 구현되어 있는 \n",
    "           다중 선형회귀 모델을 불러옵니다.\n",
    "\n",
    "   Step02. 불러온 모델을 학습용 데이터에 맞춰\n",
    "           학습시킵니다.\n",
    "\"\"\"\n",
    "def Multi_Regression(train_X,train_y):\n",
    "    \n",
    "    multilinear = LinearRegression()\n",
    "    \n",
    "    multilinear.fit(train_X, train_y)\n",
    "    \n",
    "    return multilinear\n"
   ]
  },
  {
   "cell_type": "code",
   "execution_count": 10,
   "metadata": {},
   "outputs": [
    {
     "name": "stdout",
     "output_type": "stream",
     "text": [
      "데이터의 입력값(X)의 개수 : 13\n",
      "\n",
      "> 모델 평가 점수 : 0.7555033086871306\n",
      "\n",
      "> beta_0 :  36.33377028550777\n",
      "> beta_i_list :  [-8.14896492e-02  4.80407782e-02 -5.47150249e-03  3.06260576e+00\n",
      " -1.61368815e+01  3.67245067e+00 -8.51525259e-03 -1.51740854e+00\n",
      "  2.87271007e-01 -1.21207598e-02 -9.24160757e-01  9.53460812e-03\n",
      " -4.85895548e-01]\n"
     ]
    }
   ],
   "source": [
    "    \n",
    "\"\"\"\n",
    "3. 모델 학습 및 예측 결과 확인을 위한 main 함수를 완성합니다.\n",
    "   \n",
    "   Step01. 학습이 완료된 모델을 활용하여 \n",
    "           테스트 데이터에 대한 예측을 수행합니다.\n",
    "        \n",
    "   Step02. 사이킷런 회귀 모델 내에 구현되어 있는 \n",
    "           score 함수를 사용하여 \n",
    "           모델 학습 평가 점수를 model_score 변수에\n",
    "           저장합니다. \n",
    "   \n",
    "   Step03. 학습된 모델의 beta_0와 beta_i들을 \n",
    "           각각 변수 beta_0와 beta_i_list에 저장합니다.\n",
    "\"\"\"\n",
    "def main():\n",
    "    \n",
    "    train_X, test_X, train_y, test_y = load_data()\n",
    "    \n",
    "    multilinear = Multi_Regression(train_X,train_y)\n",
    "    \n",
    "    predicted = multilinear.predict(test_X)\n",
    "    \n",
    "    model_score = multilinear.score(test_X, test_y)\n",
    "    \n",
    "    print(\"\\n> 모델 평가 점수 :\", model_score)\n",
    "     \n",
    "    beta_0 = multilinear.intercept_\n",
    "    beta_i_list = multilinear.coef_\n",
    "    \n",
    "    print(\"\\n> beta_0 : \",beta_0)\n",
    "    print(\"> beta_i_list : \",beta_i_list)\n",
    "    \n",
    "    return predicted, beta_0, beta_i_list, model_score\n",
    "    \n",
    "if __name__ == \"__main__\":\n",
    "    main()"
   ]
  },
  {
   "cell_type": "code",
   "execution_count": null,
   "metadata": {},
   "outputs": [],
   "source": []
  }
 ],
 "metadata": {
  "kernelspec": {
   "display_name": "tora",
   "language": "python",
   "name": "tora"
  },
  "language_info": {
   "codemirror_mode": {
    "name": "ipython",
    "version": 3
   },
   "file_extension": ".py",
   "mimetype": "text/x-python",
   "name": "python",
   "nbconvert_exporter": "python",
   "pygments_lexer": "ipython3",
   "version": "3.12.7"
  }
 },
 "nbformat": 4,
 "nbformat_minor": 2
}

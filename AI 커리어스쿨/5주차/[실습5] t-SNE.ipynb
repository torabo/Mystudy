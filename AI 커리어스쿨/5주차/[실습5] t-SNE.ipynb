{
 "cells": [
  {
   "cell_type": "code",
   "execution_count": 1,
   "metadata": {},
   "outputs": [],
   "source": [
    "import numpy as np\n",
    "from sklearn.manifold import TSNE\n",
    "from sklearn.datasets import load_wine\n",
    "import matplotlib.pyplot as plt\n",
    "\n",
    "\"\"\"\n",
    "1. 사이킷런에 저장된 데이터를 불러오고, \n",
    "   2개의 변수만을 가질 수 있도록 \n",
    "   고정하여 반환하는 함수를 구현합니다.\n",
    "   \n",
    "   Step01. load_wine()을 활용해 사이킷런에 저장된 와인 데이터를 불러옵니다.\n",
    "           데이터는 (X, y) 형태로 불러와야 합니다. (return_X_y를 True로 지정해야 합니다)\n",
    "           \n",
    "   Step02. column_start로 지정된 특정 column으로부터\n",
    "           연속되는 2개의 변수를 X에 저장합니다.\n",
    "          \n",
    "\"\"\"\n",
    "def load_data():\n",
    "    \n",
    "    X, y = load_wine(return_X_y = True)\n",
    "    \n",
    "    column_start = 6\n",
    "    X = X[:, column_start : column_start+2]\n",
    "    print(X.shape)\n",
    "    return X\n"
   ]
  },
  {
   "cell_type": "code",
   "execution_count": 2,
   "metadata": {},
   "outputs": [
    {
     "name": "stdout",
     "output_type": "stream",
     "text": [
      "(178, 2)\n",
      "- original shape:    (178, 2)\n",
      "- transformed shape: (178, 1)\n",
      "\n",
      "원본 데이터 X :\n",
      " [[3.06 0.28]\n",
      " [2.76 0.26]\n",
      " [3.24 0.3 ]\n",
      " [3.49 0.24]\n",
      " [2.69 0.39]]\n",
      "\n",
      "차원 축소 이후 데이터 X_tsne\n",
      " [[12.286945 ]\n",
      " [ 8.5789995]\n",
      " [13.923236 ]\n",
      " [15.263539 ]\n",
      " [ 7.4285455]]\n"
     ]
    }
   ],
   "source": [
    "    \n",
    "\"\"\"\n",
    "2. t-SNE를 활용하여 \n",
    "   2차원 데이터를 1차원으로 축소하는 함수를 완성합니다.\n",
    "   \n",
    "   Step01. t-SNE의 n_components를 1로 지정하여 \n",
    "           tsne를 정의합니다.\n",
    "           \n",
    "   Step02. tsne를 활용하여 차원 축소를 진행한 후,\n",
    "           차원이 축소된 데이터 X_tsne를 추출합니다.\n",
    "\"\"\"\n",
    "def tsne_data(X):\n",
    "    \n",
    "    tsne = TSNE(n_components= 1)\n",
    "    \n",
    "    X_tsne = tsne.fit_transform(X)\n",
    "    \n",
    "    return tsne, X_tsne\n",
    "\n",
    "def main():\n",
    "    \n",
    "    X = load_data()\n",
    "    \n",
    "    tsne, X_tsne = tsne_data(X)\n",
    "    \n",
    "    print(\"- original shape:   \", X.shape)\n",
    "    print(\"- transformed shape:\", X_tsne.shape)\n",
    "    \n",
    "    print(\"\\n원본 데이터 X :\\n\", X[:5])\n",
    "    print(\"\\n차원 축소 이후 데이터 X_tsne\\n\",X_tsne[:5])\n",
    "    \n",
    "    \n",
    "if __name__ == '__main__':\n",
    "    main()"
   ]
  },
  {
   "cell_type": "code",
   "execution_count": null,
   "metadata": {},
   "outputs": [],
   "source": []
  }
 ],
 "metadata": {
  "kernelspec": {
   "display_name": "tora",
   "language": "python",
   "name": "tora"
  },
  "language_info": {
   "codemirror_mode": {
    "name": "ipython",
    "version": 3
   },
   "file_extension": ".py",
   "mimetype": "text/x-python",
   "name": "python",
   "nbconvert_exporter": "python",
   "pygments_lexer": "ipython3",
   "version": "3.12.7"
  }
 },
 "nbformat": 4,
 "nbformat_minor": 2
}

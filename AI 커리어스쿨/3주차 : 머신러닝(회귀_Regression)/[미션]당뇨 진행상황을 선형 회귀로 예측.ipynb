{
 "cells": [
  {
   "cell_type": "code",
   "execution_count": 19,
   "metadata": {},
   "outputs": [],
   "source": [
    "import pandas as pd\n",
    "import matplotlib.pyplot as plt\n",
    "from sklearn.datasets import load_diabetes\n",
    "from sklearn.model_selection import train_test_split\n",
    "\"\"\"\n",
    "    1. 학습을 위한 준비가 완료된 데이터를 반환하는\n",
    "       load_data() 함수를 구현합니다.\n",
    "       \n",
    "       Step01. 당뇨병 관련 데이터셋을 (X, y)의 형태로 불러옵니다. \n",
    "              \n",
    "       Step02. 모델 학습을 위해 데이터를 \n",
    "               학습용(80%)/테스트용(20%)로 분리합니다.\n",
    "               (random_state = 100)\n",
    "\"\"\"\n",
    "\n",
    "def load_data():\n",
    "    X, y = load_diabetes(return_X_y= True)\n",
    "    train_X , test_X, train_y, test_y = train_test_split(X, y , test_size = 0.2, random_state=100)\n",
    "    \n",
    "    return train_X, test_X, train_y, test_y\n",
    "    "
   ]
  },
  {
   "cell_type": "code",
   "execution_count": 20,
   "metadata": {},
   "outputs": [],
   "source": [
    "from sklearn.linear_model import LinearRegression\n",
    "\"\"\"\n",
    "    2. 회귀 모델을 불러오고,\n",
    "       테스트 데이터에 대한 예측 결과를 반환하는\n",
    "       reg_model() 함수를 구현합니다.\n",
    "\"\"\"\n",
    "def reg_model(train_X, test_X, train_y):\n",
    "    lr = LinearRegression()\n",
    "    lr.fit(train_X, train_y)\n",
    "    pred = lr.predict(test_X)\n",
    "    \n",
    "    return pred\n",
    "    \n"
   ]
  },
  {
   "cell_type": "code",
   "execution_count": 21,
   "metadata": {},
   "outputs": [],
   "source": [
    "from sklearn.metrics import r2_score\n",
    "\"\"\"\n",
    "    3. 구현한 회귀 모델의 r_square 값을\n",
    "       반환하는 r_square() 함수를 구현합니다.\n",
    "\n",
    "\"\"\"\n",
    "def r_square(pred, test_y):\n",
    "    r2 = r2_score(test_y, pred)\n",
    "    return r2\n",
    "    \n",
    "   "
   ]
  },
  {
   "cell_type": "code",
   "execution_count": 23,
   "metadata": {},
   "outputs": [
    {
     "name": "stdout",
     "output_type": "stream",
     "text": [
      "r2 score :  0.5041745446689644\n"
     ]
    }
   ],
   "source": [
    " \n",
    "\"\"\"\n",
    "    4. 구현한 함수들을 활용하여 \n",
    "       당뇨병 데이터에 대한 회귀를 진행하는 \n",
    "       main() 함수를 구현합니다.\n",
    "\"\"\"\n",
    "def main():\n",
    "    train_X, test_X, train_y, test_y = load_data()\n",
    "    pred = reg_model(train_X, test_X, train_y)\n",
    "    r2 = r_square(pred = pred, test_y= test_y)\n",
    "    \n",
    "    \n",
    "    print(\"r2 score : \",r2)\n",
    "    \n",
    "    \n",
    "if __name__ == \"__main__\":\n",
    "    main()"
   ]
  },
  {
   "cell_type": "code",
   "execution_count": null,
   "metadata": {},
   "outputs": [],
   "source": []
  }
 ],
 "metadata": {
  "kernelspec": {
   "display_name": "tora",
   "language": "python",
   "name": "tora"
  },
  "language_info": {
   "codemirror_mode": {
    "name": "ipython",
    "version": 3
   },
   "file_extension": ".py",
   "mimetype": "text/x-python",
   "name": "python",
   "nbconvert_exporter": "python",
   "pygments_lexer": "ipython3",
   "version": "3.12.7"
  }
 },
 "nbformat": 4,
 "nbformat_minor": 2
}

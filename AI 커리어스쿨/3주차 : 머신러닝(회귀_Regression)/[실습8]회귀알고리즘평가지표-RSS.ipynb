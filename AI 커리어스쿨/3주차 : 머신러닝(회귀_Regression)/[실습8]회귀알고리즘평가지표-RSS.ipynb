{
 "cells": [
  {
   "cell_type": "code",
   "execution_count": 7,
   "metadata": {},
   "outputs": [],
   "source": [
    "import matplotlib.pyplot as plt\n",
    "import numpy as np\n",
    "\n",
    "from sklearn.model_selection import train_test_split\n",
    "from sklearn.linear_model import LinearRegression\n",
    "\n",
    "# 데이터 X와 y를 생성하고, 학습용 데이터와 테스트용 데이터로 분리하여 반환하는 함수입니다.\n",
    "def load_data():\n",
    "    \n",
    "    np.random.seed(0)\n",
    "    \n",
    "    X = 5*np.random.rand(100,1)\n",
    "    y = 3*X + 5*np.random.rand(100,1)\n",
    "     \n",
    "    train_X, test_X, train_y, test_y = train_test_split(X,y,test_size=0.3, random_state=0)\n",
    "    \n",
    "    return train_X, train_y, test_X, test_y\n",
    "\n",
    "# 회귀 모델을 불러오고, 불러온 모델을 학습용 데이터에 맞춰 학습시켜 반환하는 함수입니다.\n",
    "def Linear_Regression(train_X, train_y):\n",
    "    \n",
    "    lr = LinearRegression()\n",
    "    \n",
    "    lr.fit(train_X,train_y)\n",
    "    \n",
    "    return lr\n"
   ]
  },
  {
   "cell_type": "code",
   "execution_count": 8,
   "metadata": {},
   "outputs": [],
   "source": [
    "    \n",
    "\"\"\"\n",
    "1. RSS(Residual Sum of Squares)를 계산하여\n",
    "   반환하는 함수를 완성합니다.\n",
    "\"\"\"\n",
    "def return_RSS(test_y, predicted):\n",
    "    \n",
    "    RSS = 0\n",
    "    for i in range(len(test_y)):\n",
    "        RSS += (test_y[i] - predicted[i])**2\n",
    "        \n",
    "    return RSS\n",
    "    \n",
    "    \n",
    "# 그래프로 시각화합니다.\n",
    "def plotting_graph(test_X, test_y, predicted):\n",
    "    plt.scatter(test_X,test_y)\n",
    "    plt.plot(test_X, predicted, color='r')"
   ]
  },
  {
   "cell_type": "code",
   "execution_count": 11,
   "metadata": {},
   "outputs": [
    {
     "name": "stdout",
     "output_type": "stream",
     "text": [
      "> RSS : [62.6719913]\n"
     ]
    },
    {
     "data": {
      "image/png": "[encoded data removed]",
      "text/plain": [
       "<Figure size 640x480 with 1 Axes>"
      ]
     },
     "metadata": {},
     "output_type": "display_data"
    }
   ],
   "source": [
    "\n",
    "\"\"\"\n",
    "3. 정의한 함수들을 이용하여 main() 함수를 완성합니다.\n",
    "   \n",
    "   Step01. 생성한 데이터를 \n",
    "           학습용 데이터와 테스트 데이터로\n",
    "           분리하여 반환하는 함수를 호출합니다.\n",
    "           \n",
    "   Step02. 학습용 데이터를 바탕으로 학습한 선형 회귀 \n",
    "           모델을 반환하는 함수를 호출합니다.\n",
    "          \n",
    "   Step03. 학습된 모델을 바탕으로 계산된 \n",
    "           테스트 데이터의 예측값을 predicted에\n",
    "           저장합니다.\n",
    "           \n",
    "   Step04. 회귀 알고리즘을 평가하기 위한 RSS 값을 RSS에\n",
    "           저장합니다.\n",
    "\"\"\"\n",
    "def main():\n",
    "    \n",
    "    train_X, train_y, test_X, test_y = load_data()\n",
    "     \n",
    "    lr = Linear_Regression(train_X, train_y)\n",
    "    \n",
    "    predicted = lr.predict(test_X)\n",
    "    \n",
    "    RSS = return_RSS(test_y, predicted)\n",
    "    print(\"> RSS :\",RSS)\n",
    "    \n",
    "    plotting_graph(test_X, test_y, predicted)\n",
    "\n",
    "if __name__==\"__main__\":\n",
    "    main()"
   ]
  },
  {
   "cell_type": "code",
   "execution_count": null,
   "metadata": {},
   "outputs": [],
   "source": []
  }
 ],
 "metadata": {
  "kernelspec": {
   "display_name": "tora",
   "language": "python",
   "name": "tora"
  },
  "language_info": {
   "codemirror_mode": {
    "name": "ipython",
    "version": 3
   },
   "file_extension": ".py",
   "mimetype": "text/x-python",
   "name": "python",
   "nbconvert_exporter": "python",
   "pygments_lexer": "ipython3",
   "version": "3.12.7"
  }
 },
 "nbformat": 4,
 "nbformat_minor": 2
}

{
 "cells": [
  {
   "cell_type": "code",
   "execution_count": 15,
   "metadata": {},
   "outputs": [],
   "source": [
    "import matplotlib.pyplot as plt\n",
    "import pandas as pd\n",
    "import numpy as np\n",
    "\n",
    "\n",
    "from sklearn.linear_model import ElasticNet\n",
    "from sklearn.model_selection import train_test_split\n",
    "from sklearn.datasets import fetch_openml\n",
    "\n",
    "\"\"\"\n",
    "1. 사이킷런에 존재하는 데이터를 불러오고, \n",
    "   데이터와 변수 이름을 반환하는 함수를 구현합니다.\n",
    "   \n",
    "   Step01. 사이킷런에 존재하는 boston 데이터를 \n",
    "           (X, y)의 형태로 불러옵니다. \n",
    "   \n",
    "   Step02. 데이터의 변수 이름을 feature_names 에 저장합니다.\n",
    "   \n",
    "   [실습6]에서 구현한 함수를 그대로 이용할 수 있습니다.\n",
    "\"\"\"\n",
    "def load_data():\n",
    "    \n",
    "    X, y  = fetch_openml(name = 'boston', version=1, return_X_y = True)\n",
    "    X = X.astype(float)\n",
    "    y = y.astype(float)    \n",
    "    feature_names = X.columns\n",
    "    \n",
    "    \n",
    "    return X, y , feature_names\n",
    " "
   ]
  },
  {
   "cell_type": "code",
   "execution_count": 24,
   "metadata": {},
   "outputs": [
    {
     "name": "stdout",
     "output_type": "stream",
     "text": [
      "ElasticNet 회귀의 평가 점수: 0.7529261038422\n",
      "\n",
      "ElasticNet 회귀의 beta_i\n",
      " NOX       -12.156353\n",
      "DIS        -1.458449\n",
      "PTRATIO    -0.881076\n",
      "LSTAT      -0.490034\n",
      "CRIM       -0.079070\n",
      "INDUS      -0.021011\n",
      "TAX        -0.012515\n",
      "AGE        -0.012100\n",
      "B           0.009741\n",
      "ZN          0.048669\n",
      "RAD         0.277583\n",
      "CHAS        2.985592\n",
      "RM          3.697319\n",
      "dtype: float64\n"
     ]
    },
    {
     "data": {
      "image/png": "[encoded data removed]",
      "text/plain": [
       "<Figure size 640x480 with 1 Axes>"
      ]
     },
     "metadata": {},
     "output_type": "display_data"
    }
   ],
   "source": [
    "   \n",
    "\"\"\"\n",
    "2. 엘라스틱 넷(ElasticNet) 회귀를 구현하고, \n",
    "   학습용 데이터를 바탕으로 학습시킨 모델을 \n",
    "   반환하는 함수를 완성합니다.\n",
    "   \n",
    "   Step01. 사이킷런에 구현되어 있는 \n",
    "           엘라스틱 넷(ElasticNet) 회귀 모델을 불러옵니다.\n",
    "           \n",
    "           파라미터 alpha와 l1_ratio를 자유롭게 설정합니다.\n",
    "   \n",
    "   Step02. 불러온 모델을 학습용 데이터에 맞춰 학습시킵니다.\n",
    "\"\"\"\n",
    "\n",
    "def ElasticNet_regression(train_X, train_y):\n",
    "    \n",
    "    ElasticNet_reg = ElasticNet(alpha = 0.001 , l1_ratio= 0.001)\n",
    "    \n",
    "    ElasticNet_reg.fit(train_X,train_y)\n",
    "    \n",
    "    return ElasticNet_reg\n",
    "    \n",
    "    \n",
    "# 각 변수의 beta_i 크기를 시각화하는 함수입니다.\n",
    "def plot_graph(coef):\n",
    "    coef.plot(kind='bar')\n",
    "    \n",
    "    \n",
    "def main():\n",
    "    \n",
    "    X,y,feature_names = load_data()\n",
    "    \n",
    "    train_X, test_X, train_y, test_y = train_test_split(X,y,test_size=0.2, random_state=100)\n",
    "    \n",
    "    elasticnet_reg = ElasticNet_regression(train_X, train_y)\n",
    "    \n",
    "    # 엘라스틱넷 회귀 모델 평가 점수 출력하기\n",
    "    score = elasticnet_reg.score(test_X,test_y)\n",
    "    print(\"ElasticNet 회귀의 평가 점수:\", score)\n",
    "    \n",
    "    # 엘라스틱넷 회귀의 beta_i의 크기를 저장합니다.\n",
    "    ElasticNet_coef = pd.Series(elasticnet_reg.coef_, feature_names).sort_values()\n",
    "    print(\"\\nElasticNet 회귀의 beta_i\\n\", ElasticNet_coef)\n",
    "    \n",
    "    plot_graph(ElasticNet_coef)\n",
    "    \n",
    "    return elasticnet_reg\n",
    "\n",
    "if __name__==\"__main__\":\n",
    "    main()"
   ]
  },
  {
   "cell_type": "code",
   "execution_count": null,
   "metadata": {},
   "outputs": [],
   "source": []
  },
  {
   "cell_type": "code",
   "execution_count": null,
   "metadata": {},
   "outputs": [],
   "source": []
  }
 ],
 "metadata": {
  "kernelspec": {
   "display_name": "tora",
   "language": "python",
   "name": "tora"
  },
  "language_info": {
   "codemirror_mode": {
    "name": "ipython",
    "version": 3
   },
   "file_extension": ".py",
   "mimetype": "text/x-python",
   "name": "python",
   "nbconvert_exporter": "python",
   "pygments_lexer": "ipython3",
   "version": "3.12.7"
  }
 },
 "nbformat": 4,
 "nbformat_minor": 2
}

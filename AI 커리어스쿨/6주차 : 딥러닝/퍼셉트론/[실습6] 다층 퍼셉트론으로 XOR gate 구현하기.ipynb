{
 "cells": [
  {
   "cell_type": "code",
   "execution_count": 7,
   "metadata": {},
   "outputs": [
    {
     "name": "stdout",
     "output_type": "stream",
     "text": [
      "XOR Gate 출력\n",
      "Input:  0 0 , Output:  0\n",
      "Input:  0 1 , Output:  1\n",
      "Input:  1 0 , Output:  1\n",
      "Input:  1 1 , Output:  0\n"
     ]
    }
   ],
   "source": [
    "import numpy as np\n",
    "\n",
    "'''\n",
    "1. AND_gate 함수\n",
    "'''\n",
    "\n",
    "def AND_gate(x1,x2):\n",
    "    x = np.array([x1, x2])\n",
    "    weight = np.array([0.5, 0.5])\n",
    "    bias = -0.7\n",
    "    y = np.sum(weight*x) + bias\n",
    "    \n",
    "    return Step_Function(y)\n",
    "\n",
    "'''\n",
    "2. OR_gate 함수\n",
    "'''\n",
    "\n",
    "def OR_gate(x1,x2):\n",
    "    x = np.array([x1, x2])\n",
    "    weight = np.array([0.5, 0.5])\n",
    "    bias = -0.2\n",
    "    y = np.sum(weight*x) + bias\n",
    "    \n",
    "    return Step_Function(y)\n",
    "\n",
    "'''\n",
    "3. NAND_gate 함수\n",
    "'''\n",
    "\n",
    "def NAND_gate(x1,x2):\n",
    "    x = np.array([x1, x2])\n",
    "    weight = np.array([-0.5, -0.5])\n",
    "    bias = 0.7\n",
    "    y = np.sum(weight*x) + bias\n",
    "    \n",
    "    return Step_Function(y)\n",
    "\n",
    "'''\n",
    "4. Step_Function 함수\n",
    "'''\n",
    "\n",
    "def Step_Function(y):\n",
    "    if y<=0:\n",
    "        return 0\n",
    "    else:\n",
    "        return 1\n",
    "\n",
    "'''\n",
    "5. AND_gate, OR_gate, NAND_gate 함수들을\n",
    "   활용하여 XOR_gate 함수를 완성하세요.\n",
    "'''\n",
    "\n",
    "def XOR_gate(x1, x2):\n",
    "    \n",
    "    Nand_out = NAND_gate(x1,x2)\n",
    "    OR_out = OR_gate(x1,x2)\n",
    "    XOR_out = AND_gate(Nand_out,OR_out)\n",
    "\n",
    "\n",
    "    return XOR_out\n",
    "\n",
    "def main():\n",
    "    \n",
    "    # XOR gate에 넣어줄 Input\n",
    "    array = np.array([[0,0], [0,1], [1,0], [1,1]])\n",
    "    \n",
    "    # XOR gate를 만족하는지 출력하여 확인\n",
    "    print('XOR Gate 출력')\n",
    "    \n",
    "    for x1, x2 in array:\n",
    "        print('Input: ',x1, x2, ', Output: ', XOR_gate(x1, x2))\n",
    "\n",
    "if __name__ == \"__main__\":\n",
    "    main()"
   ]
  },
  {
   "cell_type": "code",
   "execution_count": null,
   "metadata": {},
   "outputs": [],
   "source": []
  }
 ],
 "metadata": {
  "kernelspec": {
   "display_name": "tora",
   "language": "python",
   "name": "tora"
  },
  "language_info": {
   "codemirror_mode": {
    "name": "ipython",
    "version": 3
   },
   "file_extension": ".py",
   "mimetype": "text/x-python",
   "name": "python",
   "nbconvert_exporter": "python",
   "pygments_lexer": "ipython3",
   "version": "3.12.7"
  }
 },
 "nbformat": 4,
 "nbformat_minor": 2
}

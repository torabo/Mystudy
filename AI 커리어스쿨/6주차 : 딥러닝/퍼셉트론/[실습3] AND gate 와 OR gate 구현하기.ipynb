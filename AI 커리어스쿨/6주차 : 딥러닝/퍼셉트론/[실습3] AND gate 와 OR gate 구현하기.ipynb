{
 "cells": [
  {
   "cell_type": "code",
   "execution_count": 65,
   "metadata": {},
   "outputs": [],
   "source": [
    "import numpy as np\n",
    "\n",
    "'''\n",
    "1. AND_gate 함수를 완성하세요.\n",
    "\n",
    "   Step01. 입력값 x1과 x2에 각각 곱해줄 가중치는\n",
    "           0.5, 0.5로 설정되어 있습니다.\n",
    "           \n",
    "   Step02. AND_gate를 만족하는 Bias 값을\n",
    "           설정합니다. 여러 가지 값을 대입해보며\n",
    "           적절한 Bias 값을 찾아보세요.\n",
    "   \n",
    "   Step03. 가중치, 입력값, Bias를 이용하여 \n",
    "           신호의 총합을 구합니다.\n",
    "           \n",
    "   Step04. Step Function 함수를 호출하여 \n",
    "           AND_gate의 출력값을 반환합니다.\n",
    "'''\n",
    "\n",
    "def AND_gate(x1, x2):\n",
    "    \n",
    "    x = np.array([x1, x2])\n",
    "    \n",
    "    weight = np.array([0.5,0.5])\n",
    "    \n",
    "    bias = -0.7\n",
    "    \n",
    "    y = np.matmul(x, weight) + bias\n",
    "    \n",
    "    return Step_Function(y)\n",
    "   "
   ]
  },
  {
   "cell_type": "code",
   "execution_count": 69,
   "metadata": {},
   "outputs": [],
   "source": [
    " \n",
    "'''\n",
    "2. OR_gate 함수를 완성하세요.\n",
    "\n",
    "   Step01. 입력값 x1과 x2에 각각 곱해줄 가중치는\n",
    "           0.5, 0.5로 설정되어 있습니다.\n",
    "           \n",
    "   Step02. OR_gate를 만족하는 Bias 값을\n",
    "           설정합니다. 여러 가지 값을 대입해보며\n",
    "           적절한 Bias 값을 찾아보세요.\n",
    "   \n",
    "   Step03. 가중치, 입력값, Bias를 이용하여 \n",
    "           신호의 총합을 구합니다.\n",
    "           \n",
    "   Step04. Step Function 함수를 호출하여 \n",
    "           OR_gate의 출력값을 반환합니다.\n",
    "'''\n",
    "\n",
    "def OR_gate(x1, x2):\n",
    "    \n",
    "    x = np.array([x1, x2])\n",
    "    \n",
    "    weight = np.array([0.5,0.5])\n",
    "    \n",
    "    bias = -0.3\n",
    "    \n",
    "    y = np.matmul(x, weight) + bias\n",
    "    \n",
    "    return Step_Function(y)\n"
   ]
  },
  {
   "cell_type": "code",
   "execution_count": 70,
   "metadata": {},
   "outputs": [
    {
     "name": "stdout",
     "output_type": "stream",
     "text": [
      "AND Gate 출력\n",
      "Input:  0 0 , Output:  0\n",
      "Input:  0 1 , Output:  0\n",
      "Input:  1 0 , Output:  0\n",
      "Input:  1 1 , Output:  1\n",
      "\n",
      "OR Gate 출력\n",
      "Input:  0 0 , Output:  0\n",
      "Input:  0 1 , Output:  1\n",
      "Input:  1 0 , Output:  1\n",
      "Input:  1 1 , Output:  1\n"
     ]
    }
   ],
   "source": [
    "\n",
    "'''\n",
    "3. 설명을 보고 Step Function을 완성합니다.\n",
    "\n",
    "   Step01. 0 미만의 값이 들어오면 0을,\n",
    "           0 이상의 값이 들어오면 1을\n",
    "           출력하는 함수를 구현하면 됩니다.\n",
    "'''\n",
    "def Step_Function(y):\n",
    "    \n",
    "   return 1 if y >= 0 else 0\n",
    "    \n",
    "def main():\n",
    "    \n",
    "    # AND Gate와 OR Gate에 넣어줄 Input\n",
    "    array = np.array([[0,0], [0,1], [1,0], [1,1]])\n",
    "    \n",
    "    # AND Gate를 만족하는지 출력하여 확인\n",
    "    print('AND Gate 출력')\n",
    "    \n",
    "    for x1, x2 in array:\n",
    "        print('Input: ',x1, x2, ', Output: ',AND_gate(x1, x2))\n",
    "    \n",
    "    # OR Gate를 만족하는지 출력하여 확인\n",
    "    print('\\nOR Gate 출력')\n",
    "    \n",
    "    for x1, x2 in array:\n",
    "        print('Input: ',x1, x2, ', Output: ',OR_gate(x1, x2))\n",
    "\n",
    "if __name__ == \"__main__\":\n",
    "    main()"
   ]
  },
  {
   "cell_type": "code",
   "execution_count": null,
   "metadata": {},
   "outputs": [],
   "source": []
  },
  {
   "cell_type": "code",
   "execution_count": null,
   "metadata": {},
   "outputs": [],
   "source": [
    "np."
   ]
  }
 ],
 "metadata": {
  "kernelspec": {
   "display_name": "tora",
   "language": "python",
   "name": "tora"
  },
  "language_info": {
   "codemirror_mode": {
    "name": "ipython",
    "version": 3
   },
   "file_extension": ".py",
   "mimetype": "text/x-python",
   "name": "python",
   "nbconvert_exporter": "python",
   "pygments_lexer": "ipython3",
   "version": "3.12.7"
  }
 },
 "nbformat": 4,
 "nbformat_minor": 2
}

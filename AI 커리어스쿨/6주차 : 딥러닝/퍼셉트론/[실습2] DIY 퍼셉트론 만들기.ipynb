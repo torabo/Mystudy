{
 "cells": [
  {
   "cell_type": "code",
   "execution_count": 14,
   "metadata": {},
   "outputs": [],
   "source": [
    "'''\n",
    "1. 가중치와 Bias 값을 \n",
    "   임의로 설정해줍니다.\n",
    "\n",
    "   Step01. 0이상 1미만의 임의의 값으로 정의된 \n",
    "           4개의 가중치 값이 들어가있는 \n",
    "           1차원 리스트를 정의해줍니다.\n",
    "           \n",
    "   Step02. Bias 값을 임의의 값으로 설정해줍니다.\n",
    "'''\n",
    "\n",
    "def main():\n",
    "    \n",
    "    x = [1,2,3,4]\n",
    "    \n",
    "    w = [0.1,0.2,0.3,0.3]\n",
    "    b = -2.0\n",
    "    \n",
    "    output, y = perceptron(w,x,b)\n",
    "    \n",
    "    print('output: ', output)\n",
    "    print('y: ', y)\n"
   ]
  },
  {
   "cell_type": "code",
   "execution_count": 17,
   "metadata": {},
   "outputs": [
    {
     "name": "stdout",
     "output_type": "stream",
     "text": [
      "output:  0.6000000000000001\n",
      "y:  1.0\n"
     ]
    }
   ],
   "source": [
    "\n",
    "'''\n",
    "2. 신호의 총합과 그에 따른 결과 0 또는 1을\n",
    "   반환하는 함수 perceptron을 완성합니다.\n",
    "   \n",
    "   Step01. 입력 받은 값과 Bias 값을 이용하여\n",
    "           신호의 총합을 구합니다.\n",
    "           \n",
    "   Step02. 신호의 총합이 0 이상이면 1을, \n",
    "           그렇지 않으면 0을 반환하는 활성화 \n",
    "           함수를 작성합니다.\n",
    "'''\n",
    "\n",
    "def perceptron(w, x, b):\n",
    "    \n",
    "    #output = x[0] * w[0] + x[1] * w[1] + x[2] * w[2] + x[3]*w[3]+ b\n",
    "    output = sum([x_i * w_i for x_i, w_i in zip(x,w)]) + b\n",
    "\n",
    "    \n",
    "    y = 1.0 if output > 0 else 0\n",
    "    \n",
    "    return output, y\n",
    "\n",
    "if __name__ == \"__main__\":\n",
    "    main()"
   ]
  },
  {
   "cell_type": "code",
   "execution_count": null,
   "metadata": {},
   "outputs": [],
   "source": []
  }
 ],
 "metadata": {
  "kernelspec": {
   "display_name": "tora",
   "language": "python",
   "name": "tora"
  },
  "language_info": {
   "codemirror_mode": {
    "name": "ipython",
    "version": 3
   },
   "file_extension": ".py",
   "mimetype": "text/x-python",
   "name": "python",
   "nbconvert_exporter": "python",
   "pygments_lexer": "ipython3",
   "version": "3.12.7"
  }
 },
 "nbformat": 4,
 "nbformat_minor": 2
}

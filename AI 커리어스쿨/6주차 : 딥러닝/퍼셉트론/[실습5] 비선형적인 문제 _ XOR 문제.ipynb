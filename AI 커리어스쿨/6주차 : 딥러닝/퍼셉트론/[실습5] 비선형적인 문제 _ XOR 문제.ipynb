{
 "cells": [
  {
   "cell_type": "code",
   "execution_count": 7,
   "metadata": {},
   "outputs": [],
   "source": [
    "import numpy as np\n",
    "\n",
    "'''\n",
    "1. XOR_gate 함수를 최대한 완성해보세요.\n",
    "\n",
    "   Step01. 이전 실습을 참고하여 입력값 x1과 x2를\n",
    "           Numpy array 형식으로 정의한 후, x1과 x2에\n",
    "           각각 곱해줄 가중치도 Numpy array 형식으로 \n",
    "           적절히 설정해주세요.\n",
    "           \n",
    "   Step02. XOR_gate를 만족하는 Bias 값을\n",
    "           적절히 설정해주세요.\n",
    "           \n",
    "   Step03. 가중치, 입력값, Bias를 이용하여 \n",
    "           가중 신호의 총합을 구합니다.\n",
    "           \n",
    "   Step04. Step Function 함수를 호출하여 \n",
    "           XOR_gate 출력값을 반환합니다.\n",
    "'''\n",
    "\n",
    "def XOR_gate(x1, x2):\n",
    "    \n",
    "    x = np.array([x1,x2])\n",
    "    \n",
    "    weight = np.array([0.5,0.5])\n",
    "    \n",
    "    bias = -0.3\n",
    "    \n",
    "    y = np.matmul(x, weight) + bias\n",
    "    \n",
    "    return Step_Function(y)\n"
   ]
  },
  {
   "cell_type": "code",
   "execution_count": 8,
   "metadata": {},
   "outputs": [
    {
     "name": "stdout",
     "output_type": "stream",
     "text": [
      "XOR Gate 출력\n",
      "Input:  0 0  Output:  0\n",
      "Input:  0 1  Output:  1\n",
      "Input:  1 0  Output:  1\n",
      "Input:  1 1  Output:  1\n",
      "Accuracy: 75.0%\n"
     ]
    }
   ],
   "source": [
    "\n",
    "'''\n",
    "2. 설명을 보고 Step Function을 완성합니다.\n",
    "   앞 실습에서 구현한 함수를 그대로 \n",
    "   사용할 수 있습니다.\n",
    "\n",
    "   Step01. 0 미만의 값이 들어오면 0을,\n",
    "           0 이상의 값이 들어오면 1을\n",
    "           출력하는 함수를 구현하면 됩니다.\n",
    "'''\n",
    "\n",
    "def Step_Function(y):\n",
    "    \n",
    "    return 1 if y >=0 else 0\n",
    "\n",
    "def main():\n",
    "    \n",
    "    # XOR Gate에 넣어줄 Input과 그에 따른 Output\n",
    "    Input = np.array([[0, 0], [0, 1], [1, 0], [1, 1]])        \n",
    "    Output = np.array([[0], [1], [1], [0]])\n",
    "    \n",
    "    # XOR Gate를 만족하는지 출력하여 확인\n",
    "    print('XOR Gate 출력')\n",
    "    \n",
    "    XOR_list = []\n",
    "    \n",
    "    for x1, x2 in Input:\n",
    "        print('Input: ',x1, x2, ' Output: ', XOR_gate(x1, x2))\n",
    "        XOR_list.append(XOR_gate(x1, x2))\n",
    "    \n",
    "    hit = 0\n",
    "    for i in range(len(Output)):\n",
    "        if XOR_list[i] == Output[i]:\n",
    "            hit += 1\n",
    "    \n",
    "    acc = float(hit/4)*100\n",
    "    \n",
    "    print('Accuracy: %.1lf%%' % (acc))\n",
    "\n",
    "if __name__ == \"__main__\":\n",
    "    main()"
   ]
  },
  {
   "cell_type": "code",
   "execution_count": null,
   "metadata": {},
   "outputs": [],
   "source": []
  }
 ],
 "metadata": {
  "kernelspec": {
   "display_name": "tora",
   "language": "python",
   "name": "tora"
  },
  "language_info": {
   "codemirror_mode": {
    "name": "ipython",
    "version": 3
   },
   "file_extension": ".py",
   "mimetype": "text/x-python",
   "name": "python",
   "nbconvert_exporter": "python",
   "pygments_lexer": "ipython3",
   "version": "3.12.7"
  }
 },
 "nbformat": 4,
 "nbformat_minor": 2
}

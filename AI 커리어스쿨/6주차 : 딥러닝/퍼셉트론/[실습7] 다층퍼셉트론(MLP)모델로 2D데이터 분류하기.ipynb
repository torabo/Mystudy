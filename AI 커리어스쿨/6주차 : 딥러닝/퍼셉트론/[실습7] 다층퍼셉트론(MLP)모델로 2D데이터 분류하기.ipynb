{
 "cells": [
  {
   "cell_type": "code",
   "execution_count": 31,
   "metadata": {},
   "outputs": [],
   "source": [
    "import numpy as np\n",
    "#from visual import * 없다..\n",
    "from sklearn.neural_network import MLPClassifier\n",
    "\n",
    "import warnings\n",
    "warnings.filterwarnings(action='ignore')\n",
    "\n",
    "np.random.seed(100)\n",
    "    \n",
    "# 데이터를 읽어오는 함수입니다.\n",
    "    \n",
    "def read_data(filename):\n",
    "    \n",
    "    X = []\n",
    "    Y = []\n",
    "    \n",
    "    with open(filename) as fp:\n",
    "        N, M = fp.readline().split()\n",
    "        N = int(N)\n",
    "        M = int(M)\n",
    "        \n",
    "        for i in range(N):\n",
    "            line = fp.readline().split()\n",
    "            for j in range(M):\n",
    "                X.append([i, j])\n",
    "                Y.append(int(line[j]))\n",
    "    \n",
    "    X = np.array(X)\n",
    "    Y = np.array(Y)\n",
    "    \n",
    "    return (X, Y)\n"
   ]
  },
  {
   "cell_type": "code",
   "execution_count": 32,
   "metadata": {},
   "outputs": [],
   "source": [
    "\n",
    "'''\n",
    "1. MLPClassifier를 정의하고 hidden_layer_sizes를\n",
    "   조정해 hidden layer의 크기 및 레이어의 개수를\n",
    "   바꿔본 후, 학습을 시킵니다.\n",
    "'''\n",
    "\n",
    "def train_MLP_classifier(X, Y):\n",
    "    \n",
    "    clf = MLPClassifier(hidden_layer_sizes= (4,4))\n",
    "    \n",
    "    clf.fit(X,Y)\n",
    "    \n",
    "    return clf\n"
   ]
  },
  {
   "cell_type": "code",
   "execution_count": 33,
   "metadata": {},
   "outputs": [],
   "source": [
    "\n",
    "'''\n",
    "2. 테스트 데이터에 대한 정확도를 출력하는 \n",
    "   함수를 완성합니다. 설명을 보고 score의 코드를\n",
    "   작성해보세요.\n",
    "'''\n",
    "\n",
    "def report_clf_stats(clf, X, Y):\n",
    "    \n",
    "    hit = 0\n",
    "    miss = 0\n",
    "    \n",
    "    for x, y in zip(X, Y):\n",
    "        if clf.predict([x])[0] == y:\n",
    "            hit += 1\n",
    "        else:\n",
    "            miss += 1\n",
    "    \n",
    "    score = (hit/miss+hit)\n",
    "    \n",
    "    print(\"Accuracy: %.1lf%% (%d hit / %d miss)\" % (score, hit, miss))\n"
   ]
  },
  {
   "cell_type": "code",
   "execution_count": 34,
   "metadata": {},
   "outputs": [
    {
     "name": "stdout",
     "output_type": "stream",
     "text": [
      "Accuracy: 85.3% (81 hit / 19 miss)\n"
     ]
    }
   ],
   "source": [
    "\n",
    "'''\n",
    "3. main 함수를 완성합니다.\n",
    "\n",
    "   Step01. 학습용 데이터인 X_train, Y_train과\n",
    "           테스트용 데이터인 X_test, Y_test를 각각\n",
    "           read_data에서 반환한 값으로 정의합니다. \n",
    "           \n",
    "           우리가 사용할 train.txt 데이터셋과\n",
    "           test.txt 데이터셋은 data 폴더에 위치합니다.\n",
    "           \n",
    "   Step02. 앞에서 학습시킨 다층 퍼셉트론 분류 \n",
    "           모델을 'clf'로 정의합니다. 'clf'의 변수로는\n",
    "           X_train과 Y_train으로 설정합니다.\n",
    "           \n",
    "   Step03. 앞에서 완성한 정확도 출력 함수를\n",
    "           'score'로 정의합니다. 'score'의 변수로는\n",
    "           X_test와 Y_test로 설정합니다.\n",
    "'''\n",
    "\n",
    "def main():\n",
    "    \n",
    "    X_train, Y_train = read_data('data/train data.txt')\n",
    "    \n",
    "    X_test, Y_test = read_data('data/test data.txt')\n",
    "    \n",
    "    clf = train_MLP_classifier(X_train, Y_train)\n",
    "    \n",
    "    score = report_clf_stats(clf, X_test, Y_test)\n",
    "    \n",
    "    #visualize(clf, X_test, Y_test)\n",
    "\n",
    "if __name__ == \"__main__\":\n",
    "    main()"
   ]
  },
  {
   "cell_type": "code",
   "execution_count": null,
   "metadata": {},
   "outputs": [],
   "source": []
  },
  {
   "cell_type": "code",
   "execution_count": null,
   "metadata": {},
   "outputs": [],
   "source": []
  }
 ],
 "metadata": {
  "kernelspec": {
   "display_name": "tora",
   "language": "python",
   "name": "tora"
  },
  "language_info": {
   "codemirror_mode": {
    "name": "ipython",
    "version": 3
   },
   "file_extension": ".py",
   "mimetype": "text/x-python",
   "name": "python",
   "nbconvert_exporter": "python",
   "pygments_lexer": "ipython3",
   "version": "3.12.7"
  }
 },
 "nbformat": 4,
 "nbformat_minor": 2
}

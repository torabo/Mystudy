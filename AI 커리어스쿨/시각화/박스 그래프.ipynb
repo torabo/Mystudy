{
  "cells": [
    {
      "attachments": {},
      "cell_type": "markdown",
      "metadata": {},
      "source": [
        "# [실습] 박스 그래프"
      ]
    },
    {
      "attachments": {},
      "cell_type": "markdown",
      "metadata": {},
      "source": [
        "박스 그래프(box plot)은 데이터의 분포를 보여주기 위해 사용되는 그래프입니다.\n",
        "\n",
        "박스 그래프는 주식 그래프의 캔들 차트, 봉 차트 등 여러 형태로 응용되는 차트입니다."
      ]
    },
    {
      "attachments": {},
      "cell_type": "markdown",
      "metadata": {},
      "source": [
        "## 1. 데이터 불러오기\n",
        "\n",
        "먼저 실습 진행을 위해 `seaborn`과 `matplotlib`를 import 하겠습니다."
      ]
    },
    {
      "cell_type": "code",
      "execution_count": 2,
      "metadata": {},
      "outputs": [],
      "source": [
        "import seaborn as sns\n",
        "import matplotlib.pyplot as plt\n",
        "\n",
        "plt.rcParams[\"axes.unicode_minus\"] = False\n",
        "plt.rc(\"font\", family=\"AppleGothic\")"
      ]
    },
    {
      "attachments": {},
      "cell_type": "markdown",
      "metadata": {},
      "source": [
        "데이터 분석에서 널리 사용되는 파이썬 패키지 중 하나인 pandas는 데이터를 처리하고 조작하는 데 필수적인 도구를 제공합니다. \n",
        "\n",
        "아래 코드에서는 `pandas`를 `pd`라는 이름으로 import 합니다."
      ]
    },
    {
      "cell_type": "code",
      "execution_count": 3,
      "metadata": {},
      "outputs": [],
      "source": [
        "import pandas as pd"
      ]
    },
    {
      "attachments": {},
      "cell_type": "markdown",
      "metadata": {},
      "source": [
        "실습에 사용할 데이터는 2016년 1월 1일부터 2019년 3월 31일까지의 서울대공원 입장객 데이터입니다. 데이터에는 날짜, 공휴일 여부, 입장객 연령 등 다양한 정보가 저장되어 있습니다.\n",
        "\n",
        "이제 data 폴더에 저장되어 있는 데이터인 seoul_park.csv 파일을 불러와 데이터 프레임 `df`에 저장합니다."
      ]
    },
    {
      "cell_type": "code",
      "execution_count": 4,
      "metadata": {},
      "outputs": [],
      "source": [
        "df = pd.read_csv(\"./data/seoul_park.csv\")"
      ]
    },
    {
      "attachments": {},
      "cell_type": "markdown",
      "metadata": {},
      "source": [
        "이제 데이터 프레임 `df`에 서울대공원 입장객 데이터가 저장되어 있습니다.\n",
        "\n",
        "`head(n)` 함수를 사용하면 데이터 프레임의 앞에서부터 `n`개의 데이터를 확인해볼 수 있습니다.\n",
        "\n",
        "만약 `n`을 전달하지 않으면 5개의 데이터를 볼 수 있습니다."
      ]
    },
    {
      "cell_type": "code",
      "execution_count": 5,
      "metadata": {},
      "outputs": [
        {
          "data": {
            "text/html": [
              "<div>\n",
              "<style scoped>\n",
              "    .dataframe tbody tr th:only-of-type {\n",
              "        vertical-align: middle;\n",
              "    }\n",
              "\n",
              "    .dataframe tbody tr th {\n",
              "        vertical-align: top;\n",
              "    }\n",
              "\n",
              "    .dataframe thead th {\n",
              "        text-align: right;\n",
              "    }\n",
              "</style>\n",
              "<table border=\"1\" class=\"dataframe\">\n",
              "  <thead>\n",
              "    <tr style=\"text-align: right;\">\n",
              "      <th></th>\n",
              "      <th>Unnamed: 0</th>\n",
              "      <th>날짜</th>\n",
              "      <th>요일</th>\n",
              "      <th>공휴일</th>\n",
              "      <th>날씨</th>\n",
              "      <th>어른</th>\n",
              "      <th>청소년</th>\n",
              "      <th>어린이</th>\n",
              "      <th>외국인</th>\n",
              "      <th>단체</th>\n",
              "      <th>총입장객수</th>\n",
              "      <th>연</th>\n",
              "      <th>월</th>\n",
              "      <th>일</th>\n",
              "      <th>매출액</th>\n",
              "    </tr>\n",
              "  </thead>\n",
              "  <tbody>\n",
              "    <tr>\n",
              "      <th>0</th>\n",
              "      <td>0</td>\n",
              "      <td>2016-01-01</td>\n",
              "      <td>금</td>\n",
              "      <td>O</td>\n",
              "      <td>구름 조금</td>\n",
              "      <td>2799</td>\n",
              "      <td>141.0</td>\n",
              "      <td>419</td>\n",
              "      <td>47</td>\n",
              "      <td>0</td>\n",
              "      <td>4382</td>\n",
              "      <td>2016</td>\n",
              "      <td>1</td>\n",
              "      <td>1</td>\n",
              "      <td>33590000</td>\n",
              "    </tr>\n",
              "    <tr>\n",
              "      <th>1</th>\n",
              "      <td>1</td>\n",
              "      <td>2016-01-02</td>\n",
              "      <td>토</td>\n",
              "      <td>O</td>\n",
              "      <td>구름 많음</td>\n",
              "      <td>4370</td>\n",
              "      <td>203.0</td>\n",
              "      <td>600</td>\n",
              "      <td>100</td>\n",
              "      <td>111</td>\n",
              "      <td>7265</td>\n",
              "      <td>2016</td>\n",
              "      <td>1</td>\n",
              "      <td>2</td>\n",
              "      <td>51730000</td>\n",
              "    </tr>\n",
              "    <tr>\n",
              "      <th>2</th>\n",
              "      <td>2</td>\n",
              "      <td>2016-01-03</td>\n",
              "      <td>일</td>\n",
              "      <td>O</td>\n",
              "      <td>구름 많음</td>\n",
              "      <td>2571</td>\n",
              "      <td>128.0</td>\n",
              "      <td>309</td>\n",
              "      <td>91</td>\n",
              "      <td>0</td>\n",
              "      <td>4557</td>\n",
              "      <td>2016</td>\n",
              "      <td>1</td>\n",
              "      <td>3</td>\n",
              "      <td>30080000</td>\n",
              "    </tr>\n",
              "    <tr>\n",
              "      <th>3</th>\n",
              "      <td>3</td>\n",
              "      <td>2016-01-04</td>\n",
              "      <td>월</td>\n",
              "      <td>X</td>\n",
              "      <td>구름 많음</td>\n",
              "      <td>602</td>\n",
              "      <td>463.0</td>\n",
              "      <td>235</td>\n",
              "      <td>51</td>\n",
              "      <td>223</td>\n",
              "      <td>1690</td>\n",
              "      <td>2016</td>\n",
              "      <td>1</td>\n",
              "      <td>4</td>\n",
              "      <td>8900000</td>\n",
              "    </tr>\n",
              "    <tr>\n",
              "      <th>4</th>\n",
              "      <td>4</td>\n",
              "      <td>2016-01-05</td>\n",
              "      <td>화</td>\n",
              "      <td>X</td>\n",
              "      <td>구름 많음</td>\n",
              "      <td>319</td>\n",
              "      <td>35.0</td>\n",
              "      <td>62</td>\n",
              "      <td>43</td>\n",
              "      <td>47</td>\n",
              "      <td>1256</td>\n",
              "      <td>2016</td>\n",
              "      <td>1</td>\n",
              "      <td>5</td>\n",
              "      <td>4160000</td>\n",
              "    </tr>\n",
              "  </tbody>\n",
              "</table>\n",
              "</div>"
            ],
            "text/plain": [
              "   Unnamed: 0          날짜 요일 공휴일     날씨    어른    청소년  어린이  외국인   단체  총입장객수  \\\n",
              "0           0  2016-01-01  금   O  구름 조금  2799  141.0  419   47    0   4382   \n",
              "1           1  2016-01-02  토   O  구름 많음  4370  203.0  600  100  111   7265   \n",
              "2           2  2016-01-03  일   O  구름 많음  2571  128.0  309   91    0   4557   \n",
              "3           3  2016-01-04  월   X  구름 많음   602  463.0  235   51  223   1690   \n",
              "4           4  2016-01-05  화   X  구름 많음   319   35.0   62   43   47   1256   \n",
              "\n",
              "      연  월  일       매출액  \n",
              "0  2016  1  1  33590000  \n",
              "1  2016  1  2  51730000  \n",
              "2  2016  1  3  30080000  \n",
              "3  2016  1  4   8900000  \n",
              "4  2016  1  5   4160000  "
            ]
          },
          "execution_count": 5,
          "metadata": {},
          "output_type": "execute_result"
        }
      ],
      "source": [
        "df.head()"
      ]
    },
    {
      "attachments": {},
      "cell_type": "markdown",
      "metadata": {},
      "source": [
        "반대로 뒤에서부터 데이터를 확인하려면 `tail(n)` 함수를 사용합니다."
      ]
    },
    {
      "cell_type": "code",
      "execution_count": 6,
      "metadata": {},
      "outputs": [
        {
          "data": {
            "text/html": [
              "<div>\n",
              "<style scoped>\n",
              "    .dataframe tbody tr th:only-of-type {\n",
              "        vertical-align: middle;\n",
              "    }\n",
              "\n",
              "    .dataframe tbody tr th {\n",
              "        vertical-align: top;\n",
              "    }\n",
              "\n",
              "    .dataframe thead th {\n",
              "        text-align: right;\n",
              "    }\n",
              "</style>\n",
              "<table border=\"1\" class=\"dataframe\">\n",
              "  <thead>\n",
              "    <tr style=\"text-align: right;\">\n",
              "      <th></th>\n",
              "      <th>Unnamed: 0</th>\n",
              "      <th>날짜</th>\n",
              "      <th>요일</th>\n",
              "      <th>공휴일</th>\n",
              "      <th>날씨</th>\n",
              "      <th>어른</th>\n",
              "      <th>청소년</th>\n",
              "      <th>어린이</th>\n",
              "      <th>외국인</th>\n",
              "      <th>단체</th>\n",
              "      <th>총입장객수</th>\n",
              "      <th>연</th>\n",
              "      <th>월</th>\n",
              "      <th>일</th>\n",
              "      <th>매출액</th>\n",
              "    </tr>\n",
              "  </thead>\n",
              "  <tbody>\n",
              "    <tr>\n",
              "      <th>1081</th>\n",
              "      <td>1081</td>\n",
              "      <td>2019-03-27</td>\n",
              "      <td>수</td>\n",
              "      <td>X</td>\n",
              "      <td>구름 많음</td>\n",
              "      <td>464</td>\n",
              "      <td>10.0</td>\n",
              "      <td>30</td>\n",
              "      <td>21</td>\n",
              "      <td>0</td>\n",
              "      <td>1117</td>\n",
              "      <td>2019</td>\n",
              "      <td>3</td>\n",
              "      <td>27</td>\n",
              "      <td>5040000</td>\n",
              "    </tr>\n",
              "    <tr>\n",
              "      <th>1082</th>\n",
              "      <td>1082</td>\n",
              "      <td>2019-03-28</td>\n",
              "      <td>목</td>\n",
              "      <td>X</td>\n",
              "      <td>구름 많음</td>\n",
              "      <td>687</td>\n",
              "      <td>46.0</td>\n",
              "      <td>28</td>\n",
              "      <td>35</td>\n",
              "      <td>108</td>\n",
              "      <td>1665</td>\n",
              "      <td>2019</td>\n",
              "      <td>3</td>\n",
              "      <td>28</td>\n",
              "      <td>7610000</td>\n",
              "    </tr>\n",
              "    <tr>\n",
              "      <th>1083</th>\n",
              "      <td>1083</td>\n",
              "      <td>2019-03-29</td>\n",
              "      <td>금</td>\n",
              "      <td>X</td>\n",
              "      <td>구름 조금</td>\n",
              "      <td>1447</td>\n",
              "      <td>120.0</td>\n",
              "      <td>77</td>\n",
              "      <td>14</td>\n",
              "      <td>188</td>\n",
              "      <td>2870</td>\n",
              "      <td>2019</td>\n",
              "      <td>3</td>\n",
              "      <td>29</td>\n",
              "      <td>16440000</td>\n",
              "    </tr>\n",
              "    <tr>\n",
              "      <th>1084</th>\n",
              "      <td>1084</td>\n",
              "      <td>2019-03-30</td>\n",
              "      <td>토</td>\n",
              "      <td>O</td>\n",
              "      <td>흐림</td>\n",
              "      <td>1326</td>\n",
              "      <td>44.0</td>\n",
              "      <td>169</td>\n",
              "      <td>29</td>\n",
              "      <td>115</td>\n",
              "      <td>2452</td>\n",
              "      <td>2019</td>\n",
              "      <td>3</td>\n",
              "      <td>30</td>\n",
              "      <td>15390000</td>\n",
              "    </tr>\n",
              "    <tr>\n",
              "      <th>1085</th>\n",
              "      <td>1085</td>\n",
              "      <td>2019-03-31</td>\n",
              "      <td>일</td>\n",
              "      <td>O</td>\n",
              "      <td>구름 조금</td>\n",
              "      <td>2563</td>\n",
              "      <td>111.0</td>\n",
              "      <td>387</td>\n",
              "      <td>53</td>\n",
              "      <td>0</td>\n",
              "      <td>4418</td>\n",
              "      <td>2019</td>\n",
              "      <td>3</td>\n",
              "      <td>31</td>\n",
              "      <td>30610000</td>\n",
              "    </tr>\n",
              "  </tbody>\n",
              "</table>\n",
              "</div>"
            ],
            "text/plain": [
              "      Unnamed: 0          날짜 요일 공휴일     날씨    어른    청소년  어린이  외국인   단체  총입장객수  \\\n",
              "1081        1081  2019-03-27  수   X  구름 많음   464   10.0   30   21    0   1117   \n",
              "1082        1082  2019-03-28  목   X  구름 많음   687   46.0   28   35  108   1665   \n",
              "1083        1083  2019-03-29  금   X  구름 조금  1447  120.0   77   14  188   2870   \n",
              "1084        1084  2019-03-30  토   O     흐림  1326   44.0  169   29  115   2452   \n",
              "1085        1085  2019-03-31  일   O  구름 조금  2563  111.0  387   53    0   4418   \n",
              "\n",
              "         연  월   일       매출액  \n",
              "1081  2019  3  27   5040000  \n",
              "1082  2019  3  28   7610000  \n",
              "1083  2019  3  29  16440000  \n",
              "1084  2019  3  30  15390000  \n",
              "1085  2019  3  31  30610000  "
            ]
          },
          "execution_count": 6,
          "metadata": {},
          "output_type": "execute_result"
        }
      ],
      "source": [
        "df.tail()"
      ]
    },
    {
      "attachments": {},
      "cell_type": "markdown",
      "metadata": {},
      "source": [
        "이렇게 데이터를 불러왔다면 먼저 `head()`함수나 `tail()`함수를 이용해 데이터의 모양을 살펴보는 것이 좋습니다.\n",
        "\n",
        "다음에는 `info()`함수를 이용해 데이터의 칼럼의 정보를 살펴보겠습니다."
      ]
    },
    {
      "cell_type": "code",
      "execution_count": 7,
      "metadata": {},
      "outputs": [
        {
          "name": "stdout",
          "output_type": "stream",
          "text": [
            "<class 'pandas.core.frame.DataFrame'>\n",
            "RangeIndex: 1086 entries, 0 to 1085\n",
            "Data columns (total 15 columns):\n",
            " #   Column      Non-Null Count  Dtype  \n",
            "---  ------      --------------  -----  \n",
            " 0   Unnamed: 0  1086 non-null   int64  \n",
            " 1   날짜          1086 non-null   object \n",
            " 2   요일          1086 non-null   object \n",
            " 3   공휴일         1086 non-null   object \n",
            " 4   날씨          939 non-null    object \n",
            " 5   어른          1086 non-null   int64  \n",
            " 6   청소년         1086 non-null   float64\n",
            " 7   어린이         1086 non-null   int64  \n",
            " 8   외국인         1086 non-null   int64  \n",
            " 9   단체          1086 non-null   int64  \n",
            " 10  총입장객수       1086 non-null   int64  \n",
            " 11  연           1086 non-null   int64  \n",
            " 12  월           1086 non-null   int64  \n",
            " 13  일           1086 non-null   int64  \n",
            " 14  매출액         1086 non-null   int64  \n",
            "dtypes: float64(1), int64(10), object(4)\n",
            "memory usage: 127.4+ KB\n"
          ]
        }
      ],
      "source": [
        "df.info()"
      ]
    },
    {
      "attachments": {},
      "cell_type": "markdown",
      "metadata": {},
      "source": [
        "## 2. 박스 그래프 그리기"
      ]
    },
    {
      "attachments": {},
      "cell_type": "markdown",
      "metadata": {},
      "source": [
        "### 2-1 데이터 추출하기"
      ]
    },
    {
      "attachments": {},
      "cell_type": "markdown",
      "metadata": {},
      "source": [
        "먼저 이번 실습에서 사용할 데이터를 추출해보겠습니다.\n",
        "\n",
        "`df`에서 `\"연\"` 칼럼이 2018이고 `\"월\"` 칼럼이 4인 데이터를 추출하는 코드입니다. "
      ]
    },
    {
      "cell_type": "code",
      "execution_count": 11,
      "metadata": {},
      "outputs": [
        {
          "data": {
            "text/html": [
              "<div>\n",
              "<style scoped>\n",
              "    .dataframe tbody tr th:only-of-type {\n",
              "        vertical-align: middle;\n",
              "    }\n",
              "\n",
              "    .dataframe tbody tr th {\n",
              "        vertical-align: top;\n",
              "    }\n",
              "\n",
              "    .dataframe thead th {\n",
              "        text-align: right;\n",
              "    }\n",
              "</style>\n",
              "<table border=\"1\" class=\"dataframe\">\n",
              "  <thead>\n",
              "    <tr style=\"text-align: right;\">\n",
              "      <th></th>\n",
              "      <th>Unnamed: 0</th>\n",
              "      <th>날짜</th>\n",
              "      <th>요일</th>\n",
              "      <th>공휴일</th>\n",
              "      <th>날씨</th>\n",
              "      <th>어른</th>\n",
              "      <th>청소년</th>\n",
              "      <th>어린이</th>\n",
              "      <th>외국인</th>\n",
              "      <th>단체</th>\n",
              "      <th>총입장객수</th>\n",
              "      <th>연</th>\n",
              "      <th>월</th>\n",
              "      <th>일</th>\n",
              "      <th>매출액</th>\n",
              "    </tr>\n",
              "  </thead>\n",
              "  <tbody>\n",
              "    <tr>\n",
              "      <th>721</th>\n",
              "      <td>721</td>\n",
              "      <td>2018-04-01</td>\n",
              "      <td>일</td>\n",
              "      <td>O</td>\n",
              "      <td>흐림</td>\n",
              "      <td>9247</td>\n",
              "      <td>197.0</td>\n",
              "      <td>1455</td>\n",
              "      <td>156</td>\n",
              "      <td>36</td>\n",
              "      <td>15121</td>\n",
              "      <td>2018</td>\n",
              "      <td>4</td>\n",
              "      <td>1</td>\n",
              "      <td>108990000</td>\n",
              "    </tr>\n",
              "    <tr>\n",
              "      <th>722</th>\n",
              "      <td>722</td>\n",
              "      <td>2018-04-02</td>\n",
              "      <td>월</td>\n",
              "      <td>X</td>\n",
              "      <td>NaN</td>\n",
              "      <td>1697</td>\n",
              "      <td>13.0</td>\n",
              "      <td>108</td>\n",
              "      <td>12</td>\n",
              "      <td>30</td>\n",
              "      <td>2785</td>\n",
              "      <td>2018</td>\n",
              "      <td>4</td>\n",
              "      <td>2</td>\n",
              "      <td>18180000</td>\n",
              "    </tr>\n",
              "    <tr>\n",
              "      <th>723</th>\n",
              "      <td>723</td>\n",
              "      <td>2018-04-03</td>\n",
              "      <td>화</td>\n",
              "      <td>X</td>\n",
              "      <td>NaN</td>\n",
              "      <td>1861</td>\n",
              "      <td>103.0</td>\n",
              "      <td>176</td>\n",
              "      <td>67</td>\n",
              "      <td>271</td>\n",
              "      <td>3689</td>\n",
              "      <td>2018</td>\n",
              "      <td>4</td>\n",
              "      <td>3</td>\n",
              "      <td>21400000</td>\n",
              "    </tr>\n",
              "    <tr>\n",
              "      <th>724</th>\n",
              "      <td>724</td>\n",
              "      <td>2018-04-04</td>\n",
              "      <td>수</td>\n",
              "      <td>X</td>\n",
              "      <td>NaN</td>\n",
              "      <td>1453</td>\n",
              "      <td>47.0</td>\n",
              "      <td>85</td>\n",
              "      <td>32</td>\n",
              "      <td>0</td>\n",
              "      <td>2575</td>\n",
              "      <td>2018</td>\n",
              "      <td>4</td>\n",
              "      <td>4</td>\n",
              "      <td>15850000</td>\n",
              "    </tr>\n",
              "    <tr>\n",
              "      <th>725</th>\n",
              "      <td>725</td>\n",
              "      <td>2018-04-05</td>\n",
              "      <td>목</td>\n",
              "      <td>X</td>\n",
              "      <td>NaN</td>\n",
              "      <td>145</td>\n",
              "      <td>408.0</td>\n",
              "      <td>6</td>\n",
              "      <td>7</td>\n",
              "      <td>394</td>\n",
              "      <td>992</td>\n",
              "      <td>2018</td>\n",
              "      <td>4</td>\n",
              "      <td>5</td>\n",
              "      <td>5590000</td>\n",
              "    </tr>\n",
              "  </tbody>\n",
              "</table>\n",
              "</div>"
            ],
            "text/plain": [
              "     Unnamed: 0          날짜 요일 공휴일   날씨    어른    청소년   어린이  외국인   단체  총입장객수  \\\n",
              "721         721  2018-04-01  일   O   흐림  9247  197.0  1455  156   36  15121   \n",
              "722         722  2018-04-02  월   X  NaN  1697   13.0   108   12   30   2785   \n",
              "723         723  2018-04-03  화   X  NaN  1861  103.0   176   67  271   3689   \n",
              "724         724  2018-04-04  수   X  NaN  1453   47.0    85   32    0   2575   \n",
              "725         725  2018-04-05  목   X  NaN   145  408.0     6    7  394    992   \n",
              "\n",
              "        연  월  일        매출액  \n",
              "721  2018  4  1  108990000  \n",
              "722  2018  4  2   18180000  \n",
              "723  2018  4  3   21400000  \n",
              "724  2018  4  4   15850000  \n",
              "725  2018  4  5    5590000  "
            ]
          },
          "execution_count": 11,
          "metadata": {},
          "output_type": "execute_result"
        }
      ],
      "source": [
        "df_2018_apr = df[(df[\"연\"] == 2018) & (df[\"월\"] == 4)]\n",
        "# 2018년 4월의 데이터\n",
        "df_2018_apr.head()"
      ]
    },
    {
      "attachments": {},
      "cell_type": "markdown",
      "metadata": {},
      "source": [
        "### 2-2 matplotlib"
      ]
    },
    {
      "attachments": {},
      "cell_type": "markdown",
      "metadata": {},
      "source": [
        "이제 이 데이터에서 어린이 입장객의 데이터를 박스 그래프로 표현해보겠습니다."
      ]
    },
    {
      "cell_type": "code",
      "execution_count": 12,
      "metadata": {},
      "outputs": [
        {
          "data": {
            "image/png": "[encoded data removed]",
            "text/plain": [
              "<Figure size 640x480 with 1 Axes>"
            ]
          },
          "metadata": {},
          "output_type": "display_data"
        }
      ],
      "source": [
        "plt.boxplot(df_2018_apr[\"어린이\"])\n",
        "plt.show()"
      ]
    },
    {
      "attachments": {},
      "cell_type": "markdown",
      "metadata": {},
      "source": [
        "다수의 박스 그래프를 그릴때는 리스트로 데이터를 묶어서 전달할 수 있습니다."
      ]
    },
    {
      "cell_type": "code",
      "execution_count": 13,
      "metadata": {},
      "outputs": [
        {
          "data": {
            "image/png": "[encoded data removed]",
            "text/plain": [
              "<Figure size 640x480 with 1 Axes>"
            ]
          },
          "metadata": {},
          "output_type": "display_data"
        }
      ],
      "source": [
        "plt.boxplot([df_2018_apr[\"어린이\"], df_2018_apr[\"어른\"], df_2018_apr[\"청소년\"]])\n",
        "plt.xticks([1, 2, 3], labels=[\"어린이\", \"어른\", \"청소년\"])\n",
        "plt.title(\"2018년 4월의 입장객 수\")\n",
        "plt.show()"
      ]
    },
    {
      "attachments": {},
      "cell_type": "markdown",
      "metadata": {},
      "source": [
        "### 2-3. Seaborn"
      ]
    },
    {
      "attachments": {},
      "cell_type": "markdown",
      "metadata": {},
      "source": [
        "Seaborn에서 박스 그래프를 그리려면 `sns.boxplot()`함수를 사용합니다."
      ]
    },
    {
      "cell_type": "code",
      "execution_count": 14,
      "metadata": {},
      "outputs": [
        {
          "data": {
            "text/plain": [
              "<Axes: ylabel='어린이'>"
            ]
          },
          "execution_count": 14,
          "metadata": {},
          "output_type": "execute_result"
        },
        {
          "data": {
            "image/png": "[encoded data removed]",
            "text/plain": [
              "<Figure size 640x480 with 1 Axes>"
            ]
          },
          "metadata": {},
          "output_type": "display_data"
        }
      ],
      "source": [
        "sns.boxplot(data=df_2018_apr, y=\"어린이\")"
      ]
    },
    {
      "attachments": {},
      "cell_type": "markdown",
      "metadata": {},
      "source": [
        "다음엔 2018년의 월별 어린이 입장객의 수를 시각해보겠습니다.\n",
        "\n",
        "먼저 2018년의 데이터를 가져옵니다."
      ]
    },
    {
      "cell_type": "code",
      "execution_count": 15,
      "metadata": {},
      "outputs": [
        {
          "data": {
            "text/html": [
              "<div>\n",
              "<style scoped>\n",
              "    .dataframe tbody tr th:only-of-type {\n",
              "        vertical-align: middle;\n",
              "    }\n",
              "\n",
              "    .dataframe tbody tr th {\n",
              "        vertical-align: top;\n",
              "    }\n",
              "\n",
              "    .dataframe thead th {\n",
              "        text-align: right;\n",
              "    }\n",
              "</style>\n",
              "<table border=\"1\" class=\"dataframe\">\n",
              "  <thead>\n",
              "    <tr style=\"text-align: right;\">\n",
              "      <th></th>\n",
              "      <th>Unnamed: 0</th>\n",
              "      <th>날짜</th>\n",
              "      <th>요일</th>\n",
              "      <th>공휴일</th>\n",
              "      <th>날씨</th>\n",
              "      <th>어른</th>\n",
              "      <th>청소년</th>\n",
              "      <th>어린이</th>\n",
              "      <th>외국인</th>\n",
              "      <th>단체</th>\n",
              "      <th>총입장객수</th>\n",
              "      <th>연</th>\n",
              "      <th>월</th>\n",
              "      <th>일</th>\n",
              "      <th>매출액</th>\n",
              "    </tr>\n",
              "  </thead>\n",
              "  <tbody>\n",
              "    <tr>\n",
              "      <th>631</th>\n",
              "      <td>631</td>\n",
              "      <td>2018-01-01</td>\n",
              "      <td>월</td>\n",
              "      <td>O</td>\n",
              "      <td>맑음</td>\n",
              "      <td>1380</td>\n",
              "      <td>99.0</td>\n",
              "      <td>209</td>\n",
              "      <td>40</td>\n",
              "      <td>0</td>\n",
              "      <td>2316</td>\n",
              "      <td>2018</td>\n",
              "      <td>1</td>\n",
              "      <td>1</td>\n",
              "      <td>16880000</td>\n",
              "    </tr>\n",
              "    <tr>\n",
              "      <th>632</th>\n",
              "      <td>632</td>\n",
              "      <td>2018-01-02</td>\n",
              "      <td>화</td>\n",
              "      <td>X</td>\n",
              "      <td>구름 조금</td>\n",
              "      <td>344</td>\n",
              "      <td>15.0</td>\n",
              "      <td>44</td>\n",
              "      <td>22</td>\n",
              "      <td>119</td>\n",
              "      <td>988</td>\n",
              "      <td>2018</td>\n",
              "      <td>1</td>\n",
              "      <td>2</td>\n",
              "      <td>4030000</td>\n",
              "    </tr>\n",
              "    <tr>\n",
              "      <th>633</th>\n",
              "      <td>633</td>\n",
              "      <td>2018-01-03</td>\n",
              "      <td>수</td>\n",
              "      <td>X</td>\n",
              "      <td>구름 조금</td>\n",
              "      <td>153</td>\n",
              "      <td>22.0</td>\n",
              "      <td>17</td>\n",
              "      <td>4</td>\n",
              "      <td>0</td>\n",
              "      <td>694</td>\n",
              "      <td>2018</td>\n",
              "      <td>1</td>\n",
              "      <td>3</td>\n",
              "      <td>1920000</td>\n",
              "    </tr>\n",
              "    <tr>\n",
              "      <th>634</th>\n",
              "      <td>634</td>\n",
              "      <td>2018-01-04</td>\n",
              "      <td>목</td>\n",
              "      <td>X</td>\n",
              "      <td>흐림</td>\n",
              "      <td>134</td>\n",
              "      <td>9.0</td>\n",
              "      <td>22</td>\n",
              "      <td>14</td>\n",
              "      <td>1</td>\n",
              "      <td>671</td>\n",
              "      <td>2018</td>\n",
              "      <td>1</td>\n",
              "      <td>4</td>\n",
              "      <td>1650000</td>\n",
              "    </tr>\n",
              "    <tr>\n",
              "      <th>635</th>\n",
              "      <td>635</td>\n",
              "      <td>2018-01-05</td>\n",
              "      <td>금</td>\n",
              "      <td>X</td>\n",
              "      <td>구름 조금</td>\n",
              "      <td>146</td>\n",
              "      <td>12.0</td>\n",
              "      <td>31</td>\n",
              "      <td>8</td>\n",
              "      <td>0</td>\n",
              "      <td>758</td>\n",
              "      <td>2018</td>\n",
              "      <td>1</td>\n",
              "      <td>5</td>\n",
              "      <td>1890000</td>\n",
              "    </tr>\n",
              "  </tbody>\n",
              "</table>\n",
              "</div>"
            ],
            "text/plain": [
              "     Unnamed: 0          날짜 요일 공휴일     날씨    어른   청소년  어린이  외국인   단체  총입장객수  \\\n",
              "631         631  2018-01-01  월   O     맑음  1380  99.0  209   40    0   2316   \n",
              "632         632  2018-01-02  화   X  구름 조금   344  15.0   44   22  119    988   \n",
              "633         633  2018-01-03  수   X  구름 조금   153  22.0   17    4    0    694   \n",
              "634         634  2018-01-04  목   X     흐림   134   9.0   22   14    1    671   \n",
              "635         635  2018-01-05  금   X  구름 조금   146  12.0   31    8    0    758   \n",
              "\n",
              "        연  월  일       매출액  \n",
              "631  2018  1  1  16880000  \n",
              "632  2018  1  2   4030000  \n",
              "633  2018  1  3   1920000  \n",
              "634  2018  1  4   1650000  \n",
              "635  2018  1  5   1890000  "
            ]
          },
          "execution_count": 15,
          "metadata": {},
          "output_type": "execute_result"
        }
      ],
      "source": [
        "df_2018 = df[df[\"연\"] == 2018]\n",
        "df_2018.head()"
      ]
    },
    {
      "cell_type": "code",
      "execution_count": 16,
      "metadata": {},
      "outputs": [
        {
          "data": {
            "text/plain": [
              "<Axes: xlabel='월', ylabel='어린이'>"
            ]
          },
          "execution_count": 16,
          "metadata": {},
          "output_type": "execute_result"
        },
        {
          "data": {
            "image/png": "[encoded data removed]",
            "text/plain": [
              "<Figure size 640x480 with 1 Axes>"
            ]
          },
          "metadata": {},
          "output_type": "display_data"
        }
      ],
      "source": [
        "sns.boxplot(data=df_2018, x=\"월\", y=\"어린이\")"
      ]
    },
    {
      "attachments": {},
      "cell_type": "markdown",
      "metadata": {},
      "source": [
        "이렇게 x축과 y 축을 선택하면 원하는 유형의 박스 그래프를 그릴 수 있습니다."
      ]
    },
    {
      "attachments": {},
      "cell_type": "markdown",
      "metadata": {},
      "source": [
        "## [TODO] "
      ]
    },
    {
      "attachments": {},
      "cell_type": "markdown",
      "metadata": {},
      "source": [
        "아래 조건을 만족하는 박스 그래프를 그리세요\n",
        "\n",
        "- `df_2016`에 2016년의 데이터를 넣으세요\n",
        "- `sns.boxplot`을 이용해서 x축은 월을, y축은 어른 입장객의 수를 넣어 박스 그래프를 그리세요\n",
        "\n",
        "`None`을 지우고 코드를 완성해보세요."
      ]
    },
    {
      "cell_type": "code",
      "execution_count": 28,
      "metadata": {},
      "outputs": [
        {
          "data": {
            "image/png": "[encoded data removed]",
            "text/plain": [
              "<Figure size 640x480 with 1 Axes>"
            ]
          },
          "metadata": {},
          "output_type": "display_data"
        }
      ],
      "source": [
        "df_2016 = df[df[\"연\"] == 2016]\n",
        "ax = sns.boxplot(data=df_2016, x='월', y='어른')\n",
        "ax.set_title(\"2016년 성인 입장객 수\")\n",
        "plt.show()"
      ]
    },
    {
      "attachments": {},
      "cell_type": "markdown",
      "metadata": {},
      "source": [
        "위조건을 만족하는 그래프를 그리면 아래와 같은 그래프가 나타납니다.\n",
        "\n",
        "![](https://cdn-api.elice.io/api-attachment/attachment/c535a948dba54882be60763a187399a4/output.png)"
      ]
    },
    {
      "attachments": {},
      "cell_type": "markdown",
      "metadata": {},
      "source": [
        "**위에서 문제를 해결하셨다면 아래 코드를 실행하시고 제출을 눌러보세요!**"
      ]
    },
    {
      "cell_type": "code",
      "execution_count": 17,
      "metadata": {},
      "outputs": [],
      "source": [
        "# 아래 코드는 제출을 위한 코드로 수정하시면 정상적인 평가가 어려울 수 있습니다.\n",
        "from submit import submit\n",
        "\n",
        "submit(data=df_2016, todo_axes=ax)"
      ]
    }
  ],
  "metadata": {
    "colab": {
      "provenance": []
    },
    "kernelspec": {
      "display_name": "tora",
      "language": "python",
      "name": "tora"
    },
    "language_info": {
      "codemirror_mode": {
        "name": "ipython",
        "version": 3
      },
      "file_extension": ".py",
      "mimetype": "text/x-python",
      "name": "python",
      "nbconvert_exporter": "python",
      "pygments_lexer": "ipython3",
      "version": "3.12.7"
    }
  },
  "nbformat": 4,
  "nbformat_minor": 0
}

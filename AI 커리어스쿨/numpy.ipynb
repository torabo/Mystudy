{
 "cells": [
  {
   "cell_type": "markdown",
   "metadata": {},
   "source": [
    "# 실습 1\n",
    "> 0부터 5사이 랜덤한 값이 담긴 3x5 array를 만들어 봅시다!\n"
   ]
  },
  {
   "cell_type": "code",
   "execution_count": 2,
   "metadata": {},
   "outputs": [
    {
     "data": {
      "text/plain": [
       "array([[3, 4, 0, 3, 2],\n",
       "       [0, 2, 3, 3, 1],\n",
       "       [1, 0, 1, 2, 0]])"
      ]
     },
     "execution_count": 2,
     "metadata": {},
     "output_type": "execute_result"
    }
   ],
   "source": [
    "import numpy as np\n",
    "array = np.random.randint(0,5,(3,5))\n",
    "\n",
    "array"
   ]
  },
  {
   "cell_type": "markdown",
   "metadata": {},
   "source": [
    "# 실습 2, 3"
   ]
  },
  {
   "cell_type": "code",
   "execution_count": null,
   "metadata": {},
   "outputs": [],
   "source": [
    "import numpy as np\n",
    "\n",
    "print(\"1차원 array\")\n",
    "array = np.arange(10)\n",
    "print(array)\n",
    "\n",
    "# Q1. array의 자료형을 출력해 보세요.\n",
    "print(type(array))\n",
    "\n",
    "# Q2. array의 차원을 출력해 보세요.\n",
    "print(array.ndim)\n",
    "\n",
    "# Q3. array의 모양을 출력해 보세요.\n",
    "print(array.shape)\n",
    "\n",
    "# Q4. array의 크기를 출력해 보세요.\n",
    "print(array.size)\n",
    "\n",
    "# Q5. array의 dtype(data type)을 출력해 보세요.\n",
    "print(array.dtype)\n",
    "\n",
    "# Q6. array의 인덱스 5의 요소를 출력해 보세요.\n",
    "print(array[5])\n",
    "\n",
    "# Q7. array의 인덱스 3의 요소부터 인덱스 5 요소까지 출력해 보세요.\n",
    "print(array[3:6])\n"
   ]
  },
  {
   "cell_type": "code",
   "execution_count": null,
   "metadata": {},
   "outputs": [],
   "source": [
    "import numpy as np\n",
    "\n",
    "print(\"2차원 array\")\n",
    "matrix = np.arange(1, 16).reshape(3,5)  #1부터 15까지 들어있는 (3,5)짜리 배열을 만듭니다.\n",
    "print(matrix)\n",
    "\n",
    "\n",
    "# Q1. matrix의 자료형을 출력해 보세요.\n",
    "print(type(matrix))\n",
    "\n",
    "# Q2. matrix의 차원을 출력해 보세요.\n",
    "print(matrix.ndim)\n",
    "\n",
    "# Q3. matrix의 모양을 출력해 보세요.\n",
    "print(matrix.shape)\n",
    "\n",
    "# Q4. matrix의 크기를 출력해 보세요.\n",
    "print(matrix.size)\n",
    "\n",
    "# Q5. matrix의 dtype(data type)을 출력해 보세요.\n",
    "print(matrix.dtype)\n",
    "\n",
    "# Q6. matrix의 (2,3) 인덱스의 요소를 출력해 보세요.\n",
    "print(matrix[2,3])\n",
    "\n",
    "# Q7. matrix의 행은 인덱스 0부터 인덱스 1까지, 열은 인덱스 1부터 인덱스 3까지 출력해 보세요.\n",
    "print(matrix[0:2,1:4])\n"
   ]
  },
  {
   "cell_type": "markdown",
   "metadata": {},
   "source": [
    "# 실습 4, 5, 6"
   ]
  },
  {
   "cell_type": "markdown",
   "metadata": {},
   "source": [
    "Reshape & 이어붙이고 나누기 (1)"
   ]
  },
  {
   "cell_type": "code",
   "execution_count": 1,
   "metadata": {},
   "outputs": [
    {
     "name": "stdout",
     "output_type": "stream",
     "text": [
      "array\n",
      "[0 1 2 3 4 5 6 7]\n",
      "shape :  (8,) \n",
      "\n",
      "# reshape (2, 4)\n",
      "[[0 1 2 3]\n",
      " [4 5 6 7]]\n",
      "shape :  (2, 4)\n"
     ]
    }
   ],
   "source": [
    "import numpy as np\n",
    "\n",
    "print(\"array\")\n",
    "array = np.arange(8)\n",
    "print(array)\n",
    "print(\"shape : \", array.shape, \"\\n\")\n",
    "\n",
    "# Q1. array를 (2,4) 크기로 reshape하여 matrix에 저장한 뒤 matrix와 그의 shape를 출력해 보세요.\n",
    "print(\"# reshape (2, 4)\")\n",
    "matrix = array.reshape(2,4)\n",
    "\n",
    "\n",
    "print(matrix)\n",
    "print(\"shape : \", matrix.shape)\n"
   ]
  },
  {
   "cell_type": "markdown",
   "metadata": {},
   "source": [
    "Reshape & 이어붙이고 나누기 (2)"
   ]
  },
  {
   "cell_type": "code",
   "execution_count": 4,
   "metadata": {},
   "outputs": [
    {
     "name": "stdout",
     "output_type": "stream",
     "text": [
      "matrix\n",
      "[[0 1 2 3]\n",
      " [4 5 6 7]]\n",
      "shape :  (2, 4) \n",
      "\n",
      "[[0 1 2 3]\n",
      " [4 5 6 7]\n",
      " [0 1 2 3]\n",
      " [4 5 6 7]]\n",
      "[[0 1 2 3 0 1 2 3]\n",
      " [4 5 6 7 4 5 6 7]]\n"
     ]
    }
   ],
   "source": [
    "import numpy as np\n",
    "\n",
    "print(\"matrix\")\n",
    "matrix = np.array([[0,1,2,3],\n",
    "                   [4,5,6,7]])\n",
    "print(matrix)\n",
    "print(\"shape : \", matrix.shape, \"\\n\")\n",
    "\n",
    "\n",
    "# Q1. matrix 두 개를 세로로 붙이기 \n",
    "m = np.concatenate([matrix, matrix], axis =0 )\n",
    "print(m)\n",
    "\n",
    "\n",
    "# Q2. matrix 두 개를 가로로 붙이기\n",
    "\n",
    "n = np.concatenate([matrix, matrix], axis = 1)\n",
    "print(n)\n",
    "\n"
   ]
  },
  {
   "cell_type": "markdown",
   "metadata": {},
   "source": [
    "Reshape & 이어붙이고 나누기 (3)"
   ]
  },
  {
   "cell_type": "code",
   "execution_count": 5,
   "metadata": {},
   "outputs": [
    {
     "name": "stdout",
     "output_type": "stream",
     "text": [
      "matrix\n",
      "[[ 0  1  2  3]\n",
      " [ 4  5  6  7]\n",
      " [ 8  9 10 11]\n",
      " [12 13 14 15]] \n",
      "\n",
      "[[ 0  1  2  3]\n",
      " [ 4  5  6  7]\n",
      " [ 8  9 10 11]] \n",
      "\n",
      "[[12 13 14 15]] \n",
      "\n",
      "[[ 0]\n",
      " [ 4]\n",
      " [ 8]\n",
      " [12]] \n",
      "\n",
      "[[ 1  2  3]\n",
      " [ 5  6  7]\n",
      " [ 9 10 11]\n",
      " [13 14 15]]\n"
     ]
    }
   ],
   "source": [
    "import numpy as np\n",
    "\n",
    "print(\"matrix\")\n",
    "matrix = np.array([[ 0, 1, 2, 3],\n",
    "                   [ 4, 5, 6, 7],\n",
    "                   [ 8, 9,10,11], \n",
    "                   [12,13,14,15]])\n",
    "print(matrix, \"\\n\")\n",
    "\n",
    "# Q1. matrix를 [3] 행에서 axis 0으로 나누기\n",
    "'''\n",
    "[[0  1   2  3]\n",
    " [4  5   6  7]\n",
    " [8  9  10 11]],\n",
    "\n",
    " [12 13 14 15]\n",
    "'''\n",
    "a, b = np.split(matrix, [3] , axis =0 )\n",
    "\n",
    "print(a, \"\\n\")\n",
    "print(b, \"\\n\")\n",
    "\n",
    "\n",
    "# Q2. matrix를 [1] 열에서 axis 1로 나누기\n",
    "\n",
    "'''\n",
    "[[ 0]\n",
    " [ 4]\n",
    " [ 8]\n",
    " [12]],\n",
    "\n",
    "[[ 1  2  3]\n",
    " [ 5  6  7]\n",
    " [ 9 10 11]\n",
    " [13 14 15]]\n",
    "'''\n",
    "\n",
    "c, d = np.split(matrix, [1] , axis =1 )\n",
    "\n",
    "print(c, \"\\n\")\n",
    "print(d)\n"
   ]
  },
  {
   "cell_type": "markdown",
   "metadata": {},
   "source": [
    "# 실습 7"
   ]
  },
  {
   "cell_type": "code",
   "execution_count": 6,
   "metadata": {},
   "outputs": [
    {
     "name": "stdout",
     "output_type": "stream",
     "text": [
      "[1 2 3 4 5]\n",
      "[ 6  7  8  9 10]\n",
      "[-4 -3 -2 -1  0]\n",
      "[ 5 10 15 20 25]\n",
      "[0.2 0.4 0.6 0.8 1. ]\n",
      "[6 6 6 6 6]\n",
      "[-4 -2  0  2  4]\n"
     ]
    }
   ],
   "source": [
    "import numpy as np\n",
    "\n",
    "array = np.array([1,2,3,4,5])\n",
    "print(array)\n",
    "\n",
    "\n",
    "# Q1. array에 5를 더한 값을 출력해 보세요.\n",
    "print(array+5)\n",
    "# Q2. array에 5를 뺀 값을 출력해 보세요.\n",
    "print(array-5)\n",
    "# Q3. array에 5를 곱한 값을 출력해 보세요.\n",
    "print(array*5)\n",
    "\n",
    "# Q4. array를 5로 나눈 값을 출력해 보세요.\n",
    "print(array/5)\n",
    "\n",
    "\n",
    "# Q5. array에 array2를 더한 값을 출력해 보세요.    \n",
    "array2 = np.array([5,4,3,2,1])\n",
    "\n",
    "print(array+array2)\n",
    "\n",
    "\n",
    "# Q6. array에 array2를 뺀 값을 출력해 보세요.\n",
    "print(array-array2)\n"
   ]
  },
  {
   "cell_type": "markdown",
   "metadata": {},
   "source": [
    "# 실습 8"
   ]
  },
  {
   "cell_type": "code",
   "execution_count": 7,
   "metadata": {},
   "outputs": [
    {
     "name": "stdout",
     "output_type": "stream",
     "text": [
      "[[ 0  1  2  3  4  5]\n",
      " [ 1  2  3  4  5  6]\n",
      " [ 2  3  4  5  6  7]\n",
      " [ 3  4  5  6  7  8]\n",
      " [ 4  5  6  7  8  9]\n",
      " [ 5  6  7  8  9 10]]\n"
     ]
    }
   ],
   "source": [
    "import numpy as np\n",
    "\n",
    "'''\n",
    "[[0]\n",
    " [1]\n",
    " [2]\n",
    " [3]\n",
    " [4]\n",
    " [5]] 배열 A와\n",
    "\n",
    " [0 1 2 3 4 5] 배열 B를 선언하고, 덧셈 연산해 보세요.\n",
    "'''\n",
    "\n",
    "A = np.arange(6).reshape(6,1)\n",
    "B = np.arange(6)\n",
    "\n",
    "print(A+B)"
   ]
  },
  {
   "cell_type": "markdown",
   "metadata": {},
   "source": [
    "# 실습 9, 10"
   ]
  },
  {
   "cell_type": "code",
   "execution_count": 8,
   "metadata": {},
   "outputs": [
    {
     "name": "stdout",
     "output_type": "stream",
     "text": [
      "[[0 1 2 3]\n",
      " [4 5 6 7]]\n",
      "28\n",
      "7\n",
      "0\n",
      "3.5\n",
      "[ 4  6  8 10]\n",
      "[ 6 22]\n",
      "2.29128784747792\n",
      "[0 1 2 3 4]\n"
     ]
    }
   ],
   "source": [
    "import numpy as np\n",
    "\n",
    "matrix = np.arange(8).reshape((2, 4))\n",
    "print(matrix)\n",
    "\n",
    "# Q1. sum 함수로 matrix의 총 합계를 구해 출력해 보세요.\n",
    "print(np.sum(matrix))\n",
    "\n",
    "# Q2. max 함수로 matrix 중 최댓값을 구해 출력해 보세요.\n",
    "print(np.max(matrix))\n",
    "\n",
    "# Q3. min 함수로 matrix 중 최솟값을 구해 출력해 보세요.\n",
    "print(np.min(matrix))\n",
    "\n",
    "# Q4. mean 함수로 matrix의 평균값을 구해 출력해 보세요.\n",
    "print(np.mean(matrix))\n",
    "\n",
    "# Q5. sum 함수의 axis 매개변수로 각 열의 합을 구해 출력해 보세요.\n",
    "print(np.sum(matrix,axis = 0))\n",
    "\n",
    "# Q6. sum 함수의 axis 매개변수로 각 행의 합을 구해 출력해 보세요.\n",
    "print(np.sum(matrix, axis = 1))\n",
    "\n",
    "# Q7. std 함수로 matrix의 표준편차를 구해 출력해 보세요.\n",
    "print(np.std(matrix))\n",
    "\n",
    "# Q8. 마스킹 연산을 이용하여 matrix 중 5보다 작은 수들만 추출하여 출력해 보세요.\n",
    "print(matrix[matrix <5 ])"
   ]
  },
  {
   "cell_type": "markdown",
   "metadata": {},
   "source": [
    "양치기 소년\n",
    "주어진 daily_liar_data 배열은 양치기 소년이 100일 동안 한 말을 정리한 배열입니다.\n",
    "\n",
    "0은 거짓말을 한 날이고, 1은 거짓말을 하지 않은 날입니다.\n",
    "\n",
    "양치기 소년이 100일 중 거짓말을 총 몇 번 했는지, 그 횟수를 세어 정확히 출력해 주세요.\n",
    "\n"
   ]
  },
  {
   "cell_type": "code",
   "execution_count": 13,
   "metadata": {},
   "outputs": [
    {
     "data": {
      "text/plain": [
       "71"
      ]
     },
     "execution_count": 13,
     "metadata": {},
     "output_type": "execute_result"
    }
   ],
   "source": [
    "\n",
    "import numpy as np\n",
    "\n",
    "daily_liar_data = [0, 0, 0, 0, 0, 1, 1, 0, 1, 1, 0, 0, 0, 1, 0, 0, 1, 0, 0, 1, 0, 0, 0, 1, 0, 0, 0, 0, 0, 1, 0, 0, 0, 1, 0, 0, 0, 0, 0, 0, 0, 0, 0, 0, 1, 1, 0, 1, 1, 0, 0, 0, 0, 0, 1, 0, 1, 0, 0, 1, 0, 1, 0, 0, 1, 0, 0, 0, 0, 0, 1, 0, 1, 0, 1, 1, 0, 0, 0, 1, 0, 0, 0, 1, 0, 0, 1, 0, 0, 1, 0, 1, 0, 0, 1, 0, 0, 0, 0, 0]\n",
    "\n",
    "\n",
    "# 양치기 소년이 거짓말을 몇 번 했는지 구하여 출력해 주세요.\n",
    "\n",
    "\n",
    "print(len(daily_liar_data)-sum(daily_liar_data))\n"
   ]
  },
  {
   "cell_type": "code",
   "execution_count": null,
   "metadata": {},
   "outputs": [],
   "source": []
  }
 ],
 "metadata": {
  "kernelspec": {
   "display_name": "tora",
   "language": "python",
   "name": "tora"
  },
  "language_info": {
   "codemirror_mode": {
    "name": "ipython",
    "version": 3
   },
   "file_extension": ".py",
   "mimetype": "text/x-python",
   "name": "python",
   "nbconvert_exporter": "python",
   "pygments_lexer": "ipython3",
   "version": "3.12.7"
  }
 },
 "nbformat": 4,
 "nbformat_minor": 2
}

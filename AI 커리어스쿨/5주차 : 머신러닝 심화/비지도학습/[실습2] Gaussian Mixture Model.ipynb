{
 "cells": [
  {
   "cell_type": "code",
   "execution_count": 2,
   "metadata": {},
   "outputs": [
    {
     "name": "stdout",
     "output_type": "stream",
     "text": [
      "target  cluster\n",
      "0       1          50\n",
      "1       0          45\n",
      "        2           5\n",
      "2       2          50\n",
      "Name: sepal length (cm), dtype: int64\n"
     ]
    },
    {
     "data": {
      "image/png": "[encoded data removed]",
      "text/plain": [
       "<Figure size 640x480 with 1 Axes>"
      ]
     },
     "metadata": {},
     "output_type": "display_data"
    }
   ],
   "source": [
    "import pandas as pd\n",
    "import numpy as np\n",
    "from sklearn.mixture import GaussianMixture\n",
    "from sklearn.datasets import load_iris\n",
    "from sklearn.decomposition import PCA\n",
    "import matplotlib.pyplot as plt\n",
    "\n",
    "# 데이터를 불러오고, 데이터 프레임 형태로 만든 후 반환하는 함수입니다.\n",
    "def load_data():\n",
    "    \n",
    "    iris = load_iris()\n",
    "    \n",
    "    irisDF = pd.DataFrame(data = iris.data, columns = iris.feature_names)\n",
    "    \n",
    "    irisDF['target'] = iris.target\n",
    "    \n",
    "    return irisDF\n",
    "    \n",
    "\"\"\"\n",
    "1. GMM 클러스터링을 \n",
    "   수행하는 함수를 구현합니다.\n",
    "   \n",
    "   Step01. GMM 객체를 불러옵니다.\n",
    "           \n",
    "           군집의 개수는 3,\n",
    "           일관된 결과 확인을 위해 \n",
    "           random_state를 100으로 설정합니다.\n",
    "           \n",
    "   Step02. GMM 클러스터링을 수행합니다.\n",
    "           \n",
    "           클러스터링은 정답이 없는 데이터를\n",
    "           사용하기 때문에 'target' 컬럼을 제거한\n",
    "           데이터를 학습시켜줍니다.\n",
    "           \n",
    "   Step03. 군집화 결과를 \n",
    "           iris 데이터 프레임에 'cluster' 컬럼으로 추가합니다.\n",
    "           \n",
    "\"\"\"\n",
    "def gmm_clus(irisDF):\n",
    "    \n",
    "    gmm = GaussianMixture(n_components= 3, random_state= 100)\n",
    "    \n",
    "    gmm.fit(irisDF.drop('target', axis =1 ))\n",
    "    \n",
    "    irisDF['cluster'] = gmm.predict(irisDF.drop('target', axis =1))\n",
    "    \n",
    "    # 군집화 결과를 보기 위해 groupby 함수를 사용해보겠습니다.\n",
    "    iris_result = irisDF.groupby(['target','cluster'])['sepal length (cm)'].count()\n",
    "    print(iris_result)\n",
    "    \n",
    "    return iris_result, irisDF\n",
    "\n",
    "# 군집화 결과 시각화하기\n",
    "def Visualize(irisDF):\n",
    "    \n",
    "    pca = PCA(n_components=2)\n",
    "    pca_transformed = pca.fit_transform(irisDF)\n",
    "\n",
    "    irisDF['pca_x'] = pca_transformed[:,0]\n",
    "    irisDF['pca_y'] = pca_transformed[:,1]\n",
    "\n",
    "    # 군집된 값이 0, 1, 2 인 경우, 인덱스 추출\n",
    "    idx_0 = irisDF[irisDF['cluster'] == 0].index\n",
    "    idx_1 = irisDF[irisDF['cluster'] == 1].index\n",
    "    idx_2 = irisDF[irisDF['cluster'] == 2].index\n",
    "    \n",
    "    # 각 군집 인덱스의 pca_x, pca_y 값 추출 및 시각화\n",
    "    fig, ax = plt.subplots()\n",
    "    \n",
    "    ax.scatter(x=irisDF.loc[idx_0, 'pca_x'], y= irisDF.loc[idx_0, 'pca_y'], marker = 'o')\n",
    "    ax.scatter(x=irisDF.loc[idx_1, 'pca_x'], y= irisDF.loc[idx_1, 'pca_y'], marker = 's')\n",
    "    ax.scatter(x=irisDF.loc[idx_2, 'pca_x'], y= irisDF.loc[idx_2, 'pca_y'], marker = '^')\n",
    "    ax.set_title('GMM')\n",
    "    ax.set_xlabel('PCA1')\n",
    "    ax.set_ylabel('PCA2')\n",
    "\n",
    "\n",
    "def main():\n",
    "    \n",
    "    irisDF = load_data()\n",
    "    \n",
    "    iris_result, irisDF = gmm_clus(irisDF)\n",
    "    \n",
    "    Visualize(irisDF)\n",
    "    \n",
    "    \n",
    "if __name__ == \"__main__\":\n",
    "    main()\n"
   ]
  }
 ],
 "metadata": {
  "kernelspec": {
   "display_name": "tora",
   "language": "python",
   "name": "tora"
  },
  "language_info": {
   "codemirror_mode": {
    "name": "ipython",
    "version": 3
   },
   "file_extension": ".py",
   "mimetype": "text/x-python",
   "name": "python",
   "nbconvert_exporter": "python",
   "pygments_lexer": "ipython3",
   "version": "3.12.7"
  }
 },
 "nbformat": 4,
 "nbformat_minor": 2
}

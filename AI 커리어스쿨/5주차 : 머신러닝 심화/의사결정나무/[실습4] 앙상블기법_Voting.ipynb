{
 "cells": [
  {
   "cell_type": "code",
   "execution_count": 2,
   "metadata": {},
   "outputs": [],
   "source": [
    "import pandas as pd\n",
    "\n",
    "import warnings\n",
    "warnings.filterwarnings(action='ignore')\n",
    "\n",
    "from sklearn.ensemble import VotingClassifier\n",
    "from sklearn.linear_model import LogisticRegression\n",
    "from sklearn.neighbors import KNeighborsClassifier\n",
    "\n",
    "from sklearn.datasets import load_breast_cancer\n",
    "\n",
    "from sklearn.model_selection import train_test_split\n",
    "from sklearn.metrics import accuracy_score\n",
    "\n",
    "# 유방암 데이터를 불러오고,학습용 데이터와 테스트용 데이터로 분리하여 반환하는 함수입니다.\n",
    "def load_data():\n",
    "    \n",
    "    X, y = load_breast_cancer(return_X_y = True)\n",
    "    \n",
    "    train_X, test_X, train_y ,test_y = train_test_split(X, y, test_size = 0.2, random_state = 156)\n",
    "    \n",
    "    return train_X, test_X, train_y ,test_y\n"
   ]
  },
  {
   "cell_type": "code",
   "execution_count": 3,
   "metadata": {},
   "outputs": [
    {
     "name": "stdout",
     "output_type": "stream",
     "text": [
      "> Voting Classifier 정확도 : 0.9474\n",
      "\n",
      "> LogisticRegression 정확도 : 0.9386\n",
      "> KNeighborsClassifier 정확도 : 0.9035\n"
     ]
    }
   ],
   "source": [
    "\"\"\"\n",
    "1. 다양한 모델을 사용하는 VotingClassifier를 정의하여\n",
    "   학습시키고, 예측을 수행한 결과를 반환하는 함수를 구현합니다.\n",
    "   \n",
    "   Step01. Voting과 비교할 각각 다른 분류 모델을 불러옵니다.\n",
    "            \n",
    "           불러올 분류 모델은 \n",
    "           LogisticRegression, \n",
    "           KNeighborsClassifier 입니다.\n",
    "        \n",
    "   Step02. Voting에 사용할 분류 모델을 설정하여 \n",
    "           VotingClassifier를 정의합니다.\n",
    "           \n",
    "           estimators로는 \n",
    "           'lr'이라는 이름으로 LogisticRegressor인 lr_clf, \n",
    "           'knn'이라는 이름으로 KNeighborClassifier인 knn_clf를 사용합니다.\n",
    "           Voting 방식은 'soft'로 지정합니다.\n",
    "   \n",
    "   Step03. Voting Classifier를\n",
    "           학습용 데이터에 맞춰 학습을 시킵니다.\n",
    "   \n",
    "   Step04. 테스트 데이터에 대한 예측을 수행합니다.\n",
    "\"\"\"\n",
    "def Voting_Clf(train_X, test_X, train_y ,test_y):\n",
    "    \n",
    "    lr_clf = LogisticRegression()\n",
    "    knn_clf = KNeighborsClassifier()\n",
    "    \n",
    "    vo_clf = VotingClassifier(estimators = [('LR', lr_clf), ('KNN' , knn_clf)] , voting = 'soft')\n",
    "    \n",
    "    vo_clf.fit(train_X , train_y)\n",
    "    \n",
    "    pred = vo_clf.predict(test_X)\n",
    "    \n",
    "    return lr_clf, knn_clf, vo_clf, pred\n",
    "    \n",
    "# 데이터를 불러오고, 모델 학습 및 예측을 진행하기 위한 함수입니다.\n",
    "def main():\n",
    "    \n",
    "    train_X, test_X, train_y ,test_y = load_data()\n",
    "    \n",
    "    lr_clf, knn_clf,vo_clf, pred = Voting_Clf(train_X, test_X, train_y ,test_y)\n",
    "    \n",
    "    print('> Voting Classifier 정확도 : {0:.4f}\\n'.format(accuracy_score(test_y, pred)))\n",
    "    \n",
    "    # 다른 분류기를 각각 학습했을 때 결과 예측\n",
    "    classifiers = [lr_clf, knn_clf]\n",
    "    for classifier in classifiers:\n",
    "        classifier.fit(train_X, train_y)\n",
    "        pred = classifier.predict(test_X)\n",
    "        class_name = classifier.__class__.__name__\n",
    "        print(\"> {0} 정확도 : {1:.4f}\".format(class_name, accuracy_score(test_y, pred)))\n",
    "\n",
    "if __name__ ==\"__main__\":\n",
    "    main()"
   ]
  },
  {
   "cell_type": "code",
   "execution_count": null,
   "metadata": {},
   "outputs": [],
   "source": []
  }
 ],
 "metadata": {
  "kernelspec": {
   "display_name": "tora",
   "language": "python",
   "name": "tora"
  },
  "language_info": {
   "codemirror_mode": {
    "name": "ipython",
    "version": 3
   },
   "file_extension": ".py",
   "mimetype": "text/x-python",
   "name": "python",
   "nbconvert_exporter": "python",
   "pygments_lexer": "ipython3",
   "version": "3.12.7"
  }
 },
 "nbformat": 4,
 "nbformat_minor": 2
}

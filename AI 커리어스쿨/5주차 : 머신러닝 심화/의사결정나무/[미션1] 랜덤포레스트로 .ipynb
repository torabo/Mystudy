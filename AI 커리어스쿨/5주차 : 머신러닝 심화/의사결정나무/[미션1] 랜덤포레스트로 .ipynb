{
 "cells": [
  {
   "cell_type": "code",
   "execution_count": 17,
   "metadata": {},
   "outputs": [],
   "source": [
    "from sklearn.ensemble import RandomForestClassifier\n",
    "from sklearn.metrics import accuracy_score\n",
    "\n",
    "import warnings\n",
    "warnings.filterwarnings(action='ignore')\n",
    "\n",
    "from sklearn.model_selection import train_test_split\n",
    "from sklearn.datasets import load_breast_cancer\n",
    "\n",
    "# 유방암 데이터를 불러오고,학습용 데이터와 테스트용 데이터로 분리하여 반환하는 함수입니다.\n",
    "def load_data():\n",
    "    X, y = load_breast_cancer(return_X_y = True)\n",
    "    \n",
    "    train_X, test_X, train_y ,test_y = train_test_split(X, y, test_size = 0.2, random_state = 156)\n",
    "    \n",
    "    return train_X, test_X, train_y ,test_y\n",
    "    \n",
    "\"\"\"\n",
    "1. 랜덤포레스트 분류 모델을 불러오고,\n",
    "   학습 및 예측을 수행하여 결과를 반환하는 \n",
    "   함수를 구현합니다.\n",
    "   \n",
    "   Step01. 분류를 위한 \n",
    "           랜덤포레스트 모델을 정의합니다.\n",
    "           \n",
    "           random_state 파라미터를 100으로\n",
    "           설정합니다.\n",
    "           \n",
    "           이 외 모든 파라미터는 \n",
    "           자유롭게 설정해보세요. \n",
    "           \n",
    "   Step02. 랜덤포레스트 모델을 \n",
    "           학습용 데이터에 대해 학습시킵니다.\n",
    "           \n",
    "   Step03. 테스트 데이터에 대한 \n",
    "           분류 결과를 예측합니다.\n",
    "\"\"\"\n",
    "def Random_clf(train_X, train_y, test_X):\n",
    "    \n",
    "    rfc = RandomForestClassifier(\n",
    "        n_estimators=50 ,\n",
    "        max_depth= 300 , \n",
    "        min_samples_leaf= 3,\n",
    "        min_samples_split=5 ,\n",
    "        random_state=100)\n",
    "    \n",
    "    rfc.fit(train_X, train_y)\n",
    "    \n",
    "    pred = rfc.predict(test_X)\n",
    "    \n",
    "    return rfc, pred\n",
    "    \n",
    "    "
   ]
  },
  {
   "cell_type": "code",
   "execution_count": 18,
   "metadata": {},
   "outputs": [
    {
     "name": "stdout",
     "output_type": "stream",
     "text": [
      "테스트 데이터 예측 정확도 : 0.9561\n"
     ]
    }
   ],
   "source": [
    "\n",
    "# 데이터를 불러오고, 모델 학습 및 예측을 진행하기 위한 함수입니다.\n",
    "def main():\n",
    "    \n",
    "    train_X, test_X, train_y ,test_y = load_data()\n",
    "    \n",
    "    rfc, pred = Random_clf(train_X, train_y, test_X)\n",
    "    \n",
    "    print('테스트 데이터 예측 정확도 : {0:.4f}'.format(accuracy_score(test_y, pred)))\n",
    "    \n",
    "if __name__ == \"__main__\":\n",
    "    main()\n"
   ]
  },
  {
   "cell_type": "code",
   "execution_count": null,
   "metadata": {},
   "outputs": [],
   "source": []
  }
 ],
 "metadata": {
  "kernelspec": {
   "display_name": "tora",
   "language": "python",
   "name": "tora"
  },
  "language_info": {
   "codemirror_mode": {
    "name": "ipython",
    "version": 3
   },
   "file_extension": ".py",
   "mimetype": "text/x-python",
   "name": "python",
   "nbconvert_exporter": "python",
   "pygments_lexer": "ipython3",
   "version": "3.12.7"
  }
 },
 "nbformat": 4,
 "nbformat_minor": 2
}

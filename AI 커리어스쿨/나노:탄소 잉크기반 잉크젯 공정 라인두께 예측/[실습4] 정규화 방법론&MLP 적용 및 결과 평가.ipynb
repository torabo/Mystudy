{
 "cells": [
  {
   "cell_type": "markdown",
   "metadata": {
    "id": "D_EspvGCanbX"
   },
   "source": [
    "# [실습4] 정규화 방법론&MLP 적용 및 결과 평가"
   ]
  },
  {
   "cell_type": "markdown",
   "metadata": {
    "id": "qYQJBwUSaoKv"
   },
   "source": [
    "---"
   ]
  },
  {
   "cell_type": "markdown",
   "metadata": {
    "id": "J_UAdAorapas"
   },
   "source": [
    "## 실습 목표\n",
    "---\n",
    "- 잉크젯 데이터에 일반화를 위해 라쏘(LASSO), 릿지(Ridge)를 적용하고 결과를 확인해봅니다.\n",
    "- 딥러닝의 기법인 다층퍼셉트론을 활용해 모델을 학습해보고 결과를 확인해봅니다,"
   ]
  },
  {
   "cell_type": "markdown",
   "metadata": {
    "id": "WguAsFJTarqc"
   },
   "source": [
    "## 실습 목차"
   ]
  },
  {
   "cell_type": "markdown",
   "metadata": {
    "id": "LWqmJCr4a6Uc"
   },
   "source": [
    "1. **데이터 불러오기** : 이전 시간에 전처리한 데이터를 불러오고 학습을 위해 데이터를 분리합니다.\n",
    "2. **LASSO, Ridge regression 실습** : 라쏘, 릿지 회귀모델에 데이터를 적용해봅니다.\n",
    "3. **MLP모델 적용** : 다층 퍼셉트론(MLP)모델을 적용해 실습을 진행하고 결과를 확인합니다.\n",
    "4. **예제 데이터 적용** : 예제 데이터 적용을 통해 선형회귀와 라쏘, 릿지 회귀를 적용해보고, 최소자승법(OLS)회귀분석을 수행하고 통계량을 확인등을 수행합니다.\n",
    "5. **연습문제** : 연습문제를 통해 실제 모델을 구현해보고, 결과를 확인합니다."
   ]
  },
  {
   "cell_type": "markdown",
   "metadata": {},
   "source": [
    "---"
   ]
  },
  {
   "cell_type": "markdown",
   "metadata": {
    "id": "dUOSTqaDa6pi"
   },
   "source": [
    "## 1. 데이터 불러오기"
   ]
  },
  {
   "cell_type": "markdown",
   "metadata": {
    "id": "fkBEDMpMnVUL"
   },
   "source": [
    "### 1.1 데이터 및 라이브러리 불러오기"
   ]
  },
  {
   "cell_type": "markdown",
   "metadata": {
    "id": "kfy1BPX9n6hp"
   },
   "source": [
    " - **numpy**: 수치형 데이터를 배열 구조로 처리하기 위한 라이브러리\n",
    " - **pandas**: 데이터프레임을 다루기 위한 라이브러리\n",
    " - **matplotlib.pyplot**: 데이터시각화를 위한 라이브러리\n",
    " - **seaborn**: 데이터시각화를 위한 라이브러리"
   ]
  },
  {
   "cell_type": "code",
   "execution_count": 1,
   "metadata": {
    "executionInfo": {
     "elapsed": 696,
     "status": "ok",
     "timestamp": 1661232763381,
     "user": {
      "displayName": "김도현",
      "userId": "01074377609887751305"
     },
     "user_tz": -540
    },
    "id": "pWpHNVjBnjwj"
   },
   "outputs": [],
   "source": [
    "import pandas as pd\n",
    "import numpy as np\n",
    "import matplotlib.pyplot as plt\n",
    "import seaborn as sns"
   ]
  },
  {
   "cell_type": "markdown",
   "metadata": {
    "id": "DrBSKFn3oIj0"
   },
   "source": [
    "이전시간에 전처리했던 잉크젯 데이터를 불러옵니다."
   ]
  },
  {
   "cell_type": "code",
   "execution_count": 2,
   "metadata": {
    "executionInfo": {
     "elapsed": 2,
     "status": "ok",
     "timestamp": 1661232765587,
     "user": {
      "displayName": "김도현",
      "userId": "01074377609887751305"
     },
     "user_tz": -540
    },
    "id": "Ic0ioWIEn-kP"
   },
   "outputs": [],
   "source": [
    "df = pd.read_csv('InkjetDB_preprocessing.csv')"
   ]
  },
  {
   "cell_type": "code",
   "execution_count": 3,
   "metadata": {
    "colab": {
     "base_uri": "https://localhost:8080/",
     "height": 206
    },
    "executionInfo": {
     "elapsed": 3,
     "status": "ok",
     "timestamp": 1661232766441,
     "user": {
      "displayName": "김도현",
      "userId": "01074377609887751305"
     },
     "user_tz": -540
    },
    "id": "4ZhOfrM2n-LZ",
    "outputId": "f61cec07-2951-4e0c-e281-46c011262d62"
   },
   "outputs": [
    {
     "data": {
      "text/html": [
       "<div>\n",
       "<style scoped>\n",
       "    .dataframe tbody tr th:only-of-type {\n",
       "        vertical-align: middle;\n",
       "    }\n",
       "\n",
       "    .dataframe tbody tr th {\n",
       "        vertical-align: top;\n",
       "    }\n",
       "\n",
       "    .dataframe thead th {\n",
       "        text-align: right;\n",
       "    }\n",
       "</style>\n",
       "<table border=\"1\" class=\"dataframe\">\n",
       "  <thead>\n",
       "    <tr style=\"text-align: right;\">\n",
       "      <th></th>\n",
       "      <th>Unnamed: 0</th>\n",
       "      <th>Viscosity</th>\n",
       "      <th>Velocity</th>\n",
       "      <th>PrintingSpeed</th>\n",
       "      <th>PatternSize</th>\n",
       "    </tr>\n",
       "  </thead>\n",
       "  <tbody>\n",
       "    <tr>\n",
       "      <th>0</th>\n",
       "      <td>1</td>\n",
       "      <td>8</td>\n",
       "      <td>5</td>\n",
       "      <td>150</td>\n",
       "      <td>19</td>\n",
       "    </tr>\n",
       "    <tr>\n",
       "      <th>1</th>\n",
       "      <td>5</td>\n",
       "      <td>5</td>\n",
       "      <td>7</td>\n",
       "      <td>50</td>\n",
       "      <td>224</td>\n",
       "    </tr>\n",
       "    <tr>\n",
       "      <th>2</th>\n",
       "      <td>17</td>\n",
       "      <td>8</td>\n",
       "      <td>5</td>\n",
       "      <td>125</td>\n",
       "      <td>29</td>\n",
       "    </tr>\n",
       "    <tr>\n",
       "      <th>3</th>\n",
       "      <td>19</td>\n",
       "      <td>8</td>\n",
       "      <td>7</td>\n",
       "      <td>25</td>\n",
       "      <td>88</td>\n",
       "    </tr>\n",
       "    <tr>\n",
       "      <th>4</th>\n",
       "      <td>24</td>\n",
       "      <td>5</td>\n",
       "      <td>6</td>\n",
       "      <td>175</td>\n",
       "      <td>61</td>\n",
       "    </tr>\n",
       "  </tbody>\n",
       "</table>\n",
       "</div>"
      ],
      "text/plain": [
       "   Unnamed: 0  Viscosity  Velocity  PrintingSpeed  PatternSize\n",
       "0           1          8         5            150           19\n",
       "1           5          5         7             50          224\n",
       "2          17          8         5            125           29\n",
       "3          19          8         7             25           88\n",
       "4          24          5         6            175           61"
      ]
     },
     "execution_count": 3,
     "metadata": {},
     "output_type": "execute_result"
    }
   ],
   "source": [
    "df.head(5)"
   ]
  },
  {
   "cell_type": "markdown",
   "metadata": {
    "id": "VeeXd-vuAKuH"
   },
   "source": [
    "이전에 데이터를 병합하면서 생긴 'Unnamed: 0' 컬럼이 존재합니다. 아마 두 데이터를 합치면서 컬럼이 넘어온것 같습니다. 제거해주도록 하겠습니다."
   ]
  },
  {
   "cell_type": "code",
   "execution_count": 4,
   "metadata": {
    "executionInfo": {
     "elapsed": 1,
     "status": "ok",
     "timestamp": 1661232766910,
     "user": {
      "displayName": "김도현",
      "userId": "01074377609887751305"
     },
     "user_tz": -540
    },
    "id": "qcCIZtsd_MOG"
   },
   "outputs": [],
   "source": [
    "df.drop(['Unnamed: 0'], axis=1, inplace=True)"
   ]
  },
  {
   "cell_type": "code",
   "execution_count": 5,
   "metadata": {
    "colab": {
     "base_uri": "https://localhost:8080/",
     "height": 206
    },
    "executionInfo": {
     "elapsed": 3,
     "status": "ok",
     "timestamp": 1661232767273,
     "user": {
      "displayName": "김도현",
      "userId": "01074377609887751305"
     },
     "user_tz": -540
    },
    "id": "EqnOo2XzAHKC",
    "outputId": "39bfcad9-907e-4676-d9f4-170a86c11999"
   },
   "outputs": [
    {
     "data": {
      "text/html": [
       "<div>\n",
       "<style scoped>\n",
       "    .dataframe tbody tr th:only-of-type {\n",
       "        vertical-align: middle;\n",
       "    }\n",
       "\n",
       "    .dataframe tbody tr th {\n",
       "        vertical-align: top;\n",
       "    }\n",
       "\n",
       "    .dataframe thead th {\n",
       "        text-align: right;\n",
       "    }\n",
       "</style>\n",
       "<table border=\"1\" class=\"dataframe\">\n",
       "  <thead>\n",
       "    <tr style=\"text-align: right;\">\n",
       "      <th></th>\n",
       "      <th>Viscosity</th>\n",
       "      <th>Velocity</th>\n",
       "      <th>PrintingSpeed</th>\n",
       "      <th>PatternSize</th>\n",
       "    </tr>\n",
       "  </thead>\n",
       "  <tbody>\n",
       "    <tr>\n",
       "      <th>0</th>\n",
       "      <td>8</td>\n",
       "      <td>5</td>\n",
       "      <td>150</td>\n",
       "      <td>19</td>\n",
       "    </tr>\n",
       "    <tr>\n",
       "      <th>1</th>\n",
       "      <td>5</td>\n",
       "      <td>7</td>\n",
       "      <td>50</td>\n",
       "      <td>224</td>\n",
       "    </tr>\n",
       "    <tr>\n",
       "      <th>2</th>\n",
       "      <td>8</td>\n",
       "      <td>5</td>\n",
       "      <td>125</td>\n",
       "      <td>29</td>\n",
       "    </tr>\n",
       "    <tr>\n",
       "      <th>3</th>\n",
       "      <td>8</td>\n",
       "      <td>7</td>\n",
       "      <td>25</td>\n",
       "      <td>88</td>\n",
       "    </tr>\n",
       "    <tr>\n",
       "      <th>4</th>\n",
       "      <td>5</td>\n",
       "      <td>6</td>\n",
       "      <td>175</td>\n",
       "      <td>61</td>\n",
       "    </tr>\n",
       "  </tbody>\n",
       "</table>\n",
       "</div>"
      ],
      "text/plain": [
       "   Viscosity  Velocity  PrintingSpeed  PatternSize\n",
       "0          8         5            150           19\n",
       "1          5         7             50          224\n",
       "2          8         5            125           29\n",
       "3          8         7             25           88\n",
       "4          5         6            175           61"
      ]
     },
     "execution_count": 5,
     "metadata": {},
     "output_type": "execute_result"
    }
   ],
   "source": [
    "df.head()"
   ]
  },
  {
   "cell_type": "markdown",
   "metadata": {
    "id": "_3noF21doXxR"
   },
   "source": [
    "### 1.2 X,y로 나누기 및 데이터 세트 분리(학습, 테스트)"
   ]
  },
  {
   "cell_type": "code",
   "execution_count": 6,
   "metadata": {
    "colab": {
     "base_uri": "https://localhost:8080/"
    },
    "executionInfo": {
     "elapsed": 2,
     "status": "ok",
     "timestamp": 1661232767760,
     "user": {
      "displayName": "김도현",
      "userId": "01074377609887751305"
     },
     "user_tz": -540
    },
    "id": "4jB8V83Nop9W",
    "outputId": "9d1dd2d0-09f6-4218-8294-3fc5662a6492"
   },
   "outputs": [
    {
     "data": {
      "text/plain": [
       "Viscosity        225\n",
       "Velocity         225\n",
       "PrintingSpeed    225\n",
       "dtype: int64"
      ]
     },
     "execution_count": 6,
     "metadata": {},
     "output_type": "execute_result"
    }
   ],
   "source": [
    "X = df.iloc[:, :3]\n",
    "y = df['PatternSize']\n",
    "\n",
    "X.count()"
   ]
  },
  {
   "cell_type": "code",
   "execution_count": 7,
   "metadata": {
    "colab": {
     "base_uri": "https://localhost:8080/"
    },
    "executionInfo": {
     "elapsed": 526,
     "status": "ok",
     "timestamp": 1661232768285,
     "user": {
      "displayName": "김도현",
      "userId": "01074377609887751305"
     },
     "user_tz": -540
    },
    "id": "Lm2Vn8h1owrS",
    "outputId": "cc525fa8-1455-44ea-a63c-a7bca47d4142"
   },
   "outputs": [
    {
     "name": "stdout",
     "output_type": "stream",
     "text": [
      "학습 데이터 : (180, 3)\n",
      "테스트 데이터 :  (45, 3)\n"
     ]
    }
   ],
   "source": [
    "from sklearn.model_selection import train_test_split\n",
    "X_train, X_test, y_train,y_test = train_test_split(X,y,test_size = 0.2, random_state = 1 )\n",
    "X.shape\n",
    "print('학습 데이터 :' ,X_train.shape)\n",
    "print('테스트 데이터 : ', X_test.shape)"
   ]
  },
  {
   "cell_type": "markdown",
   "metadata": {
    "id": "188RfbN40RRz"
   },
   "source": [
    "## 2. 라쏘(Lasso), 릿지(Ridge) Regression 실습"
   ]
  },
  {
   "cell_type": "markdown",
   "metadata": {
    "id": "wneRFKKfRT-S"
   },
   "source": [
    "---"
   ]
  },
  {
   "cell_type": "markdown",
   "metadata": {
    "id": "niT-P2vVQ8dV"
   },
   "source": [
    "### 2.1 라쏘(Lasso)와 릿지(Ridge)"
   ]
  },
  {
   "cell_type": "markdown",
   "metadata": {
    "id": "tP-7IJgWRHzY"
   },
   "source": [
    "---"
   ]
  },
  {
   "cell_type": "markdown",
   "metadata": {
    "id": "bulLIhHLUViX"
   },
   "source": [
    "선형회귀는 MSE를 최소화하는 기울기와 절편을 찾았었습니다. \\\n",
    "릿지와 라쏘는 오차값에 규제항 또는 벌점항을 추가하여 좀 더 단순화된 모델, 일반화된 모델을 제공합니다. \\\n",
    "이렇게 단순화하거나 일반화된 모델에서는 훈련셋에 덜 과적합 되기 때문에 테스트셋에 더 적합한 모델을 만들 수 있습니다. \\\n",
    "아래의 코드로 MSE, 릿지(L2), 라쏘(L1)의 다른 부분을 살펴보겠습니다."
   ]
  },
  {
   "cell_type": "code",
   "execution_count": 8,
   "metadata": {
    "colab": {
     "base_uri": "https://localhost:8080/",
     "height": 406
    },
    "executionInfo": {
     "elapsed": 1100,
     "status": "ok",
     "timestamp": 1661232769382,
     "user": {
      "displayName": "김도현",
      "userId": "01074377609887751305"
     },
     "user_tz": -540
    },
    "id": "1kZTUUmkUSkQ",
    "outputId": "c2fc1ef9-e703-45b5-d552-d3c2814bf586"
   },
   "outputs": [
    {
     "data": {
      "text/plain": [
       "<matplotlib.legend.Legend at 0x7f72e050d480>"
      ]
     },
     "execution_count": 8,
     "metadata": {},
     "output_type": "execute_result"
    },
    {
     "data": {
      "image/png": "[encoded data removed]",
      "text/plain": [
       "<Figure size 1200x600 with 2 Axes>"
      ]
     },
     "metadata": {},
     "output_type": "display_data"
    }
   ],
   "source": [
    "fig = plt.figure(figsize=[12,6])\n",
    "\n",
    "rng = np.linspace(-10,10,100)\n",
    "mse = (0.5*(rng-3))**2 + 30\n",
    "l2 = rng**2\n",
    "l1 = 5*np.abs(rng)\n",
    "ridge = mse + l2\n",
    "lasso = mse + l1\n",
    "\n",
    "plt.subplot(1,2,1)\n",
    "plt.plot(rng,mse,label='MSE')\n",
    "plt.plot(rng,l2,'--',label='L2')\n",
    "plt.plot(rng,ridge, lw=2, label='Ridge')\n",
    "plt.xlabel('w'); plt.ylabel('Error')\n",
    "plt.legend()\n",
    "\n",
    "plt.subplot(1,2,2)\n",
    "plt.plot(rng,mse,label='MSE')\n",
    "plt.plot(rng,l1,'--',label='L1')\n",
    "plt.plot(rng,lasso, lw=2, label='Lasso')\n",
    "plt.xlabel('w'); plt.ylabel('Error')\n",
    "plt.legend()"
   ]
  },
  {
   "cell_type": "markdown",
   "metadata": {
    "id": "Xc_3u8_CUqaC"
   },
   "source": [
    "릿지와 라쏘회귀의 Error의 최소값 위치가 w값이 0쪽으로 치우쳐짐을 확인할 수 있습니다. \\\n",
    "또한, 라쏘는 릿지보다 최소값 근처에서 기울기가 큼을 알 수 있습니다. \\\n",
    "두 식 모두 경사하강법을 사용하기 때문에 릿지는 w가 천천히 0으로 향하지만 라쏘는 w가 빨리 0으로 향하는 것을 확인할 수 있습니다. \\\n",
    "또한 규제의 강도를 의미하는 alpha값이 커질수록 w가 0으로 향하는 정도와 속도가 커집니다.\n"
   ]
  },
  {
   "cell_type": "markdown",
   "metadata": {
    "id": "HM83iJSsVf6e"
   },
   "source": [
    "사이킷런을 활용하면 보다 쉽게 라쏘, 릿지 회귀를 수행해볼 수 있습니다."
   ]
  },
  {
   "cell_type": "markdown",
   "metadata": {
    "id": "bp7YmFkuRJBg"
   },
   "source": [
    "### 2.2 라쏘회귀(Lasso Regression)"
   ]
  },
  {
   "cell_type": "code",
   "execution_count": 9,
   "metadata": {
    "executionInfo": {
     "elapsed": 6,
     "status": "ok",
     "timestamp": 1661232769776,
     "user": {
      "displayName": "김도현",
      "userId": "01074377609887751305"
     },
     "user_tz": -540
    },
    "id": "7TqqxoYj64zd"
   },
   "outputs": [],
   "source": [
    "# 정규화\n",
    "from sklearn.preprocessing import MinMaxScaler\n",
    "scaler=MinMaxScaler()\n",
    "scaler.fit(X_train)\n",
    "X_train_scaled=scaler.transform(X_train)\n",
    "X_test_scaled = scaler.transform(X_test)"
   ]
  },
  {
   "cell_type": "code",
   "execution_count": 10,
   "metadata": {
    "colab": {
     "base_uri": "https://localhost:8080/"
    },
    "executionInfo": {
     "elapsed": 5,
     "status": "ok",
     "timestamp": 1661232769776,
     "user": {
      "displayName": "김도현",
      "userId": "01074377609887751305"
     },
     "user_tz": -540
    },
    "id": "MBcyKFMq09rD",
    "outputId": "5eb4b0d6-bc23-4512-9148-48ec84c77fe9"
   },
   "outputs": [
    {
     "name": "stdout",
     "output_type": "stream",
     "text": [
      "결정계수 : 0.6326679325625943\n",
      "평균제곱근오차 :  48.056034206462314\n",
      "훈련 세트 점수 : 0.68\n",
      "테스트 세트 점수 : 0.63\n"
     ]
    }
   ],
   "source": [
    "from sklearn.linear_model import Lasso\n",
    "from sklearn.metrics import r2_score\n",
    "from sklearn.metrics import mean_squared_error\n",
    "\n",
    "lasso = Lasso().fit(X_train_scaled, y_train)\n",
    "predLasso = lasso.predict(X_test_scaled)\n",
    "\n",
    "rmse = np.sqrt(mean_squared_error(y_test, predLasso))\n",
    "r2 = r2_score(y_test, predLasso)\n",
    "print('결정계수 :', r2)\n",
    "print('평균제곱근오차 : ', rmse)\n",
    "print('훈련 세트 점수 : {:.2f}'.format(lasso.score(X_train_scaled, y_train)))\n",
    "print('테스트 세트 점수 : {:.2f}'.format(lasso.score(X_test_scaled, y_test)))"
   ]
  },
  {
   "cell_type": "code",
   "execution_count": 11,
   "metadata": {
    "colab": {
     "base_uri": "https://localhost:8080/",
     "height": 295
    },
    "executionInfo": {
     "elapsed": 4,
     "status": "ok",
     "timestamp": 1661232769776,
     "user": {
      "displayName": "김도현",
      "userId": "01074377609887751305"
     },
     "user_tz": -540
    },
    "id": "zyq4xnQW6CxW",
    "outputId": "7487074b-18bd-4bf1-a23b-23a439dbb9a4"
   },
   "outputs": [
    {
     "data": {
      "image/png": "[encoded data removed]",
      "text/plain": [
       "<Figure size 640x480 with 1 Axes>"
      ]
     },
     "metadata": {},
     "output_type": "display_data"
    }
   ],
   "source": [
    "plt.scatter(y_test, predLasso, alpha=0.4)\n",
    "plt.plot(y_test, y_test, color='r')\n",
    "plt.xlabel(\"Actual Size\")\n",
    "plt.ylabel(\"Predicted Size\")\n",
    "plt.title(\"Lasso Regressor\")\n",
    "plt.show()"
   ]
  },
  {
   "cell_type": "markdown",
   "metadata": {
    "id": "woHTRZz2RY5Y"
   },
   "source": [
    "### 2.3 릿지회귀(Ridge Regression)"
   ]
  },
  {
   "cell_type": "markdown",
   "metadata": {
    "id": "IaaCyIGjRnL-"
   },
   "source": [
    "---"
   ]
  },
  {
   "cell_type": "code",
   "execution_count": 12,
   "metadata": {
    "colab": {
     "base_uri": "https://localhost:8080/"
    },
    "executionInfo": {
     "elapsed": 547,
     "status": "ok",
     "timestamp": 1661232770320,
     "user": {
      "displayName": "김도현",
      "userId": "01074377609887751305"
     },
     "user_tz": -540
    },
    "id": "o6JjcjQOfLDf",
    "outputId": "4f6dbe83-6196-41ae-ae7f-748ace43499e"
   },
   "outputs": [
    {
     "name": "stdout",
     "output_type": "stream",
     "text": [
      "결정계수 : 0.6267133631070069\n",
      "평균제곱근오차 :  48.44397017235621\n",
      "훈련 세트 점수 : 0.68\n",
      "테스트 세트 점수 : 0.63\n"
     ]
    }
   ],
   "source": [
    "from sklearn.linear_model import Ridge\n",
    "from sklearn.metrics import mean_squared_error\n",
    "\n",
    "ridge = Ridge()\n",
    "ridge.fit(X_train_scaled, y_train)\n",
    "predRidge = ridge.predict(X_test_scaled)\n",
    "\n",
    "rmse = np.sqrt(mean_squared_error(y_test, predRidge))\n",
    "r2 = r2_score(y_test, predRidge)\n",
    "\n",
    "print('결정계수 :', r2)\n",
    "print('평균제곱근오차 : ', rmse)\n",
    "print('훈련 세트 점수 : {:.2f}'.format(ridge.score(X_train_scaled, y_train)))\n",
    "print('테스트 세트 점수 : {:.2f}'.format(ridge.score(X_test_scaled, y_test)))\n"
   ]
  },
  {
   "cell_type": "code",
   "execution_count": 13,
   "metadata": {
    "colab": {
     "base_uri": "https://localhost:8080/",
     "height": 295
    },
    "executionInfo": {
     "elapsed": 6,
     "status": "ok",
     "timestamp": 1661232770320,
     "user": {
      "displayName": "김도현",
      "userId": "01074377609887751305"
     },
     "user_tz": -540
    },
    "id": "vD4lkAtefMv0",
    "outputId": "77c339a9-e51f-42da-b1c9-2897656b9abe",
    "scrolled": false
   },
   "outputs": [
    {
     "data": {
      "image/png": "[encoded data removed]",
      "text/plain": [
       "<Figure size 640x480 with 1 Axes>"
      ]
     },
     "metadata": {},
     "output_type": "display_data"
    }
   ],
   "source": [
    "plt.scatter(y_test, predRidge, alpha=0.4)\n",
    "plt.plot(y_test, y_test, color='r')\n",
    "plt.xlabel(\"Actual Size\")\n",
    "plt.ylabel(\"Predicted Size\")\n",
    "plt.title(\"Ridge Regression\")\n",
    "plt.show()"
   ]
  },
  {
   "cell_type": "markdown",
   "metadata": {
    "id": "zNx0-4fpfSt2"
   },
   "source": [
    "### 2.4 선형회귀와 비교"
   ]
  },
  {
   "cell_type": "markdown",
   "metadata": {
    "id": "ldytEseQfWTS"
   },
   "source": [
    "---"
   ]
  },
  {
   "cell_type": "markdown",
   "metadata": {
    "id": "au5LTEV5-S4y"
   },
   "source": [
    "선형회귀와 비교해보도록 하겠습니다. \\\n",
    "다중선형회귀의 결과를 보면 훈련세트와 테스트세트의 차이가 0.11정도나타납니다. \\\n",
    "앞서 살펴본 라쏘, 릿지 회귀의 결과와는 다르게 훈련세트와 테스트 세트와의 격차가 크게 나타납니다. \\\n",
    "즉, **오버피팅**이 발생합니다. \\\n",
    "일반화 성능을 올리면서, 오버피팅을 방지하는 릿지, 라쏘 회귀의 특징이 잘 나타난것을 확인할 수 있습니다."
   ]
  },
  {
   "cell_type": "code",
   "execution_count": 14,
   "metadata": {
    "colab": {
     "base_uri": "https://localhost:8080/"
    },
    "executionInfo": {
     "elapsed": 6,
     "status": "ok",
     "timestamp": 1661232770321,
     "user": {
      "displayName": "김도현",
      "userId": "01074377609887751305"
     },
     "user_tz": -540
    },
    "id": "VpRCJvqLfXCK",
    "outputId": "025bb4f3-7986-4db0-e8d0-2d3d3d49b310"
   },
   "outputs": [
    {
     "name": "stdout",
     "output_type": "stream",
     "text": [
      "결정계수 : 0.5776680930313829\n",
      "평균제곱근오차 :  51.528257116528266\n",
      "훈련 세트 점수 : 0.69\n",
      "테스트 세트 점수 : 0.58\n"
     ]
    }
   ],
   "source": [
    "from sklearn.linear_model import LinearRegression\n",
    "from sklearn.metrics import r2_score\n",
    "from sklearn.metrics import mean_squared_error\n",
    "\n",
    "lr = LinearRegression().fit(X_train_scaled, y_train)\n",
    "\n",
    "lr_pred = lr.predict(X_test_scaled)\n",
    "\n",
    "rmse = np.sqrt(mean_squared_error(y_test, lr_pred))\n",
    "r2 = r2_score(y_test, lr_pred)\n",
    "\n",
    "print('결정계수 :', r2)\n",
    "print('평균제곱근오차 : ', rmse)\n",
    "print('훈련 세트 점수 : {:.2f}'.format(lr.score(X_train_scaled, y_train)))\n",
    "print('테스트 세트 점수 : {:.2f}'.format(lr.score(X_test_scaled, y_test)))"
   ]
  },
  {
   "cell_type": "markdown",
   "metadata": {},
   "source": [
    "### 2.5 K-fold cross validation에서 검증하기\n",
    "---\n",
    "지난 시간과 마찬가지로, K-fold cross validation을 수행하여 성능을 평가해 보겠습니다."
   ]
  },
  {
   "cell_type": "code",
   "execution_count": 15,
   "metadata": {},
   "outputs": [
    {
     "name": "stdout",
     "output_type": "stream",
     "text": [
      "Raw data\n",
      "{'LR': 66.1868, 'Ridge': 66.1796, 'Lasso': 66.1429}\n",
      "\n",
      "Minmax\n",
      "{'LR': 66.1868, 'Ridge': 65.9707, 'Lasso': 66.0674}\n",
      "\n",
      "Standard\n",
      "{'LR': 66.1868, 'Ridge': 66.1518, 'Lasso': 66.0912}\n"
     ]
    }
   ],
   "source": [
    "from sklearn.model_selection import KFold\n",
    "from sklearn.preprocessing import StandardScaler\n",
    "kf=KFold(n_splits=5) # 5개 set으로 나누기\n",
    "\n",
    "models=[ ['LR', LinearRegression()],\n",
    "        ['Ridge', Ridge()],\n",
    "        ['Lasso', Lasso()],\n",
    "       ]\n",
    "\n",
    "result={} \n",
    "result_minmax={}  # mimnax scaled data 결과를 저장할 dict\n",
    "result_sta={} # standard scaled data 결과를 저장할 dict\n",
    "\n",
    "for train_index, test_index in kf.split(X):\n",
    "\n",
    "    X_train, X_test = X.iloc[train_index], X.iloc[test_index]\n",
    "    y_train, y_test = y.iloc[train_index], y.iloc[test_index]\n",
    "\n",
    "    scaler=MinMaxScaler()\n",
    "    scaler.fit(X_train)\n",
    "    \n",
    "    X_train_minmax=scaler.transform(X_train)\n",
    "    X_test_minmax= scaler.transform(X_test)\n",
    "    \n",
    "    scaler2=StandardScaler()\n",
    "    scaler2.fit(X_train)\n",
    "    X_train_sta=scaler2.transform(X_train)\n",
    "    X_test_sta = scaler2.transform(X_test)\n",
    "    \n",
    "    for model_name, model in models:\n",
    "        y_pred=model.fit(X_train,y_train).predict(X_test)\n",
    "        rmse = np.sqrt(mean_squared_error(y_test, y_pred))\n",
    "        if model_name not in result:  # 처음에는 dictionary가 비어 있으므로 \n",
    "            result[model_name]=0\n",
    "        result[model_name]= result[model_name]+rmse\n",
    "\n",
    "        #minmax scaler 부분\n",
    "        y_pred_minmax=model.fit(X_train_minmax,y_train).predict(X_test_minmax)\n",
    "        rmse = np.sqrt(mean_squared_error(y_test, y_pred_minmax))\n",
    "        if model_name not in result_minmax:  # 처음에는 dictionary가 비어 있으므로 \n",
    "            result_minmax[model_name]=0\n",
    "        result_minmax[model_name]= result_minmax[model_name]+rmse\n",
    "        \n",
    "        #standard scaler 부분\n",
    "        y_pred_sta=model.fit(X_train_sta,y_train).predict(X_test_sta)\n",
    "        rmse = np.sqrt(mean_squared_error(y_test, y_pred_sta))\n",
    "        if model_name not in result_sta:  # 처음에는 dictionary가 비어 있으므로 \n",
    "            result_sta[model_name]=0\n",
    "        result_sta[model_name]= result_sta[model_name]+rmse\n",
    "        \n",
    "        \n",
    "for key in result:\n",
    "    result[key]=round(result[key]/5,4)\n",
    "    result_minmax[key]=round(result_minmax[key]/5,4)\n",
    "    result_sta[key]=round(result_sta[key]/5,4)\n",
    "    \n",
    "print('Raw data')\n",
    "print(result)\n",
    "print('\\nMinmax')\n",
    "print(result_minmax)\n",
    "print('\\nStandard')\n",
    "print(result_sta)\n"
   ]
  },
  {
   "cell_type": "markdown",
   "metadata": {},
   "source": [
    "정말 미세하게 감소한 것을 확인했습니다. \\\n",
    "${\\lambda}$ 를 강의 시간에 배웠는데, 이 부분을 customize하지 않았기 때문에 실제 Regularization의 중요한 요소를 고려하지 않았습니다.\\\n",
    "이 부분에 대한 실험은 뒷부분에 수행하겠습니다.\\\n",
    "참고로, sklearn에서는 $\\lambda$ 대신 $\\alpha$로 표현합니다."
   ]
  },
  {
   "cell_type": "markdown",
   "metadata": {
    "id": "U3oMytzlRoE_"
   },
   "source": [
    "## 3. MLP 모델 적용"
   ]
  },
  {
   "cell_type": "markdown",
   "metadata": {
    "id": "uUBKcg8iA-Xa"
   },
   "source": [
    "---"
   ]
  },
  {
   "cell_type": "markdown",
   "metadata": {
    "id": "v4vx96hoA_QY"
   },
   "source": [
    "사이킷런은 sklearn.neural_network 모듈 아래에 분류 작업을 위한 MLPClassifier, 회귀 작업을 위한 MLPRegressor를 제공합니다. \\\n",
    "이를 이용하면 손쉽게 MLP모델을 적용할 수 있습니다."
   ]
  },
  {
   "cell_type": "markdown",
   "metadata": {
    "id": "IauPON5hRufJ"
   },
   "source": [
    "### 3.1 필요한 라이브러리 불러오기"
   ]
  },
  {
   "cell_type": "markdown",
   "metadata": {
    "id": "CIEjvxIqRxWj"
   },
   "source": [
    "---"
   ]
  },
  {
   "cell_type": "code",
   "execution_count": 16,
   "metadata": {
    "executionInfo": {
     "elapsed": 4,
     "status": "ok",
     "timestamp": 1661232770321,
     "user": {
      "displayName": "김도현",
      "userId": "01074377609887751305"
     },
     "user_tz": -540
    },
    "id": "JaNHbHKVa0nx"
   },
   "outputs": [
    {
     "name": "stdout",
     "output_type": "stream",
     "text": [
      "학습 데이터 : (180, 3)\n",
      "테스트 데이터 :  (45, 3)\n"
     ]
    }
   ],
   "source": [
    "from sklearn.neural_network import MLPRegressor\n",
    "# MLP를 활용한 회귀(Regressor)\n",
    "from sklearn import metrics\n",
    "from sklearn.model_selection import train_test_split\n",
    "\n",
    "X_train, X_test, y_train,y_test = train_test_split(X,y,test_size = 0.2, random_state = 1 )\n",
    "X.shape\n",
    "print('학습 데이터 :' ,X_train.shape)\n",
    "print('테스트 데이터 : ', X_test.shape)\n",
    "scaler=MinMaxScaler()\n",
    "scaler.fit(X_train)\n",
    "\n",
    "X_train_scaled = scaler.transform(X_train)\n",
    "X_test_scaled = scaler.transform(X_test)"
   ]
  },
  {
   "cell_type": "markdown",
   "metadata": {
    "id": "T0qL5dtLa2YG"
   },
   "source": [
    "### 3.2 모델 생성"
   ]
  },
  {
   "cell_type": "markdown",
   "metadata": {
    "id": "umWXMyrEbWEG"
   },
   "source": [
    "---"
   ]
  },
  {
   "cell_type": "markdown",
   "metadata": {
    "id": "tL1d07WrbW-0"
   },
   "source": [
    "총 5개의 히든레이어 층을 쌓고 800회 학습을 실시하겠습니다. \\\n",
    "활성화 함수는 'ReLU'를, 옵티마이저는 'Adam'을 사용합니다."
   ]
  },
  {
   "cell_type": "code",
   "execution_count": 17,
   "metadata": {
    "executionInfo": {
     "elapsed": 4,
     "status": "ok",
     "timestamp": 1661232770321,
     "user": {
      "displayName": "김도현",
      "userId": "01074377609887751305"
     },
     "user_tz": -540
    },
    "id": "HKxjzNxDkuuf"
   },
   "outputs": [],
   "source": [
    "mlp_reg = MLPRegressor(hidden_layer_sizes=(300, 200, 150, 100, 50),\n",
    "                       max_iter = 800,activation = 'relu',\n",
    "                       solver = 'adam', verbose = True)\n",
    "\n",
    "# activation : 직전 레이어에서 받은 값에 weight를 곱해서 더한 후 통과하는 함수\n",
    "# relu: 0보다 크면 x 그대로 보내고, 0보다 작으면 0\n",
    "# adam : 최적화(Optimization) 방식 선정, \n",
    "# max_iter : 최대 학습 횟수 (전체 데이터를 800번 보고 나면 종료)\n",
    "# verbose: True로 설정하면 학습 과정을 다 로그로 출력하는 argument (기본값 false)"
   ]
  },
  {
   "cell_type": "markdown",
   "metadata": {
    "id": "bg4GuExOcHhQ"
   },
   "source": [
    "### 3.3 훈련과 평가"
   ]
  },
  {
   "cell_type": "markdown",
   "metadata": {
    "id": "4PeJXLZKcKgT"
   },
   "source": [
    "---"
   ]
  },
  {
   "cell_type": "markdown",
   "metadata": {
    "id": "rnlIfgKOcLSc"
   },
   "source": [
    "모델을 학습하고 테스트 데이터로 모델을 평가해보겠습니다."
   ]
  },
  {
   "cell_type": "code",
   "execution_count": 18,
   "metadata": {
    "colab": {
     "base_uri": "https://localhost:8080/"
    },
    "executionInfo": {
     "elapsed": 24375,
     "status": "ok",
     "timestamp": 1661232795089,
     "user": {
      "displayName": "김도현",
      "userId": "01074377609887751305"
     },
     "user_tz": -540
    },
    "id": "OLfGzJ-IcPi6",
    "outputId": "8453c002-e1fa-40d1-bc59-140dc4cb4035",
    "scrolled": true
   },
   "outputs": [
    {
     "name": "stdout",
     "output_type": "stream",
     "text": [
      "Iteration 1, loss = 13984.39854390\n",
      "Iteration 2, loss = 13966.87385925\n",
      "Iteration 3, loss = 13948.76333760\n",
      "Iteration 4, loss = 13931.22487712\n",
      "Iteration 5, loss = 13911.69029966\n",
      "Iteration 6, loss = 13888.99888811\n",
      "Iteration 7, loss = 13861.90264318\n",
      "Iteration 8, loss = 13829.27971918\n",
      "Iteration 9, loss = 13791.08069963\n",
      "Iteration 10, loss = 13745.46162363\n",
      "Iteration 11, loss = 13691.13800213\n",
      "Iteration 12, loss = 13626.83088873\n",
      "Iteration 13, loss = 13551.13805220\n",
      "Iteration 14, loss = 13461.94666523\n",
      "Iteration 15, loss = 13356.89652318\n",
      "Iteration 16, loss = 13233.69891468\n",
      "Iteration 17, loss = 13089.39420592\n",
      "Iteration 18, loss = 12922.03298576\n",
      "Iteration 19, loss = 12729.08880599\n",
      "Iteration 20, loss = 12508.32890906\n",
      "Iteration 21, loss = 12258.66008823\n",
      "Iteration 22, loss = 11977.91499012\n",
      "Iteration 23, loss = 11666.92503664\n",
      "Iteration 24, loss = 11327.10822948\n",
      "Iteration 25, loss = 10962.87599195\n",
      "Iteration 26, loss = 10582.64649629\n",
      "Iteration 27, loss = 10200.46361242\n",
      "Iteration 28, loss = 9837.03652104\n",
      "Iteration 29, loss = 9520.17377033\n",
      "Iteration 30, loss = 9281.72318651\n",
      "Iteration 31, loss = 9149.50712889\n",
      "Iteration 32, loss = 9134.10165813\n",
      "Iteration 33, loss = 9207.45589791\n",
      "Iteration 34, loss = 9295.24373676\n",
      "Iteration 35, loss = 9314.99769876\n",
      "Iteration 36, loss = 9232.65227064\n",
      "Iteration 37, loss = 9067.95854253\n",
      "Iteration 38, loss = 8865.56658563\n",
      "Iteration 39, loss = 8667.97183535\n",
      "Iteration 40, loss = 8502.47966524\n",
      "Iteration 41, loss = 8378.60165147\n",
      "Iteration 42, loss = 8291.85950419\n",
      "Iteration 43, loss = 8230.11682640\n",
      "Iteration 44, loss = 8179.19278794\n",
      "Iteration 45, loss = 8126.67875068\n",
      "Iteration 46, loss = 8063.70396633\n",
      "Iteration 47, loss = 7985.45132539\n",
      "Iteration 48, loss = 7890.73057325\n",
      "Iteration 49, loss = 7781.27783752\n",
      "Iteration 50, loss = 7660.99333082\n",
      "Iteration 51, loss = 7535.06044135\n",
      "Iteration 52, loss = 7409.11030125\n",
      "Iteration 53, loss = 7287.92599659\n",
      "Iteration 54, loss = 7174.61311240\n",
      "Iteration 55, loss = 7069.44669483\n",
      "Iteration 56, loss = 6969.16518026\n",
      "Iteration 57, loss = 6868.06197704\n",
      "Iteration 58, loss = 6759.91073504\n",
      "Iteration 59, loss = 6640.26519213\n",
      "Iteration 60, loss = 6508.11984499\n",
      "Iteration 61, loss = 6365.91963387\n",
      "Iteration 62, loss = 6217.63527334\n",
      "Iteration 63, loss = 6067.08343092\n",
      "Iteration 64, loss = 5916.26533631\n",
      "Iteration 65, loss = 5764.63503969\n",
      "Iteration 66, loss = 5610.14769533\n",
      "Iteration 67, loss = 5449.42098628\n",
      "Iteration 68, loss = 5279.85607168\n",
      "Iteration 69, loss = 5099.61170799\n",
      "Iteration 70, loss = 4908.25907444\n",
      "Iteration 71, loss = 4706.64353979\n",
      "Iteration 72, loss = 4496.43028151\n",
      "Iteration 73, loss = 4279.55871730\n",
      "Iteration 74, loss = 4057.30239067\n",
      "Iteration 75, loss = 3830.37785219\n",
      "Iteration 76, loss = 3598.95612919\n",
      "Iteration 77, loss = 3363.65784924\n",
      "Iteration 78, loss = 3125.88478898\n",
      "Iteration 79, loss = 2888.40121143\n",
      "Iteration 80, loss = 2654.84536239\n",
      "Iteration 81, loss = 2429.41417128\n",
      "Iteration 82, loss = 2215.35642049\n",
      "Iteration 83, loss = 2014.75561966\n",
      "Iteration 84, loss = 1828.48372729\n",
      "Iteration 85, loss = 1657.40757298\n",
      "Iteration 86, loss = 1502.64893986\n",
      "Iteration 87, loss = 1365.42458348\n",
      "Iteration 88, loss = 1246.39984807\n",
      "Iteration 89, loss = 1144.76939474\n",
      "Iteration 90, loss = 1058.81395235\n",
      "Iteration 91, loss = 985.97292520\n",
      "Iteration 92, loss = 923.57215004\n",
      "Iteration 93, loss = 869.53568084\n",
      "Iteration 94, loss = 822.66674325\n",
      "Iteration 95, loss = 780.87354364\n",
      "Iteration 96, loss = 742.16907913\n",
      "Iteration 97, loss = 704.18514014\n",
      "Iteration 98, loss = 665.58335620\n",
      "Iteration 99, loss = 625.88922615\n",
      "Iteration 100, loss = 585.09266176\n",
      "Iteration 101, loss = 543.96145172\n",
      "Iteration 102, loss = 502.92974746\n",
      "Iteration 103, loss = 462.66239442\n",
      "Iteration 104, loss = 425.02875500\n",
      "Iteration 105, loss = 391.30537778\n",
      "Iteration 106, loss = 363.19014059\n",
      "Iteration 107, loss = 340.82361217\n",
      "Iteration 108, loss = 324.14704572\n",
      "Iteration 109, loss = 312.73895631\n",
      "Iteration 110, loss = 305.46057584\n",
      "Iteration 111, loss = 300.80526842\n",
      "Iteration 112, loss = 296.78158199\n",
      "Iteration 113, loss = 291.64587333\n",
      "Iteration 114, loss = 284.28406713\n",
      "Iteration 115, loss = 274.57034269\n",
      "Iteration 116, loss = 262.83316431\n",
      "Iteration 117, loss = 250.03540466\n",
      "Iteration 118, loss = 237.60113610\n",
      "Iteration 119, loss = 226.87715005\n",
      "Iteration 120, loss = 218.48488001\n",
      "Iteration 121, loss = 212.57482087\n",
      "Iteration 122, loss = 208.75438759\n",
      "Iteration 123, loss = 206.33027230\n",
      "Iteration 124, loss = 204.34382843\n",
      "Iteration 125, loss = 201.94907996\n",
      "Iteration 126, loss = 198.71570905\n",
      "Iteration 127, loss = 194.43377475\n",
      "Iteration 128, loss = 189.38341054\n",
      "Iteration 129, loss = 184.06839161\n",
      "Iteration 130, loss = 179.02087675\n",
      "Iteration 131, loss = 174.73317421\n",
      "Iteration 132, loss = 171.54242433\n",
      "Iteration 133, loss = 169.30677831\n",
      "Iteration 134, loss = 167.46480929\n",
      "Iteration 135, loss = 165.73192379\n",
      "Iteration 136, loss = 163.67014879\n",
      "Iteration 137, loss = 161.06891967\n",
      "Iteration 138, loss = 158.04188071\n",
      "Iteration 139, loss = 154.90038484\n",
      "Iteration 140, loss = 151.83517554\n",
      "Iteration 141, loss = 149.12562343\n",
      "Iteration 142, loss = 146.85210825\n",
      "Iteration 143, loss = 144.96073594\n",
      "Iteration 144, loss = 143.24621603\n",
      "Iteration 145, loss = 141.48207491\n",
      "Iteration 146, loss = 139.52145373\n",
      "Iteration 147, loss = 137.48445471\n",
      "Iteration 148, loss = 135.55755734\n",
      "Iteration 149, loss = 133.76989403\n",
      "Iteration 150, loss = 132.15249818\n",
      "Iteration 151, loss = 130.70111545\n",
      "Iteration 152, loss = 129.36267152\n",
      "Iteration 153, loss = 128.02951672\n",
      "Iteration 154, loss = 126.60091003\n",
      "Iteration 155, loss = 125.12269211\n",
      "Iteration 156, loss = 123.61128154\n",
      "Iteration 157, loss = 122.12489083\n",
      "Iteration 158, loss = 120.72755648\n",
      "Iteration 159, loss = 119.44742429\n",
      "Iteration 160, loss = 118.16460151\n",
      "Iteration 161, loss = 116.89457380\n",
      "Iteration 162, loss = 115.61540374\n",
      "Iteration 163, loss = 114.39687574\n",
      "Iteration 164, loss = 113.19071020\n",
      "Iteration 165, loss = 112.02750492\n",
      "Iteration 166, loss = 110.91093529\n",
      "Iteration 167, loss = 109.78795444\n",
      "Iteration 168, loss = 108.65079605\n",
      "Iteration 169, loss = 107.52230006\n",
      "Iteration 170, loss = 106.40932271\n",
      "Iteration 171, loss = 105.32470547\n",
      "Iteration 172, loss = 104.22888674\n",
      "Iteration 173, loss = 103.14428538\n",
      "Iteration 174, loss = 102.10944483\n",
      "Iteration 175, loss = 101.11502205\n",
      "Iteration 176, loss = 100.17414161\n",
      "Iteration 177, loss = 99.24568402\n",
      "Iteration 178, loss = 98.34752027\n",
      "Iteration 179, loss = 97.47260148\n",
      "Iteration 180, loss = 96.61901347\n",
      "Iteration 181, loss = 95.78023729\n",
      "Iteration 182, loss = 94.96635189\n",
      "Iteration 183, loss = 94.18673763\n",
      "Iteration 184, loss = 93.40319605\n",
      "Iteration 185, loss = 92.64757900\n",
      "Iteration 186, loss = 91.89816558\n",
      "Iteration 187, loss = 91.15272537\n",
      "Iteration 188, loss = 90.42258147\n",
      "Iteration 189, loss = 89.70270395\n",
      "Iteration 190, loss = 88.99496262\n",
      "Iteration 191, loss = 88.28153015\n",
      "Iteration 192, loss = 87.60735255\n",
      "Iteration 193, loss = 86.94144982\n",
      "Iteration 194, loss = 86.30595828\n",
      "Iteration 195, loss = 85.70865442\n",
      "Iteration 196, loss = 85.13709862\n",
      "Iteration 197, loss = 84.58360366\n",
      "Iteration 198, loss = 84.03481158\n",
      "Iteration 199, loss = 83.49730234\n",
      "Iteration 200, loss = 83.00022313\n",
      "Iteration 201, loss = 82.49745061\n",
      "Iteration 202, loss = 81.99132187\n",
      "Iteration 203, loss = 81.51251194\n",
      "Iteration 204, loss = 81.03256191\n",
      "Iteration 205, loss = 80.55678277\n",
      "Iteration 206, loss = 80.08933456\n",
      "Iteration 207, loss = 79.64120878\n",
      "Iteration 208, loss = 79.18616234\n",
      "Iteration 209, loss = 78.73020589\n",
      "Iteration 210, loss = 78.28948226\n",
      "Iteration 211, loss = 77.86067032\n",
      "Iteration 212, loss = 77.44956330\n",
      "Iteration 213, loss = 77.04501520\n",
      "Iteration 214, loss = 76.65826548\n",
      "Iteration 215, loss = 76.28446709\n",
      "Iteration 216, loss = 75.92266477\n",
      "Iteration 217, loss = 75.57356305\n",
      "Iteration 218, loss = 75.23585761\n",
      "Iteration 219, loss = 74.91003829\n",
      "Iteration 220, loss = 74.60232368\n",
      "Iteration 221, loss = 74.27569697\n",
      "Iteration 222, loss = 73.93929813\n",
      "Iteration 223, loss = 73.63808268\n",
      "Iteration 224, loss = 73.32009203\n",
      "Iteration 225, loss = 73.03183277\n",
      "Iteration 226, loss = 72.73685490\n",
      "Iteration 227, loss = 72.42872458\n",
      "Iteration 228, loss = 72.14053704\n",
      "Iteration 229, loss = 71.87103560\n",
      "Iteration 230, loss = 71.57705633\n",
      "Iteration 231, loss = 71.32838933\n",
      "Iteration 232, loss = 71.06031242\n",
      "Iteration 233, loss = 70.80892077\n",
      "Iteration 234, loss = 70.55609326\n",
      "Iteration 235, loss = 70.30272553\n",
      "Iteration 236, loss = 70.05100444\n",
      "Iteration 237, loss = 69.79899742\n",
      "Iteration 238, loss = 69.54878001\n",
      "Iteration 239, loss = 69.31025286\n",
      "Iteration 240, loss = 69.07724046\n",
      "Iteration 241, loss = 68.85282073\n",
      "Iteration 242, loss = 68.63755566\n",
      "Iteration 243, loss = 68.43160918\n",
      "Iteration 244, loss = 68.23714345\n",
      "Iteration 245, loss = 68.03214156\n",
      "Iteration 246, loss = 67.84054827\n",
      "Iteration 247, loss = 67.66667376\n",
      "Iteration 248, loss = 67.48945062\n",
      "Iteration 249, loss = 67.32708128\n",
      "Iteration 250, loss = 67.15185427\n",
      "Iteration 251, loss = 66.96385176\n",
      "Iteration 252, loss = 66.79555012\n",
      "Iteration 253, loss = 66.61554295\n",
      "Iteration 254, loss = 66.42912691\n",
      "Iteration 255, loss = 66.25275734\n",
      "Iteration 256, loss = 66.07485974\n",
      "Iteration 257, loss = 65.91954352\n",
      "Iteration 258, loss = 65.72540614\n",
      "Iteration 259, loss = 65.55278034\n",
      "Iteration 260, loss = 65.39014698\n",
      "Iteration 261, loss = 65.21707005\n",
      "Iteration 262, loss = 65.04154286\n",
      "Iteration 263, loss = 64.86708056\n",
      "Iteration 264, loss = 64.69435363\n",
      "Iteration 265, loss = 64.53357736\n",
      "Iteration 266, loss = 64.36811724\n"
     ]
    },
    {
     "name": "stdout",
     "output_type": "stream",
     "text": [
      "Iteration 267, loss = 64.18407407\n",
      "Iteration 268, loss = 64.01568296\n",
      "Iteration 269, loss = 63.86557859\n",
      "Iteration 270, loss = 63.69712957\n",
      "Iteration 271, loss = 63.52350976\n",
      "Iteration 272, loss = 63.34666245\n",
      "Iteration 273, loss = 63.19608074\n",
      "Iteration 274, loss = 63.05382585\n",
      "Iteration 275, loss = 62.87783527\n",
      "Iteration 276, loss = 62.74563181\n",
      "Iteration 277, loss = 62.63076417\n",
      "Iteration 278, loss = 62.47847274\n",
      "Iteration 279, loss = 62.29918883\n",
      "Iteration 280, loss = 62.20500392\n",
      "Iteration 281, loss = 62.01739882\n",
      "Iteration 282, loss = 61.89775830\n",
      "Iteration 283, loss = 61.77883690\n",
      "Iteration 284, loss = 61.59267180\n",
      "Iteration 285, loss = 61.47483957\n",
      "Iteration 286, loss = 61.33777908\n",
      "Iteration 287, loss = 61.20131486\n",
      "Iteration 288, loss = 61.07802865\n",
      "Iteration 289, loss = 60.95883814\n",
      "Iteration 290, loss = 60.84165689\n",
      "Iteration 291, loss = 60.70874777\n",
      "Iteration 292, loss = 60.59294430\n",
      "Iteration 293, loss = 60.48021324\n",
      "Iteration 294, loss = 60.34871393\n",
      "Iteration 295, loss = 60.23798632\n",
      "Iteration 296, loss = 60.11514976\n",
      "Iteration 297, loss = 59.99889003\n",
      "Iteration 298, loss = 59.87521932\n",
      "Iteration 299, loss = 59.77188556\n",
      "Iteration 300, loss = 59.65270933\n",
      "Iteration 301, loss = 59.52588767\n",
      "Iteration 302, loss = 59.41395471\n",
      "Iteration 303, loss = 59.30075392\n",
      "Iteration 304, loss = 59.18410675\n",
      "Iteration 305, loss = 59.05799710\n",
      "Iteration 306, loss = 58.93826043\n",
      "Iteration 307, loss = 58.80940053\n",
      "Iteration 308, loss = 58.66770056\n",
      "Iteration 309, loss = 58.52941553\n",
      "Iteration 310, loss = 58.39388975\n",
      "Iteration 311, loss = 58.26166532\n",
      "Iteration 312, loss = 58.13596321\n",
      "Iteration 313, loss = 58.00283899\n",
      "Iteration 314, loss = 57.84857607\n",
      "Iteration 315, loss = 57.69826964\n",
      "Iteration 316, loss = 57.55862806\n",
      "Iteration 317, loss = 57.42560275\n",
      "Iteration 318, loss = 57.28945548\n",
      "Iteration 319, loss = 57.14028939\n",
      "Iteration 320, loss = 56.97939531\n",
      "Iteration 321, loss = 56.82637734\n",
      "Iteration 322, loss = 56.67578112\n",
      "Iteration 323, loss = 56.51659020\n",
      "Iteration 324, loss = 56.35499672\n",
      "Iteration 325, loss = 56.18543301\n",
      "Iteration 326, loss = 56.02914961\n",
      "Iteration 327, loss = 55.85305235\n",
      "Iteration 328, loss = 55.69075590\n",
      "Iteration 329, loss = 55.52596423\n",
      "Iteration 330, loss = 55.38896735\n",
      "Iteration 331, loss = 55.30060173\n",
      "Iteration 332, loss = 55.13320998\n",
      "Iteration 333, loss = 54.96971763\n",
      "Iteration 334, loss = 54.84955870\n",
      "Iteration 335, loss = 54.73586705\n",
      "Iteration 336, loss = 54.56497453\n",
      "Iteration 337, loss = 54.41582999\n",
      "Iteration 338, loss = 54.29816223\n",
      "Iteration 339, loss = 54.18996534\n",
      "Iteration 340, loss = 54.03413173\n",
      "Iteration 341, loss = 53.86568000\n",
      "Iteration 342, loss = 53.71222200\n",
      "Iteration 343, loss = 53.58046000\n",
      "Iteration 344, loss = 53.44951747\n",
      "Iteration 345, loss = 53.31321135\n",
      "Iteration 346, loss = 53.17417941\n",
      "Iteration 347, loss = 53.03824001\n",
      "Iteration 348, loss = 52.89671821\n",
      "Iteration 349, loss = 52.76379651\n",
      "Iteration 350, loss = 52.63144670\n",
      "Iteration 351, loss = 52.52343245\n",
      "Iteration 352, loss = 52.39942937\n",
      "Iteration 353, loss = 52.24647033\n",
      "Iteration 354, loss = 52.08773739\n",
      "Iteration 355, loss = 51.94954782\n",
      "Iteration 356, loss = 51.83076807\n",
      "Iteration 357, loss = 51.72184273\n",
      "Iteration 358, loss = 51.61434132\n",
      "Iteration 359, loss = 51.43804746\n",
      "Iteration 360, loss = 51.28014769\n",
      "Iteration 361, loss = 51.12176044\n",
      "Iteration 362, loss = 50.99211925\n",
      "Iteration 363, loss = 50.89057990\n",
      "Iteration 364, loss = 50.77064989\n",
      "Iteration 365, loss = 50.62417836\n",
      "Iteration 366, loss = 50.46881140\n",
      "Iteration 367, loss = 50.31249696\n",
      "Iteration 368, loss = 50.18547781\n",
      "Iteration 369, loss = 50.07766588\n",
      "Iteration 370, loss = 49.96704835\n",
      "Iteration 371, loss = 49.82325121\n",
      "Iteration 372, loss = 49.67144363\n",
      "Iteration 373, loss = 49.51493761\n",
      "Iteration 374, loss = 49.37651782\n",
      "Iteration 375, loss = 49.25104195\n",
      "Iteration 376, loss = 49.13903619\n",
      "Iteration 377, loss = 49.02346636\n",
      "Iteration 378, loss = 48.87061925\n",
      "Iteration 379, loss = 48.69857887\n",
      "Iteration 380, loss = 48.55547300\n",
      "Iteration 381, loss = 48.42824275\n",
      "Iteration 382, loss = 48.31616496\n",
      "Iteration 383, loss = 48.18853959\n",
      "Iteration 384, loss = 48.06403453\n",
      "Iteration 385, loss = 47.92809960\n",
      "Iteration 386, loss = 47.74052235\n",
      "Iteration 387, loss = 47.57733815\n",
      "Iteration 388, loss = 47.44354235\n",
      "Iteration 389, loss = 47.33935708\n",
      "Iteration 390, loss = 47.23542917\n",
      "Iteration 391, loss = 47.09347875\n",
      "Iteration 392, loss = 46.93500061\n",
      "Iteration 393, loss = 46.78082796\n",
      "Iteration 394, loss = 46.58665806\n",
      "Iteration 395, loss = 46.41973757\n",
      "Iteration 396, loss = 46.26939963\n",
      "Iteration 397, loss = 46.12429442\n",
      "Iteration 398, loss = 45.98799471\n",
      "Iteration 399, loss = 45.83406014\n",
      "Iteration 400, loss = 45.65606154\n",
      "Iteration 401, loss = 45.48461423\n",
      "Iteration 402, loss = 45.32081594\n",
      "Iteration 403, loss = 45.15904742\n",
      "Iteration 404, loss = 44.99391194\n",
      "Iteration 405, loss = 44.83941065\n",
      "Iteration 406, loss = 44.71661225\n",
      "Iteration 407, loss = 44.59665861\n",
      "Iteration 408, loss = 44.42929390\n",
      "Iteration 409, loss = 44.23384033\n",
      "Iteration 410, loss = 44.06361562\n",
      "Iteration 411, loss = 43.95045593\n",
      "Iteration 412, loss = 43.88319606\n",
      "Iteration 413, loss = 43.78820965\n",
      "Iteration 414, loss = 43.69883841\n",
      "Iteration 415, loss = 43.49534825\n",
      "Iteration 416, loss = 43.25322015\n",
      "Iteration 417, loss = 43.02265416\n",
      "Iteration 418, loss = 42.85988199\n",
      "Iteration 419, loss = 42.72579987\n",
      "Iteration 420, loss = 42.61760929\n",
      "Iteration 421, loss = 42.56621937\n",
      "Iteration 422, loss = 42.40678226\n",
      "Iteration 423, loss = 42.15712714\n",
      "Iteration 424, loss = 41.94559295\n",
      "Iteration 425, loss = 41.77147984\n",
      "Iteration 426, loss = 41.63881238\n",
      "Iteration 427, loss = 41.52441982\n",
      "Iteration 428, loss = 41.44986102\n",
      "Iteration 429, loss = 41.26759667\n",
      "Iteration 430, loss = 41.03662266\n",
      "Iteration 431, loss = 40.79260769\n",
      "Iteration 432, loss = 40.59230369\n",
      "Iteration 433, loss = 40.45526790\n",
      "Iteration 434, loss = 40.30274532\n",
      "Iteration 435, loss = 40.13476880\n",
      "Iteration 436, loss = 39.96087612\n",
      "Iteration 437, loss = 39.81186948\n",
      "Iteration 438, loss = 39.64425188\n",
      "Iteration 439, loss = 39.45215549\n",
      "Iteration 440, loss = 39.26307743\n",
      "Iteration 441, loss = 39.08488969\n",
      "Iteration 442, loss = 38.89252046\n",
      "Iteration 443, loss = 38.73028229\n",
      "Iteration 444, loss = 38.55008871\n",
      "Iteration 445, loss = 38.37551197\n",
      "Iteration 446, loss = 38.22023166\n",
      "Iteration 447, loss = 38.12396324\n",
      "Iteration 448, loss = 38.10366101\n",
      "Iteration 449, loss = 38.07850817\n",
      "Iteration 450, loss = 38.00965537\n",
      "Iteration 451, loss = 37.75225489\n",
      "Iteration 452, loss = 37.35346293\n",
      "Iteration 453, loss = 37.03584393\n",
      "Iteration 454, loss = 37.01100791\n",
      "Iteration 455, loss = 37.21036045\n",
      "Iteration 456, loss = 37.06873784\n",
      "Iteration 457, loss = 36.60343715\n",
      "Iteration 458, loss = 36.23311357\n",
      "Iteration 459, loss = 36.18554529\n",
      "Iteration 460, loss = 36.24631340\n",
      "Iteration 461, loss = 36.07475631\n",
      "Iteration 462, loss = 35.71921225\n",
      "Iteration 463, loss = 35.41140221\n",
      "Iteration 464, loss = 35.35023318\n",
      "Iteration 465, loss = 35.34239575\n",
      "Iteration 466, loss = 35.15340720\n",
      "Iteration 467, loss = 34.89901814\n",
      "Iteration 468, loss = 34.65001997\n",
      "Iteration 469, loss = 34.55880941\n",
      "Iteration 470, loss = 34.43608795\n",
      "Iteration 471, loss = 34.24513349\n",
      "Iteration 472, loss = 34.08402027\n",
      "Iteration 473, loss = 33.87733801\n",
      "Iteration 474, loss = 33.72073468\n",
      "Iteration 475, loss = 33.59576050\n",
      "Iteration 476, loss = 33.45344541\n",
      "Iteration 477, loss = 33.33220453\n",
      "Iteration 478, loss = 33.15579790\n",
      "Iteration 479, loss = 32.98847231\n",
      "Iteration 480, loss = 32.83754918\n",
      "Iteration 481, loss = 32.67636622\n",
      "Iteration 482, loss = 32.52393026\n",
      "Iteration 483, loss = 32.41291440\n",
      "Iteration 484, loss = 32.33922440\n",
      "Iteration 485, loss = 32.26848621\n",
      "Iteration 486, loss = 32.19468938\n",
      "Iteration 487, loss = 31.98372781\n",
      "Iteration 488, loss = 31.74900933\n",
      "Iteration 489, loss = 31.54185904\n",
      "Iteration 490, loss = 31.40078944\n",
      "Iteration 491, loss = 31.26431902\n",
      "Iteration 492, loss = 31.12962247\n",
      "Iteration 493, loss = 31.01419728\n",
      "Iteration 494, loss = 30.87875350\n",
      "Iteration 495, loss = 30.73729893\n",
      "Iteration 496, loss = 30.60561243\n",
      "Iteration 497, loss = 30.51267079\n",
      "Iteration 498, loss = 30.43618381\n",
      "Iteration 499, loss = 30.38754131\n",
      "Iteration 500, loss = 30.26388850\n",
      "Iteration 501, loss = 30.05756916\n",
      "Iteration 502, loss = 29.83281668\n",
      "Iteration 503, loss = 29.66513305\n",
      "Iteration 504, loss = 29.50982074\n",
      "Iteration 505, loss = 29.36402057\n",
      "Iteration 506, loss = 29.21818162\n",
      "Iteration 507, loss = 29.08901814\n",
      "Iteration 508, loss = 28.96600479\n",
      "Iteration 509, loss = 28.83611478\n",
      "Iteration 510, loss = 28.73157005\n",
      "Iteration 511, loss = 28.64050409\n",
      "Iteration 512, loss = 28.57880690\n",
      "Iteration 513, loss = 28.48258283\n",
      "Iteration 514, loss = 28.44853411\n",
      "Iteration 515, loss = 28.35866672\n",
      "Iteration 516, loss = 28.12618007\n",
      "Iteration 517, loss = 27.84185890\n",
      "Iteration 518, loss = 27.61571870\n",
      "Iteration 519, loss = 27.47820940\n",
      "Iteration 520, loss = 27.42515223\n"
     ]
    },
    {
     "name": "stdout",
     "output_type": "stream",
     "text": [
      "Iteration 521, loss = 27.40913646\n",
      "Iteration 522, loss = 27.38916956\n",
      "Iteration 523, loss = 27.35465965\n",
      "Iteration 524, loss = 27.21736152\n",
      "Iteration 525, loss = 27.03991830\n",
      "Iteration 526, loss = 26.75039609\n",
      "Iteration 527, loss = 26.46716141\n",
      "Iteration 528, loss = 26.26869400\n",
      "Iteration 529, loss = 26.20314276\n",
      "Iteration 530, loss = 26.24279042\n",
      "Iteration 531, loss = 26.26521443\n",
      "Iteration 532, loss = 26.21575380\n",
      "Iteration 533, loss = 26.02877983\n",
      "Iteration 534, loss = 25.80437012\n",
      "Iteration 535, loss = 25.54745771\n",
      "Iteration 536, loss = 25.35768522\n",
      "Iteration 537, loss = 25.29433712\n",
      "Iteration 538, loss = 25.28515592\n",
      "Iteration 539, loss = 25.32350987\n",
      "Iteration 540, loss = 25.34540920\n",
      "Iteration 541, loss = 25.32434233\n",
      "Iteration 542, loss = 25.07348681\n",
      "Iteration 543, loss = 24.70935434\n",
      "Iteration 544, loss = 24.49289712\n",
      "Iteration 545, loss = 24.47778024\n",
      "Iteration 546, loss = 24.51554651\n",
      "Iteration 547, loss = 24.43798087\n",
      "Iteration 548, loss = 24.23137558\n",
      "Iteration 549, loss = 24.00862870\n",
      "Iteration 550, loss = 23.84917386\n",
      "Iteration 551, loss = 23.76223811\n",
      "Iteration 552, loss = 23.73958465\n",
      "Iteration 553, loss = 23.75138327\n",
      "Iteration 554, loss = 23.70663315\n",
      "Iteration 555, loss = 23.58933265\n",
      "Iteration 556, loss = 23.35122390\n",
      "Iteration 557, loss = 23.13479135\n",
      "Iteration 558, loss = 22.98799564\n",
      "Iteration 559, loss = 22.91631594\n",
      "Iteration 560, loss = 22.90104784\n",
      "Iteration 561, loss = 22.86115609\n",
      "Iteration 562, loss = 22.83212785\n",
      "Iteration 563, loss = 22.74092163\n",
      "Iteration 564, loss = 22.57487900\n",
      "Iteration 565, loss = 22.32728011\n",
      "Iteration 566, loss = 22.11517115\n",
      "Iteration 567, loss = 21.97559140\n",
      "Iteration 568, loss = 21.92073528\n",
      "Iteration 569, loss = 21.87550101\n",
      "Iteration 570, loss = 21.82283798\n",
      "Iteration 571, loss = 21.77914451\n",
      "Iteration 572, loss = 21.65543132\n",
      "Iteration 573, loss = 21.52434396\n",
      "Iteration 574, loss = 21.33423852\n",
      "Iteration 575, loss = 21.16825954\n",
      "Iteration 576, loss = 21.04901342\n",
      "Iteration 577, loss = 20.97801001\n",
      "Iteration 578, loss = 20.90470347\n",
      "Iteration 579, loss = 20.83781762\n",
      "Iteration 580, loss = 20.76321439\n",
      "Iteration 581, loss = 20.68248875\n",
      "Iteration 582, loss = 20.58977062\n",
      "Iteration 583, loss = 20.46778806\n",
      "Iteration 584, loss = 20.35549039\n",
      "Iteration 585, loss = 20.23138022\n",
      "Iteration 586, loss = 20.09368634\n",
      "Iteration 587, loss = 19.95317023\n",
      "Iteration 588, loss = 19.82507766\n",
      "Iteration 589, loss = 19.73368110\n",
      "Iteration 590, loss = 19.62455712\n",
      "Iteration 591, loss = 19.50956640\n",
      "Iteration 592, loss = 19.39566746\n",
      "Iteration 593, loss = 19.29091558\n",
      "Iteration 594, loss = 19.20391344\n",
      "Iteration 595, loss = 19.10848173\n",
      "Iteration 596, loss = 19.01568397\n",
      "Iteration 597, loss = 18.94668587\n",
      "Iteration 598, loss = 18.92573780\n",
      "Iteration 599, loss = 18.97147254\n",
      "Iteration 600, loss = 19.18484811\n",
      "Iteration 601, loss = 19.51607756\n",
      "Iteration 602, loss = 20.22820021\n",
      "Iteration 603, loss = 20.53573563\n",
      "Iteration 604, loss = 20.26188300\n",
      "Iteration 605, loss = 19.06239587\n",
      "Iteration 606, loss = 18.16432992\n",
      "Iteration 607, loss = 18.54354519\n",
      "Iteration 608, loss = 19.18038998\n",
      "Iteration 609, loss = 18.87099576\n",
      "Iteration 610, loss = 18.00925218\n",
      "Iteration 611, loss = 17.78466899\n",
      "Iteration 612, loss = 18.30117577\n",
      "Iteration 613, loss = 18.58331483\n",
      "Iteration 614, loss = 18.13237438\n",
      "Iteration 615, loss = 17.50712463\n",
      "Iteration 616, loss = 17.41830175\n",
      "Iteration 617, loss = 17.74653007\n",
      "Iteration 618, loss = 17.78231813\n",
      "Iteration 619, loss = 17.42206598\n",
      "Iteration 620, loss = 17.06817625\n",
      "Iteration 621, loss = 17.11687314\n",
      "Iteration 622, loss = 17.31907081\n",
      "Iteration 623, loss = 17.23883488\n",
      "Iteration 624, loss = 16.95084576\n",
      "Iteration 625, loss = 16.71547742\n",
      "Iteration 626, loss = 16.68915899\n",
      "Iteration 627, loss = 16.72991340\n",
      "Iteration 628, loss = 16.66080201\n",
      "Iteration 629, loss = 16.52589891\n",
      "Iteration 630, loss = 16.37013423\n",
      "Iteration 631, loss = 16.29815700\n",
      "Iteration 632, loss = 16.28093934\n",
      "Iteration 633, loss = 16.25841863\n",
      "Iteration 634, loss = 16.20783729\n",
      "Iteration 635, loss = 16.10116634\n",
      "Iteration 636, loss = 16.01401018\n",
      "Iteration 637, loss = 15.92008066\n",
      "Iteration 638, loss = 15.87516520\n",
      "Iteration 639, loss = 15.83949265\n",
      "Iteration 640, loss = 15.77394759\n",
      "Iteration 641, loss = 15.71425071\n",
      "Iteration 642, loss = 15.65003257\n",
      "Iteration 643, loss = 15.57537446\n",
      "Iteration 644, loss = 15.49516504\n",
      "Iteration 645, loss = 15.43841444\n",
      "Iteration 646, loss = 15.39573478\n",
      "Iteration 647, loss = 15.36479765\n",
      "Iteration 648, loss = 15.35822821\n",
      "Iteration 649, loss = 15.34985070\n",
      "Iteration 650, loss = 15.36183522\n",
      "Iteration 651, loss = 15.31221932\n",
      "Iteration 652, loss = 15.19204768\n",
      "Iteration 653, loss = 15.06362141\n",
      "Iteration 654, loss = 14.94478213\n",
      "Iteration 655, loss = 14.86714200\n",
      "Iteration 656, loss = 14.86628719\n",
      "Iteration 657, loss = 14.91379904\n",
      "Iteration 658, loss = 14.94196054\n",
      "Iteration 659, loss = 14.97300609\n",
      "Iteration 660, loss = 14.93881865\n",
      "Iteration 661, loss = 14.85050556\n",
      "Iteration 662, loss = 14.69501838\n",
      "Iteration 663, loss = 14.52772915\n",
      "Iteration 664, loss = 14.40190969\n",
      "Iteration 665, loss = 14.35880570\n",
      "Iteration 666, loss = 14.36481556\n",
      "Iteration 667, loss = 14.37786674\n",
      "Iteration 668, loss = 14.42823707\n",
      "Iteration 669, loss = 14.48431633\n",
      "Iteration 670, loss = 14.58036796\n",
      "Iteration 671, loss = 14.56644438\n",
      "Iteration 672, loss = 14.41933623\n",
      "Iteration 673, loss = 14.18061429\n",
      "Iteration 674, loss = 13.96368400\n",
      "Iteration 675, loss = 13.88034826\n",
      "Iteration 676, loss = 13.92726568\n",
      "Iteration 677, loss = 14.02337814\n",
      "Iteration 678, loss = 14.06556674\n",
      "Iteration 679, loss = 14.10201009\n",
      "Iteration 680, loss = 14.01957660\n",
      "Iteration 681, loss = 13.88756253\n",
      "Iteration 682, loss = 13.67775741\n",
      "Iteration 683, loss = 13.52246034\n",
      "Iteration 684, loss = 13.45446613\n",
      "Iteration 685, loss = 13.49454882\n",
      "Iteration 686, loss = 13.57696931\n",
      "Iteration 687, loss = 13.64448491\n",
      "Iteration 688, loss = 13.65767807\n",
      "Iteration 689, loss = 13.59127697\n",
      "Iteration 690, loss = 13.53104736\n",
      "Iteration 691, loss = 13.40467297\n",
      "Iteration 692, loss = 13.23325638\n",
      "Iteration 693, loss = 13.10672711\n",
      "Iteration 694, loss = 13.05638333\n",
      "Iteration 695, loss = 13.08573382\n",
      "Iteration 696, loss = 13.19350315\n",
      "Iteration 697, loss = 13.31474705\n",
      "Iteration 698, loss = 13.38222089\n",
      "Iteration 699, loss = 13.37471535\n",
      "Iteration 700, loss = 13.27043663\n",
      "Iteration 701, loss = 13.04710973\n",
      "Iteration 702, loss = 12.82385144\n",
      "Iteration 703, loss = 12.69461779\n",
      "Iteration 704, loss = 12.66046907\n",
      "Iteration 705, loss = 12.70262080\n",
      "Iteration 706, loss = 12.79703535\n",
      "Iteration 707, loss = 12.88929851\n",
      "Iteration 708, loss = 12.90453147\n",
      "Iteration 709, loss = 12.83195025\n",
      "Iteration 710, loss = 12.76305421\n",
      "Iteration 711, loss = 12.60556003\n",
      "Iteration 712, loss = 12.43109131\n",
      "Iteration 713, loss = 12.31472429\n",
      "Iteration 714, loss = 12.26231951\n",
      "Iteration 715, loss = 12.26497208\n",
      "Iteration 716, loss = 12.33011731\n",
      "Iteration 717, loss = 12.39064574\n",
      "Iteration 718, loss = 12.51664855\n",
      "Iteration 719, loss = 12.56895613\n",
      "Iteration 720, loss = 12.54695051\n",
      "Iteration 721, loss = 12.46228482\n",
      "Iteration 722, loss = 12.28796476\n",
      "Iteration 723, loss = 12.07914657\n",
      "Iteration 724, loss = 11.94245123\n",
      "Iteration 725, loss = 11.88566054\n",
      "Iteration 726, loss = 11.88839428\n",
      "Iteration 727, loss = 11.95225484\n",
      "Iteration 728, loss = 12.05892248\n",
      "Iteration 729, loss = 12.17281929\n",
      "Iteration 730, loss = 12.26105687\n",
      "Iteration 731, loss = 12.32023942\n",
      "Iteration 732, loss = 12.31676671\n",
      "Iteration 733, loss = 12.18862561\n",
      "Iteration 734, loss = 11.90618848\n",
      "Iteration 735, loss = 11.64814239\n",
      "Iteration 736, loss = 11.52035037\n",
      "Iteration 737, loss = 11.53179343\n",
      "Iteration 738, loss = 11.65863335\n",
      "Iteration 739, loss = 11.79780761\n",
      "Iteration 740, loss = 11.90289636\n",
      "Iteration 741, loss = 11.88016495\n",
      "Iteration 742, loss = 11.80174263\n",
      "Iteration 743, loss = 11.71700566\n",
      "Iteration 744, loss = 11.56622973\n",
      "Iteration 745, loss = 11.39844897\n",
      "Iteration 746, loss = 11.25388940\n",
      "Iteration 747, loss = 11.17322788\n",
      "Iteration 748, loss = 11.15261262\n",
      "Iteration 749, loss = 11.19732492\n",
      "Iteration 750, loss = 11.28285175\n",
      "Iteration 751, loss = 11.37849610\n",
      "Iteration 752, loss = 11.43939186\n",
      "Iteration 753, loss = 11.42907871\n",
      "Iteration 754, loss = 11.39617296\n",
      "Iteration 755, loss = 11.28742157\n",
      "Iteration 756, loss = 11.13444826\n",
      "Iteration 757, loss = 11.00427061\n",
      "Iteration 758, loss = 10.89913026\n",
      "Iteration 759, loss = 10.84067149\n",
      "Iteration 760, loss = 10.81128527\n",
      "Iteration 761, loss = 10.80706463\n",
      "Iteration 762, loss = 10.81920847\n",
      "Iteration 763, loss = 10.85618671\n",
      "Iteration 764, loss = 10.92792963\n",
      "Iteration 765, loss = 11.00027452\n",
      "Iteration 766, loss = 11.08330581\n",
      "Iteration 767, loss = 11.17133807\n",
      "Iteration 768, loss = 11.19749601\n",
      "Iteration 769, loss = 11.07544587\n",
      "Iteration 770, loss = 10.88372158\n",
      "Iteration 771, loss = 10.65591369\n",
      "Iteration 772, loss = 10.50510903\n",
      "Iteration 773, loss = 10.47202997\n",
      "Iteration 774, loss = 10.51443803\n",
      "Iteration 775, loss = 10.60050326\n",
      "Iteration 776, loss = 10.78401457\n",
      "Iteration 777, loss = 11.00106241\n",
      "Iteration 778, loss = 11.17558355\n",
      "Iteration 779, loss = 11.24241168\n",
      "Iteration 780, loss = 11.14417509\n",
      "Iteration 781, loss = 10.90058115\n",
      "Iteration 782, loss = 10.58283118\n",
      "Iteration 783, loss = 10.31621808\n",
      "Iteration 784, loss = 10.19894837\n",
      "Iteration 785, loss = 10.23521210\n",
      "Iteration 786, loss = 10.33325900\n"
     ]
    },
    {
     "name": "stdout",
     "output_type": "stream",
     "text": [
      "Iteration 787, loss = 10.46689964\n",
      "Iteration 788, loss = 10.56244397\n",
      "Iteration 789, loss = 10.59356247\n",
      "Iteration 790, loss = 10.55093321\n",
      "Iteration 791, loss = 10.43458469\n",
      "Iteration 792, loss = 10.28045900\n",
      "Iteration 793, loss = 10.10150428\n",
      "Iteration 794, loss = 9.98256655\n",
      "Iteration 795, loss = 9.95208711\n",
      "Iteration 796, loss = 9.99220320\n",
      "Iteration 797, loss = 10.08199426\n",
      "Iteration 798, loss = 10.19488969\n",
      "Iteration 799, loss = 10.30101868\n",
      "Iteration 800, loss = 10.40500825\n"
     ]
    },
    {
     "name": "stderr",
     "output_type": "stream",
     "text": [
      "/home/elicer/.local/lib/python3.10/site-packages/sklearn/neural_network/_multilayer_perceptron.py:679: ConvergenceWarning: Stochastic Optimizer: Maximum iterations (800) reached and the optimization hasn't converged yet.\n",
      "  warnings.warn(\n"
     ]
    }
   ],
   "source": [
    "mlp_reg.fit(X_train_scaled, y_train)\n",
    "\n",
    "y_pred = mlp_reg.predict(X_test_scaled)"
   ]
  },
  {
   "cell_type": "markdown",
   "metadata": {},
   "source": [
    "Verbose로 실제 학습 상황을 확인한 결과, max_iteration으로 설정한 800보다 일찍 학습이 종료되는 것을 확인할 수 있습니다.\\\n",
    "그 이유는 Training Loss가 tol(=0.0001) 이상 감소하지 않는 상황이 10번 연속으로 지속되면 더 이상의 학습이 무의미하다고 보고 학습을 종료하는 $Early Stopping$ 때문입니다. \\\n",
    "이 내용은 6일차에 자세히 배울 예정입니다.\n",
    "\n",
    "* 다시 실행했을 때, 더 오래 학습이 진행되는 경우도 존재합니다."
   ]
  },
  {
   "cell_type": "markdown",
   "metadata": {
    "id": "3UTbTcSmcU10"
   },
   "source": [
    "실제 타깃값과 예측값 결과를 확인하고 그래프로 표현해보겠습니다."
   ]
  },
  {
   "cell_type": "code",
   "execution_count": 19,
   "metadata": {
    "colab": {
     "base_uri": "https://localhost:8080/",
     "height": 206
    },
    "executionInfo": {
     "elapsed": 3,
     "status": "ok",
     "timestamp": 1661232795089,
     "user": {
      "displayName": "김도현",
      "userId": "01074377609887751305"
     },
     "user_tz": -540
    },
    "id": "SHYtIcbDZAs3",
    "outputId": "44ef0ee0-fa48-4723-c5e3-1f4d21d0e89d"
   },
   "outputs": [
    {
     "data": {
      "text/html": [
       "<div>\n",
       "<style scoped>\n",
       "    .dataframe tbody tr th:only-of-type {\n",
       "        vertical-align: middle;\n",
       "    }\n",
       "\n",
       "    .dataframe tbody tr th {\n",
       "        vertical-align: top;\n",
       "    }\n",
       "\n",
       "    .dataframe thead th {\n",
       "        text-align: right;\n",
       "    }\n",
       "</style>\n",
       "<table border=\"1\" class=\"dataframe\">\n",
       "  <thead>\n",
       "    <tr style=\"text-align: right;\">\n",
       "      <th></th>\n",
       "      <th>Actual</th>\n",
       "      <th>Predicted</th>\n",
       "    </tr>\n",
       "  </thead>\n",
       "  <tbody>\n",
       "    <tr>\n",
       "      <th>39</th>\n",
       "      <td>4</td>\n",
       "      <td>2.382451</td>\n",
       "    </tr>\n",
       "    <tr>\n",
       "      <th>166</th>\n",
       "      <td>32</td>\n",
       "      <td>28.849084</td>\n",
       "    </tr>\n",
       "    <tr>\n",
       "      <th>93</th>\n",
       "      <td>92</td>\n",
       "      <td>90.262909</td>\n",
       "    </tr>\n",
       "    <tr>\n",
       "      <th>62</th>\n",
       "      <td>58</td>\n",
       "      <td>55.792880</td>\n",
       "    </tr>\n",
       "    <tr>\n",
       "      <th>195</th>\n",
       "      <td>6</td>\n",
       "      <td>10.197809</td>\n",
       "    </tr>\n",
       "  </tbody>\n",
       "</table>\n",
       "</div>"
      ],
      "text/plain": [
       "     Actual  Predicted\n",
       "39        4   2.382451\n",
       "166      32  28.849084\n",
       "93       92  90.262909\n",
       "62       58  55.792880\n",
       "195       6  10.197809"
      ]
     },
     "execution_count": 19,
     "metadata": {},
     "output_type": "execute_result"
    }
   ],
   "source": [
    "df_temp = pd.DataFrame({'Actual': y_test, 'Predicted': y_pred})\n",
    "df_temp.head()"
   ]
  },
  {
   "cell_type": "code",
   "execution_count": 20,
   "metadata": {
    "colab": {
     "base_uri": "https://localhost:8080/",
     "height": 383
    },
    "executionInfo": {
     "elapsed": 542,
     "status": "ok",
     "timestamp": 1661232795629,
     "user": {
      "displayName": "김도현",
      "userId": "01074377609887751305"
     },
     "user_tz": -540
    },
    "id": "Tj8D-LdcZNj4",
    "outputId": "ed05409c-3805-4fe0-922f-a5f8c25030c8"
   },
   "outputs": [
    {
     "data": {
      "image/png": "[encoded data removed]",
      "text/plain": [
       "<Figure size 1000x600 with 1 Axes>"
      ]
     },
     "metadata": {},
     "output_type": "display_data"
    }
   ],
   "source": [
    "df_temp = df_temp.head(30)\n",
    "df_temp.plot(kind='bar',figsize=(10,6), width = 3, use_index = False)\n",
    "plt.grid(which='major', linestyle='-', linewidth='0.5', color='green')\n",
    "plt.grid(which='minor', linestyle=':', linewidth='0.5', color='black')\n",
    "plt.show()"
   ]
  },
  {
   "cell_type": "markdown",
   "metadata": {
    "id": "bJ--28RFca6H"
   },
   "source": [
    "값마다 정확하게 예측하거나 근사치에 예측한 값이 있는 반면 차이가 많이 나는 데이터도 존재합니다.\n",
    "평가표인 MAE, MSE, RMSE를 출력해보겠습니다."
   ]
  },
  {
   "cell_type": "code",
   "execution_count": 21,
   "metadata": {
    "colab": {
     "base_uri": "https://localhost:8080/"
    },
    "executionInfo": {
     "elapsed": 4,
     "status": "ok",
     "timestamp": 1661232795629,
     "user": {
      "displayName": "김도현",
      "userId": "01074377609887751305"
     },
     "user_tz": -540
    },
    "id": "2tCXU3u3ZPe_",
    "outputId": "5b487538-e11d-40fa-c3e3-2974bff0adf0"
   },
   "outputs": [
    {
     "name": "stdout",
     "output_type": "stream",
     "text": [
      "Mean Absolute Error: 5.6542003565490235\n",
      "Mean Squared Error: 62.87854962605865\n",
      "Root Mean Squared Error: 7.929599588003082\n"
     ]
    }
   ],
   "source": [
    "print('Mean Absolute Error:', metrics.mean_absolute_error(y_test, y_pred))  \n",
    "print('Mean Squared Error:', metrics.mean_squared_error(y_test, y_pred))  \n",
    "print('Root Mean Squared Error:', np.sqrt(metrics.mean_squared_error(y_test, y_pred)))"
   ]
  },
  {
   "cell_type": "markdown",
   "metadata": {
    "id": "yJ4Bqhj5crhc"
   },
   "source": [
    "사이킷런(sklearn) 이외에 본격적인 딥러닝 프레임워크(tensorflow)를 이용한 딥러닝 모델은 이후 차시에서 다뤄볼 예정입니다. \\\n",
    "마지막으로 Loss 커브를 통해 훈련마다 Loss가 어떻게 감소했는지 살펴보겠습니다."
   ]
  },
  {
   "cell_type": "code",
   "execution_count": 22,
   "metadata": {
    "colab": {
     "base_uri": "https://localhost:8080/",
     "height": 296
    },
    "executionInfo": {
     "elapsed": 409,
     "status": "ok",
     "timestamp": 1661232796035,
     "user": {
      "displayName": "김도현",
      "userId": "01074377609887751305"
     },
     "user_tz": -540
    },
    "id": "2F6DktGKZdxm",
    "outputId": "75e4af5f-f927-46c4-cc4a-e484ddcdabe3"
   },
   "outputs": [
    {
     "data": {
      "image/png": "[encoded data removed]",
      "text/plain": [
       "<Figure size 640x480 with 1 Axes>"
      ]
     },
     "metadata": {},
     "output_type": "display_data"
    }
   ],
   "source": [
    "plt.plot(mlp_reg.loss_curve_)\n",
    "plt.title(\"Loss Curve\", fontsize=14)\n",
    "plt.xlabel('Iterations')\n",
    "plt.ylabel('Cost')\n",
    "plt.show()"
   ]
  },
  {
   "cell_type": "markdown",
   "metadata": {
    "id": "-dSYn9YAdbxz"
   },
   "source": [
    "반복 횟수가 증가할 때마다 Loss가 감소하는 모습을 보입니다. LOSS가 감소했으니 정상적으로 훈련이 진행되었다는 것을 알 수 있습니다."
   ]
  },
  {
   "cell_type": "markdown",
   "metadata": {
    "id": "UOiut933dnsL"
   },
   "source": [
    "## 4. 예제 데이터 적용(보스턴 집값 데이터)"
   ]
  },
  {
   "cell_type": "markdown",
   "metadata": {
    "id": "FjX5zZBkdufn"
   },
   "source": [
    "---"
   ]
  },
  {
   "cell_type": "markdown",
   "metadata": {
    "id": "shi5FMb-nvsm"
   },
   "source": [
    "이전 시간에 전처리한 보스턴 집값 데이터를 이용해 선형회귀, 라쏘 릿지 회귀, MLP모델 실습 및 \b회귀 분석에 대한 통계량 지표 확인 등을 수행해보겠습니다."
   ]
  },
  {
   "cell_type": "markdown",
   "metadata": {
    "id": "wKrV1htwdvfy"
   },
   "source": [
    "### 4.1 데이터 불러오기"
   ]
  },
  {
   "cell_type": "markdown",
   "metadata": {
    "id": "WPg6pzzjv3bA"
   },
   "source": [
    "---"
   ]
  },
  {
   "cell_type": "markdown",
   "metadata": {
    "id": "BOzFXClBv4Qm"
   },
   "source": [
    "모델 학습에 필요한 데이터를 불러옵니다. \\\n",
    "이전에 사용했던 전처리된 보스턴 집값데이터를 불러오겠습니다. 총 40개의 컬럼과 1458개의 데이터로 이루어져있습니다."
   ]
  },
  {
   "cell_type": "code",
   "execution_count": 23,
   "metadata": {
    "executionInfo": {
     "elapsed": 363,
     "status": "ok",
     "timestamp": 1661234790171,
     "user": {
      "displayName": "김도현",
      "userId": "01074377609887751305"
     },
     "user_tz": -540
    },
    "id": "v53-jgUCdqq3"
   },
   "outputs": [],
   "source": [
    "train = pd.read_csv('train_preprocessing.csv')"
   ]
  },
  {
   "cell_type": "code",
   "execution_count": 24,
   "metadata": {
    "executionInfo": {
     "elapsed": 1,
     "status": "ok",
     "timestamp": 1661234791735,
     "user": {
      "displayName": "김도현",
      "userId": "01074377609887751305"
     },
     "user_tz": -540
    },
    "id": "b_HDKECAubAO"
   },
   "outputs": [],
   "source": [
    "train.drop(['Unnamed: 0'], axis=1, inplace=True)"
   ]
  },
  {
   "cell_type": "code",
   "execution_count": 25,
   "metadata": {
    "colab": {
     "base_uri": "https://localhost:8080/",
     "height": 300
    },
    "executionInfo": {
     "elapsed": 3,
     "status": "ok",
     "timestamp": 1661234792186,
     "user": {
      "displayName": "김도현",
      "userId": "01074377609887751305"
     },
     "user_tz": -540
    },
    "id": "9z_ycF9evCGZ",
    "outputId": "c58467c0-66a3-4fd6-8505-33dca6ea230b"
   },
   "outputs": [
    {
     "data": {
      "text/html": [
       "<div>\n",
       "<style scoped>\n",
       "    .dataframe tbody tr th:only-of-type {\n",
       "        vertical-align: middle;\n",
       "    }\n",
       "\n",
       "    .dataframe tbody tr th {\n",
       "        vertical-align: top;\n",
       "    }\n",
       "\n",
       "    .dataframe thead th {\n",
       "        text-align: right;\n",
       "    }\n",
       "</style>\n",
       "<table border=\"1\" class=\"dataframe\">\n",
       "  <thead>\n",
       "    <tr style=\"text-align: right;\">\n",
       "      <th></th>\n",
       "      <th>TotalSF</th>\n",
       "      <th>OverallQual</th>\n",
       "      <th>Total_sqr_footage</th>\n",
       "      <th>GrLivArea</th>\n",
       "      <th>GarageCars</th>\n",
       "      <th>Total_Bathrooms</th>\n",
       "      <th>GarageArea</th>\n",
       "      <th>YrBltAndRemod</th>\n",
       "      <th>1stFlrSF</th>\n",
       "      <th>FullBath</th>\n",
       "      <th>...</th>\n",
       "      <th>Foundation_CBlock</th>\n",
       "      <th>MSZoning_RM</th>\n",
       "      <th>MasVnrType_None</th>\n",
       "      <th>GarageType_Detchd</th>\n",
       "      <th>GarageFinish</th>\n",
       "      <th>HeatingQC</th>\n",
       "      <th>KitchenQual</th>\n",
       "      <th>ExterQual</th>\n",
       "      <th>BsmtQual</th>\n",
       "      <th>SalePrice</th>\n",
       "    </tr>\n",
       "  </thead>\n",
       "  <tbody>\n",
       "    <tr>\n",
       "      <th>0</th>\n",
       "      <td>14.976591</td>\n",
       "      <td>7</td>\n",
       "      <td>14.781997</td>\n",
       "      <td>13.698888</td>\n",
       "      <td>2.0</td>\n",
       "      <td>3.5</td>\n",
       "      <td>548.0</td>\n",
       "      <td>4006</td>\n",
       "      <td>11.692623</td>\n",
       "      <td>2</td>\n",
       "      <td>...</td>\n",
       "      <td>0</td>\n",
       "      <td>0</td>\n",
       "      <td>0</td>\n",
       "      <td>0</td>\n",
       "      <td>1.194318</td>\n",
       "      <td>0</td>\n",
       "      <td>1.194318</td>\n",
       "      <td>1.194318</td>\n",
       "      <td>2</td>\n",
       "      <td>208500</td>\n",
       "    </tr>\n",
       "    <tr>\n",
       "      <th>1</th>\n",
       "      <td>14.923100</td>\n",
       "      <td>6</td>\n",
       "      <td>14.540127</td>\n",
       "      <td>12.792276</td>\n",
       "      <td>2.0</td>\n",
       "      <td>2.5</td>\n",
       "      <td>460.0</td>\n",
       "      <td>3952</td>\n",
       "      <td>12.792276</td>\n",
       "      <td>2</td>\n",
       "      <td>...</td>\n",
       "      <td>1</td>\n",
       "      <td>0</td>\n",
       "      <td>1</td>\n",
       "      <td>0</td>\n",
       "      <td>1.194318</td>\n",
       "      <td>0</td>\n",
       "      <td>1.540963</td>\n",
       "      <td>1.540963</td>\n",
       "      <td>2</td>\n",
       "      <td>181500</td>\n",
       "    </tr>\n",
       "    <tr>\n",
       "      <th>2</th>\n",
       "      <td>15.149678</td>\n",
       "      <td>7</td>\n",
       "      <td>14.585277</td>\n",
       "      <td>13.832085</td>\n",
       "      <td>2.0</td>\n",
       "      <td>3.5</td>\n",
       "      <td>608.0</td>\n",
       "      <td>4003</td>\n",
       "      <td>11.892039</td>\n",
       "      <td>2</td>\n",
       "      <td>...</td>\n",
       "      <td>0</td>\n",
       "      <td>0</td>\n",
       "      <td>0</td>\n",
       "      <td>0</td>\n",
       "      <td>1.194318</td>\n",
       "      <td>0</td>\n",
       "      <td>1.194318</td>\n",
       "      <td>1.194318</td>\n",
       "      <td>2</td>\n",
       "      <td>223500</td>\n",
       "    </tr>\n",
       "    <tr>\n",
       "      <th>3</th>\n",
       "      <td>14.857121</td>\n",
       "      <td>7</td>\n",
       "      <td>14.076603</td>\n",
       "      <td>13.711364</td>\n",
       "      <td>3.0</td>\n",
       "      <td>2.0</td>\n",
       "      <td>642.0</td>\n",
       "      <td>3885</td>\n",
       "      <td>12.013683</td>\n",
       "      <td>1</td>\n",
       "      <td>...</td>\n",
       "      <td>0</td>\n",
       "      <td>0</td>\n",
       "      <td>1</td>\n",
       "      <td>1</td>\n",
       "      <td>1.540963</td>\n",
       "      <td>2</td>\n",
       "      <td>1.194318</td>\n",
       "      <td>1.540963</td>\n",
       "      <td>4</td>\n",
       "      <td>140000</td>\n",
       "    </tr>\n",
       "    <tr>\n",
       "      <th>4</th>\n",
       "      <td>15.852312</td>\n",
       "      <td>8</td>\n",
       "      <td>15.323415</td>\n",
       "      <td>14.480029</td>\n",
       "      <td>3.0</td>\n",
       "      <td>3.5</td>\n",
       "      <td>836.0</td>\n",
       "      <td>4000</td>\n",
       "      <td>12.510588</td>\n",
       "      <td>2</td>\n",
       "      <td>...</td>\n",
       "      <td>0</td>\n",
       "      <td>0</td>\n",
       "      <td>0</td>\n",
       "      <td>0</td>\n",
       "      <td>1.194318</td>\n",
       "      <td>0</td>\n",
       "      <td>1.194318</td>\n",
       "      <td>1.194318</td>\n",
       "      <td>2</td>\n",
       "      <td>250000</td>\n",
       "    </tr>\n",
       "  </tbody>\n",
       "</table>\n",
       "<p>5 rows × 40 columns</p>\n",
       "</div>"
      ],
      "text/plain": [
       "     TotalSF  OverallQual  Total_sqr_footage  GrLivArea  GarageCars  \\\n",
       "0  14.976591            7          14.781997  13.698888         2.0   \n",
       "1  14.923100            6          14.540127  12.792276         2.0   \n",
       "2  15.149678            7          14.585277  13.832085         2.0   \n",
       "3  14.857121            7          14.076603  13.711364         3.0   \n",
       "4  15.852312            8          15.323415  14.480029         3.0   \n",
       "\n",
       "   Total_Bathrooms  GarageArea  YrBltAndRemod   1stFlrSF  FullBath  ...  \\\n",
       "0              3.5       548.0           4006  11.692623         2  ...   \n",
       "1              2.5       460.0           3952  12.792276         2  ...   \n",
       "2              3.5       608.0           4003  11.892039         2  ...   \n",
       "3              2.0       642.0           3885  12.013683         1  ...   \n",
       "4              3.5       836.0           4000  12.510588         2  ...   \n",
       "\n",
       "   Foundation_CBlock  MSZoning_RM  MasVnrType_None  GarageType_Detchd  \\\n",
       "0                  0            0                0                  0   \n",
       "1                  1            0                1                  0   \n",
       "2                  0            0                0                  0   \n",
       "3                  0            0                1                  1   \n",
       "4                  0            0                0                  0   \n",
       "\n",
       "   GarageFinish  HeatingQC  KitchenQual  ExterQual  BsmtQual  SalePrice  \n",
       "0      1.194318          0     1.194318   1.194318         2     208500  \n",
       "1      1.194318          0     1.540963   1.540963         2     181500  \n",
       "2      1.194318          0     1.194318   1.194318         2     223500  \n",
       "3      1.540963          2     1.194318   1.540963         4     140000  \n",
       "4      1.194318          0     1.194318   1.194318         2     250000  \n",
       "\n",
       "[5 rows x 40 columns]"
      ]
     },
     "execution_count": 25,
     "metadata": {},
     "output_type": "execute_result"
    }
   ],
   "source": [
    "train.head()"
   ]
  },
  {
   "cell_type": "markdown",
   "metadata": {
    "id": "AHUUQeIB2dfA"
   },
   "source": [
    "### 4.2 데이터 분리(X, y) 훈련 세트와 테스트 세트 생성"
   ]
  },
  {
   "cell_type": "markdown",
   "metadata": {
    "id": "jC2i9vH02jsF"
   },
   "source": [
    "---"
   ]
  },
  {
   "cell_type": "code",
   "execution_count": 26,
   "metadata": {
    "colab": {
     "base_uri": "https://localhost:8080/"
    },
    "executionInfo": {
     "elapsed": 4,
     "status": "ok",
     "timestamp": 1661234792584,
     "user": {
      "displayName": "김도현",
      "userId": "01074377609887751305"
     },
     "user_tz": -540
    },
    "id": "hUM_PxPIvHHs",
    "outputId": "6e0f9cd2-6e54-4f2b-930a-9498ff6eafe9"
   },
   "outputs": [
    {
     "data": {
      "text/plain": [
       "TotalSF                 1458\n",
       "OverallQual             1458\n",
       "Total_sqr_footage       1458\n",
       "GrLivArea               1458\n",
       "GarageCars              1458\n",
       "Total_Bathrooms         1458\n",
       "GarageArea              1458\n",
       "YrBltAndRemod           1458\n",
       "1stFlrSF                1458\n",
       "FullBath                1458\n",
       "YearBuilt               1458\n",
       "YearRemodAdd            1458\n",
       "TotRmsAbvGrd            1458\n",
       "Foundation_PConc        1458\n",
       "hasfireplace            1458\n",
       "Fireplaces              1458\n",
       "TotalBsmtSF             1458\n",
       "OpenPorchSF             1458\n",
       "MasVnrArea              1458\n",
       "GarageType_Attchd       1458\n",
       "LotArea                 1458\n",
       "Total_porch_sf          1458\n",
       "LotFrontage             1458\n",
       "CentralAir              1458\n",
       "WoodDeckSF              1458\n",
       "Neighborhood_NridgHt    1458\n",
       "Exterior2nd_VinylSd     1458\n",
       "Exterior1st_VinylSd     1458\n",
       "GarageYrBlt             1458\n",
       "GarageType_None         1458\n",
       "Foundation_CBlock       1458\n",
       "MSZoning_RM             1458\n",
       "MasVnrType_None         1458\n",
       "GarageType_Detchd       1458\n",
       "GarageFinish            1458\n",
       "HeatingQC               1458\n",
       "KitchenQual             1458\n",
       "ExterQual               1458\n",
       "BsmtQual                1458\n",
       "dtype: int64"
      ]
     },
     "execution_count": 26,
     "metadata": {},
     "output_type": "execute_result"
    }
   ],
   "source": [
    "X = train.iloc[:, :39]\n",
    "y = train['SalePrice']\n",
    "\n",
    "X.count()"
   ]
  },
  {
   "cell_type": "code",
   "execution_count": 27,
   "metadata": {
    "colab": {
     "base_uri": "https://localhost:8080/"
    },
    "executionInfo": {
     "elapsed": 3,
     "status": "ok",
     "timestamp": 1661234792584,
     "user": {
      "displayName": "김도현",
      "userId": "01074377609887751305"
     },
     "user_tz": -540
    },
    "id": "kGFoHWLYvN9D",
    "outputId": "e38c8223-4afd-4808-ce95-7f25caaec34e"
   },
   "outputs": [
    {
     "name": "stdout",
     "output_type": "stream",
     "text": [
      "학습 데이터 : (1166, 39)\n",
      "테스트 데이터 :  (292, 39)\n"
     ]
    }
   ],
   "source": [
    "X_train, X_test, y_train,y_test = train_test_split(X,y,test_size = 0.2, random_state = 1 )\n",
    "X.shape\n",
    "print('학습 데이터 :' ,X_train.shape)\n",
    "print('테스트 데이터 : ', X_test.shape)"
   ]
  },
  {
   "cell_type": "markdown",
   "metadata": {
    "id": "YLT63bOU2lkK"
   },
   "source": [
    "### 4.3 선형회귀(Linear Regression) "
   ]
  },
  {
   "cell_type": "markdown",
   "metadata": {
    "id": "hqEOLHt02r2Y"
   },
   "source": [
    "---"
   ]
  },
  {
   "cell_type": "markdown",
   "metadata": {
    "id": "m4uuSlxd2thx"
   },
   "source": [
    "마찬가지로 선형회귀를 수행하면 아래와 같은 결과가 나옵니다. 훈련세트와 테스트 세트의 결과가 꽤 높게 나오는 모습을 알 수 있습니다.\n",
    "두 데이터간의 스코어 격차가 심하지 않고, 거의 동일하게 나오고 있습니다."
   ]
  },
  {
   "cell_type": "code",
   "execution_count": 28,
   "metadata": {
    "colab": {
     "base_uri": "https://localhost:8080/"
    },
    "executionInfo": {
     "elapsed": 2,
     "status": "ok",
     "timestamp": 1661234794129,
     "user": {
      "displayName": "김도현",
      "userId": "01074377609887751305"
     },
     "user_tz": -540
    },
    "id": "I2uDl6GbvPRy",
    "outputId": "d331b502-2198-4924-a001-77c11b63bedf"
   },
   "outputs": [
    {
     "name": "stdout",
     "output_type": "stream",
     "text": [
      "결정계수 : 0.8649195602534191\n",
      "평균제곱근오차 :  28334.18607583915\n",
      "훈련 세트 점수 : 0.85\n",
      "테스트 세트 점수 : 0.86\n"
     ]
    }
   ],
   "source": [
    "lr = LinearRegression().fit(X_train, y_train)\n",
    "\n",
    "lr_pred = lr.predict(X_test)\n",
    "\n",
    "rmse = np.sqrt(mean_squared_error(y_test, lr_pred))\n",
    "r2 = r2_score(y_test, lr_pred)\n",
    "\n",
    "print('결정계수 :', r2)\n",
    "print('평균제곱근오차 : ', rmse)\n",
    "print('훈련 세트 점수 : {:.2f}'.format(lr.score(X_train, y_train)))\n",
    "print('테스트 세트 점수 : {:.2f}'.format(lr.score(X_test, y_test)))"
   ]
  },
  {
   "cell_type": "markdown",
   "metadata": {
    "id": "VC0Clr6q2-We"
   },
   "source": [
    "그래프 또한 비교적 선형의 모습을 띄고 있습니다. 예측이 비교적 잘 되고 있는 모습을 볼 수 있습니다."
   ]
  },
  {
   "cell_type": "code",
   "execution_count": 29,
   "metadata": {
    "colab": {
     "base_uri": "https://localhost:8080/",
     "height": 295
    },
    "executionInfo": {
     "elapsed": 601,
     "status": "ok",
     "timestamp": 1661234795437,
     "user": {
      "displayName": "김도현",
      "userId": "01074377609887751305"
     },
     "user_tz": -540
    },
    "id": "AbuF6jIOwYR4",
    "outputId": "8e7f5a8f-8847-4923-a24b-28ab71c5ff6f"
   },
   "outputs": [
    {
     "data": {
      "image/png": "[encoded data removed]",
      "text/plain": [
       "<Figure size 640x480 with 1 Axes>"
      ]
     },
     "metadata": {},
     "output_type": "display_data"
    }
   ],
   "source": [
    "plt.scatter(y_test, lr_pred, alpha=0.4)\n",
    "plt.plot(y_test, y_test, color='r')\n",
    "plt.xlabel(\"Actual Size\")\n",
    "plt.ylabel(\"Predicted Size\")\n",
    "plt.title(\"Linear Regression\")\n",
    "plt.show()"
   ]
  },
  {
   "cell_type": "markdown",
   "metadata": {
    "id": "FY1SuWaV0Vpb"
   },
   "source": [
    "### 4.4 선형회귀 통계량 살펴보기"
   ]
  },
  {
   "cell_type": "markdown",
   "metadata": {
    "id": "BDbYyO1l3H01"
   },
   "source": [
    "---"
   ]
  },
  {
   "cell_type": "markdown",
   "metadata": {
    "id": "sJeHaeLg3Ikc"
   },
   "source": [
    "OLS 회귀분석를 사용하면 summary()명령어를 통해 통계량 지표를 산출할 수 있습니다. \\\n",
    "stat의 OLS회귀분석은 잔차제곱합(RSS: Residual Sum of Squares)를 최소화하는 가중치 벡터를 구하는 방법입니다."
   ]
  },
  {
   "cell_type": "code",
   "execution_count": 30,
   "metadata": {
    "colab": {
     "base_uri": "https://localhost:8080/"
    },
    "executionInfo": {
     "elapsed": 1223,
     "status": "ok",
     "timestamp": 1661234797043,
     "user": {
      "displayName": "김도현",
      "userId": "01074377609887751305"
     },
     "user_tz": -540
    },
    "id": "nf1_StO2zBIo",
    "outputId": "7ea0bc5a-d088-4dca-9911-1b12317a15dd"
   },
   "outputs": [
    {
     "name": "stderr",
     "output_type": "stream",
     "text": [
      "/home/elicer/.local/lib/python3.10/site-packages/statsmodels/base/model.py:130: ValueWarning: unknown kwargs ['axis']\n",
      "  warnings.warn(msg, ValueWarning)\n"
     ]
    }
   ],
   "source": [
    "import statsmodels.api as sm\n",
    "X_train_beta = sm.add_constant(X_train) ### 선형 회귀 식의 beta 0를 만드는 과정 \n",
    "model = sm.OLS(y_train, X_train_beta, axis = 1) ## OLS data modeling \n",
    "model_trained = model.fit() ## 모델 fitting\n",
    "model_residuals = model_trained.resid ### 모델의 잔차(예측값 - 타겟값)"
   ]
  },
  {
   "cell_type": "code",
   "execution_count": 31,
   "metadata": {
    "colab": {
     "base_uri": "https://localhost:8080/",
     "height": 1000
    },
    "executionInfo": {
     "elapsed": 4,
     "status": "ok",
     "timestamp": 1661234797043,
     "user": {
      "displayName": "김도현",
      "userId": "01074377609887751305"
     },
     "user_tz": -540
    },
    "id": "9Big5uj6wjok",
    "outputId": "99013dbd-5b48-4453-a58f-460fbfeb2047"
   },
   "outputs": [
    {
     "data": {
      "text/html": [
       "<table class=\"simpletable\">\n",
       "<caption>OLS Regression Results</caption>\n",
       "<tr>\n",
       "  <th>Dep. Variable:</th>        <td>SalePrice</td>    <th>  R-squared:         </th> <td>   0.854</td> \n",
       "</tr>\n",
       "<tr>\n",
       "  <th>Model:</th>                   <td>OLS</td>       <th>  Adj. R-squared:    </th> <td>   0.849</td> \n",
       "</tr>\n",
       "<tr>\n",
       "  <th>Method:</th>             <td>Least Squares</td>  <th>  F-statistic:       </th> <td>   168.8</td> \n",
       "</tr>\n",
       "<tr>\n",
       "  <th>Date:</th>             <td>Tue, 11 Feb 2025</td> <th>  Prob (F-statistic):</th>  <td>  0.00</td>  \n",
       "</tr>\n",
       "<tr>\n",
       "  <th>Time:</th>                 <td>06:26:23</td>     <th>  Log-Likelihood:    </th> <td> -13697.</td> \n",
       "</tr>\n",
       "<tr>\n",
       "  <th>No. Observations:</th>      <td>  1166</td>      <th>  AIC:               </th> <td>2.747e+04</td>\n",
       "</tr>\n",
       "<tr>\n",
       "  <th>Df Residuals:</th>          <td>  1126</td>      <th>  BIC:               </th> <td>2.768e+04</td>\n",
       "</tr>\n",
       "<tr>\n",
       "  <th>Df Model:</th>              <td>    39</td>      <th>                     </th>     <td> </td>    \n",
       "</tr>\n",
       "<tr>\n",
       "  <th>Covariance Type:</th>      <td>nonrobust</td>    <th>                     </th>     <td> </td>    \n",
       "</tr>\n",
       "</table>\n",
       "<table class=\"simpletable\">\n",
       "<tr>\n",
       "            <td></td>              <th>coef</th>     <th>std err</th>      <th>t</th>      <th>P>|t|</th>  <th>[0.025</th>    <th>0.975]</th>  \n",
       "</tr>\n",
       "<tr>\n",
       "  <th>const</th>                <td>-1.032e+08</td> <td> 5.93e+07</td> <td>   -1.739</td> <td> 0.082</td> <td> -2.2e+08</td> <td> 1.32e+07</td>\n",
       "</tr>\n",
       "<tr>\n",
       "  <th>TotalSF</th>              <td> 1.565e+04</td> <td> 6421.233</td> <td>    2.438</td> <td> 0.015</td> <td> 3054.375</td> <td> 2.83e+04</td>\n",
       "</tr>\n",
       "<tr>\n",
       "  <th>OverallQual</th>          <td> 1.497e+04</td> <td> 1296.237</td> <td>   11.549</td> <td> 0.000</td> <td> 1.24e+04</td> <td> 1.75e+04</td>\n",
       "</tr>\n",
       "<tr>\n",
       "  <th>Total_sqr_footage</th>    <td> 1.212e+04</td> <td> 2006.697</td> <td>    6.040</td> <td> 0.000</td> <td> 8183.946</td> <td> 1.61e+04</td>\n",
       "</tr>\n",
       "<tr>\n",
       "  <th>GrLivArea</th>            <td>  982.3630</td> <td> 4574.463</td> <td>    0.215</td> <td> 0.830</td> <td>-7993.068</td> <td> 9957.794</td>\n",
       "</tr>\n",
       "<tr>\n",
       "  <th>GarageCars</th>           <td> 8300.2396</td> <td> 3185.695</td> <td>    2.605</td> <td> 0.009</td> <td> 2049.674</td> <td> 1.46e+04</td>\n",
       "</tr>\n",
       "<tr>\n",
       "  <th>Total_Bathrooms</th>      <td> 2321.2169</td> <td> 2421.153</td> <td>    0.959</td> <td> 0.338</td> <td>-2429.263</td> <td> 7071.697</td>\n",
       "</tr>\n",
       "<tr>\n",
       "  <th>GarageArea</th>           <td>    5.3858</td> <td>   10.901</td> <td>    0.494</td> <td> 0.621</td> <td>  -16.003</td> <td>   26.775</td>\n",
       "</tr>\n",
       "<tr>\n",
       "  <th>YrBltAndRemod</th>        <td>-1.481e+04</td> <td> 8593.063</td> <td>   -1.724</td> <td> 0.085</td> <td>-3.17e+04</td> <td> 2048.252</td>\n",
       "</tr>\n",
       "<tr>\n",
       "  <th>1stFlrSF</th>             <td> 1511.3952</td> <td> 2249.243</td> <td>    0.672</td> <td> 0.502</td> <td>-2901.784</td> <td> 5924.574</td>\n",
       "</tr>\n",
       "<tr>\n",
       "  <th>FullBath</th>             <td>-1697.7656</td> <td> 3201.870</td> <td>   -0.530</td> <td> 0.596</td> <td>-7980.068</td> <td> 4584.537</td>\n",
       "</tr>\n",
       "<tr>\n",
       "  <th>YearBuilt</th>            <td> 9.315e+06</td> <td> 5.38e+06</td> <td>    1.732</td> <td> 0.083</td> <td>-1.23e+06</td> <td> 1.99e+07</td>\n",
       "</tr>\n",
       "<tr>\n",
       "  <th>YearRemodAdd</th>         <td> 1.497e+04</td> <td> 8609.271</td> <td>    1.739</td> <td> 0.082</td> <td>-1917.831</td> <td> 3.19e+04</td>\n",
       "</tr>\n",
       "<tr>\n",
       "  <th>TotRmsAbvGrd</th>         <td>-3531.7649</td> <td> 6160.964</td> <td>   -0.573</td> <td> 0.567</td> <td>-1.56e+04</td> <td> 8556.497</td>\n",
       "</tr>\n",
       "<tr>\n",
       "  <th>Foundation_PConc</th>     <td> 3239.1068</td> <td> 4537.019</td> <td>    0.714</td> <td> 0.475</td> <td>-5662.855</td> <td> 1.21e+04</td>\n",
       "</tr>\n",
       "<tr>\n",
       "  <th>hasfireplace</th>         <td>-1.892e+04</td> <td> 6449.378</td> <td>   -2.934</td> <td> 0.003</td> <td>-3.16e+04</td> <td>-6268.792</td>\n",
       "</tr>\n",
       "<tr>\n",
       "  <th>Fireplaces</th>           <td> 2.694e+04</td> <td> 7808.537</td> <td>    3.450</td> <td> 0.001</td> <td> 1.16e+04</td> <td> 4.23e+04</td>\n",
       "</tr>\n",
       "<tr>\n",
       "  <th>TotalBsmtSF</th>          <td>-1739.8209</td> <td> 1184.995</td> <td>   -1.468</td> <td> 0.142</td> <td>-4064.868</td> <td>  585.226</td>\n",
       "</tr>\n",
       "<tr>\n",
       "  <th>OpenPorchSF</th>          <td>  517.5491</td> <td>  411.038</td> <td>    1.259</td> <td> 0.208</td> <td> -288.937</td> <td> 1324.035</td>\n",
       "</tr>\n",
       "<tr>\n",
       "  <th>MasVnrArea</th>           <td> 2875.0036</td> <td>  801.495</td> <td>    3.587</td> <td> 0.000</td> <td> 1302.411</td> <td> 4447.596</td>\n",
       "</tr>\n",
       "<tr>\n",
       "  <th>GarageType_Attchd</th>    <td> -627.7015</td> <td> 3753.238</td> <td>   -0.167</td> <td> 0.867</td> <td>-7991.829</td> <td> 6736.426</td>\n",
       "</tr>\n",
       "<tr>\n",
       "  <th>LotArea</th>              <td> 4692.5994</td> <td>  678.533</td> <td>    6.916</td> <td> 0.000</td> <td> 3361.268</td> <td> 6023.931</td>\n",
       "</tr>\n",
       "<tr>\n",
       "  <th>Total_porch_sf</th>       <td> -668.8807</td> <td>  451.023</td> <td>   -1.483</td> <td> 0.138</td> <td>-1553.821</td> <td>  216.060</td>\n",
       "</tr>\n",
       "<tr>\n",
       "  <th>LotFrontage</th>          <td> 1225.0184</td> <td> 2171.487</td> <td>    0.564</td> <td> 0.573</td> <td>-3035.597</td> <td> 5485.634</td>\n",
       "</tr>\n",
       "<tr>\n",
       "  <th>CentralAir</th>           <td> 5873.0324</td> <td> 6150.896</td> <td>    0.955</td> <td> 0.340</td> <td>-6195.475</td> <td> 1.79e+04</td>\n",
       "</tr>\n",
       "<tr>\n",
       "  <th>WoodDeckSF</th>           <td>  910.4509</td> <td>  339.307</td> <td>    2.683</td> <td> 0.007</td> <td>  244.706</td> <td> 1576.196</td>\n",
       "</tr>\n",
       "<tr>\n",
       "  <th>Neighborhood_NridgHt</th> <td> 1.543e+04</td> <td> 4943.476</td> <td>    3.121</td> <td> 0.002</td> <td> 5729.750</td> <td> 2.51e+04</td>\n",
       "</tr>\n",
       "<tr>\n",
       "  <th>Exterior2nd_VinylSd</th>  <td> 1.009e+04</td> <td> 1.02e+04</td> <td>    0.993</td> <td> 0.321</td> <td>-9855.446</td> <td>    3e+04</td>\n",
       "</tr>\n",
       "<tr>\n",
       "  <th>Exterior1st_VinylSd</th>  <td>-1.278e+04</td> <td> 1.02e+04</td> <td>   -1.255</td> <td> 0.210</td> <td>-3.28e+04</td> <td> 7200.826</td>\n",
       "</tr>\n",
       "<tr>\n",
       "  <th>GarageYrBlt</th>          <td>-1955.6223</td> <td> 5.18e+04</td> <td>   -0.038</td> <td> 0.970</td> <td>-1.04e+05</td> <td> 9.97e+04</td>\n",
       "</tr>\n",
       "<tr>\n",
       "  <th>GarageType_None</th>      <td>-1.895e+04</td> <td> 7.31e+05</td> <td>   -0.026</td> <td> 0.979</td> <td>-1.45e+06</td> <td> 1.41e+06</td>\n",
       "</tr>\n",
       "<tr>\n",
       "  <th>Foundation_CBlock</th>    <td> -577.2248</td> <td> 4049.073</td> <td>   -0.143</td> <td> 0.887</td> <td>-8521.802</td> <td> 7367.353</td>\n",
       "</tr>\n",
       "<tr>\n",
       "  <th>MSZoning_RM</th>          <td> -161.0825</td> <td> 3231.362</td> <td>   -0.050</td> <td> 0.960</td> <td>-6501.251</td> <td> 6179.086</td>\n",
       "</tr>\n",
       "<tr>\n",
       "  <th>MasVnrType_None</th>      <td> 2.384e+04</td> <td> 6600.180</td> <td>    3.612</td> <td> 0.000</td> <td> 1.09e+04</td> <td> 3.68e+04</td>\n",
       "</tr>\n",
       "<tr>\n",
       "  <th>GarageType_Detchd</th>    <td> 4771.9402</td> <td> 4506.662</td> <td>    1.059</td> <td> 0.290</td> <td>-4070.459</td> <td> 1.36e+04</td>\n",
       "</tr>\n",
       "<tr>\n",
       "  <th>GarageFinish</th>         <td>-4261.0247</td> <td> 1905.700</td> <td>   -2.236</td> <td> 0.026</td> <td>-8000.148</td> <td> -521.902</td>\n",
       "</tr>\n",
       "<tr>\n",
       "  <th>HeatingQC</th>            <td>-1484.9459</td> <td>  681.031</td> <td>   -2.180</td> <td> 0.029</td> <td>-2821.178</td> <td> -148.713</td>\n",
       "</tr>\n",
       "<tr>\n",
       "  <th>KitchenQual</th>          <td>-2.573e+04</td> <td> 3434.334</td> <td>   -7.492</td> <td> 0.000</td> <td>-3.25e+04</td> <td> -1.9e+04</td>\n",
       "</tr>\n",
       "<tr>\n",
       "  <th>ExterQual</th>            <td>-2.829e+04</td> <td> 4405.305</td> <td>   -6.423</td> <td> 0.000</td> <td>-3.69e+04</td> <td>-1.97e+04</td>\n",
       "</tr>\n",
       "<tr>\n",
       "  <th>BsmtQual</th>             <td>-4437.3047</td> <td> 1164.107</td> <td>   -3.812</td> <td> 0.000</td> <td>-6721.368</td> <td>-2153.241</td>\n",
       "</tr>\n",
       "</table>\n",
       "<table class=\"simpletable\">\n",
       "<tr>\n",
       "  <th>Omnibus:</th>       <td>713.468</td> <th>  Durbin-Watson:     </th> <td>   1.975</td> \n",
       "</tr>\n",
       "<tr>\n",
       "  <th>Prob(Omnibus):</th> <td> 0.000</td>  <th>  Jarque-Bera (JB):  </th> <td>17626.217</td>\n",
       "</tr>\n",
       "<tr>\n",
       "  <th>Skew:</th>          <td> 2.368</td>  <th>  Prob(JB):          </th> <td>    0.00</td> \n",
       "</tr>\n",
       "<tr>\n",
       "  <th>Kurtosis:</th>      <td>21.449</td>  <th>  Cond. No.          </th> <td>2.91e+08</td> \n",
       "</tr>\n",
       "</table><br/><br/>Notes:<br/>[1] Standard Errors assume that the covariance matrix of the errors is correctly specified.<br/>[2] The condition number is large, 2.91e+08. This might indicate that there are<br/>strong multicollinearity or other numerical problems."
      ],
      "text/latex": [
       "\\begin{center}\n",
       "\\begin{tabular}{lclc}\n",
       "\\toprule\n",
       "\\textbf{Dep. Variable:}        &    SalePrice     & \\textbf{  R-squared:         } &     0.854   \\\\\n",
       "\\textbf{Model:}                &       OLS        & \\textbf{  Adj. R-squared:    } &     0.849   \\\\\n",
       "\\textbf{Method:}               &  Least Squares   & \\textbf{  F-statistic:       } &     168.8   \\\\\n",
       "\\textbf{Date:}                 & Tue, 11 Feb 2025 & \\textbf{  Prob (F-statistic):} &     0.00    \\\\\n",
       "\\textbf{Time:}                 &     06:26:23     & \\textbf{  Log-Likelihood:    } &   -13697.   \\\\\n",
       "\\textbf{No. Observations:}     &        1166      & \\textbf{  AIC:               } & 2.747e+04   \\\\\n",
       "\\textbf{Df Residuals:}         &        1126      & \\textbf{  BIC:               } & 2.768e+04   \\\\\n",
       "\\textbf{Df Model:}             &          39      & \\textbf{                     } &             \\\\\n",
       "\\textbf{Covariance Type:}      &    nonrobust     & \\textbf{                     } &             \\\\\n",
       "\\bottomrule\n",
       "\\end{tabular}\n",
       "\\begin{tabular}{lcccccc}\n",
       "                               & \\textbf{coef} & \\textbf{std err} & \\textbf{t} & \\textbf{P$> |$t$|$} & \\textbf{[0.025} & \\textbf{0.975]}  \\\\\n",
       "\\midrule\n",
       "\\textbf{const}                 &   -1.032e+08  &     5.93e+07     &    -1.739  &         0.082        &     -2.2e+08    &     1.32e+07     \\\\\n",
       "\\textbf{TotalSF}               &    1.565e+04  &     6421.233     &     2.438  &         0.015        &     3054.375    &     2.83e+04     \\\\\n",
       "\\textbf{OverallQual}           &    1.497e+04  &     1296.237     &    11.549  &         0.000        &     1.24e+04    &     1.75e+04     \\\\\n",
       "\\textbf{Total\\_sqr\\_footage}   &    1.212e+04  &     2006.697     &     6.040  &         0.000        &     8183.946    &     1.61e+04     \\\\\n",
       "\\textbf{GrLivArea}             &     982.3630  &     4574.463     &     0.215  &         0.830        &    -7993.068    &     9957.794     \\\\\n",
       "\\textbf{GarageCars}            &    8300.2396  &     3185.695     &     2.605  &         0.009        &     2049.674    &     1.46e+04     \\\\\n",
       "\\textbf{Total\\_Bathrooms}      &    2321.2169  &     2421.153     &     0.959  &         0.338        &    -2429.263    &     7071.697     \\\\\n",
       "\\textbf{GarageArea}            &       5.3858  &       10.901     &     0.494  &         0.621        &      -16.003    &       26.775     \\\\\n",
       "\\textbf{YrBltAndRemod}         &   -1.481e+04  &     8593.063     &    -1.724  &         0.085        &    -3.17e+04    &     2048.252     \\\\\n",
       "\\textbf{1stFlrSF}              &    1511.3952  &     2249.243     &     0.672  &         0.502        &    -2901.784    &     5924.574     \\\\\n",
       "\\textbf{FullBath}              &   -1697.7656  &     3201.870     &    -0.530  &         0.596        &    -7980.068    &     4584.537     \\\\\n",
       "\\textbf{YearBuilt}             &    9.315e+06  &     5.38e+06     &     1.732  &         0.083        &    -1.23e+06    &     1.99e+07     \\\\\n",
       "\\textbf{YearRemodAdd}          &    1.497e+04  &     8609.271     &     1.739  &         0.082        &    -1917.831    &     3.19e+04     \\\\\n",
       "\\textbf{TotRmsAbvGrd}          &   -3531.7649  &     6160.964     &    -0.573  &         0.567        &    -1.56e+04    &     8556.497     \\\\\n",
       "\\textbf{Foundation\\_PConc}     &    3239.1068  &     4537.019     &     0.714  &         0.475        &    -5662.855    &     1.21e+04     \\\\\n",
       "\\textbf{hasfireplace}          &   -1.892e+04  &     6449.378     &    -2.934  &         0.003        &    -3.16e+04    &    -6268.792     \\\\\n",
       "\\textbf{Fireplaces}            &    2.694e+04  &     7808.537     &     3.450  &         0.001        &     1.16e+04    &     4.23e+04     \\\\\n",
       "\\textbf{TotalBsmtSF}           &   -1739.8209  &     1184.995     &    -1.468  &         0.142        &    -4064.868    &      585.226     \\\\\n",
       "\\textbf{OpenPorchSF}           &     517.5491  &      411.038     &     1.259  &         0.208        &     -288.937    &     1324.035     \\\\\n",
       "\\textbf{MasVnrArea}            &    2875.0036  &      801.495     &     3.587  &         0.000        &     1302.411    &     4447.596     \\\\\n",
       "\\textbf{GarageType\\_Attchd}    &    -627.7015  &     3753.238     &    -0.167  &         0.867        &    -7991.829    &     6736.426     \\\\\n",
       "\\textbf{LotArea}               &    4692.5994  &      678.533     &     6.916  &         0.000        &     3361.268    &     6023.931     \\\\\n",
       "\\textbf{Total\\_porch\\_sf}      &    -668.8807  &      451.023     &    -1.483  &         0.138        &    -1553.821    &      216.060     \\\\\n",
       "\\textbf{LotFrontage}           &    1225.0184  &     2171.487     &     0.564  &         0.573        &    -3035.597    &     5485.634     \\\\\n",
       "\\textbf{CentralAir}            &    5873.0324  &     6150.896     &     0.955  &         0.340        &    -6195.475    &     1.79e+04     \\\\\n",
       "\\textbf{WoodDeckSF}            &     910.4509  &      339.307     &     2.683  &         0.007        &      244.706    &     1576.196     \\\\\n",
       "\\textbf{Neighborhood\\_NridgHt} &    1.543e+04  &     4943.476     &     3.121  &         0.002        &     5729.750    &     2.51e+04     \\\\\n",
       "\\textbf{Exterior2nd\\_VinylSd}  &    1.009e+04  &     1.02e+04     &     0.993  &         0.321        &    -9855.446    &        3e+04     \\\\\n",
       "\\textbf{Exterior1st\\_VinylSd}  &   -1.278e+04  &     1.02e+04     &    -1.255  &         0.210        &    -3.28e+04    &     7200.826     \\\\\n",
       "\\textbf{GarageYrBlt}           &   -1955.6223  &     5.18e+04     &    -0.038  &         0.970        &    -1.04e+05    &     9.97e+04     \\\\\n",
       "\\textbf{GarageType\\_None}      &   -1.895e+04  &     7.31e+05     &    -0.026  &         0.979        &    -1.45e+06    &     1.41e+06     \\\\\n",
       "\\textbf{Foundation\\_CBlock}    &    -577.2248  &     4049.073     &    -0.143  &         0.887        &    -8521.802    &     7367.353     \\\\\n",
       "\\textbf{MSZoning\\_RM}          &    -161.0825  &     3231.362     &    -0.050  &         0.960        &    -6501.251    &     6179.086     \\\\\n",
       "\\textbf{MasVnrType\\_None}      &    2.384e+04  &     6600.180     &     3.612  &         0.000        &     1.09e+04    &     3.68e+04     \\\\\n",
       "\\textbf{GarageType\\_Detchd}    &    4771.9402  &     4506.662     &     1.059  &         0.290        &    -4070.459    &     1.36e+04     \\\\\n",
       "\\textbf{GarageFinish}          &   -4261.0247  &     1905.700     &    -2.236  &         0.026        &    -8000.148    &     -521.902     \\\\\n",
       "\\textbf{HeatingQC}             &   -1484.9459  &      681.031     &    -2.180  &         0.029        &    -2821.178    &     -148.713     \\\\\n",
       "\\textbf{KitchenQual}           &   -2.573e+04  &     3434.334     &    -7.492  &         0.000        &    -3.25e+04    &     -1.9e+04     \\\\\n",
       "\\textbf{ExterQual}             &   -2.829e+04  &     4405.305     &    -6.423  &         0.000        &    -3.69e+04    &    -1.97e+04     \\\\\n",
       "\\textbf{BsmtQual}              &   -4437.3047  &     1164.107     &    -3.812  &         0.000        &    -6721.368    &    -2153.241     \\\\\n",
       "\\bottomrule\n",
       "\\end{tabular}\n",
       "\\begin{tabular}{lclc}\n",
       "\\textbf{Omnibus:}       & 713.468 & \\textbf{  Durbin-Watson:     } &     1.975  \\\\\n",
       "\\textbf{Prob(Omnibus):} &   0.000 & \\textbf{  Jarque-Bera (JB):  } & 17626.217  \\\\\n",
       "\\textbf{Skew:}          &   2.368 & \\textbf{  Prob(JB):          } &      0.00  \\\\\n",
       "\\textbf{Kurtosis:}      &  21.449 & \\textbf{  Cond. No.          } &  2.91e+08  \\\\\n",
       "\\bottomrule\n",
       "\\end{tabular}\n",
       "%\\caption{OLS Regression Results}\n",
       "\\end{center}\n",
       "\n",
       "Notes: \\newline\n",
       " [1] Standard Errors assume that the covariance matrix of the errors is correctly specified. \\newline\n",
       " [2] The condition number is large, 2.91e+08. This might indicate that there are \\newline\n",
       " strong multicollinearity or other numerical problems."
      ],
      "text/plain": [
       "<class 'statsmodels.iolib.summary.Summary'>\n",
       "\"\"\"\n",
       "                            OLS Regression Results                            \n",
       "==============================================================================\n",
       "Dep. Variable:              SalePrice   R-squared:                       0.854\n",
       "Model:                            OLS   Adj. R-squared:                  0.849\n",
       "Method:                 Least Squares   F-statistic:                     168.8\n",
       "Date:                Tue, 11 Feb 2025   Prob (F-statistic):               0.00\n",
       "Time:                        06:26:23   Log-Likelihood:                -13697.\n",
       "No. Observations:                1166   AIC:                         2.747e+04\n",
       "Df Residuals:                    1126   BIC:                         2.768e+04\n",
       "Df Model:                          39                                         \n",
       "Covariance Type:            nonrobust                                         \n",
       "========================================================================================\n",
       "                           coef    std err          t      P>|t|      [0.025      0.975]\n",
       "----------------------------------------------------------------------------------------\n",
       "const                -1.032e+08   5.93e+07     -1.739      0.082    -2.2e+08    1.32e+07\n",
       "TotalSF               1.565e+04   6421.233      2.438      0.015    3054.375    2.83e+04\n",
       "OverallQual           1.497e+04   1296.237     11.549      0.000    1.24e+04    1.75e+04\n",
       "Total_sqr_footage     1.212e+04   2006.697      6.040      0.000    8183.946    1.61e+04\n",
       "GrLivArea              982.3630   4574.463      0.215      0.830   -7993.068    9957.794\n",
       "GarageCars            8300.2396   3185.695      2.605      0.009    2049.674    1.46e+04\n",
       "Total_Bathrooms       2321.2169   2421.153      0.959      0.338   -2429.263    7071.697\n",
       "GarageArea               5.3858     10.901      0.494      0.621     -16.003      26.775\n",
       "YrBltAndRemod        -1.481e+04   8593.063     -1.724      0.085   -3.17e+04    2048.252\n",
       "1stFlrSF              1511.3952   2249.243      0.672      0.502   -2901.784    5924.574\n",
       "FullBath             -1697.7656   3201.870     -0.530      0.596   -7980.068    4584.537\n",
       "YearBuilt             9.315e+06   5.38e+06      1.732      0.083   -1.23e+06    1.99e+07\n",
       "YearRemodAdd          1.497e+04   8609.271      1.739      0.082   -1917.831    3.19e+04\n",
       "TotRmsAbvGrd         -3531.7649   6160.964     -0.573      0.567   -1.56e+04    8556.497\n",
       "Foundation_PConc      3239.1068   4537.019      0.714      0.475   -5662.855    1.21e+04\n",
       "hasfireplace         -1.892e+04   6449.378     -2.934      0.003   -3.16e+04   -6268.792\n",
       "Fireplaces            2.694e+04   7808.537      3.450      0.001    1.16e+04    4.23e+04\n",
       "TotalBsmtSF          -1739.8209   1184.995     -1.468      0.142   -4064.868     585.226\n",
       "OpenPorchSF            517.5491    411.038      1.259      0.208    -288.937    1324.035\n",
       "MasVnrArea            2875.0036    801.495      3.587      0.000    1302.411    4447.596\n",
       "GarageType_Attchd     -627.7015   3753.238     -0.167      0.867   -7991.829    6736.426\n",
       "LotArea               4692.5994    678.533      6.916      0.000    3361.268    6023.931\n",
       "Total_porch_sf        -668.8807    451.023     -1.483      0.138   -1553.821     216.060\n",
       "LotFrontage           1225.0184   2171.487      0.564      0.573   -3035.597    5485.634\n",
       "CentralAir            5873.0324   6150.896      0.955      0.340   -6195.475    1.79e+04\n",
       "WoodDeckSF             910.4509    339.307      2.683      0.007     244.706    1576.196\n",
       "Neighborhood_NridgHt  1.543e+04   4943.476      3.121      0.002    5729.750    2.51e+04\n",
       "Exterior2nd_VinylSd   1.009e+04   1.02e+04      0.993      0.321   -9855.446       3e+04\n",
       "Exterior1st_VinylSd  -1.278e+04   1.02e+04     -1.255      0.210   -3.28e+04    7200.826\n",
       "GarageYrBlt          -1955.6223   5.18e+04     -0.038      0.970   -1.04e+05    9.97e+04\n",
       "GarageType_None      -1.895e+04   7.31e+05     -0.026      0.979   -1.45e+06    1.41e+06\n",
       "Foundation_CBlock     -577.2248   4049.073     -0.143      0.887   -8521.802    7367.353\n",
       "MSZoning_RM           -161.0825   3231.362     -0.050      0.960   -6501.251    6179.086\n",
       "MasVnrType_None       2.384e+04   6600.180      3.612      0.000    1.09e+04    3.68e+04\n",
       "GarageType_Detchd     4771.9402   4506.662      1.059      0.290   -4070.459    1.36e+04\n",
       "GarageFinish         -4261.0247   1905.700     -2.236      0.026   -8000.148    -521.902\n",
       "HeatingQC            -1484.9459    681.031     -2.180      0.029   -2821.178    -148.713\n",
       "KitchenQual          -2.573e+04   3434.334     -7.492      0.000   -3.25e+04    -1.9e+04\n",
       "ExterQual            -2.829e+04   4405.305     -6.423      0.000   -3.69e+04   -1.97e+04\n",
       "BsmtQual             -4437.3047   1164.107     -3.812      0.000   -6721.368   -2153.241\n",
       "==============================================================================\n",
       "Omnibus:                      713.468   Durbin-Watson:                   1.975\n",
       "Prob(Omnibus):                  0.000   Jarque-Bera (JB):            17626.217\n",
       "Skew:                           2.368   Prob(JB):                         0.00\n",
       "Kurtosis:                      21.449   Cond. No.                     2.91e+08\n",
       "==============================================================================\n",
       "\n",
       "Notes:\n",
       "[1] Standard Errors assume that the covariance matrix of the errors is correctly specified.\n",
       "[2] The condition number is large, 2.91e+08. This might indicate that there are\n",
       "strong multicollinearity or other numerical problems.\n",
       "\"\"\""
      ]
     },
     "execution_count": 31,
     "metadata": {},
     "output_type": "execute_result"
    }
   ],
   "source": [
    "model_trained.summary()"
   ]
  },
  {
   "cell_type": "markdown",
   "metadata": {
    "id": "IjBO_sjs4YsJ"
   },
   "source": [
    "- 통계량을 통해 **coef(각 변수별 계수 추정치)**, **std err (계수 추정치의 표준편차)**, **t(t검정 통계량 값)**, **P>|t|(귀무가설이 맞다고 가정할 때 대립가설이 실제로 관측될 확률)** 등 다양한 지표를 이용해 예측 정확도 향상에 사용할 수 있습니다."
   ]
  },
  {
   "cell_type": "markdown",
   "metadata": {
    "id": "uNp3IN8y5yEI"
   },
   "source": [
    "### 4.5 라쏘회귀(Lasso Regression) and 릿지회귀(Ridge Regression) in Boston"
   ]
  },
  {
   "cell_type": "markdown",
   "metadata": {
    "id": "1k71FA_A55uE"
   },
   "source": [
    "---"
   ]
  },
  {
   "cell_type": "markdown",
   "metadata": {
    "id": "cLvy4UJ257CU"
   },
   "source": [
    "보스턴 집값 데이터를 활용해 라쏘 회귀와 릿지 회귀를 각각 수행해보겠습니다."
   ]
  },
  {
   "cell_type": "code",
   "execution_count": 32,
   "metadata": {
    "colab": {
     "base_uri": "https://localhost:8080/"
    },
    "executionInfo": {
     "elapsed": 3,
     "status": "ok",
     "timestamp": 1661234797043,
     "user": {
      "displayName": "김도현",
      "userId": "01074377609887751305"
     },
     "user_tz": -540
    },
    "id": "L1B6_Cz1wvF7",
    "outputId": "4c198968-09e3-410e-8716-a0c765e94252"
   },
   "outputs": [
    {
     "name": "stdout",
     "output_type": "stream",
     "text": [
      "결정계수 : 0.8619414285147524\n",
      "평균제곱근오차 :  28644.826523619984\n",
      "훈련 세트 점수 : 0.85\n",
      "테스트 세트 점수 : 0.86\n"
     ]
    }
   ],
   "source": [
    "# 라쏘 회귀\n",
    "lasso = Lasso().fit(X_train, y_train)\n",
    "predLasso = lasso.predict(X_test)\n",
    "\n",
    "rmse = np.sqrt(mean_squared_error(y_test, predLasso))\n",
    "r2 = r2_score(y_test, predLasso)\n",
    "print('결정계수 :', r2)\n",
    "print('평균제곱근오차 : ', rmse)\n",
    "print('훈련 세트 점수 : {:.2f}'.format(lasso.score(X_train, y_train)))\n",
    "print('테스트 세트 점수 : {:.2f}'.format(lasso.score(X_test, y_test)))"
   ]
  },
  {
   "cell_type": "code",
   "execution_count": 33,
   "metadata": {
    "colab": {
     "base_uri": "https://localhost:8080/",
     "height": 295
    },
    "executionInfo": {
     "elapsed": 630,
     "status": "ok",
     "timestamp": 1661234797671,
     "user": {
      "displayName": "김도현",
      "userId": "01074377609887751305"
     },
     "user_tz": -540
    },
    "id": "K30r9dqE6Ieb",
    "outputId": "29bec233-bb99-44d4-bb0b-bcbb256ef69a"
   },
   "outputs": [
    {
     "data": {
      "image/png": "[encoded data removed]",
      "text/plain": [
       "<Figure size 640x480 with 1 Axes>"
      ]
     },
     "metadata": {},
     "output_type": "display_data"
    }
   ],
   "source": [
    "plt.scatter(y_test, predLasso, alpha=0.4)\n",
    "plt.plot(y_test, y_test, color='r')\n",
    "plt.xlabel(\"Actual Size\")\n",
    "plt.ylabel(\"Predicted Size\")\n",
    "plt.title(\"Lasso Regressor\")\n",
    "plt.show()"
   ]
  },
  {
   "cell_type": "code",
   "execution_count": 34,
   "metadata": {
    "colab": {
     "base_uri": "https://localhost:8080/"
    },
    "executionInfo": {
     "elapsed": 4,
     "status": "ok",
     "timestamp": 1661234797671,
     "user": {
      "displayName": "김도현",
      "userId": "01074377609887751305"
     },
     "user_tz": -540
    },
    "id": "maeJJs0G6JBD",
    "outputId": "979c6fdf-20a4-43a1-989b-605b4ffb7894"
   },
   "outputs": [
    {
     "name": "stdout",
     "output_type": "stream",
     "text": [
      "결정계수 : 0.8621943538344863\n",
      "평균제곱근오차 :  28618.575624781988\n",
      "훈련 세트 점수 : 0.85\n",
      "테스트 세트 점수 : 0.86\n"
     ]
    }
   ],
   "source": [
    "# 릿지회귀\n",
    "ridge = Ridge()\n",
    "ridge.fit(X_train, y_train)\n",
    "predRidge = ridge.predict(X_test)\n",
    "\n",
    "rmse = np.sqrt(mean_squared_error(y_test, predRidge))\n",
    "r2 = r2_score(y_test, predRidge)\n",
    "\n",
    "print('결정계수 :', r2)\n",
    "print('평균제곱근오차 : ', rmse)\n",
    "print('훈련 세트 점수 : {:.2f}'.format(ridge.score(X_train, y_train)))\n",
    "print('테스트 세트 점수 : {:.2f}'.format(ridge.score(X_test, y_test)))"
   ]
  },
  {
   "cell_type": "code",
   "execution_count": 35,
   "metadata": {
    "colab": {
     "base_uri": "https://localhost:8080/",
     "height": 295
    },
    "executionInfo": {
     "elapsed": 414,
     "status": "ok",
     "timestamp": 1661234798083,
     "user": {
      "displayName": "김도현",
      "userId": "01074377609887751305"
     },
     "user_tz": -540
    },
    "id": "AcEdRPCk6JQT",
    "outputId": "5f5b2cbc-dfa6-405e-bd5d-c141e3d4db7c"
   },
   "outputs": [
    {
     "data": {
      "image/png": "[encoded data removed]",
      "text/plain": [
       "<Figure size 640x480 with 1 Axes>"
      ]
     },
     "metadata": {},
     "output_type": "display_data"
    }
   ],
   "source": [
    "plt.scatter(y_test, predRidge, alpha=0.4)\n",
    "plt.plot(y_test, y_test, color='r')\n",
    "plt.xlabel(\"Actual Size\")\n",
    "plt.ylabel(\"Predicted Size\")\n",
    "plt.title(\"Ridge Regression\")\n",
    "plt.show()"
   ]
  },
  {
   "cell_type": "markdown",
   "metadata": {
    "id": "h5BLmROR8GHz"
   },
   "source": [
    "두 모델 다 선형회귀 모델보다 점수가 오차가 비교적 크고 결정계수도 낮게 나오고 있습니다. \\\n",
    "alpha값을 조정하거나 변수중요도에 따른 변수를 다시 선정한다면 더 좋은 결과를 기대할 수도 있습니다."
   ]
  },
  {
   "cell_type": "markdown",
   "metadata": {},
   "source": [
    "### 4.6 Parameter Search in Ridge/Lasso \n",
    "---\n",
    "Regularization을 수행했지만, 성능이 더 나빠졌습니다.\\\n",
    "위에서 설명한 것처럼 alpha값을 수정하여 성능 개선의 여지가 있는지 확인해 봅시다.\\\n",
    "참고로, Ridge()와 Lasso()의 alpha 기본값은 1 입니다."
   ]
  },
  {
   "cell_type": "code",
   "execution_count": 36,
   "metadata": {},
   "outputs": [
    {
     "name": "stdout",
     "output_type": "stream",
     "text": [
      "Ridge 0.0001 평균제곱근오차 :  28492.715513281197\n",
      "Ridge 0.0005 평균제곱근오차 :  28557.875139017844\n",
      "Ridge 0.001 평균제곱근오차 :  28578.237200309977\n",
      "Ridge 0.005 평균제곱근오차 :  28619.337267011942\n",
      "Ridge 0.01 평균제곱근오차 :  28630.90758875205\n",
      "Ridge 0.05 평균제곱근오차 :  28642.038980801724\n",
      "Ridge 0.1 평균제곱근오차 :  28642.176530556695\n",
      "Ridge 0.5 평균제곱근오차 :  28631.344767095256\n",
      "Ridge 1 평균제곱근오차 :  28618.575624781988\n",
      "Ridge 5 평균제곱근오차 :  28557.430227178873\n",
      "Ridge 10 평균제곱근오차 :  28507.923568395443\n",
      "Ridge 50 평균제곱근오차 :  28215.749050494574\n",
      "Ridge 100 평균제곱근오차 :  28066.16775913138\n",
      "Ridge 500 평균제곱근오차 :  28525.136046779986\n",
      "Ridge 1000 평균제곱근오차 :  29549.379443484188\n",
      "Ridge 5000 평균제곱근오차 :  35933.534916051336\n",
      "Ridge 10000 평균제곱근오차 :  39758.077667873375\n",
      "\n",
      "Lasso 0.0001 평균제곱근오차 :  28642.11919236869\n"
     ]
    },
    {
     "name": "stderr",
     "output_type": "stream",
     "text": [
      "/home/elicer/.local/lib/python3.10/site-packages/sklearn/linear_model/_coordinate_descent.py:634: ConvergenceWarning: Objective did not converge. You might want to increase the number of iterations, check the scale of the features or consider increasing regularisation. Duality gap: 5.471e+11, tolerance: 7.470e+08\n",
      "  model = cd_fast.enet_coordinate_descent(\n",
      "/home/elicer/.local/lib/python3.10/site-packages/sklearn/linear_model/_coordinate_descent.py:634: ConvergenceWarning: Objective did not converge. You might want to increase the number of iterations, check the scale of the features or consider increasing regularisation. Duality gap: 5.471e+11, tolerance: 7.470e+08\n",
      "  model = cd_fast.enet_coordinate_descent(\n",
      "/home/elicer/.local/lib/python3.10/site-packages/sklearn/linear_model/_coordinate_descent.py:634: ConvergenceWarning: Objective did not converge. You might want to increase the number of iterations, check the scale of the features or consider increasing regularisation. Duality gap: 5.471e+11, tolerance: 7.470e+08\n",
      "  model = cd_fast.enet_coordinate_descent(\n",
      "/home/elicer/.local/lib/python3.10/site-packages/sklearn/linear_model/_coordinate_descent.py:634: ConvergenceWarning: Objective did not converge. You might want to increase the number of iterations, check the scale of the features or consider increasing regularisation. Duality gap: 5.471e+11, tolerance: 7.470e+08\n",
      "  model = cd_fast.enet_coordinate_descent(\n"
     ]
    },
    {
     "name": "stdout",
     "output_type": "stream",
     "text": [
      "Lasso 0.0005 평균제곱근오차 :  28642.123342664552\n",
      "Lasso 0.001 평균제곱근오차 :  28642.128530596296\n",
      "Lasso 0.005 평균제곱근오차 :  28642.169937562194\n",
      "Lasso 0.01 평균제곱근오차 :  28642.22152891213\n"
     ]
    },
    {
     "name": "stderr",
     "output_type": "stream",
     "text": [
      "/home/elicer/.local/lib/python3.10/site-packages/sklearn/linear_model/_coordinate_descent.py:634: ConvergenceWarning: Objective did not converge. You might want to increase the number of iterations, check the scale of the features or consider increasing regularisation. Duality gap: 5.470e+11, tolerance: 7.470e+08\n",
      "  model = cd_fast.enet_coordinate_descent(\n",
      "/home/elicer/.local/lib/python3.10/site-packages/sklearn/linear_model/_coordinate_descent.py:634: ConvergenceWarning: Objective did not converge. You might want to increase the number of iterations, check the scale of the features or consider increasing regularisation. Duality gap: 5.468e+11, tolerance: 7.470e+08\n",
      "  model = cd_fast.enet_coordinate_descent(\n",
      "/home/elicer/.local/lib/python3.10/site-packages/sklearn/linear_model/_coordinate_descent.py:634: ConvergenceWarning: Objective did not converge. You might want to increase the number of iterations, check the scale of the features or consider increasing regularisation. Duality gap: 5.464e+11, tolerance: 7.470e+08\n",
      "  model = cd_fast.enet_coordinate_descent(\n",
      "/home/elicer/.local/lib/python3.10/site-packages/sklearn/linear_model/_coordinate_descent.py:634: ConvergenceWarning: Objective did not converge. You might want to increase the number of iterations, check the scale of the features or consider increasing regularisation. Duality gap: 3.435e+11, tolerance: 7.470e+08\n",
      "  model = cd_fast.enet_coordinate_descent(\n"
     ]
    },
    {
     "name": "stdout",
     "output_type": "stream",
     "text": [
      "Lasso 0.05 평균제곱근오차 :  28642.63339000041\n",
      "Lasso 0.1 평균제곱근오차 :  28643.150157559176\n",
      "Lasso 0.5 평균제곱근오차 :  28645.55385000876\n",
      "Lasso 1 평균제곱근오차 :  28644.826523619984\n",
      "Lasso 5 평균제곱근오차 :  28634.590079986214\n",
      "Lasso 10 평균제곱근오차 :  28622.993405487447\n",
      "Lasso 50 평균제곱근오차 :  28563.382338882366\n",
      "Lasso 100 평균제곱근오차 :  28544.56602368491\n",
      "Lasso 500 평균제곱근오차 :  28507.809037622803\n",
      "Lasso 1000 평균제곱근오차 :  28331.762881234736\n",
      "Lasso 5000 평균제곱근오차 :  29922.04418917878\n",
      "Lasso 10000 평균제곱근오차 :  32579.42391414196\n"
     ]
    }
   ],
   "source": [
    "for Alpha in [0.0001,0.0005,0.001,0.005,0.01,0.05,0.1,0.5,1,5,10,50,100,500,1000,5000,10000]:\n",
    "    ridge = Ridge(alpha=Alpha)\n",
    "    ridge.fit(X_train, y_train)\n",
    "    predRidge = ridge.predict(X_test)\n",
    "    rmse = np.sqrt(mean_squared_error(y_test, predRidge))\n",
    "    r2 = r2_score(y_test, predRidge)\n",
    "    print('Ridge',Alpha,'평균제곱근오차 : ', rmse)\n",
    "\n",
    "print('')\n",
    "for Alpha in [0.0001,0.0005,0.001,0.005,0.01,0.05,0.1,0.5,1,5,10,50,100,500,1000,5000,10000]:\n",
    "    lasso = Lasso(alpha=Alpha).fit(X_train, y_train)\n",
    "    predLasso = lasso.predict(X_test)\n",
    "    rmse = np.sqrt(mean_squared_error(y_test, predLasso))\n",
    "    r2 = r2_score(y_test, predLasso)\n",
    "    print('Lasso',Alpha,'평균제곱근오차 : ', rmse)\n"
   ]
  },
  {
   "cell_type": "markdown",
   "metadata": {
    "id": "8pGx0XG18Z9M"
   },
   "source": [
    "## 5. 연습문제"
   ]
  },
  {
   "cell_type": "markdown",
   "metadata": {
    "id": "SQQVDy6L8hvE"
   },
   "source": [
    "---"
   ]
  },
  {
   "cell_type": "markdown",
   "metadata": {
    "id": "nDGyVFp7FmaQ"
   },
   "source": [
    "### 5.1 릿지회귀(Ridge Regression)을 수행하는 코드를 작성하시오."
   ]
  },
  {
   "cell_type": "markdown",
   "metadata": {
    "id": "Ixqgi6iuFxa0"
   },
   "source": [
    "---"
   ]
  },
  {
   "cell_type": "markdown",
   "metadata": {
    "id": "ox02owS2Fym5"
   },
   "source": [
    "릿지회귀를 수행하는 코드를 작성하시오. 보스턴 집값 예측 데이터를 사용합니다.(X_train, y_train)"
   ]
  },
  {
   "cell_type": "code",
   "execution_count": 38,
   "metadata": {
    "id": "thMxEJMc843z"
   },
   "outputs": [
    {
     "name": "stdout",
     "output_type": "stream",
     "text": [
      "결정계수 : 0.8621943538344863\n",
      "평균제곱근오차 :  28618.575624781988\n",
      "훈련 세트 점수 : 0.85\n",
      "테스트 세트 점수 : 0.86\n"
     ]
    }
   ],
   "source": [
    "from sklearn.linear_model import Ridge\n",
    "from sklearn.metrics import mean_squared_error\n",
    "\n",
    "ridge = Ridge()\n",
    "ridge.fit(X_train, y_train)\n",
    "predRidge = ridge.predict(X_test)\n",
    "\n",
    "mse = np.sqrt(mean_squared_error(y_test , predRidge))\n",
    "r2 = r2_score(y_test, predRidge)\n",
    "\n",
    "print('결정계수 :', r2)\n",
    "print('평균제곱근오차 : ', mse)\n",
    "print('훈련 세트 점수 : {:.2f}'.format(ridge.score(X_train, y_train)))\n",
    "print('테스트 세트 점수 : {:.2f}'.format(ridge.score(X_test, y_test)))"
   ]
  },
  {
   "cell_type": "markdown",
   "metadata": {
    "id": "wqnjzZf5Gd5O"
   },
   "source": [
    "### 5.2 사이킷런의 MLP 모델을 수행하는 코드를 완성하시오."
   ]
  },
  {
   "cell_type": "markdown",
   "metadata": {
    "id": "JZpRqV4HGpFJ"
   },
   "source": [
    "---"
   ]
  },
  {
   "cell_type": "markdown",
   "metadata": {
    "id": "3roWLRcFIPFo"
   },
   "source": [
    "MLP모델을 통해 잉크젯 라인두께예측 데이터를 활용합니다.\n",
    "- 아래 코드를 먼저 실행 후 빈칸을 채워 모델이 수행하능하도록 만들어주세요.\n",
    "- 은닉층 지정과 횟수를 지정하는 파라미터 이름을 채워주세요. 활성함수는 'relu', 옵티마이저는 'adam'을 사용합니다.\n",
    "- 테스트 데이터의 결과를 예측하는 코드를 완성하세요.\n",
    "- 마지막으로 코드 결과를 시각화해서 확인해보세요."
   ]
  },
  {
   "cell_type": "code",
   "execution_count": 39,
   "metadata": {
    "colab": {
     "base_uri": "https://localhost:8080/"
    },
    "executionInfo": {
     "elapsed": 251,
     "status": "ok",
     "timestamp": 1660812041850,
     "user": {
      "displayName": "장혜성",
      "userId": "05362368838194112032"
     },
     "user_tz": -540
    },
    "id": "848F7sSSGoYc",
    "outputId": "af161593-0cb7-4a0f-9d67-2d5a9b6431e3"
   },
   "outputs": [
    {
     "name": "stdout",
     "output_type": "stream",
     "text": [
      "학습 데이터 : (180, 3)\n",
      "테스트 데이터 :  (45, 3)\n"
     ]
    }
   ],
   "source": [
    "df = pd.read_csv('InkjetDB_preprocessing.csv') # 데이터 불러오기\n",
    "df.drop(['Unnamed: 0'], axis=1, inplace=True)\n",
    "\n",
    "# X, y\n",
    "X = df.iloc[:, :3]\n",
    "y = df['PatternSize']\n",
    "\n",
    "# 훈련, 테스트 세트 분리\n",
    "from sklearn.model_selection import train_test_split\n",
    "X_train, X_test, y_train,y_test = train_test_split(X,y,test_size = 0.2, random_state = 1 )\n",
    "X.shape\n",
    "print('학습 데이터 :' ,X_train.shape)\n",
    "print('테스트 데이터 : ', X_test.shape)\n",
    "\n",
    "# 정규화\n",
    "from sklearn.preprocessing import MinMaxScaler\n",
    "scaler=MinMaxScaler()\n",
    "scaler.fit(X_train)\n",
    "X_train_scaled=scaler.transform(X_train)\n",
    "scaler.fit(X_test)\n",
    "X_test_scaled = scaler.transform(X_test)"
   ]
  },
  {
   "cell_type": "code",
   "execution_count": 42,
   "metadata": {
    "id": "aZvAldLCHJvg"
   },
   "outputs": [
    {
     "name": "stderr",
     "output_type": "stream",
     "text": [
      "/home/elicer/.local/lib/python3.10/site-packages/sklearn/neural_network/_multilayer_perceptron.py:679: ConvergenceWarning: Stochastic Optimizer: Maximum iterations (800) reached and the optimization hasn't converged yet.\n",
      "  warnings.warn(\n"
     ]
    },
    {
     "data": {
      "image/png": "[encoded data removed]",
      "text/plain": [
       "<Figure size 1000x600 with 1 Axes>"
      ]
     },
     "metadata": {},
     "output_type": "display_data"
    }
   ],
   "source": [
    "mlp_reg = MLPRegressor(hidden_layer_sizes=(300, 200, 150, 100, 50),\n",
    "                        max_iter = 800, activation = 'relu',\n",
    "                       solver = 'adam')\n",
    "\n",
    "mlp_reg.fit(X_train_scaled, y_train)\n",
    "\n",
    "y_pred = mlp_reg.predict(X_test_scaled)\n",
    "\n",
    "#결과 시각화\n",
    "df_temp = pd.DataFrame({'Actual': y_test, 'Predicted': y_pred})\n",
    "df_temp = df_temp.head(30)\n",
    "df_temp.plot(kind='bar',figsize=(10,6), width = 3, use_index = False)\n",
    "plt.grid(which='major', linestyle='-', linewidth='0.5', color='green')\n",
    "plt.grid(which='minor', linestyle=':', linewidth='0.5', color='black')\n",
    "plt.show()"
   ]
  },
  {
   "cell_type": "markdown",
   "metadata": {
    "id": "G2UkXOIaIorR"
   },
   "source": [
    "### 5.3 OLS 회귀를 수행하고 통계량을 확인하는 코드를 작성하시오."
   ]
  },
  {
   "cell_type": "markdown",
   "metadata": {
    "id": "80cPnw1vItuh"
   },
   "source": [
    "---"
   ]
  },
  {
   "cell_type": "markdown",
   "metadata": {
    "id": "UF2eKuPJJPbW"
   },
   "source": [
    "최소자승법(OLS)를 활용하는 회귀분석을 수행하는 코드를 작성하고 주요 통계량을 확인하는 코드를 완성합니다. \n",
    "- statsmodels를 이용합니다.\n",
    "- 선형 회귀 식의 beta 0를 만드는 코드를 완성합니다.\n",
    "- 모델을 훈련합니다.\n",
    "- 모델의 잔차(예측값 - 타겟값)를 확인하는 코드를 작성합니다,\n",
    "- 마지막으로 통계량 지표를 산출해 확인합니다."
   ]
  },
  {
   "cell_type": "code",
   "execution_count": 46,
   "metadata": {
    "id": "qyOcZL90ItG5"
   },
   "outputs": [
    {
     "name": "stderr",
     "output_type": "stream",
     "text": [
      "/home/elicer/.local/lib/python3.10/site-packages/statsmodels/base/model.py:130: ValueWarning: unknown kwargs ['axis']\n",
      "  warnings.warn(msg, ValueWarning)\n"
     ]
    }
   ],
   "source": [
    "import statsmodels.api as sm\n",
    "X_train_beta = sm.add_constant(X_train)\n",
    "model = sm.OLS(y_train, X_train_beta, axis = 1) \n",
    "model_trained = model.fit()\n",
    "model_residuals = model_trained.resid"
   ]
  },
  {
   "cell_type": "code",
   "execution_count": 47,
   "metadata": {
    "id": "75V3YyJFJIaH"
   },
   "outputs": [
    {
     "data": {
      "text/html": [
       "<table class=\"simpletable\">\n",
       "<caption>OLS Regression Results</caption>\n",
       "<tr>\n",
       "  <th>Dep. Variable:</th>       <td>PatternSize</td>   <th>  R-squared:         </th> <td>   0.686</td>\n",
       "</tr>\n",
       "<tr>\n",
       "  <th>Model:</th>                   <td>OLS</td>       <th>  Adj. R-squared:    </th> <td>   0.681</td>\n",
       "</tr>\n",
       "<tr>\n",
       "  <th>Method:</th>             <td>Least Squares</td>  <th>  F-statistic:       </th> <td>   128.5</td>\n",
       "</tr>\n",
       "<tr>\n",
       "  <th>Date:</th>             <td>Tue, 11 Feb 2025</td> <th>  Prob (F-statistic):</th> <td>4.14e-44</td>\n",
       "</tr>\n",
       "<tr>\n",
       "  <th>Time:</th>                 <td>06:33:42</td>     <th>  Log-Likelihood:    </th> <td> -1019.9</td>\n",
       "</tr>\n",
       "<tr>\n",
       "  <th>No. Observations:</th>      <td>   180</td>      <th>  AIC:               </th> <td>   2048.</td>\n",
       "</tr>\n",
       "<tr>\n",
       "  <th>Df Residuals:</th>          <td>   176</td>      <th>  BIC:               </th> <td>   2061.</td>\n",
       "</tr>\n",
       "<tr>\n",
       "  <th>Df Model:</th>              <td>     3</td>      <th>                     </th>     <td> </td>   \n",
       "</tr>\n",
       "<tr>\n",
       "  <th>Covariance Type:</th>      <td>nonrobust</td>    <th>                     </th>     <td> </td>   \n",
       "</tr>\n",
       "</table>\n",
       "<table class=\"simpletable\">\n",
       "<tr>\n",
       "        <td></td>           <th>coef</th>     <th>std err</th>      <th>t</th>      <th>P>|t|</th>  <th>[0.025</th>    <th>0.975]</th>  \n",
       "</tr>\n",
       "<tr>\n",
       "  <th>const</th>         <td>  343.9977</td> <td>   37.627</td> <td>    9.142</td> <td> 0.000</td> <td>  269.741</td> <td>  418.255</td>\n",
       "</tr>\n",
       "<tr>\n",
       "  <th>Viscosity</th>     <td>  -39.5829</td> <td>    2.873</td> <td>  -13.778</td> <td> 0.000</td> <td>  -45.253</td> <td>  -33.913</td>\n",
       "</tr>\n",
       "<tr>\n",
       "  <th>Velocity</th>      <td>   18.0883</td> <td>    4.684</td> <td>    3.862</td> <td> 0.000</td> <td>    8.844</td> <td>   27.333</td>\n",
       "</tr>\n",
       "<tr>\n",
       "  <th>PrintingSpeed</th> <td>   -0.8621</td> <td>    0.078</td> <td>  -11.034</td> <td> 0.000</td> <td>   -1.016</td> <td>   -0.708</td>\n",
       "</tr>\n",
       "</table>\n",
       "<table class=\"simpletable\">\n",
       "<tr>\n",
       "  <th>Omnibus:</th>       <td>110.657</td> <th>  Durbin-Watson:     </th> <td>   2.260</td> \n",
       "</tr>\n",
       "<tr>\n",
       "  <th>Prob(Omnibus):</th> <td> 0.000</td>  <th>  Jarque-Bera (JB):  </th> <td> 646.871</td> \n",
       "</tr>\n",
       "<tr>\n",
       "  <th>Skew:</th>          <td> 2.354</td>  <th>  Prob(JB):          </th> <td>3.42e-141</td>\n",
       "</tr>\n",
       "<tr>\n",
       "  <th>Kurtosis:</th>      <td>11.005</td>  <th>  Cond. No.          </th> <td>1.04e+03</td> \n",
       "</tr>\n",
       "</table><br/><br/>Notes:<br/>[1] Standard Errors assume that the covariance matrix of the errors is correctly specified.<br/>[2] The condition number is large, 1.04e+03. This might indicate that there are<br/>strong multicollinearity or other numerical problems."
      ],
      "text/latex": [
       "\\begin{center}\n",
       "\\begin{tabular}{lclc}\n",
       "\\toprule\n",
       "\\textbf{Dep. Variable:}    &   PatternSize    & \\textbf{  R-squared:         } &     0.686   \\\\\n",
       "\\textbf{Model:}            &       OLS        & \\textbf{  Adj. R-squared:    } &     0.681   \\\\\n",
       "\\textbf{Method:}           &  Least Squares   & \\textbf{  F-statistic:       } &     128.5   \\\\\n",
       "\\textbf{Date:}             & Tue, 11 Feb 2025 & \\textbf{  Prob (F-statistic):} &  4.14e-44   \\\\\n",
       "\\textbf{Time:}             &     06:33:42     & \\textbf{  Log-Likelihood:    } &   -1019.9   \\\\\n",
       "\\textbf{No. Observations:} &         180      & \\textbf{  AIC:               } &     2048.   \\\\\n",
       "\\textbf{Df Residuals:}     &         176      & \\textbf{  BIC:               } &     2061.   \\\\\n",
       "\\textbf{Df Model:}         &           3      & \\textbf{                     } &             \\\\\n",
       "\\textbf{Covariance Type:}  &    nonrobust     & \\textbf{                     } &             \\\\\n",
       "\\bottomrule\n",
       "\\end{tabular}\n",
       "\\begin{tabular}{lcccccc}\n",
       "                       & \\textbf{coef} & \\textbf{std err} & \\textbf{t} & \\textbf{P$> |$t$|$} & \\textbf{[0.025} & \\textbf{0.975]}  \\\\\n",
       "\\midrule\n",
       "\\textbf{const}         &     343.9977  &       37.627     &     9.142  &         0.000        &      269.741    &      418.255     \\\\\n",
       "\\textbf{Viscosity}     &     -39.5829  &        2.873     &   -13.778  &         0.000        &      -45.253    &      -33.913     \\\\\n",
       "\\textbf{Velocity}      &      18.0883  &        4.684     &     3.862  &         0.000        &        8.844    &       27.333     \\\\\n",
       "\\textbf{PrintingSpeed} &      -0.8621  &        0.078     &   -11.034  &         0.000        &       -1.016    &       -0.708     \\\\\n",
       "\\bottomrule\n",
       "\\end{tabular}\n",
       "\\begin{tabular}{lclc}\n",
       "\\textbf{Omnibus:}       & 110.657 & \\textbf{  Durbin-Watson:     } &     2.260  \\\\\n",
       "\\textbf{Prob(Omnibus):} &   0.000 & \\textbf{  Jarque-Bera (JB):  } &   646.871  \\\\\n",
       "\\textbf{Skew:}          &   2.354 & \\textbf{  Prob(JB):          } & 3.42e-141  \\\\\n",
       "\\textbf{Kurtosis:}      &  11.005 & \\textbf{  Cond. No.          } &  1.04e+03  \\\\\n",
       "\\bottomrule\n",
       "\\end{tabular}\n",
       "%\\caption{OLS Regression Results}\n",
       "\\end{center}\n",
       "\n",
       "Notes: \\newline\n",
       " [1] Standard Errors assume that the covariance matrix of the errors is correctly specified. \\newline\n",
       " [2] The condition number is large, 1.04e+03. This might indicate that there are \\newline\n",
       " strong multicollinearity or other numerical problems."
      ],
      "text/plain": [
       "<class 'statsmodels.iolib.summary.Summary'>\n",
       "\"\"\"\n",
       "                            OLS Regression Results                            \n",
       "==============================================================================\n",
       "Dep. Variable:            PatternSize   R-squared:                       0.686\n",
       "Model:                            OLS   Adj. R-squared:                  0.681\n",
       "Method:                 Least Squares   F-statistic:                     128.5\n",
       "Date:                Tue, 11 Feb 2025   Prob (F-statistic):           4.14e-44\n",
       "Time:                        06:33:42   Log-Likelihood:                -1019.9\n",
       "No. Observations:                 180   AIC:                             2048.\n",
       "Df Residuals:                     176   BIC:                             2061.\n",
       "Df Model:                           3                                         \n",
       "Covariance Type:            nonrobust                                         \n",
       "=================================================================================\n",
       "                    coef    std err          t      P>|t|      [0.025      0.975]\n",
       "---------------------------------------------------------------------------------\n",
       "const           343.9977     37.627      9.142      0.000     269.741     418.255\n",
       "Viscosity       -39.5829      2.873    -13.778      0.000     -45.253     -33.913\n",
       "Velocity         18.0883      4.684      3.862      0.000       8.844      27.333\n",
       "PrintingSpeed    -0.8621      0.078    -11.034      0.000      -1.016      -0.708\n",
       "==============================================================================\n",
       "Omnibus:                      110.657   Durbin-Watson:                   2.260\n",
       "Prob(Omnibus):                  0.000   Jarque-Bera (JB):              646.871\n",
       "Skew:                           2.354   Prob(JB):                    3.42e-141\n",
       "Kurtosis:                      11.005   Cond. No.                     1.04e+03\n",
       "==============================================================================\n",
       "\n",
       "Notes:\n",
       "[1] Standard Errors assume that the covariance matrix of the errors is correctly specified.\n",
       "[2] The condition number is large, 1.04e+03. This might indicate that there are\n",
       "strong multicollinearity or other numerical problems.\n",
       "\"\"\""
      ]
     },
     "execution_count": 47,
     "metadata": {},
     "output_type": "execute_result"
    }
   ],
   "source": [
    "#통계량 확인\n",
    "model_trained.summary()"
   ]
  },
  {
   "cell_type": "markdown",
   "metadata": {},
   "source": [
    "## 6. 최적의 Parameter 탐색\n",
    "\n",
    "---"
   ]
  },
  {
   "cell_type": "markdown",
   "metadata": {},
   "source": [
    "### 6.1 잉크젯 데이터에서 Parameter 바꿔 보기"
   ]
  },
  {
   "cell_type": "markdown",
   "metadata": {},
   "source": [
    "Inkjet dataset에 대해 최적의 lambda값을 찾아보도록 하겠습니다."
   ]
  },
  {
   "cell_type": "code",
   "execution_count": 48,
   "metadata": {
    "scrolled": true
   },
   "outputs": [
    {
     "name": "stdout",
     "output_type": "stream",
     "text": [
      "86.3824\n",
      "Lasso(L1 Norm) {1e-05: 86.3824, 5e-05: 86.3824, 0.0001: 172.7646, 0.0005: 172.7639, 0.001: 86.3815, 0.005: 86.378, 0.01: 86.3735, 0.05: 86.3388, 0.1: 86.2968, 0.5: 86.0107, 1: 85.77}\n",
      "Ridge(L2 Norm) {1e-05: 86.3824, 5e-05: 86.3824, 0.0001: 172.7647, 0.0005: 172.7645, 0.001: 86.3821, 0.005: 86.381, 0.01: 86.3796, 0.05: 86.3687, 0.1: 86.3558, 0.5: 86.276, 1: 86.2303}\n"
     ]
    }
   ],
   "source": [
    "import pandas as pd\n",
    "from sklearn.linear_model import Ridge,Lasso\n",
    "import numpy as np\n",
    "import matplotlib.pyplot as plt\n",
    "import seaborn as sns\n",
    "from sklearn.preprocessing import MinMaxScaler\n",
    "from sklearn.model_selection import train_test_split\n",
    "\n",
    "df = pd.read_csv('InkjetDB_preprocessing.csv')\n",
    "# 데이터 불러오기\n",
    "\n",
    "X = df.iloc[:, :3]\n",
    "y = df['PatternSize']\n",
    "# X y 나누기\n",
    "\n",
    "kf=KFold(n_splits=5) # 5개 set으로 나누기\n",
    "\n",
    "result_Ridge={}\n",
    "result_Lasso={}\n",
    "result_LR=0\n",
    "\n",
    "Parameters=[0.00001,0.00005,0.0001,0.0005,0.0001,0.0005,0.001,0.005,0.01,0.05,0.1,0.5,1]\n",
    "\n",
    "for train_index, test_index in kf.split(X): # kf의 결과로 train, test에 해당하는 index가 5번 바뀜\n",
    "\n",
    "    X_train, X_test = X.iloc[train_index], X.iloc[test_index]\n",
    "    y_train, y_test = y.iloc[train_index], y.iloc[test_index]\n",
    "\n",
    "    scaler=MinMaxScaler()\n",
    "    scaler.fit(X_train)\n",
    "    X_train_minmax=scaler.transform(X_train)\n",
    "    #중요\n",
    "    X_test_minmax= scaler.transform(X_test)\n",
    "    for Alpha in Parameters:\n",
    "        \n",
    "        ridge=Ridge(alpha=Alpha)\n",
    "        ridge.fit(X_train_minmax,y_train)\n",
    "        predRidge=ridge.predict(X_test_minmax)\n",
    "        rmse= np.sqrt(mean_squared_error(y_test,predRidge))\n",
    "        if Alpha not in result_Ridge:\n",
    "            result_Ridge[Alpha]=0\n",
    "        result_Ridge[Alpha]=result_Ridge[Alpha]+rmse\n",
    "        \n",
    "        lasso=Lasso(alpha=Alpha)\n",
    "        lasso.fit(X_train_minmax,y_train)\n",
    "        predLasso=lasso.predict(X_test_minmax)\n",
    "        rmse=np.sqrt(mean_squared_error(y_test,predLasso))\n",
    "        if Alpha not in result_Lasso:\n",
    "            result_Lasso[Alpha]=0\n",
    "        result_Lasso[Alpha]=result_Lasso[Alpha]+rmse\n",
    "        \n",
    "    lr=LinearRegression()\n",
    "    lr.fit(X_train_minmax,y_train)\n",
    "    predlr=lr.predict(X_test_minmax)\n",
    "    rmse=np.sqrt(mean_squared_error(y_test,predlr))\n",
    "    result_LR+=rmse\n",
    "\n",
    "for alpha in result_Lasso:\n",
    "    result_Lasso[alpha]=round(result_Lasso[alpha]/5,4)\n",
    "    result_Ridge[alpha]=round(result_Ridge[alpha]/5,4)\n",
    "result_LR=round(result_LR/5,4)\n",
    "\n",
    "print(result_LR)\n",
    "print('Lasso(L1 Norm)',result_Lasso)\n",
    "print('Ridge(L2 Norm)', result_Ridge)\n"
   ]
  },
  {
   "cell_type": "markdown",
   "metadata": {},
   "source": [
    "Scaler에 통과시킨 후에는 Lambda=1 근처의 Ridge/Lasso 성능이 일반 LR보다 좋은 것을 확인할 수 있습니다. 즉 Lambda=1일 경우 데이터가 Normalization되어 있을 때 일반적으로 성능이 좋은 것을 알 수 있습니다."
   ]
  },
  {
   "cell_type": "markdown",
   "metadata": {},
   "source": [
    "### 6.2 보스턴 집값 데이터에서 Scaler 설정 후 Parameter 바꿔 보기"
   ]
  },
  {
   "cell_type": "markdown",
   "metadata": {},
   "source": [
    "Boston Housing dataset에 대해 최적의 lambda값을 찾아보도록 하겠습니다."
   ]
  },
  {
   "cell_type": "code",
   "execution_count": 49,
   "metadata": {},
   "outputs": [],
   "source": [
    "import warnings\n",
    "warnings.filterwarnings(action='ignore') # warning 무시"
   ]
  },
  {
   "cell_type": "code",
   "execution_count": 50,
   "metadata": {
    "scrolled": true
   },
   "outputs": [
    {
     "name": "stdout",
     "output_type": "stream",
     "text": [
      "30913.253\n",
      "Lasso(L1 Norm) {1e-05: 30967.6257, 5e-05: 30967.6256, 0.0001: 61935.2511, 0.0005: 61935.2493, 0.001: 30967.6236, 0.005: 30967.6148, 0.01: 30967.6039, 0.05: 30967.5171, 0.1: 30967.4099, 0.5: 30966.591, 1: 30964.5111, 5: 30949.8544, 10: 30939.4026, 50: 30908.5876, 100: 31008.8221}\n",
      "Ridge(L2 Norm) {1e-05: 30912.4967, 5e-05: 30911.3672, 0.0001: 61824.3604, 0.0005: 61852.9945, 0.001: 30936.6486, 0.005: 30956.4899, 0.01: 30960.6534, 0.05: 30959.438, 0.1: 30955.0428, 0.5: 30941.3203, 1: 30949.4324, 5: 31368.2355, 10: 31997.2635, 50: 35615.1877, 100: 38642.2136}\n"
     ]
    }
   ],
   "source": [
    "train = pd.read_csv('train_preprocessing.csv')\n",
    "train.drop(['Unnamed: 0'], axis=1, inplace=True)\n",
    "train\n",
    "X=train.iloc[:,:39]\n",
    "y=train.iloc[:,39]\n",
    "\n",
    "kf=KFold(5)\n",
    "\n",
    "result_Ridge={}\n",
    "result_Lasso={}\n",
    "result_LR=0\n",
    "\n",
    "Parameters=[0.00001,0.00005,0.0001,0.0005,0.0001,0.0005,0.001,0.005,0.01,0.05,0.1,0.5,1,5,10,50,100]\n",
    "\n",
    "for train_index, test_index in kf.split(X): # kf의 결과로 train, test에 해당하는 index가 5번 바뀜\n",
    "\n",
    "    X_train, X_test = X.iloc[train_index], X.iloc[test_index]\n",
    "    y_train, y_test = y.iloc[train_index], y.iloc[test_index]\n",
    "    scaler=MinMaxScaler()\n",
    "    scaler.fit(X_train)\n",
    "    X_train_minmax=scaler.transform(X_train)\n",
    "    X_test_minmax=scaler.transform(X_test)\n",
    "    for Alpha in Parameters:        \n",
    "        ridge=Ridge(alpha=Alpha,max_iter=1000,tol=0.001)\n",
    "        ridge.fit(X_train_minmax,y_train)\n",
    "        predRidge=ridge.predict(X_test_minmax)\n",
    "        rmse= np.sqrt(mean_squared_error(y_test,predRidge))\n",
    "        if Alpha not in result_Ridge:\n",
    "            result_Ridge[Alpha]=0\n",
    "        result_Ridge[Alpha]=result_Ridge[Alpha]+rmse\n",
    "        \n",
    "        lasso=Lasso(alpha=Alpha,max_iter=1000,tol=0.001)\n",
    "        lasso.fit(X_train_minmax,y_train)\n",
    "        predLasso=lasso.predict(X_test_minmax)\n",
    "        rmse=np.sqrt(mean_squared_error(y_test,predLasso))\n",
    "        if Alpha not in result_Lasso:\n",
    "            result_Lasso[Alpha]=0\n",
    "        result_Lasso[Alpha]=result_Lasso[Alpha]+rmse\n",
    "    lr=LinearRegression()\n",
    "    lr.fit(X_train_minmax,y_train)\n",
    "    predlr=lr.predict(X_test_minmax)\n",
    "    rmse=np.sqrt(mean_squared_error(y_test,predlr))\n",
    "    result_LR+=rmse\n",
    "\n",
    "for alpha in result_Lasso:\n",
    "    result_Lasso[alpha]=round(result_Lasso[alpha]/5,4)\n",
    "    result_Ridge[alpha]=round(result_Ridge[alpha]/5,4)\n",
    "result_LR=round(result_LR/5,4)    \n",
    "\n",
    "print(result_LR)\n",
    "print('Lasso(L1 Norm)',result_Lasso)\n",
    "print('Ridge(L2 Norm)', result_Ridge)"
   ]
  },
  {
   "cell_type": "code",
   "execution_count": 51,
   "metadata": {},
   "outputs": [
    {
     "data": {
      "text/plain": [
       "0       208500\n",
       "1       181500\n",
       "2       223500\n",
       "3       140000\n",
       "4       250000\n",
       "         ...  \n",
       "1162    108959\n",
       "1163    194000\n",
       "1164    233170\n",
       "1165    245350\n",
       "1166    173000\n",
       "Name: SalePrice, Length: 1167, dtype: int64"
      ]
     },
     "execution_count": 51,
     "metadata": {},
     "output_type": "execute_result"
    }
   ],
   "source": [
    "y_train"
   ]
  },
  {
   "cell_type": "markdown",
   "metadata": {},
   "source": [
    "Lasso와 Ridge의 최적 lambda값이 매우 다르게 나타났는데, 그 이유는  L1 Norm을 쓰는 Lasso보다, L2 Norm을 쓰는 Ridge의 Regulation이높은 파라미터에 대해서 더 크게 나타나기 때문입니다."
   ]
  },
  {
   "cell_type": "markdown",
   "metadata": {},
   "source": [
    "#### Inkjet dataset과 Boston dataset의 차이\n",
    "Scaler를 사용한 후의 보스턴 집값 데이터는 [0,1]의 데이터로 십만 단위의 큰 숫자인 집값을 예측해야 하므로, 잉크젯 데이터보다 파라미터가 필연적으로 클 것입니다. \\\n",
    "따라서 Lasso의 경우 더 높은 Lambda값을 필요로 했고, Ridge의 경우 제곱에 비례하기 때문에 해당 파라미터가 0.00005인 경우에 최적의 값을 보여줍니다."
   ]
  }
 ],
 "metadata": {
  "colab": {
   "collapsed_sections": [],
   "name": "day4_정답_코드.ipynb",
   "provenance": []
  },
  "kernelspec": {
   "display_name": "Python 3 (ipykernel)",
   "language": "python",
   "name": "python3"
  },
  "language_info": {
   "codemirror_mode": {
    "name": "ipython",
    "version": 3
   },
   "file_extension": ".py",
   "mimetype": "text/x-python",
   "name": "python",
   "nbconvert_exporter": "python",
   "pygments_lexer": "ipython3",
   "version": "3.10.14"
  }
 },
 "nbformat": 4,
 "nbformat_minor": 1
}

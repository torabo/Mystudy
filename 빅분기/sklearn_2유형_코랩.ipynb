{
  "cells": [
    {
      "cell_type": "markdown",
      "id": "6a856bac",
      "metadata": {
        "id": "6a856bac"
      },
      "source": [
        "# 2유형\n",
        "\n",
        "- 데이터 EDA -> 전처리 -> 모델링 -> 평가 -> 파일 저장\n",
        "- 가이드 코드가 정해져 있음. 여러번 반복으로 플로우 암기하기\n",
        "- 분류 또는 회귀 모델링 진행 후 예측 데이터 저장\n",
        "    - 2회 : 분류 / roc_auc\n",
        "    - 3회 : 분류 / roc_auc\n",
        "    - 4회 : 분류 / f1-score\n",
        "    - 5회 : 회귀 / RMSE\n",
        "    - 6회 : 분류 / f1-score\n",
        "    - 7회 : 회귀 / rmse\n",
        "    - 8회 : 회귀 / mae\n",
        "    ```python\n",
        "    from sklearn.metrics import roc_auc_score, f1_score, mean_absolute_error, mean_squared_error\n",
        "    \n",
        "    # 모델에 대해 자체 평가를 할 때만 패키지 불러와서 확인\n",
        "    # 시험에서는 예측 결과 파일만 제출하고 평가는 진흥원이 알아서함\n",
        "    ```\n",
        "- 모델 예측 결과를 파일 저장 (df.to_csv()), 파일 형식에 따라 감점요소 있음\n",
        "    - 분류\n",
        "        - 레이블 예측 (predict)\n",
        "        - 확률 예측 (predict_proba)\n",
        "        \n",
        "    - 회귀\n",
        "    \n",
        "    ```python\n",
        "    from sklearn.ensemble import RandomForestClassifier , RandomForestRegressor\n",
        "    from xgboost import XGBRegressor, XGBClassifier\n",
        "    \n",
        "    rf = RandomForestClassifier()\n",
        "    rf.fit(x_train)\n",
        "    rf.predict(x_test) # 회귀, 분류 레이블\n",
        "    rf.predict_proba(x_test)[:,1] # 확률 예측\n",
        "    \n",
        "    \n",
        "    ```    \n",
        "    \n",
        "- 저장된 파일만으로 평가 (10점 단위)\n",
        "    ```python\n",
        "    predict = rf.predict(x_test)\n",
        "    predict_df = pd.DataFrame(predict,columns =['pred'])\n",
        "    predict_df.to_csv('result.csv',index=False)\n",
        "    \n",
        "    # 저장 후 데이터 불러와서 데이터 타입 print 해보기\n",
        "    \n",
        "    ```    \n",
        "    \n"
      ]
    },
    {
      "cell_type": "code",
      "execution_count": null,
      "id": "38a575ec",
      "metadata": {
        "id": "38a575ec"
      },
      "outputs": [],
      "source": []
    },
    {
      "cell_type": "markdown",
      "id": "5b18f254",
      "metadata": {
        "id": "5b18f254"
      },
      "source": [
        "# 데이터 EDA\n",
        "\n",
        "- 데이터 기본 정보 및 특이사항 파악\n",
        "- shape,describe , info, unique, nunique, isnull().sum(), select_dtypes"
      ]
    },
    {
      "cell_type": "code",
      "execution_count": null,
      "id": "6bae3e37",
      "metadata": {
        "id": "6bae3e37"
      },
      "outputs": [],
      "source": [
        "train_url = 'https://raw.githubusercontent.com/Datamanim/datarepo/refs/heads/main/data/customer_train.csv'\n",
        "test_url  = 'https://raw.githubusercontent.com/Datamanim/datarepo/refs/heads/main/data/customer_test.csv'\n",
        "\n",
        "import pandas as pd\n",
        "\n",
        "train = pd.read_csv(train_url)\n",
        "test = pd.read_csv(test_url)"
      ]
    },
    {
      "cell_type": "code",
      "execution_count": null,
      "id": "276858db",
      "metadata": {
        "id": "276858db"
      },
      "outputs": [],
      "source": []
    },
    {
      "cell_type": "markdown",
      "id": "cfc1fd7d",
      "metadata": {
        "id": "cfc1fd7d"
      },
      "source": [
        "# 전처리\n",
        "\n",
        "- 불필요 컬럼 제거\n",
        "- 결측치처리\n",
        "- 인코딩\n",
        "- 스케일링\n",
        "- 더미화\n",
        "- 독립변수, 종속변수 분리\n",
        "- 학습, 훈련 데이터 분할\n",
        "    - train, test"
      ]
    },
    {
      "cell_type": "code",
      "execution_count": null,
      "id": "6ae8c538",
      "metadata": {
        "id": "6ae8c538"
      },
      "outputs": [],
      "source": []
    },
    {
      "cell_type": "markdown",
      "id": "4ea24b86",
      "metadata": {
        "id": "4ea24b86"
      },
      "source": [
        "# 모델링\n",
        "- 회귀, 분류 확인하여 모델 선언\n",
        "- 학습데이터로 모델 학습\n",
        "    - (option) 그리드 서치로 최적 파라미터 선정 / 안해도 무관\n",
        "    - 랜포가 짱\n",
        "- 평가데이터에 대해 모델 예측"
      ]
    },
    {
      "cell_type": "code",
      "execution_count": null,
      "id": "30ee7b87",
      "metadata": {
        "id": "30ee7b87"
      },
      "outputs": [],
      "source": []
    },
    {
      "cell_type": "markdown",
      "id": "fc2fac58",
      "metadata": {
        "id": "fc2fac58"
      },
      "source": [
        "# 평가"
      ]
    },
    {
      "cell_type": "code",
      "execution_count": null,
      "id": "4d28aa96",
      "metadata": {
        "id": "4d28aa96"
      },
      "outputs": [],
      "source": []
    },
    {
      "cell_type": "markdown",
      "id": "0ada0ab6",
      "metadata": {
        "id": "0ada0ab6"
      },
      "source": [
        "# 파일저장"
      ]
    },
    {
      "cell_type": "code",
      "execution_count": null,
      "id": "686ba352",
      "metadata": {
        "id": "686ba352"
      },
      "outputs": [],
      "source": []
    }
  ],
  "metadata": {
    "kernelspec": {
      "display_name": "Python 3 (ipykernel)",
      "language": "python",
      "name": "python3"
    },
    "language_info": {
      "codemirror_mode": {
        "name": "ipython",
        "version": 3
      },
      "file_extension": ".py",
      "mimetype": "text/x-python",
      "name": "python",
      "nbconvert_exporter": "python",
      "pygments_lexer": "ipython3",
      "version": "3.8.20"
    },
    "colab": {
      "provenance": []
    }
  },
  "nbformat": 4,
  "nbformat_minor": 5
}
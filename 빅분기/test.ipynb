{
 "cells": [
  {
   "cell_type": "markdown",
   "id": "f5fc034a",
   "metadata": {},
   "source": [
    "Lets start"
   ]
  }
 ],
 "metadata": {
  "kernelspec": {
   "display_name": "tora",
   "language": "python",
   "name": "tora"
  },
  "language_info": {
   "name": "python",
   "version": "3.12.7"
  }
 },
 "nbformat": 4,
 "nbformat_minor": 5
}
